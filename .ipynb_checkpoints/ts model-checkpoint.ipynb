{
 "cells": [
  {
   "cell_type": "code",
   "execution_count": 64,
   "id": "b56ee5da",
   "metadata": {},
   "outputs": [],
   "source": [
    "import plotly.graph_objects as go\n",
    "import matplotlib.pyplot as plt\n",
    "from bs4 import BeautifulSoup\n",
    "import nltk\n",
    "from nltk.corpus import stopwords\n",
    "from nltk.stem.snowball import SnowballStemmer\n",
    "import warnings\n",
    "warnings.filterwarnings(\"ignore\")\n",
    "\n",
    "# Basic\n",
    "import pandas as pd\n",
    "pd.set_option('display.max_columns', None)\n",
    "import numpy as np\n",
    "import os\n",
    "import random\n",
    "from tqdm.autonotebook import tqdm\n",
    "import string\n",
    "from collections import Counter\n",
    "import re\n",
    "\n",
    "# Visualizations\n",
    "import matplotlib.pyplot as plt\n",
    "%matplotlib inline\n",
    "import seaborn as sns\n",
    "sns.set(style=\"whitegrid\")\n",
    "from PIL import Image\n",
    "from wordcloud import WordCloud, STOPWORDS\n",
    "import plotly.express as px\n",
    "\n",
    "%matplotlib inline\n",
    "pd.set_option('display.max_columns', None)  # or 1000\n",
    "pd.set_option('display.max_rows', 100) "
   ]
  },
  {
   "cell_type": "code",
   "execution_count": 65,
   "id": "0932d277",
   "metadata": {},
   "outputs": [],
   "source": [
    "df = pd.read_excel(\"Case Prediction Data2.xlsx\")"
   ]
  },
  {
   "cell_type": "code",
   "execution_count": 67,
   "id": "f03646d6",
   "metadata": {},
   "outputs": [
    {
     "data": {
      "text/html": [
       "<div>\n",
       "<style scoped>\n",
       "    .dataframe tbody tr th:only-of-type {\n",
       "        vertical-align: middle;\n",
       "    }\n",
       "\n",
       "    .dataframe tbody tr th {\n",
       "        vertical-align: top;\n",
       "    }\n",
       "\n",
       "    .dataframe thead th {\n",
       "        text-align: right;\n",
       "    }\n",
       "</style>\n",
       "<table border=\"1\" class=\"dataframe\">\n",
       "  <thead>\n",
       "    <tr style=\"text-align: right;\">\n",
       "      <th></th>\n",
       "      <th>Case Number</th>\n",
       "      <th>Subject</th>\n",
       "      <th>Date Created</th>\n",
       "      <th>Date Closed</th>\n",
       "      <th>Origin</th>\n",
       "      <th>Priority</th>\n",
       "      <th>Team</th>\n",
       "      <th>Case Type</th>\n",
       "      <th>SLA</th>\n",
       "      <th>Problem Statement</th>\n",
       "      <th>Product</th>\n",
       "      <th>Product Area</th>\n",
       "      <th>Product Category</th>\n",
       "      <th>Product Type</th>\n",
       "      <th>Jurisdiction</th>\n",
       "      <th>Resolution</th>\n",
       "      <th>KB #</th>\n",
       "      <th>KB Title</th>\n",
       "    </tr>\n",
       "  </thead>\n",
       "  <tbody>\n",
       "    <tr>\n",
       "      <th>0</th>\n",
       "      <td>204977</td>\n",
       "      <td>Efile Acceptance</td>\n",
       "      <td>2017-01-02 05:39:00</td>\n",
       "      <td>2017-01-03 09:03:00</td>\n",
       "      <td>Web</td>\n",
       "      <td>Medium</td>\n",
       "      <td>Tax Preparation</td>\n",
       "      <td>Efile</td>\n",
       "      <td>Platinum</td>\n",
       "      <td>We transmitted a Michigan return still have no...</td>\n",
       "      <td>Compliance</td>\n",
       "      <td>Returns / Reports</td>\n",
       "      <td>NaN</td>\n",
       "      <td>NaN</td>\n",
       "      <td>US.MI</td>\n",
       "      <td>Answer exists KB</td>\n",
       "      <td>041324813494120</td>\n",
       "      <td>How to understand the Transmission Monitor</td>\n",
       "    </tr>\n",
       "    <tr>\n",
       "      <th>1</th>\n",
       "      <td>204979</td>\n",
       "      <td>Oregon STAT help: Previous Case 203787 Client ...</td>\n",
       "      <td>2017-01-02 09:03:00</td>\n",
       "      <td>2017-01-04 16:56:00</td>\n",
       "      <td>Web</td>\n",
       "      <td>High</td>\n",
       "      <td>Tax Preparation</td>\n",
       "      <td>Question / How To</td>\n",
       "      <td>Silver</td>\n",
       "      <td>Oregon STAT help: Previous Case 203787 Client ...</td>\n",
       "      <td>Provision</td>\n",
       "      <td>State</td>\n",
       "      <td>NaN</td>\n",
       "      <td>NaN</td>\n",
       "      <td>US.OR</td>\n",
       "      <td>Customer no longer needs assistance</td>\n",
       "      <td>NaN</td>\n",
       "      <td>NaN</td>\n",
       "    </tr>\n",
       "    <tr>\n",
       "      <th>2</th>\n",
       "      <td>204980</td>\n",
       "      <td>Data map incorrectly pulling in values</td>\n",
       "      <td>2017-01-02 11:25:00</td>\n",
       "      <td>2017-01-03 15:48:00</td>\n",
       "      <td>Web</td>\n",
       "      <td>Medium</td>\n",
       "      <td>Tax Preparation</td>\n",
       "      <td>Question / How To</td>\n",
       "      <td>Silver</td>\n",
       "      <td>Corptax Office Import - Credit Account imports...</td>\n",
       "      <td>Office - Excel Add-In</td>\n",
       "      <td>Import / Export</td>\n",
       "      <td>NaN</td>\n",
       "      <td>NaN</td>\n",
       "      <td>US</td>\n",
       "      <td>Answer exists KB</td>\n",
       "      <td>041414821333274</td>\n",
       "      <td>Corptax® Office - How to place an IF formula i...</td>\n",
       "    </tr>\n",
       "    <tr>\n",
       "      <th>3</th>\n",
       "      <td>204981</td>\n",
       "      <td>The New Corptax Connect Website is not properl...</td>\n",
       "      <td>2017-01-02 12:06:00</td>\n",
       "      <td>2017-01-03 09:26:00</td>\n",
       "      <td>Web</td>\n",
       "      <td>High</td>\n",
       "      <td>Tax Preparation</td>\n",
       "      <td>Problem / Error</td>\n",
       "      <td>Silver</td>\n",
       "      <td>Searches can't be performed on the new system....</td>\n",
       "      <td>Websites</td>\n",
       "      <td>Connections (https://connect.corptax.com)</td>\n",
       "      <td>Error Message</td>\n",
       "      <td>NaN</td>\n",
       "      <td>NaN</td>\n",
       "      <td>Answer exists KB</td>\n",
       "      <td>161216104028927</td>\n",
       "      <td>Connections Error - Uh Oh  something went wron...</td>\n",
       "    </tr>\n",
       "    <tr>\n",
       "      <th>4</th>\n",
       "      <td>204986</td>\n",
       "      <td>LD400 is not reflecting a temporary adjustment</td>\n",
       "      <td>2017-01-03 07:17:00</td>\n",
       "      <td>2017-01-05 08:21:00</td>\n",
       "      <td>E-mail</td>\n",
       "      <td>Medium</td>\n",
       "      <td>Tax Preparation</td>\n",
       "      <td>Problem / Error</td>\n",
       "      <td>Platinum</td>\n",
       "      <td>LD400 is not reflecting a temporary adjustment</td>\n",
       "      <td>Compliance</td>\n",
       "      <td>Returns / Reports</td>\n",
       "      <td>NaN</td>\n",
       "      <td>NaN</td>\n",
       "      <td>US</td>\n",
       "      <td>Answer exists KB</td>\n",
       "      <td>041622907012748</td>\n",
       "      <td>Adjustments do not flow to LD400 workpaper and...</td>\n",
       "    </tr>\n",
       "  </tbody>\n",
       "</table>\n",
       "</div>"
      ],
      "text/plain": [
       "   Case Number                                            Subject  \\\n",
       "0       204977                                   Efile Acceptance   \n",
       "1       204979  Oregon STAT help: Previous Case 203787 Client ...   \n",
       "2       204980             Data map incorrectly pulling in values   \n",
       "3       204981  The New Corptax Connect Website is not properl...   \n",
       "4       204986     LD400 is not reflecting a temporary adjustment   \n",
       "\n",
       "         Date Created         Date Closed  Origin Priority             Team  \\\n",
       "0 2017-01-02 05:39:00 2017-01-03 09:03:00     Web   Medium  Tax Preparation   \n",
       "1 2017-01-02 09:03:00 2017-01-04 16:56:00     Web     High  Tax Preparation   \n",
       "2 2017-01-02 11:25:00 2017-01-03 15:48:00     Web   Medium  Tax Preparation   \n",
       "3 2017-01-02 12:06:00 2017-01-03 09:26:00     Web     High  Tax Preparation   \n",
       "4 2017-01-03 07:17:00 2017-01-05 08:21:00  E-mail   Medium  Tax Preparation   \n",
       "\n",
       "           Case Type       SLA  \\\n",
       "0              Efile  Platinum   \n",
       "1  Question / How To    Silver   \n",
       "2  Question / How To    Silver   \n",
       "3    Problem / Error    Silver   \n",
       "4    Problem / Error  Platinum   \n",
       "\n",
       "                                   Problem Statement                Product  \\\n",
       "0  We transmitted a Michigan return still have no...             Compliance   \n",
       "1  Oregon STAT help: Previous Case 203787 Client ...              Provision   \n",
       "2  Corptax Office Import - Credit Account imports...  Office - Excel Add-In   \n",
       "3  Searches can't be performed on the new system....               Websites   \n",
       "4     LD400 is not reflecting a temporary adjustment             Compliance   \n",
       "\n",
       "                                Product Area Product Category Product Type  \\\n",
       "0                          Returns / Reports              NaN          NaN   \n",
       "1                                      State              NaN          NaN   \n",
       "2                            Import / Export              NaN          NaN   \n",
       "3  Connections (https://connect.corptax.com)    Error Message          NaN   \n",
       "4                          Returns / Reports              NaN          NaN   \n",
       "\n",
       "  Jurisdiction                           Resolution             KB #  \\\n",
       "0        US.MI                     Answer exists KB  041324813494120   \n",
       "1        US.OR  Customer no longer needs assistance              NaN   \n",
       "2           US                     Answer exists KB  041414821333274   \n",
       "3          NaN                     Answer exists KB  161216104028927   \n",
       "4           US                     Answer exists KB  041622907012748   \n",
       "\n",
       "                                            KB Title  \n",
       "0         How to understand the Transmission Monitor  \n",
       "1                                                NaN  \n",
       "2  Corptax® Office - How to place an IF formula i...  \n",
       "3  Connections Error - Uh Oh  something went wron...  \n",
       "4  Adjustments do not flow to LD400 workpaper and...  "
      ]
     },
     "execution_count": 67,
     "metadata": {},
     "output_type": "execute_result"
    }
   ],
   "source": [
    "df.head()"
   ]
  },
  {
   "cell_type": "code",
   "execution_count": 69,
   "id": "57c15202",
   "metadata": {},
   "outputs": [],
   "source": [
    "df['Date Created'] = df['Date Created'].dt.date\n",
    "df['Date Closed'] = df['Date Closed'].dt.date"
   ]
  },
  {
   "cell_type": "code",
   "execution_count": 71,
   "id": "b22023fc",
   "metadata": {},
   "outputs": [],
   "source": [
    "df['Date'] = pd.to_datetime(df['Date Created'], errors='coerce')"
   ]
  },
  {
   "cell_type": "code",
   "execution_count": 73,
   "id": "5eae40ac",
   "metadata": {},
   "outputs": [
    {
     "data": {
      "text/plain": [
       "Compliance                             110216\n",
       "International (US)                      28604\n",
       "Websites                                16459\n",
       "Provision                                9918\n",
       "Partnership / S Corp / Pass-Through      9069\n",
       "Sales Tax                                4338\n",
       "Office - Excel Add-In                    3799\n",
       "Application Hosting                      3440\n",
       "Other                                     798\n",
       "Calendar                                  768\n",
       "Data Exchange Manager                     570\n",
       "WorkSpace                                 529\n",
       "ODBC Driver - Corptax                     300\n",
       "Web Services                              199\n",
       "Claims                                     57\n",
       "Name: Product, dtype: int64"
      ]
     },
     "execution_count": 73,
     "metadata": {},
     "output_type": "execute_result"
    }
   ],
   "source": [
    "df.Product.value_counts()"
   ]
  },
  {
   "cell_type": "code",
   "execution_count": 76,
   "id": "a40506d4",
   "metadata": {},
   "outputs": [
    {
     "data": {
      "text/html": [
       "<div>\n",
       "<style scoped>\n",
       "    .dataframe tbody tr th:only-of-type {\n",
       "        vertical-align: middle;\n",
       "    }\n",
       "\n",
       "    .dataframe tbody tr th {\n",
       "        vertical-align: top;\n",
       "    }\n",
       "\n",
       "    .dataframe thead th {\n",
       "        text-align: right;\n",
       "    }\n",
       "</style>\n",
       "<table border=\"1\" class=\"dataframe\">\n",
       "  <thead>\n",
       "    <tr style=\"text-align: right;\">\n",
       "      <th></th>\n",
       "      <th>Case Number</th>\n",
       "      <th>Subject</th>\n",
       "      <th>Date Created</th>\n",
       "      <th>Date Closed</th>\n",
       "      <th>Origin</th>\n",
       "      <th>Priority</th>\n",
       "      <th>Team</th>\n",
       "      <th>Case Type</th>\n",
       "      <th>SLA</th>\n",
       "      <th>Problem Statement</th>\n",
       "      <th>Product</th>\n",
       "      <th>Product Area</th>\n",
       "      <th>Product Category</th>\n",
       "      <th>Product Type</th>\n",
       "      <th>Jurisdiction</th>\n",
       "      <th>Resolution</th>\n",
       "      <th>KB #</th>\n",
       "      <th>KB Title</th>\n",
       "      <th>Date</th>\n",
       "    </tr>\n",
       "  </thead>\n",
       "  <tbody>\n",
       "    <tr>\n",
       "      <th>0</th>\n",
       "      <td>204977</td>\n",
       "      <td>Efile Acceptance</td>\n",
       "      <td>2017-01-02</td>\n",
       "      <td>2017-01-03</td>\n",
       "      <td>Web</td>\n",
       "      <td>Medium</td>\n",
       "      <td>Tax Preparation</td>\n",
       "      <td>Efile</td>\n",
       "      <td>Platinum</td>\n",
       "      <td>We transmitted a Michigan return still have no...</td>\n",
       "      <td>Compliance</td>\n",
       "      <td>Returns / Reports</td>\n",
       "      <td>NaN</td>\n",
       "      <td>NaN</td>\n",
       "      <td>US.MI</td>\n",
       "      <td>Answer exists KB</td>\n",
       "      <td>041324813494120</td>\n",
       "      <td>How to understand the Transmission Monitor</td>\n",
       "      <td>2017-01-02</td>\n",
       "    </tr>\n",
       "    <tr>\n",
       "      <th>4</th>\n",
       "      <td>204986</td>\n",
       "      <td>LD400 is not reflecting a temporary adjustment</td>\n",
       "      <td>2017-01-03</td>\n",
       "      <td>2017-01-05</td>\n",
       "      <td>E-mail</td>\n",
       "      <td>Medium</td>\n",
       "      <td>Tax Preparation</td>\n",
       "      <td>Problem / Error</td>\n",
       "      <td>Platinum</td>\n",
       "      <td>LD400 is not reflecting a temporary adjustment</td>\n",
       "      <td>Compliance</td>\n",
       "      <td>Returns / Reports</td>\n",
       "      <td>NaN</td>\n",
       "      <td>NaN</td>\n",
       "      <td>US</td>\n",
       "      <td>Answer exists KB</td>\n",
       "      <td>041622907012748</td>\n",
       "      <td>Adjustments do not flow to LD400 workpaper and...</td>\n",
       "      <td>2017-01-03</td>\n",
       "    </tr>\n",
       "    <tr>\n",
       "      <th>6</th>\n",
       "      <td>204992</td>\n",
       "      <td>Form 2220 Line 19 dates.</td>\n",
       "      <td>2017-01-03</td>\n",
       "      <td>2017-01-10</td>\n",
       "      <td>Web</td>\n",
       "      <td>Medium</td>\n",
       "      <td>Tax Preparation</td>\n",
       "      <td>Problem / Error</td>\n",
       "      <td>Platinum</td>\n",
       "      <td>Form 2220 Line 19 dates are repeating. This is...</td>\n",
       "      <td>Compliance</td>\n",
       "      <td>Amounts</td>\n",
       "      <td>NaN</td>\n",
       "      <td>NaN</td>\n",
       "      <td>US</td>\n",
       "      <td>Answer exists KB</td>\n",
       "      <td>041335414275440</td>\n",
       "      <td>IRS e-Services and Business MeF Maintenance in...</td>\n",
       "      <td>2017-01-03</td>\n",
       "    </tr>\n",
       "    <tr>\n",
       "      <th>8</th>\n",
       "      <td>204997</td>\n",
       "      <td>Corptax Upgrade File</td>\n",
       "      <td>2017-01-03</td>\n",
       "      <td>2017-01-03</td>\n",
       "      <td>Web</td>\n",
       "      <td>Medium</td>\n",
       "      <td>IT / Systems</td>\n",
       "      <td>Question / How To</td>\n",
       "      <td>Silver</td>\n",
       "      <td>provide MSI Files</td>\n",
       "      <td>Compliance</td>\n",
       "      <td>Install / Rollover</td>\n",
       "      <td>Provide Corptax Client MSI Files</td>\n",
       "      <td>NaN</td>\n",
       "      <td>NaN</td>\n",
       "      <td>Answer exists KB</td>\n",
       "      <td>NaN</td>\n",
       "      <td>NaN</td>\n",
       "      <td>2017-01-03</td>\n",
       "    </tr>\n",
       "    <tr>\n",
       "      <th>10</th>\n",
       "      <td>205001</td>\n",
       "      <td>Share the MSI files for Corptax 2016.2</td>\n",
       "      <td>2017-01-03</td>\n",
       "      <td>2017-01-03</td>\n",
       "      <td>Web</td>\n",
       "      <td>Medium</td>\n",
       "      <td>IT / Systems</td>\n",
       "      <td>Question / How To</td>\n",
       "      <td>Gold</td>\n",
       "      <td>provide MSI Files</td>\n",
       "      <td>Compliance</td>\n",
       "      <td>Install / Rollover</td>\n",
       "      <td>Provide Corptax Client MSI Files</td>\n",
       "      <td>NaN</td>\n",
       "      <td>NaN</td>\n",
       "      <td>Answer exists KB</td>\n",
       "      <td>NaN</td>\n",
       "      <td>NaN</td>\n",
       "      <td>2017-01-03</td>\n",
       "    </tr>\n",
       "  </tbody>\n",
       "</table>\n",
       "</div>"
      ],
      "text/plain": [
       "    Case Number                                         Subject Date Created  \\\n",
       "0        204977                                Efile Acceptance   2017-01-02   \n",
       "4        204986  LD400 is not reflecting a temporary adjustment   2017-01-03   \n",
       "6        204992                        Form 2220 Line 19 dates.   2017-01-03   \n",
       "8        204997                            Corptax Upgrade File   2017-01-03   \n",
       "10       205001          Share the MSI files for Corptax 2016.2   2017-01-03   \n",
       "\n",
       "   Date Closed  Origin Priority             Team          Case Type       SLA  \\\n",
       "0   2017-01-03     Web   Medium  Tax Preparation              Efile  Platinum   \n",
       "4   2017-01-05  E-mail   Medium  Tax Preparation    Problem / Error  Platinum   \n",
       "6   2017-01-10     Web   Medium  Tax Preparation    Problem / Error  Platinum   \n",
       "8   2017-01-03     Web   Medium     IT / Systems  Question / How To    Silver   \n",
       "10  2017-01-03     Web   Medium     IT / Systems  Question / How To      Gold   \n",
       "\n",
       "                                    Problem Statement     Product  \\\n",
       "0   We transmitted a Michigan return still have no...  Compliance   \n",
       "4      LD400 is not reflecting a temporary adjustment  Compliance   \n",
       "6   Form 2220 Line 19 dates are repeating. This is...  Compliance   \n",
       "8                                   provide MSI Files  Compliance   \n",
       "10                                  provide MSI Files  Compliance   \n",
       "\n",
       "          Product Area                  Product Category Product Type  \\\n",
       "0    Returns / Reports                               NaN          NaN   \n",
       "4    Returns / Reports                               NaN          NaN   \n",
       "6              Amounts                               NaN          NaN   \n",
       "8   Install / Rollover  Provide Corptax Client MSI Files          NaN   \n",
       "10  Install / Rollover  Provide Corptax Client MSI Files          NaN   \n",
       "\n",
       "   Jurisdiction        Resolution             KB #  \\\n",
       "0         US.MI  Answer exists KB  041324813494120   \n",
       "4            US  Answer exists KB  041622907012748   \n",
       "6            US  Answer exists KB  041335414275440   \n",
       "8           NaN  Answer exists KB              NaN   \n",
       "10          NaN  Answer exists KB              NaN   \n",
       "\n",
       "                                             KB Title       Date  \n",
       "0          How to understand the Transmission Monitor 2017-01-02  \n",
       "4   Adjustments do not flow to LD400 workpaper and... 2017-01-03  \n",
       "6   IRS e-Services and Business MeF Maintenance in... 2017-01-03  \n",
       "8                                                 NaN 2017-01-03  \n",
       "10                                                NaN 2017-01-03  "
      ]
     },
     "execution_count": 76,
     "metadata": {},
     "output_type": "execute_result"
    }
   ],
   "source": [
    "dfc = df[df.Product == \"Compliance\"]\n",
    "dfc.head()"
   ]
  },
  {
   "cell_type": "code",
   "execution_count": 84,
   "id": "b5ed2c7d",
   "metadata": {},
   "outputs": [
    {
     "data": {
      "text/html": [
       "<div>\n",
       "<style scoped>\n",
       "    .dataframe tbody tr th:only-of-type {\n",
       "        vertical-align: middle;\n",
       "    }\n",
       "\n",
       "    .dataframe tbody tr th {\n",
       "        vertical-align: top;\n",
       "    }\n",
       "\n",
       "    .dataframe thead th {\n",
       "        text-align: right;\n",
       "    }\n",
       "</style>\n",
       "<table border=\"1\" class=\"dataframe\">\n",
       "  <thead>\n",
       "    <tr style=\"text-align: right;\">\n",
       "      <th></th>\n",
       "      <th>Date</th>\n",
       "      <th>Case Number</th>\n",
       "    </tr>\n",
       "  </thead>\n",
       "  <tbody>\n",
       "    <tr>\n",
       "      <th>0</th>\n",
       "      <td>2017-01-02</td>\n",
       "      <td>204977</td>\n",
       "    </tr>\n",
       "    <tr>\n",
       "      <th>4</th>\n",
       "      <td>2017-01-03</td>\n",
       "      <td>204986</td>\n",
       "    </tr>\n",
       "    <tr>\n",
       "      <th>6</th>\n",
       "      <td>2017-01-03</td>\n",
       "      <td>204992</td>\n",
       "    </tr>\n",
       "    <tr>\n",
       "      <th>8</th>\n",
       "      <td>2017-01-03</td>\n",
       "      <td>204997</td>\n",
       "    </tr>\n",
       "    <tr>\n",
       "      <th>10</th>\n",
       "      <td>2017-01-03</td>\n",
       "      <td>205001</td>\n",
       "    </tr>\n",
       "    <tr>\n",
       "      <th>...</th>\n",
       "      <td>...</td>\n",
       "      <td>...</td>\n",
       "    </tr>\n",
       "    <tr>\n",
       "      <th>189178</th>\n",
       "      <td>2022-08-15</td>\n",
       "      <td>518069</td>\n",
       "    </tr>\n",
       "    <tr>\n",
       "      <th>189179</th>\n",
       "      <td>2022-08-15</td>\n",
       "      <td>518070</td>\n",
       "    </tr>\n",
       "    <tr>\n",
       "      <th>189184</th>\n",
       "      <td>2022-08-15</td>\n",
       "      <td>518075</td>\n",
       "    </tr>\n",
       "    <tr>\n",
       "      <th>189185</th>\n",
       "      <td>2022-08-15</td>\n",
       "      <td>518076</td>\n",
       "    </tr>\n",
       "    <tr>\n",
       "      <th>189186</th>\n",
       "      <td>2022-08-15</td>\n",
       "      <td>518077</td>\n",
       "    </tr>\n",
       "  </tbody>\n",
       "</table>\n",
       "<p>110216 rows × 2 columns</p>\n",
       "</div>"
      ],
      "text/plain": [
       "             Date  Case Number\n",
       "0      2017-01-02       204977\n",
       "4      2017-01-03       204986\n",
       "6      2017-01-03       204992\n",
       "8      2017-01-03       204997\n",
       "10     2017-01-03       205001\n",
       "...           ...          ...\n",
       "189178 2022-08-15       518069\n",
       "189179 2022-08-15       518070\n",
       "189184 2022-08-15       518075\n",
       "189185 2022-08-15       518076\n",
       "189186 2022-08-15       518077\n",
       "\n",
       "[110216 rows x 2 columns]"
      ]
     },
     "execution_count": 84,
     "metadata": {},
     "output_type": "execute_result"
    }
   ],
   "source": [
    "# Adding a new column which will have the number of tickets per day\n",
    "newdf = dfc[[\"Date\",\"Case Number\"]]\n",
    "newdf.drop_duplicates(inplace=True)\n",
    "newdf"
   ]
  },
  {
   "cell_type": "code",
   "execution_count": 85,
   "id": "db72af17",
   "metadata": {},
   "outputs": [
    {
     "name": "stdout",
     "output_type": "stream",
     "text": [
      "<class 'pandas.core.frame.DataFrame'>\n",
      "Int64Index: 110216 entries, 0 to 189186\n",
      "Data columns (total 2 columns):\n",
      " #   Column       Non-Null Count   Dtype         \n",
      "---  ------       --------------   -----         \n",
      " 0   Date         110216 non-null  datetime64[ns]\n",
      " 1   Case Number  110216 non-null  int64         \n",
      "dtypes: datetime64[ns](1), int64(1)\n",
      "memory usage: 2.5 MB\n"
     ]
    }
   ],
   "source": [
    "newdf.info()"
   ]
  },
  {
   "cell_type": "code",
   "execution_count": 100,
   "id": "b5628be3",
   "metadata": {},
   "outputs": [
    {
     "data": {
      "text/html": [
       "<div>\n",
       "<style scoped>\n",
       "    .dataframe tbody tr th:only-of-type {\n",
       "        vertical-align: middle;\n",
       "    }\n",
       "\n",
       "    .dataframe tbody tr th {\n",
       "        vertical-align: top;\n",
       "    }\n",
       "\n",
       "    .dataframe thead th {\n",
       "        text-align: right;\n",
       "    }\n",
       "</style>\n",
       "<table border=\"1\" class=\"dataframe\">\n",
       "  <thead>\n",
       "    <tr style=\"text-align: right;\">\n",
       "      <th></th>\n",
       "      <th>Case Number</th>\n",
       "    </tr>\n",
       "    <tr>\n",
       "      <th>Date</th>\n",
       "      <th></th>\n",
       "    </tr>\n",
       "  </thead>\n",
       "  <tbody>\n",
       "    <tr>\n",
       "      <th>2017-01-02</th>\n",
       "      <td>1</td>\n",
       "    </tr>\n",
       "    <tr>\n",
       "      <th>2017-01-03</th>\n",
       "      <td>35</td>\n",
       "    </tr>\n",
       "    <tr>\n",
       "      <th>2017-01-04</th>\n",
       "      <td>38</td>\n",
       "    </tr>\n",
       "    <tr>\n",
       "      <th>2017-01-05</th>\n",
       "      <td>48</td>\n",
       "    </tr>\n",
       "    <tr>\n",
       "      <th>2017-01-06</th>\n",
       "      <td>28</td>\n",
       "    </tr>\n",
       "    <tr>\n",
       "      <th>...</th>\n",
       "      <td>...</td>\n",
       "    </tr>\n",
       "    <tr>\n",
       "      <th>2022-08-11</th>\n",
       "      <td>53</td>\n",
       "    </tr>\n",
       "    <tr>\n",
       "      <th>2022-08-12</th>\n",
       "      <td>49</td>\n",
       "    </tr>\n",
       "    <tr>\n",
       "      <th>2022-08-13</th>\n",
       "      <td>4</td>\n",
       "    </tr>\n",
       "    <tr>\n",
       "      <th>2022-08-14</th>\n",
       "      <td>5</td>\n",
       "    </tr>\n",
       "    <tr>\n",
       "      <th>2022-08-15</th>\n",
       "      <td>39</td>\n",
       "    </tr>\n",
       "  </tbody>\n",
       "</table>\n",
       "<p>1950 rows × 1 columns</p>\n",
       "</div>"
      ],
      "text/plain": [
       "            Case Number\n",
       "Date                   \n",
       "2017-01-02            1\n",
       "2017-01-03           35\n",
       "2017-01-04           38\n",
       "2017-01-05           48\n",
       "2017-01-06           28\n",
       "...                 ...\n",
       "2022-08-11           53\n",
       "2022-08-12           49\n",
       "2022-08-13            4\n",
       "2022-08-14            5\n",
       "2022-08-15           39\n",
       "\n",
       "[1950 rows x 1 columns]"
      ]
     },
     "execution_count": 100,
     "metadata": {},
     "output_type": "execute_result"
    }
   ],
   "source": [
    "pd.DataFrame(newdf.groupby([newdf[\"Date\"].dt.date]).count()[\"Case Number\"])"
   ]
  },
  {
   "cell_type": "code",
   "execution_count": 99,
   "id": "5b794e11",
   "metadata": {},
   "outputs": [
    {
     "data": {
      "text/html": [
       "<div>\n",
       "<style scoped>\n",
       "    .dataframe tbody tr th:only-of-type {\n",
       "        vertical-align: middle;\n",
       "    }\n",
       "\n",
       "    .dataframe tbody tr th {\n",
       "        vertical-align: top;\n",
       "    }\n",
       "\n",
       "    .dataframe thead th {\n",
       "        text-align: right;\n",
       "    }\n",
       "</style>\n",
       "<table border=\"1\" class=\"dataframe\">\n",
       "  <thead>\n",
       "    <tr style=\"text-align: right;\">\n",
       "      <th></th>\n",
       "      <th>Case Number</th>\n",
       "    </tr>\n",
       "    <tr>\n",
       "      <th>Date</th>\n",
       "      <th></th>\n",
       "    </tr>\n",
       "  </thead>\n",
       "  <tbody>\n",
       "    <tr>\n",
       "      <th>2017-01-02</th>\n",
       "      <td>1</td>\n",
       "    </tr>\n",
       "    <tr>\n",
       "      <th>2017-01-03</th>\n",
       "      <td>35</td>\n",
       "    </tr>\n",
       "    <tr>\n",
       "      <th>2017-01-04</th>\n",
       "      <td>38</td>\n",
       "    </tr>\n",
       "    <tr>\n",
       "      <th>2017-01-05</th>\n",
       "      <td>48</td>\n",
       "    </tr>\n",
       "    <tr>\n",
       "      <th>2017-01-06</th>\n",
       "      <td>28</td>\n",
       "    </tr>\n",
       "    <tr>\n",
       "      <th>...</th>\n",
       "      <td>...</td>\n",
       "    </tr>\n",
       "    <tr>\n",
       "      <th>2022-08-11</th>\n",
       "      <td>53</td>\n",
       "    </tr>\n",
       "    <tr>\n",
       "      <th>2022-08-12</th>\n",
       "      <td>49</td>\n",
       "    </tr>\n",
       "    <tr>\n",
       "      <th>2022-08-13</th>\n",
       "      <td>4</td>\n",
       "    </tr>\n",
       "    <tr>\n",
       "      <th>2022-08-14</th>\n",
       "      <td>5</td>\n",
       "    </tr>\n",
       "    <tr>\n",
       "      <th>2022-08-15</th>\n",
       "      <td>39</td>\n",
       "    </tr>\n",
       "  </tbody>\n",
       "</table>\n",
       "<p>1950 rows × 1 columns</p>\n",
       "</div>"
      ],
      "text/plain": [
       "            Case Number\n",
       "Date                   \n",
       "2017-01-02            1\n",
       "2017-01-03           35\n",
       "2017-01-04           38\n",
       "2017-01-05           48\n",
       "2017-01-06           28\n",
       "...                 ...\n",
       "2022-08-11           53\n",
       "2022-08-12           49\n",
       "2022-08-13            4\n",
       "2022-08-14            5\n",
       "2022-08-15           39\n",
       "\n",
       "[1950 rows x 1 columns]"
      ]
     },
     "execution_count": 99,
     "metadata": {},
     "output_type": "execute_result"
    }
   ],
   "source": [
    "pd.DataFrame(sample)"
   ]
  },
  {
   "cell_type": "code",
   "execution_count": 54,
   "id": "2e3c1feb",
   "metadata": {
    "scrolled": false
   },
   "outputs": [
    {
     "data": {
      "text/html": [
       "<div>\n",
       "<style scoped>\n",
       "    .dataframe tbody tr th:only-of-type {\n",
       "        vertical-align: middle;\n",
       "    }\n",
       "\n",
       "    .dataframe tbody tr th {\n",
       "        vertical-align: top;\n",
       "    }\n",
       "\n",
       "    .dataframe thead th {\n",
       "        text-align: right;\n",
       "    }\n",
       "</style>\n",
       "<table border=\"1\" class=\"dataframe\">\n",
       "  <thead>\n",
       "    <tr style=\"text-align: right;\">\n",
       "      <th></th>\n",
       "      <th>Case Number</th>\n",
       "      <th>Subject</th>\n",
       "      <th>Date Created</th>\n",
       "      <th>Date Closed</th>\n",
       "      <th>Origin</th>\n",
       "      <th>Priority</th>\n",
       "      <th>Team</th>\n",
       "      <th>Case Type</th>\n",
       "      <th>SLA</th>\n",
       "      <th>Problem Statement</th>\n",
       "      <th>Product</th>\n",
       "      <th>Product Area</th>\n",
       "      <th>Product Category</th>\n",
       "      <th>Product Type</th>\n",
       "      <th>Jurisdiction</th>\n",
       "      <th>Resolution</th>\n",
       "      <th>KB #</th>\n",
       "      <th>KB Title</th>\n",
       "      <th>Date</th>\n",
       "    </tr>\n",
       "    <tr>\n",
       "      <th>Date</th>\n",
       "      <th></th>\n",
       "      <th></th>\n",
       "      <th></th>\n",
       "      <th></th>\n",
       "      <th></th>\n",
       "      <th></th>\n",
       "      <th></th>\n",
       "      <th></th>\n",
       "      <th></th>\n",
       "      <th></th>\n",
       "      <th></th>\n",
       "      <th></th>\n",
       "      <th></th>\n",
       "      <th></th>\n",
       "      <th></th>\n",
       "      <th></th>\n",
       "      <th></th>\n",
       "      <th></th>\n",
       "      <th></th>\n",
       "    </tr>\n",
       "  </thead>\n",
       "  <tbody>\n",
       "    <tr>\n",
       "      <th>2017-01-02</th>\n",
       "      <td>4</td>\n",
       "      <td>4</td>\n",
       "      <td>4</td>\n",
       "      <td>4</td>\n",
       "      <td>4</td>\n",
       "      <td>4</td>\n",
       "      <td>4</td>\n",
       "      <td>4</td>\n",
       "      <td>4</td>\n",
       "      <td>4</td>\n",
       "      <td>4</td>\n",
       "      <td>4</td>\n",
       "      <td>1</td>\n",
       "      <td>0</td>\n",
       "      <td>3</td>\n",
       "      <td>4</td>\n",
       "      <td>3</td>\n",
       "      <td>3</td>\n",
       "      <td>4</td>\n",
       "    </tr>\n",
       "    <tr>\n",
       "      <th>2017-01-03</th>\n",
       "      <td>84</td>\n",
       "      <td>84</td>\n",
       "      <td>84</td>\n",
       "      <td>84</td>\n",
       "      <td>84</td>\n",
       "      <td>84</td>\n",
       "      <td>84</td>\n",
       "      <td>83</td>\n",
       "      <td>84</td>\n",
       "      <td>83</td>\n",
       "      <td>84</td>\n",
       "      <td>84</td>\n",
       "      <td>25</td>\n",
       "      <td>1</td>\n",
       "      <td>30</td>\n",
       "      <td>74</td>\n",
       "      <td>27</td>\n",
       "      <td>26</td>\n",
       "      <td>84</td>\n",
       "    </tr>\n",
       "    <tr>\n",
       "      <th>2017-01-04</th>\n",
       "      <td>113</td>\n",
       "      <td>113</td>\n",
       "      <td>113</td>\n",
       "      <td>113</td>\n",
       "      <td>113</td>\n",
       "      <td>113</td>\n",
       "      <td>113</td>\n",
       "      <td>113</td>\n",
       "      <td>113</td>\n",
       "      <td>113</td>\n",
       "      <td>113</td>\n",
       "      <td>113</td>\n",
       "      <td>42</td>\n",
       "      <td>6</td>\n",
       "      <td>35</td>\n",
       "      <td>110</td>\n",
       "      <td>41</td>\n",
       "      <td>39</td>\n",
       "      <td>113</td>\n",
       "    </tr>\n",
       "    <tr>\n",
       "      <th>2017-01-05</th>\n",
       "      <td>106</td>\n",
       "      <td>106</td>\n",
       "      <td>106</td>\n",
       "      <td>106</td>\n",
       "      <td>106</td>\n",
       "      <td>106</td>\n",
       "      <td>106</td>\n",
       "      <td>104</td>\n",
       "      <td>106</td>\n",
       "      <td>104</td>\n",
       "      <td>106</td>\n",
       "      <td>106</td>\n",
       "      <td>33</td>\n",
       "      <td>5</td>\n",
       "      <td>39</td>\n",
       "      <td>101</td>\n",
       "      <td>35</td>\n",
       "      <td>33</td>\n",
       "      <td>106</td>\n",
       "    </tr>\n",
       "    <tr>\n",
       "      <th>2017-01-06</th>\n",
       "      <td>87</td>\n",
       "      <td>87</td>\n",
       "      <td>87</td>\n",
       "      <td>87</td>\n",
       "      <td>87</td>\n",
       "      <td>87</td>\n",
       "      <td>87</td>\n",
       "      <td>86</td>\n",
       "      <td>87</td>\n",
       "      <td>86</td>\n",
       "      <td>87</td>\n",
       "      <td>87</td>\n",
       "      <td>35</td>\n",
       "      <td>5</td>\n",
       "      <td>31</td>\n",
       "      <td>86</td>\n",
       "      <td>24</td>\n",
       "      <td>22</td>\n",
       "      <td>87</td>\n",
       "    </tr>\n",
       "    <tr>\n",
       "      <th>...</th>\n",
       "      <td>...</td>\n",
       "      <td>...</td>\n",
       "      <td>...</td>\n",
       "      <td>...</td>\n",
       "      <td>...</td>\n",
       "      <td>...</td>\n",
       "      <td>...</td>\n",
       "      <td>...</td>\n",
       "      <td>...</td>\n",
       "      <td>...</td>\n",
       "      <td>...</td>\n",
       "      <td>...</td>\n",
       "      <td>...</td>\n",
       "      <td>...</td>\n",
       "      <td>...</td>\n",
       "      <td>...</td>\n",
       "      <td>...</td>\n",
       "      <td>...</td>\n",
       "      <td>...</td>\n",
       "    </tr>\n",
       "    <tr>\n",
       "      <th>2017-04-23</th>\n",
       "      <td>1</td>\n",
       "      <td>1</td>\n",
       "      <td>1</td>\n",
       "      <td>1</td>\n",
       "      <td>1</td>\n",
       "      <td>1</td>\n",
       "      <td>1</td>\n",
       "      <td>1</td>\n",
       "      <td>1</td>\n",
       "      <td>1</td>\n",
       "      <td>1</td>\n",
       "      <td>1</td>\n",
       "      <td>0</td>\n",
       "      <td>0</td>\n",
       "      <td>0</td>\n",
       "      <td>1</td>\n",
       "      <td>0</td>\n",
       "      <td>0</td>\n",
       "      <td>1</td>\n",
       "    </tr>\n",
       "    <tr>\n",
       "      <th>2017-04-24</th>\n",
       "      <td>91</td>\n",
       "      <td>91</td>\n",
       "      <td>91</td>\n",
       "      <td>91</td>\n",
       "      <td>91</td>\n",
       "      <td>91</td>\n",
       "      <td>91</td>\n",
       "      <td>88</td>\n",
       "      <td>91</td>\n",
       "      <td>88</td>\n",
       "      <td>91</td>\n",
       "      <td>91</td>\n",
       "      <td>24</td>\n",
       "      <td>0</td>\n",
       "      <td>53</td>\n",
       "      <td>90</td>\n",
       "      <td>30</td>\n",
       "      <td>27</td>\n",
       "      <td>91</td>\n",
       "    </tr>\n",
       "    <tr>\n",
       "      <th>2017-04-25</th>\n",
       "      <td>91</td>\n",
       "      <td>91</td>\n",
       "      <td>91</td>\n",
       "      <td>91</td>\n",
       "      <td>91</td>\n",
       "      <td>91</td>\n",
       "      <td>91</td>\n",
       "      <td>91</td>\n",
       "      <td>91</td>\n",
       "      <td>91</td>\n",
       "      <td>91</td>\n",
       "      <td>91</td>\n",
       "      <td>27</td>\n",
       "      <td>2</td>\n",
       "      <td>45</td>\n",
       "      <td>91</td>\n",
       "      <td>35</td>\n",
       "      <td>34</td>\n",
       "      <td>91</td>\n",
       "    </tr>\n",
       "    <tr>\n",
       "      <th>2017-04-26</th>\n",
       "      <td>98</td>\n",
       "      <td>98</td>\n",
       "      <td>98</td>\n",
       "      <td>98</td>\n",
       "      <td>98</td>\n",
       "      <td>98</td>\n",
       "      <td>98</td>\n",
       "      <td>98</td>\n",
       "      <td>98</td>\n",
       "      <td>98</td>\n",
       "      <td>98</td>\n",
       "      <td>98</td>\n",
       "      <td>21</td>\n",
       "      <td>0</td>\n",
       "      <td>55</td>\n",
       "      <td>98</td>\n",
       "      <td>47</td>\n",
       "      <td>43</td>\n",
       "      <td>98</td>\n",
       "    </tr>\n",
       "    <tr>\n",
       "      <th>2017-04-27</th>\n",
       "      <td>74</td>\n",
       "      <td>74</td>\n",
       "      <td>74</td>\n",
       "      <td>74</td>\n",
       "      <td>74</td>\n",
       "      <td>74</td>\n",
       "      <td>74</td>\n",
       "      <td>74</td>\n",
       "      <td>74</td>\n",
       "      <td>74</td>\n",
       "      <td>74</td>\n",
       "      <td>74</td>\n",
       "      <td>16</td>\n",
       "      <td>2</td>\n",
       "      <td>47</td>\n",
       "      <td>74</td>\n",
       "      <td>30</td>\n",
       "      <td>30</td>\n",
       "      <td>74</td>\n",
       "    </tr>\n",
       "  </tbody>\n",
       "</table>\n",
       "<p>115 rows × 19 columns</p>\n",
       "</div>"
      ],
      "text/plain": [
       "            Case Number  Subject  Date Created  Date Closed  Origin  Priority  \\\n",
       "Date                                                                            \n",
       "2017-01-02            4        4             4            4       4         4   \n",
       "2017-01-03           84       84            84           84      84        84   \n",
       "2017-01-04          113      113           113          113     113       113   \n",
       "2017-01-05          106      106           106          106     106       106   \n",
       "2017-01-06           87       87            87           87      87        87   \n",
       "...                 ...      ...           ...          ...     ...       ...   \n",
       "2017-04-23            1        1             1            1       1         1   \n",
       "2017-04-24           91       91            91           91      91        91   \n",
       "2017-04-25           91       91            91           91      91        91   \n",
       "2017-04-26           98       98            98           98      98        98   \n",
       "2017-04-27           74       74            74           74      74        74   \n",
       "\n",
       "            Team  Case Type  SLA  Problem Statement  Product  Product Area  \\\n",
       "Date                                                                         \n",
       "2017-01-02     4          4    4                  4        4             4   \n",
       "2017-01-03    84         83   84                 83       84            84   \n",
       "2017-01-04   113        113  113                113      113           113   \n",
       "2017-01-05   106        104  106                104      106           106   \n",
       "2017-01-06    87         86   87                 86       87            87   \n",
       "...          ...        ...  ...                ...      ...           ...   \n",
       "2017-04-23     1          1    1                  1        1             1   \n",
       "2017-04-24    91         88   91                 88       91            91   \n",
       "2017-04-25    91         91   91                 91       91            91   \n",
       "2017-04-26    98         98   98                 98       98            98   \n",
       "2017-04-27    74         74   74                 74       74            74   \n",
       "\n",
       "            Product Category  Product Type  Jurisdiction  Resolution  KB #  \\\n",
       "Date                                                                         \n",
       "2017-01-02                 1             0             3           4     3   \n",
       "2017-01-03                25             1            30          74    27   \n",
       "2017-01-04                42             6            35         110    41   \n",
       "2017-01-05                33             5            39         101    35   \n",
       "2017-01-06                35             5            31          86    24   \n",
       "...                      ...           ...           ...         ...   ...   \n",
       "2017-04-23                 0             0             0           1     0   \n",
       "2017-04-24                24             0            53          90    30   \n",
       "2017-04-25                27             2            45          91    35   \n",
       "2017-04-26                21             0            55          98    47   \n",
       "2017-04-27                16             2            47          74    30   \n",
       "\n",
       "            KB Title  Date  \n",
       "Date                        \n",
       "2017-01-02         3     4  \n",
       "2017-01-03        26    84  \n",
       "2017-01-04        39   113  \n",
       "2017-01-05        33   106  \n",
       "2017-01-06        22    87  \n",
       "...              ...   ...  \n",
       "2017-04-23         0     1  \n",
       "2017-04-24        27    91  \n",
       "2017-04-25        34    91  \n",
       "2017-04-26        43    98  \n",
       "2017-04-27        30    74  \n",
       "\n",
       "[115 rows x 19 columns]"
      ]
     },
     "execution_count": 54,
     "metadata": {},
     "output_type": "execute_result"
    }
   ],
   "source": [
    "df_by_day = df1.groupby(by=df1['Date'].dt.date).count()\n",
    "df_by_day"
   ]
  },
  {
   "cell_type": "code",
   "execution_count": 50,
   "id": "ddfe5762",
   "metadata": {},
   "outputs": [
    {
     "data": {
      "application/vnd.plotly.v1+json": {
       "config": {
        "plotlyServerURL": "https://plot.ly"
       },
       "data": [
        {
         "hovertemplate": "index=%{x}<br>Case Number=%{y}<extra></extra>",
         "legendgroup": "",
         "line": {
          "color": "#636efa",
          "dash": "solid"
         },
         "marker": {
          "symbol": "circle"
         },
         "mode": "lines",
         "name": "",
         "orientation": "v",
         "showlegend": false,
         "type": "scatter",
         "x": [
          "2017-01-02",
          "2017-01-03",
          "2017-01-04",
          "2017-01-05",
          "2017-01-06",
          "2017-01-07",
          "2017-01-08",
          "2017-01-09",
          "2017-01-10",
          "2017-01-11",
          "2017-01-12",
          "2017-01-13",
          "2017-01-14",
          "2017-01-15",
          "2017-01-16",
          "2017-01-17",
          "2017-01-18",
          "2017-01-19",
          "2017-01-20",
          "2017-01-21",
          "2017-01-22",
          "2017-01-23",
          "2017-01-24",
          "2017-01-25",
          "2017-01-26",
          "2017-01-27",
          "2017-01-28",
          "2017-01-29",
          "2017-01-30",
          "2017-01-31",
          "2017-02-01",
          "2017-02-02",
          "2017-02-03",
          "2017-02-04",
          "2017-02-05",
          "2017-02-06",
          "2017-02-07",
          "2017-02-08",
          "2017-02-09",
          "2017-02-10",
          "2017-02-11",
          "2017-02-12",
          "2017-02-13",
          "2017-02-14",
          "2017-02-15",
          "2017-02-16",
          "2017-02-17",
          "2017-02-18",
          "2017-02-19",
          "2017-02-20",
          "2017-02-21",
          "2017-02-22",
          "2017-02-23",
          "2017-02-24",
          "2017-02-25",
          "2017-02-26",
          "2017-02-27",
          "2017-02-28",
          "2017-03-01",
          "2017-03-02",
          "2017-03-03",
          "2017-03-04",
          "2017-03-05",
          "2017-03-06",
          "2017-03-07",
          "2017-03-08",
          "2017-03-09",
          "2017-03-10",
          "2017-03-11",
          "2017-03-12",
          "2017-03-13",
          "2017-03-14",
          "2017-03-15",
          "2017-03-16",
          "2017-03-17",
          "2017-03-18",
          "2017-03-20",
          "2017-03-21",
          "2017-03-22",
          "2017-03-23",
          "2017-03-24",
          "2017-03-25",
          "2017-03-26",
          "2017-03-27",
          "2017-03-28",
          "2017-03-29",
          "2017-03-30",
          "2017-03-31",
          "2017-04-01",
          "2017-04-02",
          "2017-04-03",
          "2017-04-04",
          "2017-04-05",
          "2017-04-06",
          "2017-04-07",
          "2017-04-08",
          "2017-04-09",
          "2017-04-10",
          "2017-04-11",
          "2017-04-12",
          "2017-04-13",
          "2017-04-14",
          "2017-04-15",
          "2017-04-16",
          "2017-04-17",
          "2017-04-18",
          "2017-04-19",
          "2017-04-20",
          "2017-04-21",
          "2017-04-22",
          "2017-04-23",
          "2017-04-24",
          "2017-04-25",
          "2017-04-26",
          "2017-04-27"
         ],
         "xaxis": "x",
         "y": [
          4,
          84,
          113,
          106,
          87,
          3,
          6,
          117,
          130,
          102,
          106,
          101,
          7,
          2,
          74,
          120,
          103,
          104,
          72,
          3,
          8,
          130,
          114,
          96,
          120,
          84,
          2,
          3,
          100,
          105,
          142,
          130,
          103,
          2,
          5,
          118,
          141,
          126,
          94,
          118,
          4,
          4,
          117,
          109,
          143,
          122,
          81,
          1,
          3,
          80,
          125,
          127,
          132,
          77,
          5,
          6,
          139,
          123,
          160,
          149,
          138,
          11,
          1,
          174,
          172,
          179,
          166,
          161,
          8,
          11,
          198,
          215,
          209,
          132,
          80,
          4,
          134,
          123,
          121,
          108,
          78,
          5,
          6,
          124,
          120,
          127,
          117,
          95,
          8,
          2,
          110,
          113,
          135,
          138,
          102,
          14,
          4,
          140,
          135,
          126,
          125,
          70,
          3,
          2,
          134,
          130,
          91,
          69,
          84,
          1,
          1,
          91,
          91,
          98,
          74
         ],
         "yaxis": "y"
        }
       ],
       "layout": {
        "legend": {
         "tracegroupgap": 0
        },
        "margin": {
         "t": 60
        },
        "template": {
         "data": {
          "bar": [
           {
            "error_x": {
             "color": "#2a3f5f"
            },
            "error_y": {
             "color": "#2a3f5f"
            },
            "marker": {
             "line": {
              "color": "#E5ECF6",
              "width": 0.5
             },
             "pattern": {
              "fillmode": "overlay",
              "size": 10,
              "solidity": 0.2
             }
            },
            "type": "bar"
           }
          ],
          "barpolar": [
           {
            "marker": {
             "line": {
              "color": "#E5ECF6",
              "width": 0.5
             },
             "pattern": {
              "fillmode": "overlay",
              "size": 10,
              "solidity": 0.2
             }
            },
            "type": "barpolar"
           }
          ],
          "carpet": [
           {
            "aaxis": {
             "endlinecolor": "#2a3f5f",
             "gridcolor": "white",
             "linecolor": "white",
             "minorgridcolor": "white",
             "startlinecolor": "#2a3f5f"
            },
            "baxis": {
             "endlinecolor": "#2a3f5f",
             "gridcolor": "white",
             "linecolor": "white",
             "minorgridcolor": "white",
             "startlinecolor": "#2a3f5f"
            },
            "type": "carpet"
           }
          ],
          "choropleth": [
           {
            "colorbar": {
             "outlinewidth": 0,
             "ticks": ""
            },
            "type": "choropleth"
           }
          ],
          "contour": [
           {
            "colorbar": {
             "outlinewidth": 0,
             "ticks": ""
            },
            "colorscale": [
             [
              0,
              "#0d0887"
             ],
             [
              0.1111111111111111,
              "#46039f"
             ],
             [
              0.2222222222222222,
              "#7201a8"
             ],
             [
              0.3333333333333333,
              "#9c179e"
             ],
             [
              0.4444444444444444,
              "#bd3786"
             ],
             [
              0.5555555555555556,
              "#d8576b"
             ],
             [
              0.6666666666666666,
              "#ed7953"
             ],
             [
              0.7777777777777778,
              "#fb9f3a"
             ],
             [
              0.8888888888888888,
              "#fdca26"
             ],
             [
              1,
              "#f0f921"
             ]
            ],
            "type": "contour"
           }
          ],
          "contourcarpet": [
           {
            "colorbar": {
             "outlinewidth": 0,
             "ticks": ""
            },
            "type": "contourcarpet"
           }
          ],
          "heatmap": [
           {
            "colorbar": {
             "outlinewidth": 0,
             "ticks": ""
            },
            "colorscale": [
             [
              0,
              "#0d0887"
             ],
             [
              0.1111111111111111,
              "#46039f"
             ],
             [
              0.2222222222222222,
              "#7201a8"
             ],
             [
              0.3333333333333333,
              "#9c179e"
             ],
             [
              0.4444444444444444,
              "#bd3786"
             ],
             [
              0.5555555555555556,
              "#d8576b"
             ],
             [
              0.6666666666666666,
              "#ed7953"
             ],
             [
              0.7777777777777778,
              "#fb9f3a"
             ],
             [
              0.8888888888888888,
              "#fdca26"
             ],
             [
              1,
              "#f0f921"
             ]
            ],
            "type": "heatmap"
           }
          ],
          "heatmapgl": [
           {
            "colorbar": {
             "outlinewidth": 0,
             "ticks": ""
            },
            "colorscale": [
             [
              0,
              "#0d0887"
             ],
             [
              0.1111111111111111,
              "#46039f"
             ],
             [
              0.2222222222222222,
              "#7201a8"
             ],
             [
              0.3333333333333333,
              "#9c179e"
             ],
             [
              0.4444444444444444,
              "#bd3786"
             ],
             [
              0.5555555555555556,
              "#d8576b"
             ],
             [
              0.6666666666666666,
              "#ed7953"
             ],
             [
              0.7777777777777778,
              "#fb9f3a"
             ],
             [
              0.8888888888888888,
              "#fdca26"
             ],
             [
              1,
              "#f0f921"
             ]
            ],
            "type": "heatmapgl"
           }
          ],
          "histogram": [
           {
            "marker": {
             "pattern": {
              "fillmode": "overlay",
              "size": 10,
              "solidity": 0.2
             }
            },
            "type": "histogram"
           }
          ],
          "histogram2d": [
           {
            "colorbar": {
             "outlinewidth": 0,
             "ticks": ""
            },
            "colorscale": [
             [
              0,
              "#0d0887"
             ],
             [
              0.1111111111111111,
              "#46039f"
             ],
             [
              0.2222222222222222,
              "#7201a8"
             ],
             [
              0.3333333333333333,
              "#9c179e"
             ],
             [
              0.4444444444444444,
              "#bd3786"
             ],
             [
              0.5555555555555556,
              "#d8576b"
             ],
             [
              0.6666666666666666,
              "#ed7953"
             ],
             [
              0.7777777777777778,
              "#fb9f3a"
             ],
             [
              0.8888888888888888,
              "#fdca26"
             ],
             [
              1,
              "#f0f921"
             ]
            ],
            "type": "histogram2d"
           }
          ],
          "histogram2dcontour": [
           {
            "colorbar": {
             "outlinewidth": 0,
             "ticks": ""
            },
            "colorscale": [
             [
              0,
              "#0d0887"
             ],
             [
              0.1111111111111111,
              "#46039f"
             ],
             [
              0.2222222222222222,
              "#7201a8"
             ],
             [
              0.3333333333333333,
              "#9c179e"
             ],
             [
              0.4444444444444444,
              "#bd3786"
             ],
             [
              0.5555555555555556,
              "#d8576b"
             ],
             [
              0.6666666666666666,
              "#ed7953"
             ],
             [
              0.7777777777777778,
              "#fb9f3a"
             ],
             [
              0.8888888888888888,
              "#fdca26"
             ],
             [
              1,
              "#f0f921"
             ]
            ],
            "type": "histogram2dcontour"
           }
          ],
          "mesh3d": [
           {
            "colorbar": {
             "outlinewidth": 0,
             "ticks": ""
            },
            "type": "mesh3d"
           }
          ],
          "parcoords": [
           {
            "line": {
             "colorbar": {
              "outlinewidth": 0,
              "ticks": ""
             }
            },
            "type": "parcoords"
           }
          ],
          "pie": [
           {
            "automargin": true,
            "type": "pie"
           }
          ],
          "scatter": [
           {
            "fillpattern": {
             "fillmode": "overlay",
             "size": 10,
             "solidity": 0.2
            },
            "type": "scatter"
           }
          ],
          "scatter3d": [
           {
            "line": {
             "colorbar": {
              "outlinewidth": 0,
              "ticks": ""
             }
            },
            "marker": {
             "colorbar": {
              "outlinewidth": 0,
              "ticks": ""
             }
            },
            "type": "scatter3d"
           }
          ],
          "scattercarpet": [
           {
            "marker": {
             "colorbar": {
              "outlinewidth": 0,
              "ticks": ""
             }
            },
            "type": "scattercarpet"
           }
          ],
          "scattergeo": [
           {
            "marker": {
             "colorbar": {
              "outlinewidth": 0,
              "ticks": ""
             }
            },
            "type": "scattergeo"
           }
          ],
          "scattergl": [
           {
            "marker": {
             "colorbar": {
              "outlinewidth": 0,
              "ticks": ""
             }
            },
            "type": "scattergl"
           }
          ],
          "scattermapbox": [
           {
            "marker": {
             "colorbar": {
              "outlinewidth": 0,
              "ticks": ""
             }
            },
            "type": "scattermapbox"
           }
          ],
          "scatterpolar": [
           {
            "marker": {
             "colorbar": {
              "outlinewidth": 0,
              "ticks": ""
             }
            },
            "type": "scatterpolar"
           }
          ],
          "scatterpolargl": [
           {
            "marker": {
             "colorbar": {
              "outlinewidth": 0,
              "ticks": ""
             }
            },
            "type": "scatterpolargl"
           }
          ],
          "scatterternary": [
           {
            "marker": {
             "colorbar": {
              "outlinewidth": 0,
              "ticks": ""
             }
            },
            "type": "scatterternary"
           }
          ],
          "surface": [
           {
            "colorbar": {
             "outlinewidth": 0,
             "ticks": ""
            },
            "colorscale": [
             [
              0,
              "#0d0887"
             ],
             [
              0.1111111111111111,
              "#46039f"
             ],
             [
              0.2222222222222222,
              "#7201a8"
             ],
             [
              0.3333333333333333,
              "#9c179e"
             ],
             [
              0.4444444444444444,
              "#bd3786"
             ],
             [
              0.5555555555555556,
              "#d8576b"
             ],
             [
              0.6666666666666666,
              "#ed7953"
             ],
             [
              0.7777777777777778,
              "#fb9f3a"
             ],
             [
              0.8888888888888888,
              "#fdca26"
             ],
             [
              1,
              "#f0f921"
             ]
            ],
            "type": "surface"
           }
          ],
          "table": [
           {
            "cells": {
             "fill": {
              "color": "#EBF0F8"
             },
             "line": {
              "color": "white"
             }
            },
            "header": {
             "fill": {
              "color": "#C8D4E3"
             },
             "line": {
              "color": "white"
             }
            },
            "type": "table"
           }
          ]
         },
         "layout": {
          "annotationdefaults": {
           "arrowcolor": "#2a3f5f",
           "arrowhead": 0,
           "arrowwidth": 1
          },
          "autotypenumbers": "strict",
          "coloraxis": {
           "colorbar": {
            "outlinewidth": 0,
            "ticks": ""
           }
          },
          "colorscale": {
           "diverging": [
            [
             0,
             "#8e0152"
            ],
            [
             0.1,
             "#c51b7d"
            ],
            [
             0.2,
             "#de77ae"
            ],
            [
             0.3,
             "#f1b6da"
            ],
            [
             0.4,
             "#fde0ef"
            ],
            [
             0.5,
             "#f7f7f7"
            ],
            [
             0.6,
             "#e6f5d0"
            ],
            [
             0.7,
             "#b8e186"
            ],
            [
             0.8,
             "#7fbc41"
            ],
            [
             0.9,
             "#4d9221"
            ],
            [
             1,
             "#276419"
            ]
           ],
           "sequential": [
            [
             0,
             "#0d0887"
            ],
            [
             0.1111111111111111,
             "#46039f"
            ],
            [
             0.2222222222222222,
             "#7201a8"
            ],
            [
             0.3333333333333333,
             "#9c179e"
            ],
            [
             0.4444444444444444,
             "#bd3786"
            ],
            [
             0.5555555555555556,
             "#d8576b"
            ],
            [
             0.6666666666666666,
             "#ed7953"
            ],
            [
             0.7777777777777778,
             "#fb9f3a"
            ],
            [
             0.8888888888888888,
             "#fdca26"
            ],
            [
             1,
             "#f0f921"
            ]
           ],
           "sequentialminus": [
            [
             0,
             "#0d0887"
            ],
            [
             0.1111111111111111,
             "#46039f"
            ],
            [
             0.2222222222222222,
             "#7201a8"
            ],
            [
             0.3333333333333333,
             "#9c179e"
            ],
            [
             0.4444444444444444,
             "#bd3786"
            ],
            [
             0.5555555555555556,
             "#d8576b"
            ],
            [
             0.6666666666666666,
             "#ed7953"
            ],
            [
             0.7777777777777778,
             "#fb9f3a"
            ],
            [
             0.8888888888888888,
             "#fdca26"
            ],
            [
             1,
             "#f0f921"
            ]
           ]
          },
          "colorway": [
           "#636efa",
           "#EF553B",
           "#00cc96",
           "#ab63fa",
           "#FFA15A",
           "#19d3f3",
           "#FF6692",
           "#B6E880",
           "#FF97FF",
           "#FECB52"
          ],
          "font": {
           "color": "#2a3f5f"
          },
          "geo": {
           "bgcolor": "white",
           "lakecolor": "white",
           "landcolor": "#E5ECF6",
           "showlakes": true,
           "showland": true,
           "subunitcolor": "white"
          },
          "hoverlabel": {
           "align": "left"
          },
          "hovermode": "closest",
          "mapbox": {
           "style": "light"
          },
          "paper_bgcolor": "white",
          "plot_bgcolor": "#E5ECF6",
          "polar": {
           "angularaxis": {
            "gridcolor": "white",
            "linecolor": "white",
            "ticks": ""
           },
           "bgcolor": "#E5ECF6",
           "radialaxis": {
            "gridcolor": "white",
            "linecolor": "white",
            "ticks": ""
           }
          },
          "scene": {
           "xaxis": {
            "backgroundcolor": "#E5ECF6",
            "gridcolor": "white",
            "gridwidth": 2,
            "linecolor": "white",
            "showbackground": true,
            "ticks": "",
            "zerolinecolor": "white"
           },
           "yaxis": {
            "backgroundcolor": "#E5ECF6",
            "gridcolor": "white",
            "gridwidth": 2,
            "linecolor": "white",
            "showbackground": true,
            "ticks": "",
            "zerolinecolor": "white"
           },
           "zaxis": {
            "backgroundcolor": "#E5ECF6",
            "gridcolor": "white",
            "gridwidth": 2,
            "linecolor": "white",
            "showbackground": true,
            "ticks": "",
            "zerolinecolor": "white"
           }
          },
          "shapedefaults": {
           "line": {
            "color": "#2a3f5f"
           }
          },
          "ternary": {
           "aaxis": {
            "gridcolor": "white",
            "linecolor": "white",
            "ticks": ""
           },
           "baxis": {
            "gridcolor": "white",
            "linecolor": "white",
            "ticks": ""
           },
           "bgcolor": "#E5ECF6",
           "caxis": {
            "gridcolor": "white",
            "linecolor": "white",
            "ticks": ""
           }
          },
          "title": {
           "x": 0.05
          },
          "xaxis": {
           "automargin": true,
           "gridcolor": "white",
           "linecolor": "white",
           "ticks": "",
           "title": {
            "standoff": 15
           },
           "zerolinecolor": "white",
           "zerolinewidth": 2
          },
          "yaxis": {
           "automargin": true,
           "gridcolor": "white",
           "linecolor": "white",
           "ticks": "",
           "title": {
            "standoff": 15
           },
           "zerolinecolor": "white",
           "zerolinewidth": 2
          }
         }
        },
        "xaxis": {
         "anchor": "y",
         "domain": [
          0,
          1
         ],
         "title": {
          "text": "index"
         }
        },
        "yaxis": {
         "anchor": "x",
         "domain": [
          0,
          1
         ],
         "title": {
          "text": "Case Number"
         }
        }
       }
      },
      "text/html": [
       "<div>                            <div id=\"2e4250a9-b919-4e7c-85ce-da6387fddaf7\" class=\"plotly-graph-div\" style=\"height:525px; width:100%;\"></div>            <script type=\"text/javascript\">                require([\"plotly\"], function(Plotly) {                    window.PLOTLYENV=window.PLOTLYENV || {};                                    if (document.getElementById(\"2e4250a9-b919-4e7c-85ce-da6387fddaf7\")) {                    Plotly.newPlot(                        \"2e4250a9-b919-4e7c-85ce-da6387fddaf7\",                        [{\"hovertemplate\":\"index=%{x}<br>Case Number=%{y}<extra></extra>\",\"legendgroup\":\"\",\"line\":{\"color\":\"#636efa\",\"dash\":\"solid\"},\"marker\":{\"symbol\":\"circle\"},\"mode\":\"lines\",\"name\":\"\",\"orientation\":\"v\",\"showlegend\":false,\"x\":[\"2017-01-02\",\"2017-01-03\",\"2017-01-04\",\"2017-01-05\",\"2017-01-06\",\"2017-01-07\",\"2017-01-08\",\"2017-01-09\",\"2017-01-10\",\"2017-01-11\",\"2017-01-12\",\"2017-01-13\",\"2017-01-14\",\"2017-01-15\",\"2017-01-16\",\"2017-01-17\",\"2017-01-18\",\"2017-01-19\",\"2017-01-20\",\"2017-01-21\",\"2017-01-22\",\"2017-01-23\",\"2017-01-24\",\"2017-01-25\",\"2017-01-26\",\"2017-01-27\",\"2017-01-28\",\"2017-01-29\",\"2017-01-30\",\"2017-01-31\",\"2017-02-01\",\"2017-02-02\",\"2017-02-03\",\"2017-02-04\",\"2017-02-05\",\"2017-02-06\",\"2017-02-07\",\"2017-02-08\",\"2017-02-09\",\"2017-02-10\",\"2017-02-11\",\"2017-02-12\",\"2017-02-13\",\"2017-02-14\",\"2017-02-15\",\"2017-02-16\",\"2017-02-17\",\"2017-02-18\",\"2017-02-19\",\"2017-02-20\",\"2017-02-21\",\"2017-02-22\",\"2017-02-23\",\"2017-02-24\",\"2017-02-25\",\"2017-02-26\",\"2017-02-27\",\"2017-02-28\",\"2017-03-01\",\"2017-03-02\",\"2017-03-03\",\"2017-03-04\",\"2017-03-05\",\"2017-03-06\",\"2017-03-07\",\"2017-03-08\",\"2017-03-09\",\"2017-03-10\",\"2017-03-11\",\"2017-03-12\",\"2017-03-13\",\"2017-03-14\",\"2017-03-15\",\"2017-03-16\",\"2017-03-17\",\"2017-03-18\",\"2017-03-20\",\"2017-03-21\",\"2017-03-22\",\"2017-03-23\",\"2017-03-24\",\"2017-03-25\",\"2017-03-26\",\"2017-03-27\",\"2017-03-28\",\"2017-03-29\",\"2017-03-30\",\"2017-03-31\",\"2017-04-01\",\"2017-04-02\",\"2017-04-03\",\"2017-04-04\",\"2017-04-05\",\"2017-04-06\",\"2017-04-07\",\"2017-04-08\",\"2017-04-09\",\"2017-04-10\",\"2017-04-11\",\"2017-04-12\",\"2017-04-13\",\"2017-04-14\",\"2017-04-15\",\"2017-04-16\",\"2017-04-17\",\"2017-04-18\",\"2017-04-19\",\"2017-04-20\",\"2017-04-21\",\"2017-04-22\",\"2017-04-23\",\"2017-04-24\",\"2017-04-25\",\"2017-04-26\",\"2017-04-27\"],\"xaxis\":\"x\",\"y\":[4,84,113,106,87,3,6,117,130,102,106,101,7,2,74,120,103,104,72,3,8,130,114,96,120,84,2,3,100,105,142,130,103,2,5,118,141,126,94,118,4,4,117,109,143,122,81,1,3,80,125,127,132,77,5,6,139,123,160,149,138,11,1,174,172,179,166,161,8,11,198,215,209,132,80,4,134,123,121,108,78,5,6,124,120,127,117,95,8,2,110,113,135,138,102,14,4,140,135,126,125,70,3,2,134,130,91,69,84,1,1,91,91,98,74],\"yaxis\":\"y\",\"type\":\"scatter\"}],                        {\"template\":{\"data\":{\"histogram2dcontour\":[{\"type\":\"histogram2dcontour\",\"colorbar\":{\"outlinewidth\":0,\"ticks\":\"\"},\"colorscale\":[[0.0,\"#0d0887\"],[0.1111111111111111,\"#46039f\"],[0.2222222222222222,\"#7201a8\"],[0.3333333333333333,\"#9c179e\"],[0.4444444444444444,\"#bd3786\"],[0.5555555555555556,\"#d8576b\"],[0.6666666666666666,\"#ed7953\"],[0.7777777777777778,\"#fb9f3a\"],[0.8888888888888888,\"#fdca26\"],[1.0,\"#f0f921\"]]}],\"choropleth\":[{\"type\":\"choropleth\",\"colorbar\":{\"outlinewidth\":0,\"ticks\":\"\"}}],\"histogram2d\":[{\"type\":\"histogram2d\",\"colorbar\":{\"outlinewidth\":0,\"ticks\":\"\"},\"colorscale\":[[0.0,\"#0d0887\"],[0.1111111111111111,\"#46039f\"],[0.2222222222222222,\"#7201a8\"],[0.3333333333333333,\"#9c179e\"],[0.4444444444444444,\"#bd3786\"],[0.5555555555555556,\"#d8576b\"],[0.6666666666666666,\"#ed7953\"],[0.7777777777777778,\"#fb9f3a\"],[0.8888888888888888,\"#fdca26\"],[1.0,\"#f0f921\"]]}],\"heatmap\":[{\"type\":\"heatmap\",\"colorbar\":{\"outlinewidth\":0,\"ticks\":\"\"},\"colorscale\":[[0.0,\"#0d0887\"],[0.1111111111111111,\"#46039f\"],[0.2222222222222222,\"#7201a8\"],[0.3333333333333333,\"#9c179e\"],[0.4444444444444444,\"#bd3786\"],[0.5555555555555556,\"#d8576b\"],[0.6666666666666666,\"#ed7953\"],[0.7777777777777778,\"#fb9f3a\"],[0.8888888888888888,\"#fdca26\"],[1.0,\"#f0f921\"]]}],\"heatmapgl\":[{\"type\":\"heatmapgl\",\"colorbar\":{\"outlinewidth\":0,\"ticks\":\"\"},\"colorscale\":[[0.0,\"#0d0887\"],[0.1111111111111111,\"#46039f\"],[0.2222222222222222,\"#7201a8\"],[0.3333333333333333,\"#9c179e\"],[0.4444444444444444,\"#bd3786\"],[0.5555555555555556,\"#d8576b\"],[0.6666666666666666,\"#ed7953\"],[0.7777777777777778,\"#fb9f3a\"],[0.8888888888888888,\"#fdca26\"],[1.0,\"#f0f921\"]]}],\"contourcarpet\":[{\"type\":\"contourcarpet\",\"colorbar\":{\"outlinewidth\":0,\"ticks\":\"\"}}],\"contour\":[{\"type\":\"contour\",\"colorbar\":{\"outlinewidth\":0,\"ticks\":\"\"},\"colorscale\":[[0.0,\"#0d0887\"],[0.1111111111111111,\"#46039f\"],[0.2222222222222222,\"#7201a8\"],[0.3333333333333333,\"#9c179e\"],[0.4444444444444444,\"#bd3786\"],[0.5555555555555556,\"#d8576b\"],[0.6666666666666666,\"#ed7953\"],[0.7777777777777778,\"#fb9f3a\"],[0.8888888888888888,\"#fdca26\"],[1.0,\"#f0f921\"]]}],\"surface\":[{\"type\":\"surface\",\"colorbar\":{\"outlinewidth\":0,\"ticks\":\"\"},\"colorscale\":[[0.0,\"#0d0887\"],[0.1111111111111111,\"#46039f\"],[0.2222222222222222,\"#7201a8\"],[0.3333333333333333,\"#9c179e\"],[0.4444444444444444,\"#bd3786\"],[0.5555555555555556,\"#d8576b\"],[0.6666666666666666,\"#ed7953\"],[0.7777777777777778,\"#fb9f3a\"],[0.8888888888888888,\"#fdca26\"],[1.0,\"#f0f921\"]]}],\"mesh3d\":[{\"type\":\"mesh3d\",\"colorbar\":{\"outlinewidth\":0,\"ticks\":\"\"}}],\"scatter\":[{\"fillpattern\":{\"fillmode\":\"overlay\",\"size\":10,\"solidity\":0.2},\"type\":\"scatter\"}],\"parcoords\":[{\"type\":\"parcoords\",\"line\":{\"colorbar\":{\"outlinewidth\":0,\"ticks\":\"\"}}}],\"scatterpolargl\":[{\"type\":\"scatterpolargl\",\"marker\":{\"colorbar\":{\"outlinewidth\":0,\"ticks\":\"\"}}}],\"bar\":[{\"error_x\":{\"color\":\"#2a3f5f\"},\"error_y\":{\"color\":\"#2a3f5f\"},\"marker\":{\"line\":{\"color\":\"#E5ECF6\",\"width\":0.5},\"pattern\":{\"fillmode\":\"overlay\",\"size\":10,\"solidity\":0.2}},\"type\":\"bar\"}],\"scattergeo\":[{\"type\":\"scattergeo\",\"marker\":{\"colorbar\":{\"outlinewidth\":0,\"ticks\":\"\"}}}],\"scatterpolar\":[{\"type\":\"scatterpolar\",\"marker\":{\"colorbar\":{\"outlinewidth\":0,\"ticks\":\"\"}}}],\"histogram\":[{\"marker\":{\"pattern\":{\"fillmode\":\"overlay\",\"size\":10,\"solidity\":0.2}},\"type\":\"histogram\"}],\"scattergl\":[{\"type\":\"scattergl\",\"marker\":{\"colorbar\":{\"outlinewidth\":0,\"ticks\":\"\"}}}],\"scatter3d\":[{\"type\":\"scatter3d\",\"line\":{\"colorbar\":{\"outlinewidth\":0,\"ticks\":\"\"}},\"marker\":{\"colorbar\":{\"outlinewidth\":0,\"ticks\":\"\"}}}],\"scattermapbox\":[{\"type\":\"scattermapbox\",\"marker\":{\"colorbar\":{\"outlinewidth\":0,\"ticks\":\"\"}}}],\"scatterternary\":[{\"type\":\"scatterternary\",\"marker\":{\"colorbar\":{\"outlinewidth\":0,\"ticks\":\"\"}}}],\"scattercarpet\":[{\"type\":\"scattercarpet\",\"marker\":{\"colorbar\":{\"outlinewidth\":0,\"ticks\":\"\"}}}],\"carpet\":[{\"aaxis\":{\"endlinecolor\":\"#2a3f5f\",\"gridcolor\":\"white\",\"linecolor\":\"white\",\"minorgridcolor\":\"white\",\"startlinecolor\":\"#2a3f5f\"},\"baxis\":{\"endlinecolor\":\"#2a3f5f\",\"gridcolor\":\"white\",\"linecolor\":\"white\",\"minorgridcolor\":\"white\",\"startlinecolor\":\"#2a3f5f\"},\"type\":\"carpet\"}],\"table\":[{\"cells\":{\"fill\":{\"color\":\"#EBF0F8\"},\"line\":{\"color\":\"white\"}},\"header\":{\"fill\":{\"color\":\"#C8D4E3\"},\"line\":{\"color\":\"white\"}},\"type\":\"table\"}],\"barpolar\":[{\"marker\":{\"line\":{\"color\":\"#E5ECF6\",\"width\":0.5},\"pattern\":{\"fillmode\":\"overlay\",\"size\":10,\"solidity\":0.2}},\"type\":\"barpolar\"}],\"pie\":[{\"automargin\":true,\"type\":\"pie\"}]},\"layout\":{\"autotypenumbers\":\"strict\",\"colorway\":[\"#636efa\",\"#EF553B\",\"#00cc96\",\"#ab63fa\",\"#FFA15A\",\"#19d3f3\",\"#FF6692\",\"#B6E880\",\"#FF97FF\",\"#FECB52\"],\"font\":{\"color\":\"#2a3f5f\"},\"hovermode\":\"closest\",\"hoverlabel\":{\"align\":\"left\"},\"paper_bgcolor\":\"white\",\"plot_bgcolor\":\"#E5ECF6\",\"polar\":{\"bgcolor\":\"#E5ECF6\",\"angularaxis\":{\"gridcolor\":\"white\",\"linecolor\":\"white\",\"ticks\":\"\"},\"radialaxis\":{\"gridcolor\":\"white\",\"linecolor\":\"white\",\"ticks\":\"\"}},\"ternary\":{\"bgcolor\":\"#E5ECF6\",\"aaxis\":{\"gridcolor\":\"white\",\"linecolor\":\"white\",\"ticks\":\"\"},\"baxis\":{\"gridcolor\":\"white\",\"linecolor\":\"white\",\"ticks\":\"\"},\"caxis\":{\"gridcolor\":\"white\",\"linecolor\":\"white\",\"ticks\":\"\"}},\"coloraxis\":{\"colorbar\":{\"outlinewidth\":0,\"ticks\":\"\"}},\"colorscale\":{\"sequential\":[[0.0,\"#0d0887\"],[0.1111111111111111,\"#46039f\"],[0.2222222222222222,\"#7201a8\"],[0.3333333333333333,\"#9c179e\"],[0.4444444444444444,\"#bd3786\"],[0.5555555555555556,\"#d8576b\"],[0.6666666666666666,\"#ed7953\"],[0.7777777777777778,\"#fb9f3a\"],[0.8888888888888888,\"#fdca26\"],[1.0,\"#f0f921\"]],\"sequentialminus\":[[0.0,\"#0d0887\"],[0.1111111111111111,\"#46039f\"],[0.2222222222222222,\"#7201a8\"],[0.3333333333333333,\"#9c179e\"],[0.4444444444444444,\"#bd3786\"],[0.5555555555555556,\"#d8576b\"],[0.6666666666666666,\"#ed7953\"],[0.7777777777777778,\"#fb9f3a\"],[0.8888888888888888,\"#fdca26\"],[1.0,\"#f0f921\"]],\"diverging\":[[0,\"#8e0152\"],[0.1,\"#c51b7d\"],[0.2,\"#de77ae\"],[0.3,\"#f1b6da\"],[0.4,\"#fde0ef\"],[0.5,\"#f7f7f7\"],[0.6,\"#e6f5d0\"],[0.7,\"#b8e186\"],[0.8,\"#7fbc41\"],[0.9,\"#4d9221\"],[1,\"#276419\"]]},\"xaxis\":{\"gridcolor\":\"white\",\"linecolor\":\"white\",\"ticks\":\"\",\"title\":{\"standoff\":15},\"zerolinecolor\":\"white\",\"automargin\":true,\"zerolinewidth\":2},\"yaxis\":{\"gridcolor\":\"white\",\"linecolor\":\"white\",\"ticks\":\"\",\"title\":{\"standoff\":15},\"zerolinecolor\":\"white\",\"automargin\":true,\"zerolinewidth\":2},\"scene\":{\"xaxis\":{\"backgroundcolor\":\"#E5ECF6\",\"gridcolor\":\"white\",\"linecolor\":\"white\",\"showbackground\":true,\"ticks\":\"\",\"zerolinecolor\":\"white\",\"gridwidth\":2},\"yaxis\":{\"backgroundcolor\":\"#E5ECF6\",\"gridcolor\":\"white\",\"linecolor\":\"white\",\"showbackground\":true,\"ticks\":\"\",\"zerolinecolor\":\"white\",\"gridwidth\":2},\"zaxis\":{\"backgroundcolor\":\"#E5ECF6\",\"gridcolor\":\"white\",\"linecolor\":\"white\",\"showbackground\":true,\"ticks\":\"\",\"zerolinecolor\":\"white\",\"gridwidth\":2}},\"shapedefaults\":{\"line\":{\"color\":\"#2a3f5f\"}},\"annotationdefaults\":{\"arrowcolor\":\"#2a3f5f\",\"arrowhead\":0,\"arrowwidth\":1},\"geo\":{\"bgcolor\":\"white\",\"landcolor\":\"#E5ECF6\",\"subunitcolor\":\"white\",\"showland\":true,\"showlakes\":true,\"lakecolor\":\"white\"},\"title\":{\"x\":0.05},\"mapbox\":{\"style\":\"light\"}}},\"xaxis\":{\"anchor\":\"y\",\"domain\":[0.0,1.0],\"title\":{\"text\":\"index\"}},\"yaxis\":{\"anchor\":\"x\",\"domain\":[0.0,1.0],\"title\":{\"text\":\"Case Number\"}},\"legend\":{\"tracegroupgap\":0},\"margin\":{\"t\":60}},                        {\"responsive\": true}                    ).then(function(){\n",
       "                            \n",
       "var gd = document.getElementById('2e4250a9-b919-4e7c-85ce-da6387fddaf7');\n",
       "var x = new MutationObserver(function (mutations, observer) {{\n",
       "        var display = window.getComputedStyle(gd).display;\n",
       "        if (!display || display === 'none') {{\n",
       "            console.log([gd, 'removed!']);\n",
       "            Plotly.purge(gd);\n",
       "            observer.disconnect();\n",
       "        }}\n",
       "}});\n",
       "\n",
       "// Listen for the removal of the full notebook cells\n",
       "var notebookContainer = gd.closest('#notebook-container');\n",
       "if (notebookContainer) {{\n",
       "    x.observe(notebookContainer, {childList: true});\n",
       "}}\n",
       "\n",
       "// Listen for the clearing of the current output cell\n",
       "var outputEl = gd.closest('.output');\n",
       "if (outputEl) {{\n",
       "    x.observe(outputEl, {childList: true});\n",
       "}}\n",
       "\n",
       "                        })                };                });            </script>        </div>"
      ]
     },
     "metadata": {},
     "output_type": "display_data"
    }
   ],
   "source": [
    "fig = px.line(df_by_day, x=df_by_day.index, y=\"Case Number\")\n",
    "fig.show()"
   ]
  },
  {
   "cell_type": "code",
   "execution_count": 56,
   "id": "e4c2421d",
   "metadata": {},
   "outputs": [
    {
     "data": {
      "text/html": [
       "<div>\n",
       "<style scoped>\n",
       "    .dataframe tbody tr th:only-of-type {\n",
       "        vertical-align: middle;\n",
       "    }\n",
       "\n",
       "    .dataframe tbody tr th {\n",
       "        vertical-align: top;\n",
       "    }\n",
       "\n",
       "    .dataframe thead th {\n",
       "        text-align: right;\n",
       "    }\n",
       "</style>\n",
       "<table border=\"1\" class=\"dataframe\">\n",
       "  <thead>\n",
       "    <tr style=\"text-align: right;\">\n",
       "      <th></th>\n",
       "      <th>Case Number</th>\n",
       "      <th>Subject</th>\n",
       "      <th>Date Created</th>\n",
       "      <th>Date Closed</th>\n",
       "      <th>Origin</th>\n",
       "      <th>Priority</th>\n",
       "      <th>Team</th>\n",
       "      <th>Case Type</th>\n",
       "      <th>SLA</th>\n",
       "      <th>Problem Statement</th>\n",
       "      <th>Product</th>\n",
       "      <th>Product Area</th>\n",
       "      <th>Product Category</th>\n",
       "      <th>Product Type</th>\n",
       "      <th>Jurisdiction</th>\n",
       "      <th>Resolution</th>\n",
       "      <th>KB #</th>\n",
       "      <th>KB Title</th>\n",
       "      <th>Date</th>\n",
       "    </tr>\n",
       "  </thead>\n",
       "  <tbody>\n",
       "    <tr>\n",
       "      <th>0</th>\n",
       "      <td>204977</td>\n",
       "      <td>Efile Acceptance</td>\n",
       "      <td>2017-01-02</td>\n",
       "      <td>2017-01-03</td>\n",
       "      <td>Web</td>\n",
       "      <td>Medium</td>\n",
       "      <td>Tax Preparation</td>\n",
       "      <td>Efile</td>\n",
       "      <td>Platinum</td>\n",
       "      <td>We transmitted a Michigan return still have no...</td>\n",
       "      <td>Compliance</td>\n",
       "      <td>Returns / Reports</td>\n",
       "      <td>NaN</td>\n",
       "      <td>NaN</td>\n",
       "      <td>US.MI</td>\n",
       "      <td>Answer exists KB</td>\n",
       "      <td>041324813494120</td>\n",
       "      <td>How to understand the Transmission Monitor</td>\n",
       "      <td>2017-01-02</td>\n",
       "    </tr>\n",
       "    <tr>\n",
       "      <th>1</th>\n",
       "      <td>204979</td>\n",
       "      <td>Oregon STAT help: Previous Case 203787 Client ...</td>\n",
       "      <td>2017-01-02</td>\n",
       "      <td>2017-01-04</td>\n",
       "      <td>Web</td>\n",
       "      <td>High</td>\n",
       "      <td>Tax Preparation</td>\n",
       "      <td>Question / How To</td>\n",
       "      <td>Silver</td>\n",
       "      <td>Oregon STAT help: Previous Case 203787 Client ...</td>\n",
       "      <td>Provision</td>\n",
       "      <td>State</td>\n",
       "      <td>NaN</td>\n",
       "      <td>NaN</td>\n",
       "      <td>US.OR</td>\n",
       "      <td>Customer no longer needs assistance</td>\n",
       "      <td>NaN</td>\n",
       "      <td>NaN</td>\n",
       "      <td>2017-01-02</td>\n",
       "    </tr>\n",
       "    <tr>\n",
       "      <th>2</th>\n",
       "      <td>204980</td>\n",
       "      <td>Data map incorrectly pulling in values</td>\n",
       "      <td>2017-01-02</td>\n",
       "      <td>2017-01-03</td>\n",
       "      <td>Web</td>\n",
       "      <td>Medium</td>\n",
       "      <td>Tax Preparation</td>\n",
       "      <td>Question / How To</td>\n",
       "      <td>Silver</td>\n",
       "      <td>Corptax Office Import - Credit Account imports...</td>\n",
       "      <td>Office - Excel Add-In</td>\n",
       "      <td>Import / Export</td>\n",
       "      <td>NaN</td>\n",
       "      <td>NaN</td>\n",
       "      <td>US</td>\n",
       "      <td>Answer exists KB</td>\n",
       "      <td>041414821333274</td>\n",
       "      <td>Corptax® Office - How to place an IF formula i...</td>\n",
       "      <td>2017-01-02</td>\n",
       "    </tr>\n",
       "    <tr>\n",
       "      <th>3</th>\n",
       "      <td>204981</td>\n",
       "      <td>The New Corptax Connect Website is not properl...</td>\n",
       "      <td>2017-01-02</td>\n",
       "      <td>2017-01-03</td>\n",
       "      <td>Web</td>\n",
       "      <td>High</td>\n",
       "      <td>Tax Preparation</td>\n",
       "      <td>Problem / Error</td>\n",
       "      <td>Silver</td>\n",
       "      <td>Searches can't be performed on the new system....</td>\n",
       "      <td>Websites</td>\n",
       "      <td>Connections (https://connect.corptax.com)</td>\n",
       "      <td>Error Message</td>\n",
       "      <td>NaN</td>\n",
       "      <td>NaN</td>\n",
       "      <td>Answer exists KB</td>\n",
       "      <td>161216104028927</td>\n",
       "      <td>Connections Error - Uh Oh  something went wron...</td>\n",
       "      <td>2017-01-02</td>\n",
       "    </tr>\n",
       "    <tr>\n",
       "      <th>4</th>\n",
       "      <td>204986</td>\n",
       "      <td>LD400 is not reflecting a temporary adjustment</td>\n",
       "      <td>2017-01-03</td>\n",
       "      <td>2017-01-05</td>\n",
       "      <td>E-mail</td>\n",
       "      <td>Medium</td>\n",
       "      <td>Tax Preparation</td>\n",
       "      <td>Problem / Error</td>\n",
       "      <td>Platinum</td>\n",
       "      <td>LD400 is not reflecting a temporary adjustment</td>\n",
       "      <td>Compliance</td>\n",
       "      <td>Returns / Reports</td>\n",
       "      <td>NaN</td>\n",
       "      <td>NaN</td>\n",
       "      <td>US</td>\n",
       "      <td>Answer exists KB</td>\n",
       "      <td>041622907012748</td>\n",
       "      <td>Adjustments do not flow to LD400 workpaper and...</td>\n",
       "      <td>2017-01-03</td>\n",
       "    </tr>\n",
       "  </tbody>\n",
       "</table>\n",
       "</div>"
      ],
      "text/plain": [
       "   Case Number                                            Subject  \\\n",
       "0       204977                                   Efile Acceptance   \n",
       "1       204979  Oregon STAT help: Previous Case 203787 Client ...   \n",
       "2       204980             Data map incorrectly pulling in values   \n",
       "3       204981  The New Corptax Connect Website is not properl...   \n",
       "4       204986     LD400 is not reflecting a temporary adjustment   \n",
       "\n",
       "  Date Created Date Closed  Origin Priority             Team  \\\n",
       "0   2017-01-02  2017-01-03     Web   Medium  Tax Preparation   \n",
       "1   2017-01-02  2017-01-04     Web     High  Tax Preparation   \n",
       "2   2017-01-02  2017-01-03     Web   Medium  Tax Preparation   \n",
       "3   2017-01-02  2017-01-03     Web     High  Tax Preparation   \n",
       "4   2017-01-03  2017-01-05  E-mail   Medium  Tax Preparation   \n",
       "\n",
       "           Case Type       SLA  \\\n",
       "0              Efile  Platinum   \n",
       "1  Question / How To    Silver   \n",
       "2  Question / How To    Silver   \n",
       "3    Problem / Error    Silver   \n",
       "4    Problem / Error  Platinum   \n",
       "\n",
       "                                   Problem Statement                Product  \\\n",
       "0  We transmitted a Michigan return still have no...             Compliance   \n",
       "1  Oregon STAT help: Previous Case 203787 Client ...              Provision   \n",
       "2  Corptax Office Import - Credit Account imports...  Office - Excel Add-In   \n",
       "3  Searches can't be performed on the new system....               Websites   \n",
       "4     LD400 is not reflecting a temporary adjustment             Compliance   \n",
       "\n",
       "                                Product Area Product Category Product Type  \\\n",
       "0                          Returns / Reports              NaN          NaN   \n",
       "1                                      State              NaN          NaN   \n",
       "2                            Import / Export              NaN          NaN   \n",
       "3  Connections (https://connect.corptax.com)    Error Message          NaN   \n",
       "4                          Returns / Reports              NaN          NaN   \n",
       "\n",
       "  Jurisdiction                           Resolution             KB #  \\\n",
       "0        US.MI                     Answer exists KB  041324813494120   \n",
       "1        US.OR  Customer no longer needs assistance              NaN   \n",
       "2           US                     Answer exists KB  041414821333274   \n",
       "3          NaN                     Answer exists KB  161216104028927   \n",
       "4           US                     Answer exists KB  041622907012748   \n",
       "\n",
       "                                            KB Title       Date  \n",
       "0         How to understand the Transmission Monitor 2017-01-02  \n",
       "1                                                NaN 2017-01-02  \n",
       "2  Corptax® Office - How to place an IF formula i... 2017-01-02  \n",
       "3  Connections Error - Uh Oh  something went wron... 2017-01-02  \n",
       "4  Adjustments do not flow to LD400 workpaper and... 2017-01-03  "
      ]
     },
     "execution_count": 56,
     "metadata": {},
     "output_type": "execute_result"
    }
   ],
   "source": [
    "df1.head()"
   ]
  },
  {
   "cell_type": "code",
   "execution_count": null,
   "id": "0eae725c",
   "metadata": {},
   "outputs": [],
   "source": [
    "co = invoice.groupby('Invoice Date')['revenue'].sum().reset_index().set_index('Invoice Date').asfreq('M')"
   ]
  },
  {
   "cell_type": "code",
   "execution_count": 63,
   "id": "2b0280c3",
   "metadata": {},
   "outputs": [
    {
     "data": {
      "text/html": [
       "<div>\n",
       "<style scoped>\n",
       "    .dataframe tbody tr th:only-of-type {\n",
       "        vertical-align: middle;\n",
       "    }\n",
       "\n",
       "    .dataframe tbody tr th {\n",
       "        vertical-align: top;\n",
       "    }\n",
       "\n",
       "    .dataframe thead th {\n",
       "        text-align: right;\n",
       "    }\n",
       "</style>\n",
       "<table border=\"1\" class=\"dataframe\">\n",
       "  <thead>\n",
       "    <tr style=\"text-align: right;\">\n",
       "      <th></th>\n",
       "      <th>Case Number</th>\n",
       "    </tr>\n",
       "    <tr>\n",
       "      <th>Date</th>\n",
       "      <th></th>\n",
       "    </tr>\n",
       "  </thead>\n",
       "  <tbody>\n",
       "    <tr>\n",
       "      <th>2017-01-31</th>\n",
       "      <td>105</td>\n",
       "    </tr>\n",
       "    <tr>\n",
       "      <th>2017-02-28</th>\n",
       "      <td>123</td>\n",
       "    </tr>\n",
       "    <tr>\n",
       "      <th>2017-03-31</th>\n",
       "      <td>95</td>\n",
       "    </tr>\n",
       "  </tbody>\n",
       "</table>\n",
       "</div>"
      ],
      "text/plain": [
       "            Case Number\n",
       "Date                   \n",
       "2017-01-31          105\n",
       "2017-02-28          123\n",
       "2017-03-31           95"
      ]
     },
     "execution_count": 63,
     "metadata": {},
     "output_type": "execute_result"
    }
   ],
   "source": [
    "df1.groupby('Date')[\"Case Number\"].count().reset_index().set_index('Date').asfreq('M')"
   ]
  },
  {
   "cell_type": "code",
   "execution_count": null,
   "id": "ae2e6978",
   "metadata": {},
   "outputs": [],
   "source": []
  },
  {
   "cell_type": "code",
   "execution_count": 16,
   "id": "3532c98c",
   "metadata": {},
   "outputs": [
    {
     "data": {
      "text/html": [
       "<div>\n",
       "<style scoped>\n",
       "    .dataframe tbody tr th:only-of-type {\n",
       "        vertical-align: middle;\n",
       "    }\n",
       "\n",
       "    .dataframe tbody tr th {\n",
       "        vertical-align: top;\n",
       "    }\n",
       "\n",
       "    .dataframe thead th {\n",
       "        text-align: right;\n",
       "    }\n",
       "</style>\n",
       "<table border=\"1\" class=\"dataframe\">\n",
       "  <thead>\n",
       "    <tr style=\"text-align: right;\">\n",
       "      <th></th>\n",
       "      <th>SLA</th>\n",
       "      <th>Case Number</th>\n",
       "      <th>Subject</th>\n",
       "      <th>Date Created</th>\n",
       "      <th>Date Closed</th>\n",
       "      <th>Origin</th>\n",
       "      <th>Priority</th>\n",
       "      <th>Team</th>\n",
       "      <th>Case Type</th>\n",
       "      <th>Problem Statement</th>\n",
       "      <th>Product</th>\n",
       "      <th>Product Area</th>\n",
       "      <th>Product Category</th>\n",
       "      <th>Product Type</th>\n",
       "      <th>Jurisdiction</th>\n",
       "      <th>Resolution</th>\n",
       "      <th>KB #</th>\n",
       "      <th>KB Title</th>\n",
       "    </tr>\n",
       "  </thead>\n",
       "  <tbody>\n",
       "    <tr>\n",
       "      <th>0</th>\n",
       "      <td>Billable Support</td>\n",
       "      <td>2</td>\n",
       "      <td>2</td>\n",
       "      <td>2</td>\n",
       "      <td>2</td>\n",
       "      <td>2</td>\n",
       "      <td>2</td>\n",
       "      <td>2</td>\n",
       "      <td>2</td>\n",
       "      <td>2</td>\n",
       "      <td>1</td>\n",
       "      <td>1</td>\n",
       "      <td>0</td>\n",
       "      <td>0</td>\n",
       "      <td>0</td>\n",
       "      <td>2</td>\n",
       "      <td>0</td>\n",
       "      <td>0</td>\n",
       "    </tr>\n",
       "    <tr>\n",
       "      <th>1</th>\n",
       "      <td>Client Loss</td>\n",
       "      <td>175</td>\n",
       "      <td>175</td>\n",
       "      <td>175</td>\n",
       "      <td>175</td>\n",
       "      <td>175</td>\n",
       "      <td>175</td>\n",
       "      <td>175</td>\n",
       "      <td>174</td>\n",
       "      <td>172</td>\n",
       "      <td>175</td>\n",
       "      <td>175</td>\n",
       "      <td>129</td>\n",
       "      <td>89</td>\n",
       "      <td>22</td>\n",
       "      <td>171</td>\n",
       "      <td>19</td>\n",
       "      <td>19</td>\n",
       "    </tr>\n",
       "    <tr>\n",
       "      <th>2</th>\n",
       "      <td>Default</td>\n",
       "      <td>1</td>\n",
       "      <td>1</td>\n",
       "      <td>1</td>\n",
       "      <td>1</td>\n",
       "      <td>1</td>\n",
       "      <td>1</td>\n",
       "      <td>1</td>\n",
       "      <td>1</td>\n",
       "      <td>1</td>\n",
       "      <td>1</td>\n",
       "      <td>1</td>\n",
       "      <td>1</td>\n",
       "      <td>0</td>\n",
       "      <td>1</td>\n",
       "      <td>1</td>\n",
       "      <td>1</td>\n",
       "      <td>1</td>\n",
       "    </tr>\n",
       "    <tr>\n",
       "      <th>3</th>\n",
       "      <td>Gold</td>\n",
       "      <td>7426</td>\n",
       "      <td>7426</td>\n",
       "      <td>7426</td>\n",
       "      <td>7423</td>\n",
       "      <td>7426</td>\n",
       "      <td>7426</td>\n",
       "      <td>7426</td>\n",
       "      <td>7283</td>\n",
       "      <td>7290</td>\n",
       "      <td>7424</td>\n",
       "      <td>7421</td>\n",
       "      <td>2436</td>\n",
       "      <td>339</td>\n",
       "      <td>3918</td>\n",
       "      <td>7280</td>\n",
       "      <td>1848</td>\n",
       "      <td>1756</td>\n",
       "    </tr>\n",
       "    <tr>\n",
       "      <th>4</th>\n",
       "      <td>Platinum</td>\n",
       "      <td>45219</td>\n",
       "      <td>45219</td>\n",
       "      <td>45219</td>\n",
       "      <td>45214</td>\n",
       "      <td>45219</td>\n",
       "      <td>45219</td>\n",
       "      <td>45219</td>\n",
       "      <td>44523</td>\n",
       "      <td>44523</td>\n",
       "      <td>45195</td>\n",
       "      <td>45174</td>\n",
       "      <td>11944</td>\n",
       "      <td>1278</td>\n",
       "      <td>31241</td>\n",
       "      <td>44490</td>\n",
       "      <td>11449</td>\n",
       "      <td>11125</td>\n",
       "    </tr>\n",
       "    <tr>\n",
       "      <th>5</th>\n",
       "      <td>Silver</td>\n",
       "      <td>136326</td>\n",
       "      <td>136325</td>\n",
       "      <td>136326</td>\n",
       "      <td>136288</td>\n",
       "      <td>136326</td>\n",
       "      <td>136326</td>\n",
       "      <td>136324</td>\n",
       "      <td>133576</td>\n",
       "      <td>133663</td>\n",
       "      <td>136231</td>\n",
       "      <td>136164</td>\n",
       "      <td>32600</td>\n",
       "      <td>3376</td>\n",
       "      <td>86901</td>\n",
       "      <td>134136</td>\n",
       "      <td>38572</td>\n",
       "      <td>36950</td>\n",
       "    </tr>\n",
       "  </tbody>\n",
       "</table>\n",
       "</div>"
      ],
      "text/plain": [
       "                SLA  Case Number  Subject  Date Created  Date Closed  Origin  \\\n",
       "0  Billable Support            2        2             2            2       2   \n",
       "1       Client Loss          175      175           175          175     175   \n",
       "2           Default            1        1             1            1       1   \n",
       "3              Gold         7426     7426          7426         7423    7426   \n",
       "4          Platinum        45219    45219         45219        45214   45219   \n",
       "5            Silver       136326   136325        136326       136288  136326   \n",
       "\n",
       "   Priority    Team  Case Type  Problem Statement  Product  Product Area  \\\n",
       "0         2       2          2                  2        1             1   \n",
       "1       175     175        174                172      175           175   \n",
       "2         1       1          1                  1        1             1   \n",
       "3      7426    7426       7283               7290     7424          7421   \n",
       "4     45219   45219      44523              44523    45195         45174   \n",
       "5    136326  136324     133576             133663   136231        136164   \n",
       "\n",
       "   Product Category  Product Type  Jurisdiction  Resolution   KB #  KB Title  \n",
       "0                 0             0             0           2      0         0  \n",
       "1               129            89            22         171     19        19  \n",
       "2                 1             0             1           1      1         1  \n",
       "3              2436           339          3918        7280   1848      1756  \n",
       "4             11944          1278         31241       44490  11449     11125  \n",
       "5             32600          3376         86901      134136  38572     36950  "
      ]
     },
     "execution_count": 16,
     "metadata": {},
     "output_type": "execute_result"
    }
   ],
   "source": [
    "df.groupby(['SLA']).count().reset_index()"
   ]
  },
  {
   "cell_type": "code",
   "execution_count": 17,
   "id": "9e8a76cb",
   "metadata": {},
   "outputs": [
    {
     "data": {
      "text/html": [
       "<div>\n",
       "<style scoped>\n",
       "    .dataframe tbody tr th:only-of-type {\n",
       "        vertical-align: middle;\n",
       "    }\n",
       "\n",
       "    .dataframe tbody tr th {\n",
       "        vertical-align: top;\n",
       "    }\n",
       "\n",
       "    .dataframe thead th {\n",
       "        text-align: right;\n",
       "    }\n",
       "</style>\n",
       "<table border=\"1\" class=\"dataframe\">\n",
       "  <thead>\n",
       "    <tr style=\"text-align: right;\">\n",
       "      <th></th>\n",
       "      <th>Product</th>\n",
       "      <th>Case Number</th>\n",
       "      <th>Subject</th>\n",
       "      <th>Date Created</th>\n",
       "      <th>Date Closed</th>\n",
       "      <th>Origin</th>\n",
       "      <th>Priority</th>\n",
       "      <th>Team</th>\n",
       "      <th>Case Type</th>\n",
       "      <th>SLA</th>\n",
       "      <th>Problem Statement</th>\n",
       "      <th>Product Area</th>\n",
       "      <th>Product Category</th>\n",
       "      <th>Product Type</th>\n",
       "      <th>Jurisdiction</th>\n",
       "      <th>Resolution</th>\n",
       "      <th>KB #</th>\n",
       "      <th>KB Title</th>\n",
       "    </tr>\n",
       "  </thead>\n",
       "  <tbody>\n",
       "    <tr>\n",
       "      <th>0</th>\n",
       "      <td>Application Hosting</td>\n",
       "      <td>3440</td>\n",
       "      <td>3440</td>\n",
       "      <td>3440</td>\n",
       "      <td>3440</td>\n",
       "      <td>3440</td>\n",
       "      <td>3440</td>\n",
       "      <td>3440</td>\n",
       "      <td>3376</td>\n",
       "      <td>3440</td>\n",
       "      <td>3378</td>\n",
       "      <td>3438</td>\n",
       "      <td>2455</td>\n",
       "      <td>238</td>\n",
       "      <td>644</td>\n",
       "      <td>3424</td>\n",
       "      <td>220</td>\n",
       "      <td>216</td>\n",
       "    </tr>\n",
       "    <tr>\n",
       "      <th>1</th>\n",
       "      <td>Calendar</td>\n",
       "      <td>768</td>\n",
       "      <td>768</td>\n",
       "      <td>768</td>\n",
       "      <td>768</td>\n",
       "      <td>768</td>\n",
       "      <td>768</td>\n",
       "      <td>768</td>\n",
       "      <td>747</td>\n",
       "      <td>768</td>\n",
       "      <td>748</td>\n",
       "      <td>768</td>\n",
       "      <td>104</td>\n",
       "      <td>0</td>\n",
       "      <td>277</td>\n",
       "      <td>763</td>\n",
       "      <td>309</td>\n",
       "      <td>297</td>\n",
       "    </tr>\n",
       "    <tr>\n",
       "      <th>2</th>\n",
       "      <td>Claims</td>\n",
       "      <td>57</td>\n",
       "      <td>57</td>\n",
       "      <td>57</td>\n",
       "      <td>57</td>\n",
       "      <td>57</td>\n",
       "      <td>57</td>\n",
       "      <td>57</td>\n",
       "      <td>57</td>\n",
       "      <td>57</td>\n",
       "      <td>57</td>\n",
       "      <td>57</td>\n",
       "      <td>0</td>\n",
       "      <td>0</td>\n",
       "      <td>3</td>\n",
       "      <td>56</td>\n",
       "      <td>8</td>\n",
       "      <td>8</td>\n",
       "    </tr>\n",
       "    <tr>\n",
       "      <th>3</th>\n",
       "      <td>Compliance</td>\n",
       "      <td>110216</td>\n",
       "      <td>110215</td>\n",
       "      <td>110216</td>\n",
       "      <td>110203</td>\n",
       "      <td>110216</td>\n",
       "      <td>110216</td>\n",
       "      <td>110216</td>\n",
       "      <td>108047</td>\n",
       "      <td>110201</td>\n",
       "      <td>108092</td>\n",
       "      <td>110191</td>\n",
       "      <td>14250</td>\n",
       "      <td>1903</td>\n",
       "      <td>86817</td>\n",
       "      <td>109191</td>\n",
       "      <td>33451</td>\n",
       "      <td>31987</td>\n",
       "    </tr>\n",
       "    <tr>\n",
       "      <th>4</th>\n",
       "      <td>Data Exchange Manager</td>\n",
       "      <td>570</td>\n",
       "      <td>570</td>\n",
       "      <td>570</td>\n",
       "      <td>570</td>\n",
       "      <td>570</td>\n",
       "      <td>570</td>\n",
       "      <td>570</td>\n",
       "      <td>560</td>\n",
       "      <td>570</td>\n",
       "      <td>559</td>\n",
       "      <td>568</td>\n",
       "      <td>4</td>\n",
       "      <td>0</td>\n",
       "      <td>133</td>\n",
       "      <td>566</td>\n",
       "      <td>89</td>\n",
       "      <td>79</td>\n",
       "    </tr>\n",
       "    <tr>\n",
       "      <th>5</th>\n",
       "      <td>International (US)</td>\n",
       "      <td>28604</td>\n",
       "      <td>28604</td>\n",
       "      <td>28604</td>\n",
       "      <td>28583</td>\n",
       "      <td>28604</td>\n",
       "      <td>28604</td>\n",
       "      <td>28602</td>\n",
       "      <td>27940</td>\n",
       "      <td>28604</td>\n",
       "      <td>27971</td>\n",
       "      <td>28589</td>\n",
       "      <td>12364</td>\n",
       "      <td>24</td>\n",
       "      <td>13984</td>\n",
       "      <td>27972</td>\n",
       "      <td>9188</td>\n",
       "      <td>8967</td>\n",
       "    </tr>\n",
       "    <tr>\n",
       "      <th>6</th>\n",
       "      <td>ODBC Driver - Corptax</td>\n",
       "      <td>300</td>\n",
       "      <td>300</td>\n",
       "      <td>300</td>\n",
       "      <td>300</td>\n",
       "      <td>300</td>\n",
       "      <td>300</td>\n",
       "      <td>300</td>\n",
       "      <td>278</td>\n",
       "      <td>300</td>\n",
       "      <td>277</td>\n",
       "      <td>300</td>\n",
       "      <td>0</td>\n",
       "      <td>0</td>\n",
       "      <td>151</td>\n",
       "      <td>296</td>\n",
       "      <td>56</td>\n",
       "      <td>54</td>\n",
       "    </tr>\n",
       "    <tr>\n",
       "      <th>7</th>\n",
       "      <td>Office - Excel Add-In</td>\n",
       "      <td>3799</td>\n",
       "      <td>3799</td>\n",
       "      <td>3799</td>\n",
       "      <td>3797</td>\n",
       "      <td>3799</td>\n",
       "      <td>3799</td>\n",
       "      <td>3799</td>\n",
       "      <td>3705</td>\n",
       "      <td>3799</td>\n",
       "      <td>3708</td>\n",
       "      <td>3795</td>\n",
       "      <td>196</td>\n",
       "      <td>95</td>\n",
       "      <td>2155</td>\n",
       "      <td>3762</td>\n",
       "      <td>1177</td>\n",
       "      <td>1143</td>\n",
       "    </tr>\n",
       "    <tr>\n",
       "      <th>8</th>\n",
       "      <td>Other</td>\n",
       "      <td>798</td>\n",
       "      <td>798</td>\n",
       "      <td>798</td>\n",
       "      <td>798</td>\n",
       "      <td>798</td>\n",
       "      <td>798</td>\n",
       "      <td>798</td>\n",
       "      <td>748</td>\n",
       "      <td>797</td>\n",
       "      <td>772</td>\n",
       "      <td>795</td>\n",
       "      <td>203</td>\n",
       "      <td>14</td>\n",
       "      <td>251</td>\n",
       "      <td>767</td>\n",
       "      <td>96</td>\n",
       "      <td>91</td>\n",
       "    </tr>\n",
       "    <tr>\n",
       "      <th>9</th>\n",
       "      <td>Partnership / S Corp / Pass-Through</td>\n",
       "      <td>9069</td>\n",
       "      <td>9069</td>\n",
       "      <td>9069</td>\n",
       "      <td>9062</td>\n",
       "      <td>9069</td>\n",
       "      <td>9069</td>\n",
       "      <td>9069</td>\n",
       "      <td>8915</td>\n",
       "      <td>9068</td>\n",
       "      <td>8922</td>\n",
       "      <td>9062</td>\n",
       "      <td>567</td>\n",
       "      <td>24</td>\n",
       "      <td>8628</td>\n",
       "      <td>8992</td>\n",
       "      <td>2191</td>\n",
       "      <td>2101</td>\n",
       "    </tr>\n",
       "    <tr>\n",
       "      <th>10</th>\n",
       "      <td>Provision</td>\n",
       "      <td>9918</td>\n",
       "      <td>9918</td>\n",
       "      <td>9918</td>\n",
       "      <td>9917</td>\n",
       "      <td>9918</td>\n",
       "      <td>9918</td>\n",
       "      <td>9918</td>\n",
       "      <td>9670</td>\n",
       "      <td>9918</td>\n",
       "      <td>9677</td>\n",
       "      <td>9910</td>\n",
       "      <td>1328</td>\n",
       "      <td>1137</td>\n",
       "      <td>5875</td>\n",
       "      <td>9850</td>\n",
       "      <td>2591</td>\n",
       "      <td>2470</td>\n",
       "    </tr>\n",
       "    <tr>\n",
       "      <th>11</th>\n",
       "      <td>Sales Tax</td>\n",
       "      <td>4338</td>\n",
       "      <td>4338</td>\n",
       "      <td>4338</td>\n",
       "      <td>4338</td>\n",
       "      <td>4338</td>\n",
       "      <td>4338</td>\n",
       "      <td>4338</td>\n",
       "      <td>4314</td>\n",
       "      <td>4338</td>\n",
       "      <td>4314</td>\n",
       "      <td>4338</td>\n",
       "      <td>12</td>\n",
       "      <td>0</td>\n",
       "      <td>2611</td>\n",
       "      <td>4318</td>\n",
       "      <td>1121</td>\n",
       "      <td>1064</td>\n",
       "    </tr>\n",
       "    <tr>\n",
       "      <th>12</th>\n",
       "      <td>Web Services</td>\n",
       "      <td>199</td>\n",
       "      <td>199</td>\n",
       "      <td>199</td>\n",
       "      <td>199</td>\n",
       "      <td>199</td>\n",
       "      <td>199</td>\n",
       "      <td>199</td>\n",
       "      <td>187</td>\n",
       "      <td>199</td>\n",
       "      <td>187</td>\n",
       "      <td>198</td>\n",
       "      <td>2</td>\n",
       "      <td>0</td>\n",
       "      <td>35</td>\n",
       "      <td>198</td>\n",
       "      <td>24</td>\n",
       "      <td>22</td>\n",
       "    </tr>\n",
       "    <tr>\n",
       "      <th>13</th>\n",
       "      <td>Websites</td>\n",
       "      <td>16459</td>\n",
       "      <td>16459</td>\n",
       "      <td>16459</td>\n",
       "      <td>16458</td>\n",
       "      <td>16459</td>\n",
       "      <td>16459</td>\n",
       "      <td>16459</td>\n",
       "      <td>16419</td>\n",
       "      <td>16439</td>\n",
       "      <td>16390</td>\n",
       "      <td>16435</td>\n",
       "      <td>15397</td>\n",
       "      <td>1618</td>\n",
       "      <td>355</td>\n",
       "      <td>15323</td>\n",
       "      <td>1291</td>\n",
       "      <td>1282</td>\n",
       "    </tr>\n",
       "    <tr>\n",
       "      <th>14</th>\n",
       "      <td>WorkSpace</td>\n",
       "      <td>529</td>\n",
       "      <td>529</td>\n",
       "      <td>529</td>\n",
       "      <td>529</td>\n",
       "      <td>529</td>\n",
       "      <td>529</td>\n",
       "      <td>529</td>\n",
       "      <td>520</td>\n",
       "      <td>529</td>\n",
       "      <td>520</td>\n",
       "      <td>529</td>\n",
       "      <td>256</td>\n",
       "      <td>29</td>\n",
       "      <td>98</td>\n",
       "      <td>526</td>\n",
       "      <td>55</td>\n",
       "      <td>48</td>\n",
       "    </tr>\n",
       "  </tbody>\n",
       "</table>\n",
       "</div>"
      ],
      "text/plain": [
       "                                Product  Case Number  Subject  Date Created  \\\n",
       "0                   Application Hosting         3440     3440          3440   \n",
       "1                              Calendar          768      768           768   \n",
       "2                                Claims           57       57            57   \n",
       "3                            Compliance       110216   110215        110216   \n",
       "4                 Data Exchange Manager          570      570           570   \n",
       "5                    International (US)        28604    28604         28604   \n",
       "6                 ODBC Driver - Corptax          300      300           300   \n",
       "7                 Office - Excel Add-In         3799     3799          3799   \n",
       "8                                 Other          798      798           798   \n",
       "9   Partnership / S Corp / Pass-Through         9069     9069          9069   \n",
       "10                            Provision         9918     9918          9918   \n",
       "11                            Sales Tax         4338     4338          4338   \n",
       "12                         Web Services          199      199           199   \n",
       "13                             Websites        16459    16459         16459   \n",
       "14                            WorkSpace          529      529           529   \n",
       "\n",
       "    Date Closed  Origin  Priority    Team  Case Type     SLA  \\\n",
       "0          3440    3440      3440    3440       3376    3440   \n",
       "1           768     768       768     768        747     768   \n",
       "2            57      57        57      57         57      57   \n",
       "3        110203  110216    110216  110216     108047  110201   \n",
       "4           570     570       570     570        560     570   \n",
       "5         28583   28604     28604   28602      27940   28604   \n",
       "6           300     300       300     300        278     300   \n",
       "7          3797    3799      3799    3799       3705    3799   \n",
       "8           798     798       798     798        748     797   \n",
       "9          9062    9069      9069    9069       8915    9068   \n",
       "10         9917    9918      9918    9918       9670    9918   \n",
       "11         4338    4338      4338    4338       4314    4338   \n",
       "12          199     199       199     199        187     199   \n",
       "13        16458   16459     16459   16459      16419   16439   \n",
       "14          529     529       529     529        520     529   \n",
       "\n",
       "    Problem Statement  Product Area  Product Category  Product Type  \\\n",
       "0                3378          3438              2455           238   \n",
       "1                 748           768               104             0   \n",
       "2                  57            57                 0             0   \n",
       "3              108092        110191             14250          1903   \n",
       "4                 559           568                 4             0   \n",
       "5               27971         28589             12364            24   \n",
       "6                 277           300                 0             0   \n",
       "7                3708          3795               196            95   \n",
       "8                 772           795               203            14   \n",
       "9                8922          9062               567            24   \n",
       "10               9677          9910              1328          1137   \n",
       "11               4314          4338                12             0   \n",
       "12                187           198                 2             0   \n",
       "13              16390         16435             15397          1618   \n",
       "14                520           529               256            29   \n",
       "\n",
       "    Jurisdiction  Resolution   KB #  KB Title  \n",
       "0            644        3424    220       216  \n",
       "1            277         763    309       297  \n",
       "2              3          56      8         8  \n",
       "3          86817      109191  33451     31987  \n",
       "4            133         566     89        79  \n",
       "5          13984       27972   9188      8967  \n",
       "6            151         296     56        54  \n",
       "7           2155        3762   1177      1143  \n",
       "8            251         767     96        91  \n",
       "9           8628        8992   2191      2101  \n",
       "10          5875        9850   2591      2470  \n",
       "11          2611        4318   1121      1064  \n",
       "12            35         198     24        22  \n",
       "13           355       15323   1291      1282  \n",
       "14            98         526     55        48  "
      ]
     },
     "execution_count": 17,
     "metadata": {},
     "output_type": "execute_result"
    }
   ],
   "source": [
    "df.groupby(['Product']).count().reset_index()"
   ]
  },
  {
   "cell_type": "code",
   "execution_count": null,
   "id": "0057bde9",
   "metadata": {},
   "outputs": [],
   "source": []
  },
  {
   "cell_type": "code",
   "execution_count": null,
   "id": "c66ecce8",
   "metadata": {},
   "outputs": [],
   "source": []
  },
  {
   "cell_type": "code",
   "execution_count": null,
   "id": "c91c6630",
   "metadata": {},
   "outputs": [],
   "source": [
    "\n",
    "total_price = grp[\"revenue\"].groupby(level=0, group_keys=False)\n",
    "oo = total_price.nlargest(3)\n",
    "ax = oo.plot(kind='bar',figsize=(20,8),rot=55 )\n",
    "\n",
    "#draw lines and titles\n",
    "count = oo.groupby(\"District\").count()\n",
    "cs = np.cumsum(count)\n",
    "for i in range(len(count)):\n",
    "    title = count.index.values[i]\n",
    "    ax.axvline(cs[i]-.5, lw=0.8, color=\"k\")\n",
    "    ax.text(cs[i]-(count[i]+1)/2., 1.02, title, ha=\"center\",\n",
    "            transform=ax.get_xaxis_transform())\n",
    "\n",
    "# shorten xticklabels\n",
    "ax.set_xticklabels([l.get_text().split(\", \")[1][:-1] for l in ax.get_xticklabels()])"
   ]
  }
 ],
 "metadata": {
  "kernelspec": {
   "display_name": "Python 3 (ipykernel)",
   "language": "python",
   "name": "python3"
  },
  "language_info": {
   "codemirror_mode": {
    "name": "ipython",
    "version": 3
   },
   "file_extension": ".py",
   "mimetype": "text/x-python",
   "name": "python",
   "nbconvert_exporter": "python",
   "pygments_lexer": "ipython3",
   "version": "3.9.7"
  }
 },
 "nbformat": 4,
 "nbformat_minor": 5
}
