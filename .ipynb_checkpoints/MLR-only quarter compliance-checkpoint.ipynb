{
 "cells": [
  {
   "cell_type": "code",
   "execution_count": 1,
   "id": "2a34e104",
   "metadata": {},
   "outputs": [],
   "source": [
    "import pandas as pd\n",
    "import numpy as np\n",
    "from scalecast.Forecaster import Forecaster\n",
    "from scalecast.auxmodels import auto_arima\n",
    "import matplotlib.pyplot as plt\n",
    "import seaborn as sns\n",
    "import warnings\n",
    "\n",
    "warnings.filterwarnings('ignore')\n",
    "sns.set(rc={'figure.figsize':(14,7)})"
   ]
  },
  {
   "cell_type": "code",
   "execution_count": 45,
   "id": "acf9a4ad",
   "metadata": {
    "scrolled": false
   },
   "outputs": [
    {
     "data": {
      "text/html": [
       "<div>\n",
       "<style scoped>\n",
       "    .dataframe tbody tr th:only-of-type {\n",
       "        vertical-align: middle;\n",
       "    }\n",
       "\n",
       "    .dataframe tbody tr th {\n",
       "        vertical-align: top;\n",
       "    }\n",
       "\n",
       "    .dataframe thead th {\n",
       "        text-align: right;\n",
       "    }\n",
       "</style>\n",
       "<table border=\"1\" class=\"dataframe\">\n",
       "  <thead>\n",
       "    <tr style=\"text-align: right;\">\n",
       "      <th></th>\n",
       "      <th>Case Number</th>\n",
       "      <th>Subject</th>\n",
       "      <th>Date Created</th>\n",
       "      <th>Date Closed</th>\n",
       "      <th>Origin</th>\n",
       "      <th>Priority</th>\n",
       "      <th>Team</th>\n",
       "      <th>Case Type</th>\n",
       "      <th>SLA</th>\n",
       "      <th>Problem Statement</th>\n",
       "      <th>Product</th>\n",
       "      <th>Product Area</th>\n",
       "      <th>Product Category</th>\n",
       "      <th>Product Type</th>\n",
       "      <th>Jurisdiction</th>\n",
       "      <th>Resolution</th>\n",
       "      <th>KB #</th>\n",
       "      <th>KB Title</th>\n",
       "    </tr>\n",
       "  </thead>\n",
       "  <tbody>\n",
       "    <tr>\n",
       "      <th>0</th>\n",
       "      <td>204977</td>\n",
       "      <td>Efile Acceptance</td>\n",
       "      <td>2017-01-02 05:39:00</td>\n",
       "      <td>2017-01-03 09:03:00</td>\n",
       "      <td>Web</td>\n",
       "      <td>Medium</td>\n",
       "      <td>Tax Preparation</td>\n",
       "      <td>Efile</td>\n",
       "      <td>Platinum</td>\n",
       "      <td>We transmitted a Michigan return still have not received the acceptance/rejection confirmation.</td>\n",
       "      <td>Compliance</td>\n",
       "      <td>Returns / Reports</td>\n",
       "      <td>NaN</td>\n",
       "      <td>NaN</td>\n",
       "      <td>US.MI</td>\n",
       "      <td>Answer exists KB</td>\n",
       "      <td>041324813494120</td>\n",
       "      <td>How to understand the Transmission Monitor</td>\n",
       "    </tr>\n",
       "    <tr>\n",
       "      <th>1</th>\n",
       "      <td>204979</td>\n",
       "      <td>Oregon STAT help: Previous Case 203787 Client needs help after 4pm CST today</td>\n",
       "      <td>2017-01-02 09:03:00</td>\n",
       "      <td>2017-01-04 16:56:00</td>\n",
       "      <td>Web</td>\n",
       "      <td>High</td>\n",
       "      <td>Tax Preparation</td>\n",
       "      <td>Question / How To</td>\n",
       "      <td>Silver</td>\n",
       "      <td>Oregon STAT help: Previous Case 203787 Client needs help after 4pm CST today</td>\n",
       "      <td>Provision</td>\n",
       "      <td>State</td>\n",
       "      <td>NaN</td>\n",
       "      <td>NaN</td>\n",
       "      <td>US.OR</td>\n",
       "      <td>Customer no longer needs assistance</td>\n",
       "      <td>NaN</td>\n",
       "      <td>NaN</td>\n",
       "    </tr>\n",
       "    <tr>\n",
       "      <th>2</th>\n",
       "      <td>204980</td>\n",
       "      <td>Data map incorrectly pulling in values</td>\n",
       "      <td>2017-01-02 11:25:00</td>\n",
       "      <td>2017-01-03 15:48:00</td>\n",
       "      <td>Web</td>\n",
       "      <td>Medium</td>\n",
       "      <td>Tax Preparation</td>\n",
       "      <td>Question / How To</td>\n",
       "      <td>Silver</td>\n",
       "      <td>Corptax Office Import - Credit Account imports are not posting as expected</td>\n",
       "      <td>Office - Excel Add-In</td>\n",
       "      <td>Import / Export</td>\n",
       "      <td>NaN</td>\n",
       "      <td>NaN</td>\n",
       "      <td>US</td>\n",
       "      <td>Answer exists KB</td>\n",
       "      <td>041414821333274</td>\n",
       "      <td>Corptax® Office - How to place an IF formula in the Advanced formula setting of the Data Templat...</td>\n",
       "    </tr>\n",
       "    <tr>\n",
       "      <th>3</th>\n",
       "      <td>204981</td>\n",
       "      <td>The New Corptax Connect Website is not properly working</td>\n",
       "      <td>2017-01-02 12:06:00</td>\n",
       "      <td>2017-01-03 09:26:00</td>\n",
       "      <td>Web</td>\n",
       "      <td>High</td>\n",
       "      <td>Tax Preparation</td>\n",
       "      <td>Problem / Error</td>\n",
       "      <td>Silver</td>\n",
       "      <td>Searches can't be performed on the new system.  It hasn't functioned properly since the change. ...</td>\n",
       "      <td>Websites</td>\n",
       "      <td>Connections (https://connect.corptax.com)</td>\n",
       "      <td>Error Message</td>\n",
       "      <td>NaN</td>\n",
       "      <td>NaN</td>\n",
       "      <td>Answer exists KB</td>\n",
       "      <td>161216104028927</td>\n",
       "      <td>Connections Error - Uh Oh  something went wrong while loading this page</td>\n",
       "    </tr>\n",
       "    <tr>\n",
       "      <th>4</th>\n",
       "      <td>204986</td>\n",
       "      <td>LD400 is not reflecting a temporary adjustment</td>\n",
       "      <td>2017-01-03 07:17:00</td>\n",
       "      <td>2017-01-05 08:21:00</td>\n",
       "      <td>E-mail</td>\n",
       "      <td>Medium</td>\n",
       "      <td>Tax Preparation</td>\n",
       "      <td>Problem / Error</td>\n",
       "      <td>Platinum</td>\n",
       "      <td>LD400 is not reflecting a temporary adjustment</td>\n",
       "      <td>Compliance</td>\n",
       "      <td>Returns / Reports</td>\n",
       "      <td>NaN</td>\n",
       "      <td>NaN</td>\n",
       "      <td>US</td>\n",
       "      <td>Answer exists KB</td>\n",
       "      <td>041622907012748</td>\n",
       "      <td>Adjustments do not flow to LD400 workpaper and Taxable income per the LD400 does not tie to the ...</td>\n",
       "    </tr>\n",
       "  </tbody>\n",
       "</table>\n",
       "</div>"
      ],
      "text/plain": [
       "   Case Number  \\\n",
       "0       204977   \n",
       "1       204979   \n",
       "2       204980   \n",
       "3       204981   \n",
       "4       204986   \n",
       "\n",
       "                                                                        Subject  \\\n",
       "0                                                              Efile Acceptance   \n",
       "1  Oregon STAT help: Previous Case 203787 Client needs help after 4pm CST today   \n",
       "2                                        Data map incorrectly pulling in values   \n",
       "3                       The New Corptax Connect Website is not properly working   \n",
       "4                                LD400 is not reflecting a temporary adjustment   \n",
       "\n",
       "         Date Created         Date Closed  Origin Priority             Team  \\\n",
       "0 2017-01-02 05:39:00 2017-01-03 09:03:00     Web   Medium  Tax Preparation   \n",
       "1 2017-01-02 09:03:00 2017-01-04 16:56:00     Web     High  Tax Preparation   \n",
       "2 2017-01-02 11:25:00 2017-01-03 15:48:00     Web   Medium  Tax Preparation   \n",
       "3 2017-01-02 12:06:00 2017-01-03 09:26:00     Web     High  Tax Preparation   \n",
       "4 2017-01-03 07:17:00 2017-01-05 08:21:00  E-mail   Medium  Tax Preparation   \n",
       "\n",
       "           Case Type       SLA  \\\n",
       "0              Efile  Platinum   \n",
       "1  Question / How To    Silver   \n",
       "2  Question / How To    Silver   \n",
       "3    Problem / Error    Silver   \n",
       "4    Problem / Error  Platinum   \n",
       "\n",
       "                                                                                     Problem Statement  \\\n",
       "0      We transmitted a Michigan return still have not received the acceptance/rejection confirmation.   \n",
       "1                         Oregon STAT help: Previous Case 203787 Client needs help after 4pm CST today   \n",
       "2                           Corptax Office Import - Credit Account imports are not posting as expected   \n",
       "3  Searches can't be performed on the new system.  It hasn't functioned properly since the change. ...   \n",
       "4                                                       LD400 is not reflecting a temporary adjustment   \n",
       "\n",
       "                 Product                               Product Area  \\\n",
       "0             Compliance                          Returns / Reports   \n",
       "1              Provision                                      State   \n",
       "2  Office - Excel Add-In                            Import / Export   \n",
       "3               Websites  Connections (https://connect.corptax.com)   \n",
       "4             Compliance                          Returns / Reports   \n",
       "\n",
       "  Product Category Product Type Jurisdiction  \\\n",
       "0              NaN          NaN        US.MI   \n",
       "1              NaN          NaN        US.OR   \n",
       "2              NaN          NaN           US   \n",
       "3    Error Message          NaN          NaN   \n",
       "4              NaN          NaN           US   \n",
       "\n",
       "                            Resolution             KB #  \\\n",
       "0                     Answer exists KB  041324813494120   \n",
       "1  Customer no longer needs assistance              NaN   \n",
       "2                     Answer exists KB  041414821333274   \n",
       "3                     Answer exists KB  161216104028927   \n",
       "4                     Answer exists KB  041622907012748   \n",
       "\n",
       "                                                                                              KB Title  \n",
       "0                                                           How to understand the Transmission Monitor  \n",
       "1                                                                                                  NaN  \n",
       "2  Corptax® Office - How to place an IF formula in the Advanced formula setting of the Data Templat...  \n",
       "3                              Connections Error - Uh Oh  something went wrong while loading this page  \n",
       "4  Adjustments do not flow to LD400 workpaper and Taxable income per the LD400 does not tie to the ...  "
      ]
     },
     "execution_count": 45,
     "metadata": {},
     "output_type": "execute_result"
    }
   ],
   "source": [
    "df = pd.read_excel(\"Case Prediction Data2.xlsx\")\n",
    "df.head()"
   ]
  },
  {
   "cell_type": "code",
   "execution_count": 46,
   "id": "be249d30",
   "metadata": {},
   "outputs": [],
   "source": [
    "df_comp = df[df.Product == \"Compliance\"]\n",
    "df_comp['Date Created'] = df_comp['Date Created'].dt.date\n",
    "df_comp['Date Closed'] = df_comp['Date Closed'].dt.date\n",
    "df_comp['Date'] = pd.to_datetime(df_comp['Date Created'], errors='coerce')\n",
    "dfc = df_comp"
   ]
  },
  {
   "cell_type": "code",
   "execution_count": 47,
   "id": "725444d5",
   "metadata": {},
   "outputs": [
    {
     "data": {
      "text/html": [
       "<div>\n",
       "<style scoped>\n",
       "    .dataframe tbody tr th:only-of-type {\n",
       "        vertical-align: middle;\n",
       "    }\n",
       "\n",
       "    .dataframe tbody tr th {\n",
       "        vertical-align: top;\n",
       "    }\n",
       "\n",
       "    .dataframe thead th {\n",
       "        text-align: right;\n",
       "    }\n",
       "</style>\n",
       "<table border=\"1\" class=\"dataframe\">\n",
       "  <thead>\n",
       "    <tr style=\"text-align: right;\">\n",
       "      <th></th>\n",
       "      <th>Case Number</th>\n",
       "    </tr>\n",
       "    <tr>\n",
       "      <th>Date</th>\n",
       "      <th></th>\n",
       "    </tr>\n",
       "  </thead>\n",
       "  <tbody>\n",
       "    <tr>\n",
       "      <th>2017-01-31</th>\n",
       "      <td>1066.0</td>\n",
       "    </tr>\n",
       "    <tr>\n",
       "      <th>2017-02-28</th>\n",
       "      <td>1300.0</td>\n",
       "    </tr>\n",
       "    <tr>\n",
       "      <th>2017-03-31</th>\n",
       "      <td>2092.0</td>\n",
       "    </tr>\n",
       "    <tr>\n",
       "      <th>2017-04-30</th>\n",
       "      <td>1247.0</td>\n",
       "    </tr>\n",
       "    <tr>\n",
       "      <th>2017-05-31</th>\n",
       "      <td>1407.0</td>\n",
       "    </tr>\n",
       "    <tr>\n",
       "      <th>...</th>\n",
       "      <td>...</td>\n",
       "    </tr>\n",
       "    <tr>\n",
       "      <th>2022-04-30</th>\n",
       "      <td>914.0</td>\n",
       "    </tr>\n",
       "    <tr>\n",
       "      <th>2022-05-31</th>\n",
       "      <td>777.0</td>\n",
       "    </tr>\n",
       "    <tr>\n",
       "      <th>2022-06-30</th>\n",
       "      <td>952.0</td>\n",
       "    </tr>\n",
       "    <tr>\n",
       "      <th>2022-07-31</th>\n",
       "      <td>870.0</td>\n",
       "    </tr>\n",
       "    <tr>\n",
       "      <th>2022-08-31</th>\n",
       "      <td>581.0</td>\n",
       "    </tr>\n",
       "  </tbody>\n",
       "</table>\n",
       "<p>68 rows × 1 columns</p>\n",
       "</div>"
      ],
      "text/plain": [
       "            Case Number\n",
       "Date                   \n",
       "2017-01-31       1066.0\n",
       "2017-02-28       1300.0\n",
       "2017-03-31       2092.0\n",
       "2017-04-30       1247.0\n",
       "2017-05-31       1407.0\n",
       "...                 ...\n",
       "2022-04-30        914.0\n",
       "2022-05-31        777.0\n",
       "2022-06-30        952.0\n",
       "2022-07-31        870.0\n",
       "2022-08-31        581.0\n",
       "\n",
       "[68 rows x 1 columns]"
      ]
     },
     "execution_count": 47,
     "metadata": {},
     "output_type": "execute_result"
    }
   ],
   "source": [
    "# Adding a new column which will have the number of tickets per day\n",
    "newdf = dfc[[\"Date\",\"Case Number\"]]\n",
    "newdf.drop_duplicates(inplace=True)\n",
    "newdf['Date'] = pd.to_datetime(newdf['Date'])\n",
    "newdf = pd.DataFrame(newdf.groupby([newdf[\"Date\"].dt.date]).count()[\"Case Number\"])\n",
    "newdf = newdf.reset_index()\n",
    "newdf.index = newdf.Date\n",
    "newdf['Date'] = pd.to_datetime(newdf['Date'], errors='coerce')\n",
    "newdf = newdf.asfreq('D')\n",
    "newdf = newdf.groupby(pd.Grouper(freq=\"M\")).sum()\n",
    "newdf"
   ]
  },
  {
   "cell_type": "code",
   "execution_count": 48,
   "id": "97918871",
   "metadata": {},
   "outputs": [
    {
     "name": "stdout",
     "output_type": "stream",
     "text": [
      "<class 'pandas.core.frame.DataFrame'>\n",
      "DatetimeIndex: 68 entries, 2017-01-31 to 2022-08-31\n",
      "Freq: M\n",
      "Data columns (total 1 columns):\n",
      " #   Column       Non-Null Count  Dtype  \n",
      "---  ------       --------------  -----  \n",
      " 0   Case Number  68 non-null     float64\n",
      "dtypes: float64(1)\n",
      "memory usage: 1.1 KB\n"
     ]
    }
   ],
   "source": [
    "newdf.info()"
   ]
  },
  {
   "cell_type": "code",
   "execution_count": 61,
   "id": "d22618f8",
   "metadata": {},
   "outputs": [
    {
     "name": "stdout",
     "output_type": "stream",
     "text": [
      "----------------------------------------------------------------------------------------------------\n",
      "Augmented Dickey-Fuller results:\n",
      "the test-stat value is: 1.01\n",
      "the p-value is 0.9944\n",
      "the series is not stationary\n",
      "----------------------------------------------------------------------------------------------------\n"
     ]
    }
   ],
   "source": [
    "f = Forecaster(y=newdf['Case Number'],current_dates=newdf.index)\n",
    "f.generate_future_dates(12)\n",
    "f.set_test_length(.2)\n",
    "critical_pval = 0.05\n",
    "print('-'*100)\n",
    "print('Augmented Dickey-Fuller results:')\n",
    "stat, pval, _, _, _, _ = f.adf_test(full_res=True)\n",
    "print('the test-stat value is: {:.2f}'.format(stat))\n",
    "print('the p-value is {:.4f}'.format(pval))\n",
    "print('the series is {}'.format('stationary' if pval < critical_pval else 'not stationary'))\n",
    "print('-'*100)"
   ]
  },
  {
   "cell_type": "markdown",
   "id": "2deacbf6",
   "metadata": {},
   "source": [
    "# MLR Forecasting"
   ]
  },
  {
   "cell_type": "code",
   "execution_count": 62,
   "id": "b43fa84a",
   "metadata": {},
   "outputs": [],
   "source": [
    "f.set_estimator('mlr') # 1. choose the mlr estimator\n",
    "f.add_ar_terms(12) # 2. add regressors (12 lagged terms)\n",
    "f.add_seasonal_regressors('quarter',dummy=True) # 2.\n",
    "f.add_time_trend() # 2.\n",
    "f.diff() # 3. difference non-stationary data"
   ]
  },
  {
   "cell_type": "code",
   "execution_count": 63,
   "id": "d29e8bc5",
   "metadata": {},
   "outputs": [
    {
     "data": {
      "text/plain": [
       "<AxesSubplot:xlabel='Date', ylabel='Values'>"
      ]
     },
     "execution_count": 63,
     "metadata": {},
     "output_type": "execute_result"
    },
    {
     "data": {
      "image/png": "[encoded data removed]",
      "text/plain": [
       "<Figure size 1008x504 with 1 Axes>"
      ]
     },
     "metadata": {},
     "output_type": "display_data"
    }
   ],
   "source": [
    "f.manual_forecast()\n",
    "f.plot_test_set(order_by='LevelTestSetMAPE',models='top_2')"
   ]
  },
  {
   "cell_type": "code",
   "execution_count": 64,
   "id": "752c5167",
   "metadata": {},
   "outputs": [
    {
     "name": "stdout",
     "output_type": "stream",
     "text": [
      "----------------------------------------------------------------------------------------------------\n",
      "Augmented Dickey-Fuller results:\n",
      "the test-stat value is: -3.73\n",
      "the p-value is 0.0037\n",
      "the series is stationary\n",
      "----------------------------------------------------------------------------------------------------\n"
     ]
    }
   ],
   "source": [
    "print('-'*100)\n",
    "print('Augmented Dickey-Fuller results:')\n",
    "stat, pval, _, _, _, _ = f.adf_test(full_res=True)\n",
    "print('the test-stat value is: {:.2f}'.format(stat))\n",
    "print('the p-value is {:.4f}'.format(pval))\n",
    "print('the series is {}'.format('stationary' if pval < critical_pval else 'not stationary'))\n",
    "print('-'*100)"
   ]
  },
  {
   "cell_type": "code",
   "execution_count": 52,
   "id": "ce979fac",
   "metadata": {},
   "outputs": [
    {
     "data": {
      "text/plain": [
       "<AxesSubplot:xlabel='Date', ylabel='Values'>"
      ]
     },
     "execution_count": 52,
     "metadata": {},
     "output_type": "execute_result"
    },
    {
     "data": {
      "image/png": "[encoded data removed]",
      "text/plain": [
       "<Figure size 1008x504 with 1 Axes>"
      ]
     },
     "metadata": {},
     "output_type": "display_data"
    }
   ],
   "source": [
    "f.plot_test_set(models='mlr',ci=True)"
   ]
  },
  {
   "cell_type": "code",
   "execution_count": 53,
   "id": "04efcf6b",
   "metadata": {},
   "outputs": [
    {
     "data": {
      "text/plain": [
       "<AxesSubplot:xlabel='Date', ylabel='Values'>"
      ]
     },
     "execution_count": 53,
     "metadata": {},
     "output_type": "execute_result"
    },
    {
     "data": {
      "image/png": "[encoded data removed]",
      "text/plain": [
       "<Figure size 1008x504 with 1 Axes>"
      ]
     },
     "metadata": {},
     "output_type": "display_data"
    }
   ],
   "source": [
    "f.plot(models='mlr',\n",
    "       order_by='LevelTestSetMAPE',\n",
    "       level=True)"
   ]
  },
  {
   "cell_type": "code",
   "execution_count": 54,
   "id": "97eba2af",
   "metadata": {},
   "outputs": [
    {
     "data": {
      "text/plain": [
       "348.525682135335"
      ]
     },
     "execution_count": 54,
     "metadata": {},
     "output_type": "execute_result"
    }
   ],
   "source": [
    "result_train = f.export_fitted_vals(model = \"mlr\")\n",
    "from sklearn.metrics import mean_squared_error\n",
    "from math import sqrt\n",
    "\n",
    "rms = sqrt(mean_squared_error(result_train[\"Actuals\"], result_train[\"FittedVals\"]))\n",
    "rms"
   ]
  },
  {
   "cell_type": "code",
   "execution_count": 65,
   "id": "b92c1323",
   "metadata": {},
   "outputs": [
    {
     "data": {
      "text/plain": [
       "0     -129.0\n",
       "1      289.0\n",
       "2     -251.0\n",
       "3      -13.0\n",
       "4      112.0\n",
       "5      127.0\n",
       "6      687.0\n",
       "7      465.0\n",
       "8     1582.0\n",
       "9    -2765.0\n",
       "10    -551.0\n",
       "11     680.0\n",
       "12    -395.0\n",
       "13     186.0\n",
       "14       9.0\n",
       "15    -246.0\n",
       "16     213.0\n",
       "17     572.0\n",
       "18     486.0\n",
       "19    1578.0\n",
       "20    1305.0\n",
       "21   -3795.0\n",
       "22    -531.0\n",
       "23     703.0\n",
       "24    -416.0\n",
       "25     448.0\n",
       "26    -161.0\n",
       "27    -423.0\n",
       "28     303.0\n",
       "29     277.0\n",
       "30     273.0\n",
       "31     958.0\n",
       "32     953.0\n",
       "33   -1910.0\n",
       "34   -1004.0\n",
       "35     174.0\n",
       "36     -46.0\n",
       "37     243.0\n",
       "38    -101.0\n",
       "39    -216.0\n",
       "40     221.0\n",
       "41    -114.0\n",
       "42     455.0\n",
       "43     783.0\n",
       "44     615.0\n",
       "45   -1498.0\n",
       "46    -707.0\n",
       "47     258.0\n",
       "48      11.0\n",
       "49     178.0\n",
       "50    -243.0\n",
       "51    -137.0\n",
       "52     175.0\n",
       "53     -82.0\n",
       "54    -289.0\n",
       "Name: Actuals, dtype: float64"
      ]
     },
     "execution_count": 65,
     "metadata": {},
     "output_type": "execute_result"
    }
   ],
   "source": [
    "result_train[\"Actuals\"]"
   ]
  },
  {
   "cell_type": "code",
   "execution_count": 66,
   "id": "2282751c",
   "metadata": {},
   "outputs": [
    {
     "data": {
      "text/plain": [
       "0    305.919158\n",
       "Name: TestSetRMSE, dtype: float64"
      ]
     },
     "execution_count": 66,
     "metadata": {},
     "output_type": "execute_result"
    }
   ],
   "source": [
    "pd.options.display.max_colwidth = 100\n",
    "# results = f.export(to_excel=True,\n",
    "#                    excel_name='arima_results.xlsx',\n",
    "#                    determine_best_by='TestSetMAPE')\n",
    "results = f.export(to_excel=True,\n",
    "                   excel_name='mlr.xlsx')\n",
    "pd.set_option('display.max_columns', None)\n",
    "results[\"model_summaries\"][\"TestSetRMSE\"]"
   ]
  },
  {
   "cell_type": "code",
   "execution_count": 56,
   "id": "6147d7cb",
   "metadata": {},
   "outputs": [
    {
     "data": {
      "text/plain": [
       "0    348.525682\n",
       "Name: InSampleRMSE, dtype: float64"
      ]
     },
     "execution_count": 56,
     "metadata": {},
     "output_type": "execute_result"
    }
   ],
   "source": [
    "results[\"model_summaries\"][\"InSampleRMSE\"]"
   ]
  },
  {
   "cell_type": "code",
   "execution_count": 68,
   "id": "6d56227b",
   "metadata": {},
   "outputs": [
    {
     "data": {
      "text/plain": [
       "dict_keys(['model_summaries', 'best_fcst', 'all_fcsts', 'test_set_predictions', 'lvl_fcsts', 'lvl_test_set_predictions'])"
      ]
     },
     "execution_count": 68,
     "metadata": {},
     "output_type": "execute_result"
    }
   ],
   "source": [
    "results.keys()"
   ]
  },
  {
   "cell_type": "code",
   "execution_count": 73,
   "id": "29b0e15b",
   "metadata": {},
   "outputs": [
    {
     "data": {
      "text/html": [
       "<div>\n",
       "<style scoped>\n",
       "    .dataframe tbody tr th:only-of-type {\n",
       "        vertical-align: middle;\n",
       "    }\n",
       "\n",
       "    .dataframe tbody tr th {\n",
       "        vertical-align: top;\n",
       "    }\n",
       "\n",
       "    .dataframe thead th {\n",
       "        text-align: right;\n",
       "    }\n",
       "</style>\n",
       "<table border=\"1\" class=\"dataframe\">\n",
       "  <thead>\n",
       "    <tr style=\"text-align: right;\">\n",
       "      <th></th>\n",
       "      <th>DATE</th>\n",
       "      <th>actual</th>\n",
       "      <th>mlr</th>\n",
       "    </tr>\n",
       "  </thead>\n",
       "  <tbody>\n",
       "    <tr>\n",
       "      <th>55</th>\n",
       "      <td>2021-08-31</td>\n",
       "      <td>1517.0</td>\n",
       "      <td>1409.723344</td>\n",
       "    </tr>\n",
       "    <tr>\n",
       "      <th>56</th>\n",
       "      <td>2021-09-30</td>\n",
       "      <td>2300.0</td>\n",
       "      <td>2590.563724</td>\n",
       "    </tr>\n",
       "    <tr>\n",
       "      <th>57</th>\n",
       "      <td>2021-10-31</td>\n",
       "      <td>2915.0</td>\n",
       "      <td>3485.962686</td>\n",
       "    </tr>\n",
       "    <tr>\n",
       "      <th>58</th>\n",
       "      <td>2021-11-30</td>\n",
       "      <td>1417.0</td>\n",
       "      <td>1820.455775</td>\n",
       "    </tr>\n",
       "    <tr>\n",
       "      <th>59</th>\n",
       "      <td>2021-12-31</td>\n",
       "      <td>710.0</td>\n",
       "      <td>831.113722</td>\n",
       "    </tr>\n",
       "    <tr>\n",
       "      <th>60</th>\n",
       "      <td>2022-01-31</td>\n",
       "      <td>968.0</td>\n",
       "      <td>464.229954</td>\n",
       "    </tr>\n",
       "    <tr>\n",
       "      <th>61</th>\n",
       "      <td>2022-02-28</td>\n",
       "      <td>979.0</td>\n",
       "      <td>472.964921</td>\n",
       "    </tr>\n",
       "    <tr>\n",
       "      <th>62</th>\n",
       "      <td>2022-03-31</td>\n",
       "      <td>1157.0</td>\n",
       "      <td>823.167176</td>\n",
       "    </tr>\n",
       "    <tr>\n",
       "      <th>63</th>\n",
       "      <td>2022-04-30</td>\n",
       "      <td>914.0</td>\n",
       "      <td>868.648026</td>\n",
       "    </tr>\n",
       "    <tr>\n",
       "      <th>64</th>\n",
       "      <td>2022-05-31</td>\n",
       "      <td>777.0</td>\n",
       "      <td>651.913483</td>\n",
       "    </tr>\n",
       "    <tr>\n",
       "      <th>65</th>\n",
       "      <td>2022-06-30</td>\n",
       "      <td>952.0</td>\n",
       "      <td>673.915167</td>\n",
       "    </tr>\n",
       "    <tr>\n",
       "      <th>66</th>\n",
       "      <td>2022-07-31</td>\n",
       "      <td>870.0</td>\n",
       "      <td>838.956469</td>\n",
       "    </tr>\n",
       "    <tr>\n",
       "      <th>67</th>\n",
       "      <td>2022-08-31</td>\n",
       "      <td>581.0</td>\n",
       "      <td>1065.984884</td>\n",
       "    </tr>\n",
       "  </tbody>\n",
       "</table>\n",
       "</div>"
      ],
      "text/plain": [
       "         DATE  actual          mlr\n",
       "55 2021-08-31  1517.0  1409.723344\n",
       "56 2021-09-30  2300.0  2590.563724\n",
       "57 2021-10-31  2915.0  3485.962686\n",
       "58 2021-11-30  1417.0  1820.455775\n",
       "59 2021-12-31   710.0   831.113722\n",
       "60 2022-01-31   968.0   464.229954\n",
       "61 2022-02-28   979.0   472.964921\n",
       "62 2022-03-31  1157.0   823.167176\n",
       "63 2022-04-30   914.0   868.648026\n",
       "64 2022-05-31   777.0   651.913483\n",
       "65 2022-06-30   952.0   673.915167\n",
       "66 2022-07-31   870.0   838.956469\n",
       "67 2022-08-31   581.0  1065.984884"
      ]
     },
     "execution_count": 73,
     "metadata": {},
     "output_type": "execute_result"
    }
   ],
   "source": [
    "results[\"lvl_test_set_predictions\"]"
   ]
  },
  {
   "cell_type": "code",
   "execution_count": 57,
   "id": "22f4b4b6",
   "metadata": {},
   "outputs": [
    {
     "data": {
      "text/html": [
       "<div>\n",
       "<style scoped>\n",
       "    .dataframe tbody tr th:only-of-type {\n",
       "        vertical-align: middle;\n",
       "    }\n",
       "\n",
       "    .dataframe tbody tr th {\n",
       "        vertical-align: top;\n",
       "    }\n",
       "\n",
       "    .dataframe thead th {\n",
       "        text-align: right;\n",
       "    }\n",
       "</style>\n",
       "<table border=\"1\" class=\"dataframe\">\n",
       "  <thead>\n",
       "    <tr style=\"text-align: right;\">\n",
       "      <th></th>\n",
       "      <th>DATE</th>\n",
       "      <th>mlr</th>\n",
       "    </tr>\n",
       "  </thead>\n",
       "  <tbody>\n",
       "    <tr>\n",
       "      <th>0</th>\n",
       "      <td>2022-09-30</td>\n",
       "      <td>1671.078567</td>\n",
       "    </tr>\n",
       "    <tr>\n",
       "      <th>1</th>\n",
       "      <td>2022-10-31</td>\n",
       "      <td>2392.115919</td>\n",
       "    </tr>\n",
       "    <tr>\n",
       "      <th>2</th>\n",
       "      <td>2022-11-30</td>\n",
       "      <td>1121.668980</td>\n",
       "    </tr>\n",
       "    <tr>\n",
       "      <th>3</th>\n",
       "      <td>2022-12-31</td>\n",
       "      <td>453.429444</td>\n",
       "    </tr>\n",
       "    <tr>\n",
       "      <th>4</th>\n",
       "      <td>2023-01-31</td>\n",
       "      <td>442.886989</td>\n",
       "    </tr>\n",
       "    <tr>\n",
       "      <th>5</th>\n",
       "      <td>2023-02-28</td>\n",
       "      <td>393.739757</td>\n",
       "    </tr>\n",
       "    <tr>\n",
       "      <th>6</th>\n",
       "      <td>2023-03-31</td>\n",
       "      <td>526.729579</td>\n",
       "    </tr>\n",
       "    <tr>\n",
       "      <th>7</th>\n",
       "      <td>2023-04-30</td>\n",
       "      <td>308.848641</td>\n",
       "    </tr>\n",
       "    <tr>\n",
       "      <th>8</th>\n",
       "      <td>2023-05-31</td>\n",
       "      <td>199.390288</td>\n",
       "    </tr>\n",
       "    <tr>\n",
       "      <th>9</th>\n",
       "      <td>2023-06-30</td>\n",
       "      <td>421.475203</td>\n",
       "    </tr>\n",
       "    <tr>\n",
       "      <th>10</th>\n",
       "      <td>2023-07-31</td>\n",
       "      <td>490.112407</td>\n",
       "    </tr>\n",
       "    <tr>\n",
       "      <th>11</th>\n",
       "      <td>2023-08-31</td>\n",
       "      <td>202.282961</td>\n",
       "    </tr>\n",
       "  </tbody>\n",
       "</table>\n",
       "</div>"
      ],
      "text/plain": [
       "         DATE          mlr\n",
       "0  2022-09-30  1671.078567\n",
       "1  2022-10-31  2392.115919\n",
       "2  2022-11-30  1121.668980\n",
       "3  2022-12-31   453.429444\n",
       "4  2023-01-31   442.886989\n",
       "5  2023-02-28   393.739757\n",
       "6  2023-03-31   526.729579\n",
       "7  2023-04-30   308.848641\n",
       "8  2023-05-31   199.390288\n",
       "9  2023-06-30   421.475203\n",
       "10 2023-07-31   490.112407\n",
       "11 2023-08-31   202.282961"
      ]
     },
     "execution_count": 57,
     "metadata": {},
     "output_type": "execute_result"
    }
   ],
   "source": [
    "results[\"lvl_fcsts\"]"
   ]
  },
  {
   "cell_type": "code",
   "execution_count": 60,
   "id": "139684b0",
   "metadata": {},
   "outputs": [
    {
     "data": {
      "text/html": [
       "<div>\n",
       "<style scoped>\n",
       "    .dataframe tbody tr th:only-of-type {\n",
       "        vertical-align: middle;\n",
       "    }\n",
       "\n",
       "    .dataframe tbody tr th {\n",
       "        vertical-align: top;\n",
       "    }\n",
       "\n",
       "    .dataframe thead th {\n",
       "        text-align: right;\n",
       "    }\n",
       "</style>\n",
       "<table border=\"1\" class=\"dataframe\">\n",
       "  <thead>\n",
       "    <tr style=\"text-align: right;\">\n",
       "      <th></th>\n",
       "      <th>DATE</th>\n",
       "      <th>VALUES</th>\n",
       "      <th>MODEL</th>\n",
       "    </tr>\n",
       "  </thead>\n",
       "  <tbody>\n",
       "    <tr>\n",
       "      <th>0</th>\n",
       "      <td>2017-01-31</td>\n",
       "      <td>NaN</td>\n",
       "      <td>actual</td>\n",
       "    </tr>\n",
       "    <tr>\n",
       "      <th>1</th>\n",
       "      <td>2017-02-28</td>\n",
       "      <td>234.000000</td>\n",
       "      <td>actual</td>\n",
       "    </tr>\n",
       "    <tr>\n",
       "      <th>2</th>\n",
       "      <td>2017-03-31</td>\n",
       "      <td>792.000000</td>\n",
       "      <td>actual</td>\n",
       "    </tr>\n",
       "    <tr>\n",
       "      <th>3</th>\n",
       "      <td>2017-04-30</td>\n",
       "      <td>-845.000000</td>\n",
       "      <td>actual</td>\n",
       "    </tr>\n",
       "    <tr>\n",
       "      <th>4</th>\n",
       "      <td>2017-05-31</td>\n",
       "      <td>160.000000</td>\n",
       "      <td>actual</td>\n",
       "    </tr>\n",
       "    <tr>\n",
       "      <th>...</th>\n",
       "      <td>...</td>\n",
       "      <td>...</td>\n",
       "      <td>...</td>\n",
       "    </tr>\n",
       "    <tr>\n",
       "      <th>75</th>\n",
       "      <td>2023-04-30</td>\n",
       "      <td>-217.880939</td>\n",
       "      <td>mlr</td>\n",
       "    </tr>\n",
       "    <tr>\n",
       "      <th>76</th>\n",
       "      <td>2023-05-31</td>\n",
       "      <td>-109.458353</td>\n",
       "      <td>mlr</td>\n",
       "    </tr>\n",
       "    <tr>\n",
       "      <th>77</th>\n",
       "      <td>2023-06-30</td>\n",
       "      <td>222.084915</td>\n",
       "      <td>mlr</td>\n",
       "    </tr>\n",
       "    <tr>\n",
       "      <th>78</th>\n",
       "      <td>2023-07-31</td>\n",
       "      <td>68.637204</td>\n",
       "      <td>mlr</td>\n",
       "    </tr>\n",
       "    <tr>\n",
       "      <th>79</th>\n",
       "      <td>2023-08-31</td>\n",
       "      <td>-287.829446</td>\n",
       "      <td>mlr</td>\n",
       "    </tr>\n",
       "  </tbody>\n",
       "</table>\n",
       "<p>80 rows × 3 columns</p>\n",
       "</div>"
      ],
      "text/plain": [
       "         DATE      VALUES   MODEL\n",
       "0  2017-01-31         NaN  actual\n",
       "1  2017-02-28  234.000000  actual\n",
       "2  2017-03-31  792.000000  actual\n",
       "3  2017-04-30 -845.000000  actual\n",
       "4  2017-05-31  160.000000  actual\n",
       "..        ...         ...     ...\n",
       "75 2023-04-30 -217.880939     mlr\n",
       "76 2023-05-31 -109.458353     mlr\n",
       "77 2023-06-30  222.084915     mlr\n",
       "78 2023-07-31   68.637204     mlr\n",
       "79 2023-08-31 -287.829446     mlr\n",
       "\n",
       "[80 rows x 3 columns]"
      ]
     },
     "execution_count": 60,
     "metadata": {},
     "output_type": "execute_result"
    }
   ],
   "source": [
    "results[\"best_fcst\"]"
   ]
  },
  {
   "cell_type": "code",
   "execution_count": 37,
   "id": "9272c786",
   "metadata": {},
   "outputs": [
    {
     "data": {
      "text/plain": [
       "['AR1',\n",
       " 'AR2',\n",
       " 'AR3',\n",
       " 'AR4',\n",
       " 'AR5',\n",
       " 'AR6',\n",
       " 'AR7',\n",
       " 'AR8',\n",
       " 'AR9',\n",
       " 'AR10',\n",
       " 'AR11',\n",
       " 'AR12',\n",
       " 'quarter',\n",
       " 'quarter_1',\n",
       " 'quarter_2',\n",
       " 'quarter_3',\n",
       " 'quarter_4',\n",
       " 't']"
      ]
     },
     "execution_count": 37,
     "metadata": {},
     "output_type": "execute_result"
    }
   ],
   "source": [
    "results[\"model_summaries\"][\"Xvars\"][0]"
   ]
  },
  {
   "cell_type": "code",
   "execution_count": null,
   "id": "069610dd",
   "metadata": {},
   "outputs": [],
   "source": []
  }
 ],
 "metadata": {
  "kernelspec": {
   "display_name": "Python 3 (ipykernel)",
   "language": "python",
   "name": "python3"
  },
  "language_info": {
   "codemirror_mode": {
    "name": "ipython",
    "version": 3
   },
   "file_extension": ".py",
   "mimetype": "text/x-python",
   "name": "python",
   "nbconvert_exporter": "python",
   "pygments_lexer": "ipython3",
   "version": "3.9.7"
  }
 },
 "nbformat": 4,
 "nbformat_minor": 5
}
