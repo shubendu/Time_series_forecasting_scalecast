{
 "cells": [
  {
   "cell_type": "code",
   "execution_count": 14,
   "id": "b56ee5da",
   "metadata": {},
   "outputs": [],
   "source": [
    "import pandas as pd\n",
    "import numpy as np\n",
    "from scalecast.Forecaster import Forecaster\n",
    "from scalecast.auxmodels import auto_arima\n",
    "import matplotlib.pyplot as plt\n",
    "import seaborn as sns\n",
    "import warnings\n",
    "\n",
    "warnings.filterwarnings('ignore')\n",
    "sns.set(rc={'figure.figsize':(14,7)})"
   ]
  },
  {
   "cell_type": "code",
   "execution_count": 15,
   "id": "0932d277",
   "metadata": {},
   "outputs": [],
   "source": [
    "df = pd.read_excel(\"Case Prediction Data2.xlsx\")"
   ]
  },
  {
   "cell_type": "code",
   "execution_count": 16,
   "id": "c2dc8ea1",
   "metadata": {},
   "outputs": [
    {
     "data": {
      "text/html": [
       "<div>\n",
       "<style scoped>\n",
       "    .dataframe tbody tr th:only-of-type {\n",
       "        vertical-align: middle;\n",
       "    }\n",
       "\n",
       "    .dataframe tbody tr th {\n",
       "        vertical-align: top;\n",
       "    }\n",
       "\n",
       "    .dataframe thead th {\n",
       "        text-align: right;\n",
       "    }\n",
       "</style>\n",
       "<table border=\"1\" class=\"dataframe\">\n",
       "  <thead>\n",
       "    <tr style=\"text-align: right;\">\n",
       "      <th></th>\n",
       "      <th>Case Number</th>\n",
       "      <th>Subject</th>\n",
       "      <th>Date Created</th>\n",
       "      <th>Date Closed</th>\n",
       "      <th>Origin</th>\n",
       "      <th>Priority</th>\n",
       "      <th>Team</th>\n",
       "      <th>Case Type</th>\n",
       "      <th>SLA</th>\n",
       "      <th>Problem Statement</th>\n",
       "      <th>Product</th>\n",
       "      <th>Product Area</th>\n",
       "      <th>Product Category</th>\n",
       "      <th>Product Type</th>\n",
       "      <th>Jurisdiction</th>\n",
       "      <th>Resolution</th>\n",
       "      <th>KB #</th>\n",
       "      <th>KB Title</th>\n",
       "    </tr>\n",
       "  </thead>\n",
       "  <tbody>\n",
       "    <tr>\n",
       "      <th>0</th>\n",
       "      <td>204977</td>\n",
       "      <td>Efile Acceptance</td>\n",
       "      <td>2017-01-02 05:39:00</td>\n",
       "      <td>2017-01-03 09:03:00</td>\n",
       "      <td>Web</td>\n",
       "      <td>Medium</td>\n",
       "      <td>Tax Preparation</td>\n",
       "      <td>Efile</td>\n",
       "      <td>Platinum</td>\n",
       "      <td>We transmitted a Michigan return still have no...</td>\n",
       "      <td>Compliance</td>\n",
       "      <td>Returns / Reports</td>\n",
       "      <td>NaN</td>\n",
       "      <td>NaN</td>\n",
       "      <td>US.MI</td>\n",
       "      <td>Answer exists KB</td>\n",
       "      <td>041324813494120</td>\n",
       "      <td>How to understand the Transmission Monitor</td>\n",
       "    </tr>\n",
       "    <tr>\n",
       "      <th>4</th>\n",
       "      <td>204986</td>\n",
       "      <td>LD400 is not reflecting a temporary adjustment</td>\n",
       "      <td>2017-01-03 07:17:00</td>\n",
       "      <td>2017-01-05 08:21:00</td>\n",
       "      <td>E-mail</td>\n",
       "      <td>Medium</td>\n",
       "      <td>Tax Preparation</td>\n",
       "      <td>Problem / Error</td>\n",
       "      <td>Platinum</td>\n",
       "      <td>LD400 is not reflecting a temporary adjustment</td>\n",
       "      <td>Compliance</td>\n",
       "      <td>Returns / Reports</td>\n",
       "      <td>NaN</td>\n",
       "      <td>NaN</td>\n",
       "      <td>US</td>\n",
       "      <td>Answer exists KB</td>\n",
       "      <td>041622907012748</td>\n",
       "      <td>Adjustments do not flow to LD400 workpaper and...</td>\n",
       "    </tr>\n",
       "    <tr>\n",
       "      <th>6</th>\n",
       "      <td>204992</td>\n",
       "      <td>Form 2220 Line 19 dates.</td>\n",
       "      <td>2017-01-03 07:36:00</td>\n",
       "      <td>2017-01-10 09:16:00</td>\n",
       "      <td>Web</td>\n",
       "      <td>Medium</td>\n",
       "      <td>Tax Preparation</td>\n",
       "      <td>Problem / Error</td>\n",
       "      <td>Platinum</td>\n",
       "      <td>Form 2220 Line 19 dates are repeating. This is...</td>\n",
       "      <td>Compliance</td>\n",
       "      <td>Amounts</td>\n",
       "      <td>NaN</td>\n",
       "      <td>NaN</td>\n",
       "      <td>US</td>\n",
       "      <td>Answer exists KB</td>\n",
       "      <td>041335414275440</td>\n",
       "      <td>IRS e-Services and Business MeF Maintenance in...</td>\n",
       "    </tr>\n",
       "    <tr>\n",
       "      <th>8</th>\n",
       "      <td>204997</td>\n",
       "      <td>Corptax Upgrade File</td>\n",
       "      <td>2017-01-03 08:15:00</td>\n",
       "      <td>2017-01-03 11:36:00</td>\n",
       "      <td>Web</td>\n",
       "      <td>Medium</td>\n",
       "      <td>IT / Systems</td>\n",
       "      <td>Question / How To</td>\n",
       "      <td>Silver</td>\n",
       "      <td>provide MSI Files</td>\n",
       "      <td>Compliance</td>\n",
       "      <td>Install / Rollover</td>\n",
       "      <td>Provide Corptax Client MSI Files</td>\n",
       "      <td>NaN</td>\n",
       "      <td>NaN</td>\n",
       "      <td>Answer exists KB</td>\n",
       "      <td>NaN</td>\n",
       "      <td>NaN</td>\n",
       "    </tr>\n",
       "    <tr>\n",
       "      <th>10</th>\n",
       "      <td>205001</td>\n",
       "      <td>Share the MSI files for Corptax 2016.2</td>\n",
       "      <td>2017-01-03 08:24:00</td>\n",
       "      <td>2017-01-03 11:30:00</td>\n",
       "      <td>Web</td>\n",
       "      <td>Medium</td>\n",
       "      <td>IT / Systems</td>\n",
       "      <td>Question / How To</td>\n",
       "      <td>Gold</td>\n",
       "      <td>provide MSI Files</td>\n",
       "      <td>Compliance</td>\n",
       "      <td>Install / Rollover</td>\n",
       "      <td>Provide Corptax Client MSI Files</td>\n",
       "      <td>NaN</td>\n",
       "      <td>NaN</td>\n",
       "      <td>Answer exists KB</td>\n",
       "      <td>NaN</td>\n",
       "      <td>NaN</td>\n",
       "    </tr>\n",
       "  </tbody>\n",
       "</table>\n",
       "</div>"
      ],
      "text/plain": [
       "    Case Number                                         Subject  \\\n",
       "0        204977                                Efile Acceptance   \n",
       "4        204986  LD400 is not reflecting a temporary adjustment   \n",
       "6        204992                        Form 2220 Line 19 dates.   \n",
       "8        204997                            Corptax Upgrade File   \n",
       "10       205001          Share the MSI files for Corptax 2016.2   \n",
       "\n",
       "          Date Created         Date Closed  Origin Priority             Team  \\\n",
       "0  2017-01-02 05:39:00 2017-01-03 09:03:00     Web   Medium  Tax Preparation   \n",
       "4  2017-01-03 07:17:00 2017-01-05 08:21:00  E-mail   Medium  Tax Preparation   \n",
       "6  2017-01-03 07:36:00 2017-01-10 09:16:00     Web   Medium  Tax Preparation   \n",
       "8  2017-01-03 08:15:00 2017-01-03 11:36:00     Web   Medium     IT / Systems   \n",
       "10 2017-01-03 08:24:00 2017-01-03 11:30:00     Web   Medium     IT / Systems   \n",
       "\n",
       "            Case Type       SLA  \\\n",
       "0               Efile  Platinum   \n",
       "4     Problem / Error  Platinum   \n",
       "6     Problem / Error  Platinum   \n",
       "8   Question / How To    Silver   \n",
       "10  Question / How To      Gold   \n",
       "\n",
       "                                    Problem Statement     Product  \\\n",
       "0   We transmitted a Michigan return still have no...  Compliance   \n",
       "4      LD400 is not reflecting a temporary adjustment  Compliance   \n",
       "6   Form 2220 Line 19 dates are repeating. This is...  Compliance   \n",
       "8                                   provide MSI Files  Compliance   \n",
       "10                                  provide MSI Files  Compliance   \n",
       "\n",
       "          Product Area                  Product Category Product Type  \\\n",
       "0    Returns / Reports                               NaN          NaN   \n",
       "4    Returns / Reports                               NaN          NaN   \n",
       "6              Amounts                               NaN          NaN   \n",
       "8   Install / Rollover  Provide Corptax Client MSI Files          NaN   \n",
       "10  Install / Rollover  Provide Corptax Client MSI Files          NaN   \n",
       "\n",
       "   Jurisdiction        Resolution             KB #  \\\n",
       "0         US.MI  Answer exists KB  041324813494120   \n",
       "4            US  Answer exists KB  041622907012748   \n",
       "6            US  Answer exists KB  041335414275440   \n",
       "8           NaN  Answer exists KB              NaN   \n",
       "10          NaN  Answer exists KB              NaN   \n",
       "\n",
       "                                             KB Title  \n",
       "0          How to understand the Transmission Monitor  \n",
       "4   Adjustments do not flow to LD400 workpaper and...  \n",
       "6   IRS e-Services and Business MeF Maintenance in...  \n",
       "8                                                 NaN  \n",
       "10                                                NaN  "
      ]
     },
     "execution_count": 16,
     "metadata": {},
     "output_type": "execute_result"
    }
   ],
   "source": [
    "df_comp = df[df[\"Product\"] == \"Compliance\"]\n",
    "df_comp.head()"
   ]
  },
  {
   "cell_type": "code",
   "execution_count": 17,
   "id": "50bc0341",
   "metadata": {},
   "outputs": [],
   "source": [
    "#dfc = df[df.Product == \"Compliance\"]\n",
    "df_comp['Date Created'] = df_comp['Date Created'].dt.date\n",
    "df_comp['Date Closed'] = df_comp['Date Closed'].dt.date\n",
    "df_comp['Date'] = pd.to_datetime(df_comp['Date Created'], errors='coerce')\n",
    "dfc = df_comp"
   ]
  },
  {
   "cell_type": "code",
   "execution_count": 18,
   "id": "9b4f6051",
   "metadata": {},
   "outputs": [
    {
     "data": {
      "text/html": [
       "<div>\n",
       "<style scoped>\n",
       "    .dataframe tbody tr th:only-of-type {\n",
       "        vertical-align: middle;\n",
       "    }\n",
       "\n",
       "    .dataframe tbody tr th {\n",
       "        vertical-align: top;\n",
       "    }\n",
       "\n",
       "    .dataframe thead th {\n",
       "        text-align: right;\n",
       "    }\n",
       "</style>\n",
       "<table border=\"1\" class=\"dataframe\">\n",
       "  <thead>\n",
       "    <tr style=\"text-align: right;\">\n",
       "      <th></th>\n",
       "      <th>Date</th>\n",
       "      <th>Case Number</th>\n",
       "    </tr>\n",
       "    <tr>\n",
       "      <th>Date</th>\n",
       "      <th></th>\n",
       "      <th></th>\n",
       "    </tr>\n",
       "  </thead>\n",
       "  <tbody>\n",
       "    <tr>\n",
       "      <th>2017-01-02</th>\n",
       "      <td>2017-01-02</td>\n",
       "      <td>1</td>\n",
       "    </tr>\n",
       "    <tr>\n",
       "      <th>2017-01-03</th>\n",
       "      <td>2017-01-03</td>\n",
       "      <td>35</td>\n",
       "    </tr>\n",
       "    <tr>\n",
       "      <th>2017-01-04</th>\n",
       "      <td>2017-01-04</td>\n",
       "      <td>38</td>\n",
       "    </tr>\n",
       "    <tr>\n",
       "      <th>2017-01-05</th>\n",
       "      <td>2017-01-05</td>\n",
       "      <td>48</td>\n",
       "    </tr>\n",
       "    <tr>\n",
       "      <th>2017-01-06</th>\n",
       "      <td>2017-01-06</td>\n",
       "      <td>28</td>\n",
       "    </tr>\n",
       "    <tr>\n",
       "      <th>...</th>\n",
       "      <td>...</td>\n",
       "      <td>...</td>\n",
       "    </tr>\n",
       "    <tr>\n",
       "      <th>2022-08-11</th>\n",
       "      <td>2022-08-11</td>\n",
       "      <td>53</td>\n",
       "    </tr>\n",
       "    <tr>\n",
       "      <th>2022-08-12</th>\n",
       "      <td>2022-08-12</td>\n",
       "      <td>49</td>\n",
       "    </tr>\n",
       "    <tr>\n",
       "      <th>2022-08-13</th>\n",
       "      <td>2022-08-13</td>\n",
       "      <td>4</td>\n",
       "    </tr>\n",
       "    <tr>\n",
       "      <th>2022-08-14</th>\n",
       "      <td>2022-08-14</td>\n",
       "      <td>5</td>\n",
       "    </tr>\n",
       "    <tr>\n",
       "      <th>2022-08-15</th>\n",
       "      <td>2022-08-15</td>\n",
       "      <td>39</td>\n",
       "    </tr>\n",
       "  </tbody>\n",
       "</table>\n",
       "<p>1950 rows × 2 columns</p>\n",
       "</div>"
      ],
      "text/plain": [
       "                  Date  Case Number\n",
       "Date                               \n",
       "2017-01-02  2017-01-02            1\n",
       "2017-01-03  2017-01-03           35\n",
       "2017-01-04  2017-01-04           38\n",
       "2017-01-05  2017-01-05           48\n",
       "2017-01-06  2017-01-06           28\n",
       "...                ...          ...\n",
       "2022-08-11  2022-08-11           53\n",
       "2022-08-12  2022-08-12           49\n",
       "2022-08-13  2022-08-13            4\n",
       "2022-08-14  2022-08-14            5\n",
       "2022-08-15  2022-08-15           39\n",
       "\n",
       "[1950 rows x 2 columns]"
      ]
     },
     "execution_count": 18,
     "metadata": {},
     "output_type": "execute_result"
    }
   ],
   "source": [
    "# Adding a new column which will have the number of tickets per day\n",
    "newdf = dfc[[\"Date\",\"Case Number\"]]\n",
    "newdf.drop_duplicates(inplace=True)\n",
    "newdf = pd.DataFrame(newdf.groupby([newdf[\"Date\"].dt.date]).count()[\"Case Number\"])\n",
    "newdf = newdf.reset_index()\n",
    "newdf.index = newdf.Date\n",
    "newdf"
   ]
  },
  {
   "cell_type": "code",
   "execution_count": 19,
   "id": "32cefbd9",
   "metadata": {},
   "outputs": [
    {
     "name": "stdout",
     "output_type": "stream",
     "text": [
      "<class 'pandas.core.frame.DataFrame'>\n",
      "DatetimeIndex: 2052 entries, 2017-01-02 to 2022-08-15\n",
      "Freq: D\n",
      "Data columns (total 2 columns):\n",
      " #   Column       Non-Null Count  Dtype         \n",
      "---  ------       --------------  -----         \n",
      " 0   Date         1950 non-null   datetime64[ns]\n",
      " 1   Case Number  1950 non-null   float64       \n",
      "dtypes: datetime64[ns](1), float64(1)\n",
      "memory usage: 48.1 KB\n"
     ]
    }
   ],
   "source": [
    "newdf['Date'] = pd.to_datetime(newdf['Date'], errors='coerce')\n",
    "newdf = newdf.asfreq('D')\n",
    "newdf.info()"
   ]
  },
  {
   "cell_type": "code",
   "execution_count": 20,
   "id": "8279be41",
   "metadata": {},
   "outputs": [
    {
     "data": {
      "text/html": [
       "<div>\n",
       "<style scoped>\n",
       "    .dataframe tbody tr th:only-of-type {\n",
       "        vertical-align: middle;\n",
       "    }\n",
       "\n",
       "    .dataframe tbody tr th {\n",
       "        vertical-align: top;\n",
       "    }\n",
       "\n",
       "    .dataframe thead th {\n",
       "        text-align: right;\n",
       "    }\n",
       "</style>\n",
       "<table border=\"1\" class=\"dataframe\">\n",
       "  <thead>\n",
       "    <tr style=\"text-align: right;\">\n",
       "      <th></th>\n",
       "      <th>Case Number</th>\n",
       "    </tr>\n",
       "    <tr>\n",
       "      <th>Date</th>\n",
       "      <th></th>\n",
       "    </tr>\n",
       "  </thead>\n",
       "  <tbody>\n",
       "    <tr>\n",
       "      <th>2017-01-31</th>\n",
       "      <td>1066.0</td>\n",
       "    </tr>\n",
       "    <tr>\n",
       "      <th>2017-02-28</th>\n",
       "      <td>1300.0</td>\n",
       "    </tr>\n",
       "    <tr>\n",
       "      <th>2017-03-31</th>\n",
       "      <td>2092.0</td>\n",
       "    </tr>\n",
       "    <tr>\n",
       "      <th>2017-04-30</th>\n",
       "      <td>1247.0</td>\n",
       "    </tr>\n",
       "    <tr>\n",
       "      <th>2017-05-31</th>\n",
       "      <td>1407.0</td>\n",
       "    </tr>\n",
       "    <tr>\n",
       "      <th>...</th>\n",
       "      <td>...</td>\n",
       "    </tr>\n",
       "    <tr>\n",
       "      <th>2022-04-30</th>\n",
       "      <td>914.0</td>\n",
       "    </tr>\n",
       "    <tr>\n",
       "      <th>2022-05-31</th>\n",
       "      <td>777.0</td>\n",
       "    </tr>\n",
       "    <tr>\n",
       "      <th>2022-06-30</th>\n",
       "      <td>952.0</td>\n",
       "    </tr>\n",
       "    <tr>\n",
       "      <th>2022-07-31</th>\n",
       "      <td>870.0</td>\n",
       "    </tr>\n",
       "    <tr>\n",
       "      <th>2022-08-31</th>\n",
       "      <td>581.0</td>\n",
       "    </tr>\n",
       "  </tbody>\n",
       "</table>\n",
       "<p>68 rows × 1 columns</p>\n",
       "</div>"
      ],
      "text/plain": [
       "            Case Number\n",
       "Date                   \n",
       "2017-01-31       1066.0\n",
       "2017-02-28       1300.0\n",
       "2017-03-31       2092.0\n",
       "2017-04-30       1247.0\n",
       "2017-05-31       1407.0\n",
       "...                 ...\n",
       "2022-04-30        914.0\n",
       "2022-05-31        777.0\n",
       "2022-06-30        952.0\n",
       "2022-07-31        870.0\n",
       "2022-08-31        581.0\n",
       "\n",
       "[68 rows x 1 columns]"
      ]
     },
     "execution_count": 20,
     "metadata": {},
     "output_type": "execute_result"
    }
   ],
   "source": [
    "newdf = newdf.groupby(pd.Grouper(freq=\"M\")).sum()\n",
    "newdf"
   ]
  },
  {
   "cell_type": "code",
   "execution_count": 21,
   "id": "addc76de",
   "metadata": {},
   "outputs": [
    {
     "name": "stdout",
     "output_type": "stream",
     "text": [
      "<class 'pandas.core.frame.DataFrame'>\n",
      "DatetimeIndex: 68 entries, 2017-01-31 to 2022-08-31\n",
      "Freq: M\n",
      "Data columns (total 1 columns):\n",
      " #   Column       Non-Null Count  Dtype  \n",
      "---  ------       --------------  -----  \n",
      " 0   Case Number  68 non-null     float64\n",
      "dtypes: float64(1)\n",
      "memory usage: 1.1 KB\n"
     ]
    }
   ],
   "source": [
    "month_newdf = newdf\n",
    "month_newdf.info()"
   ]
  },
  {
   "cell_type": "code",
   "execution_count": 22,
   "id": "6c20e649",
   "metadata": {},
   "outputs": [
    {
     "name": "stdout",
     "output_type": "stream",
     "text": [
      "----------------------------------------------------------------------------------------------------\n",
      "Augmented Dickey-Fuller results:\n",
      "the test-stat value is: 1.01\n",
      "the p-value is 0.9944\n",
      "the series is not stationary\n",
      "----------------------------------------------------------------------------------------------------\n"
     ]
    }
   ],
   "source": [
    "f = Forecaster(y=newdf['Case Number'],current_dates=newdf.index)\n",
    "f.generate_future_dates(12)\n",
    "f.set_test_length(.2)\n",
    "f.set_estimator('arima')\n",
    "critical_pval = 0.05\n",
    "print('-'*100)\n",
    "print('Augmented Dickey-Fuller results:')\n",
    "stat, pval, _, _, _, _ = f.adf_test(full_res=True)\n",
    "print('the test-stat value is: {:.2f}'.format(stat))\n",
    "print('the p-value is {:.4f}'.format(pval))\n",
    "print('the series is {}'.format('stationary' if pval < critical_pval else 'not stationary'))\n",
    "print('-'*100)"
   ]
  },
  {
   "cell_type": "code",
   "execution_count": 23,
   "id": "4c370460",
   "metadata": {},
   "outputs": [
    {
     "name": "stdout",
     "output_type": "stream",
     "text": [
      "Performing stepwise search to minimize aic\n",
      " ARIMA(2,0,1)(1,1,1)[12] intercept   : AIC=inf, Time=0.38 sec\n",
      " ARIMA(0,0,0)(0,1,0)[12] intercept   : AIC=652.143, Time=0.01 sec\n",
      " ARIMA(1,0,0)(1,1,0)[12] intercept   : AIC=642.270, Time=0.16 sec\n",
      " ARIMA(0,0,1)(0,1,1)[12] intercept   : AIC=inf, Time=0.17 sec\n",
      " ARIMA(0,0,0)(0,1,0)[12]             : AIC=650.919, Time=0.00 sec\n",
      " ARIMA(1,0,0)(0,1,0)[12] intercept   : AIC=645.736, Time=0.05 sec\n",
      " ARIMA(1,0,0)(2,1,0)[12] intercept   : AIC=643.558, Time=0.35 sec\n",
      " ARIMA(1,0,0)(1,1,1)[12] intercept   : AIC=inf, Time=0.35 sec\n",
      " ARIMA(1,0,0)(0,1,1)[12] intercept   : AIC=inf, Time=0.23 sec\n",
      " ARIMA(1,0,0)(2,1,1)[12] intercept   : AIC=inf, Time=0.60 sec\n",
      " ARIMA(0,0,0)(1,1,0)[12] intercept   : AIC=644.076, Time=0.12 sec\n",
      " ARIMA(2,0,0)(1,1,0)[12] intercept   : AIC=644.263, Time=0.20 sec\n",
      " ARIMA(1,0,1)(1,1,0)[12] intercept   : AIC=640.515, Time=0.31 sec\n",
      " ARIMA(1,0,1)(0,1,0)[12] intercept   : AIC=643.747, Time=0.11 sec\n",
      " ARIMA(1,0,1)(2,1,0)[12] intercept   : AIC=642.151, Time=0.44 sec\n",
      " ARIMA(1,0,1)(1,1,1)[12] intercept   : AIC=inf, Time=0.49 sec\n",
      " ARIMA(1,0,1)(0,1,1)[12] intercept   : AIC=inf, Time=0.26 sec\n",
      " ARIMA(1,0,1)(2,1,1)[12] intercept   : AIC=inf, Time=0.64 sec\n",
      " ARIMA(0,0,1)(1,1,0)[12] intercept   : AIC=641.012, Time=0.23 sec\n",
      " ARIMA(2,0,1)(1,1,0)[12] intercept   : AIC=642.421, Time=0.27 sec\n",
      " ARIMA(1,0,2)(1,1,0)[12] intercept   : AIC=642.498, Time=0.21 sec\n",
      " ARIMA(0,0,2)(1,1,0)[12] intercept   : AIC=641.539, Time=0.18 sec\n",
      " ARIMA(2,0,2)(1,1,0)[12] intercept   : AIC=643.469, Time=0.36 sec\n",
      " ARIMA(1,0,1)(1,1,0)[12]             : AIC=638.517, Time=0.19 sec\n",
      " ARIMA(1,0,1)(0,1,0)[12]             : AIC=642.338, Time=0.08 sec\n",
      " ARIMA(1,0,1)(2,1,0)[12]             : AIC=640.152, Time=0.42 sec\n",
      " ARIMA(1,0,1)(1,1,1)[12]             : AIC=inf, Time=0.38 sec\n",
      " ARIMA(1,0,1)(0,1,1)[12]             : AIC=inf, Time=0.28 sec\n",
      " ARIMA(1,0,1)(2,1,1)[12]             : AIC=inf, Time=0.70 sec\n",
      " ARIMA(0,0,1)(1,1,0)[12]             : AIC=639.015, Time=0.07 sec\n",
      " ARIMA(1,0,0)(1,1,0)[12]             : AIC=640.270, Time=0.06 sec\n",
      " ARIMA(2,0,1)(1,1,0)[12]             : AIC=640.403, Time=0.29 sec\n",
      " ARIMA(1,0,2)(1,1,0)[12]             : AIC=640.473, Time=0.18 sec\n",
      " ARIMA(0,0,0)(1,1,0)[12]             : AIC=642.086, Time=0.07 sec\n",
      " ARIMA(0,0,2)(1,1,0)[12]             : AIC=639.543, Time=0.10 sec\n",
      " ARIMA(2,0,0)(1,1,0)[12]             : AIC=642.263, Time=0.10 sec\n",
      " ARIMA(2,0,2)(1,1,0)[12]             : AIC=641.504, Time=0.30 sec\n",
      "\n",
      "Best model:  ARIMA(1,0,1)(1,1,0)[12]          \n",
      "Total fit time: 9.406 seconds\n"
     ]
    }
   ],
   "source": [
    "auto_arima(\n",
    "    f,\n",
    "    start_P=1,\n",
    "    start_q=1,\n",
    "    max_p=10,\n",
    "    max_q=10,\n",
    "    m=12,\n",
    "    seasonal=True,\n",
    "    max_P=10, \n",
    "    max_D=10,\n",
    "    max_Q=10,\n",
    "    max_d=10,\n",
    "    trace=True,\n",
    "    error_action='ignore',\n",
    "    suppress_warnings=True,\n",
    "    stepwise=True,\n",
    "    information_criterion=\"aic\",\n",
    "    alpha=0.05,\n",
    "    scoring='mse',\n",
    "    call_me='auto_arima',\n",
    ")"
   ]
  },
  {
   "cell_type": "code",
   "execution_count": 24,
   "id": "5c6065ba",
   "metadata": {},
   "outputs": [
    {
     "data": {
      "image/png": "[encoded data removed]",
      "text/plain": [
       "<Figure size 1008x504 with 1 Axes>"
      ]
     },
     "metadata": {},
     "output_type": "display_data"
    }
   ],
   "source": [
    "f.plot_test_set(ci=False,models='auto_arima')\n",
    "plt.title('ARIMA Test-Set Performance',size=14)\n",
    "plt.show()"
   ]
  },
  {
   "cell_type": "code",
   "execution_count": 25,
   "id": "f5af03fa",
   "metadata": {},
   "outputs": [
    {
     "data": {
      "image/png": "[encoded data removed]",
      "text/plain": [
       "<Figure size 1008x504 with 1 Axes>"
      ]
     },
     "metadata": {},
     "output_type": "display_data"
    },
    {
     "data": {
      "image/png": "[encoded data removed]",
      "text/plain": [
       "<Figure size 1008x504 with 1 Axes>"
      ]
     },
     "metadata": {},
     "output_type": "display_data"
    }
   ],
   "source": [
    "f.plot_fitted()\n",
    "f.plot(ci=False,models='auto_arima')\n",
    "plt.title('ARIMA Forecast Performance',size=14)\n",
    "plt.show()"
   ]
  },
  {
   "cell_type": "code",
   "execution_count": 26,
   "id": "f4cac357",
   "metadata": {},
   "outputs": [
    {
     "data": {
      "text/plain": [
       "808.7819639976585"
      ]
     },
     "execution_count": 26,
     "metadata": {},
     "output_type": "execute_result"
    }
   ],
   "source": [
    "result_train = f.export_fitted_vals(model = \"auto_arima\")\n",
    "from sklearn.metrics import mean_squared_error\n",
    "from math import sqrt\n",
    "\n",
    "rms = sqrt(mean_squared_error(result_train[\"Actuals\"], result_train[\"FittedVals\"]))\n",
    "rms"
   ]
  },
  {
   "cell_type": "code",
   "execution_count": 29,
   "id": "67a67536",
   "metadata": {},
   "outputs": [
    {
     "data": {
      "text/plain": [
       "0     1066.0\n",
       "1     1300.0\n",
       "2     2092.0\n",
       "3     1247.0\n",
       "4     1407.0\n",
       "       ...  \n",
       "63     914.0\n",
       "64     777.0\n",
       "65     952.0\n",
       "66     870.0\n",
       "67     581.0\n",
       "Name: Actuals, Length: 68, dtype: float64"
      ]
     },
     "execution_count": 29,
     "metadata": {},
     "output_type": "execute_result"
    }
   ],
   "source": [
    "result_train[\"Actuals\"]"
   ]
  },
  {
   "cell_type": "code",
   "execution_count": 42,
   "id": "959abb5f",
   "metadata": {},
   "outputs": [
    {
     "name": "stdout",
     "output_type": "stream",
     "text": [
      "        DATE  Actuals  FittedVals    Residuals\n",
      "7 2017-08-31   2311.0  255.211987  2055.788013\n",
      "         DATE  Actuals   FittedVals   Residuals\n",
      "19 2018-08-31   2107.0  2238.858966 -131.858966\n",
      "         DATE  Actuals   FittedVals  Residuals\n",
      "31 2019-08-31   2343.0  2337.278865   5.721135\n",
      "         DATE  Actuals   FittedVals   Residuals\n",
      "43 2020-08-31   1904.0  2237.597881 -333.597881\n",
      "         DATE  Actuals   FittedVals   Residuals\n",
      "55 2021-08-31   1517.0  1667.884282 -150.884282\n",
      "         DATE  Actuals   FittedVals   Residuals\n",
      "67 2022-08-31    581.0  1422.679073 -841.679073\n"
     ]
    }
   ],
   "source": [
    "print(result_train[result_train[\"DATE\"] == \"2017-08-31\"])\n",
    "print(result_train[result_train[\"DATE\"] == \"2018-08-31\"])\n",
    "print(result_train[result_train[\"DATE\"] == \"2019-08-31\"])\n",
    "print(result_train[result_train[\"DATE\"] == \"2020-08-31\"])\n",
    "print(result_train[result_train[\"DATE\"] == \"2021-08-31\"])\n",
    "print(result_train[result_train[\"DATE\"] == \"2022-08-31\"])"
   ]
  },
  {
   "cell_type": "code",
   "execution_count": 27,
   "id": "47856fcf",
   "metadata": {},
   "outputs": [
    {
     "data": {
      "text/html": [
       "<div>\n",
       "<style scoped>\n",
       "    .dataframe tbody tr th:only-of-type {\n",
       "        vertical-align: middle;\n",
       "    }\n",
       "\n",
       "    .dataframe tbody tr th {\n",
       "        vertical-align: top;\n",
       "    }\n",
       "\n",
       "    .dataframe thead th {\n",
       "        text-align: right;\n",
       "    }\n",
       "</style>\n",
       "<table border=\"1\" class=\"dataframe\">\n",
       "  <thead>\n",
       "    <tr style=\"text-align: right;\">\n",
       "      <th></th>\n",
       "      <th>ModelNickname</th>\n",
       "      <th>Estimator</th>\n",
       "      <th>Xvars</th>\n",
       "      <th>HyperParams</th>\n",
       "      <th>Scaler</th>\n",
       "      <th>Observations</th>\n",
       "      <th>Tuned</th>\n",
       "      <th>CrossValidated</th>\n",
       "      <th>DynamicallyTested</th>\n",
       "      <th>Integration</th>\n",
       "      <th>TestSetLength</th>\n",
       "      <th>TestSetRMSE</th>\n",
       "      <th>TestSetMAPE</th>\n",
       "      <th>TestSetMAE</th>\n",
       "      <th>TestSetR2</th>\n",
       "      <th>LastTestSetPrediction</th>\n",
       "      <th>LastTestSetActual</th>\n",
       "      <th>CILevel</th>\n",
       "      <th>CIPlusMinus</th>\n",
       "      <th>InSampleRMSE</th>\n",
       "      <th>InSampleMAPE</th>\n",
       "      <th>InSampleMAE</th>\n",
       "      <th>InSampleR2</th>\n",
       "      <th>ValidationSetLength</th>\n",
       "      <th>ValidationMetric</th>\n",
       "      <th>ValidationMetricValue</th>\n",
       "      <th>models</th>\n",
       "      <th>weights</th>\n",
       "      <th>LevelTestSetRMSE</th>\n",
       "      <th>LevelTestSetMAPE</th>\n",
       "      <th>LevelTestSetMAE</th>\n",
       "      <th>LevelTestSetR2</th>\n",
       "      <th>LevelInSampleRMSE</th>\n",
       "      <th>LevelInSampleMAPE</th>\n",
       "      <th>LevelInSampleMAE</th>\n",
       "      <th>LevelInSampleR2</th>\n",
       "      <th>best_model</th>\n",
       "    </tr>\n",
       "  </thead>\n",
       "  <tbody>\n",
       "    <tr>\n",
       "      <th>0</th>\n",
       "      <td>auto_arima</td>\n",
       "      <td>arima</td>\n",
       "      <td>None</td>\n",
       "      <td>{'order': (1, 0, 1), 'seasonal_order': (1, 1, 0, 12), 'trend': None}</td>\n",
       "      <td>None</td>\n",
       "      <td>68</td>\n",
       "      <td>False</td>\n",
       "      <td>False</td>\n",
       "      <td>True</td>\n",
       "      <td>0</td>\n",
       "      <td>13</td>\n",
       "      <td>677.917098</td>\n",
       "      <td>0.473735</td>\n",
       "      <td>520.704109</td>\n",
       "      <td>-0.09791</td>\n",
       "      <td>1895.557101</td>\n",
       "      <td>581.0</td>\n",
       "      <td>0.95</td>\n",
       "      <td>1196.425985</td>\n",
       "      <td>808.781964</td>\n",
       "      <td>0.300714</td>\n",
       "      <td>503.783458</td>\n",
       "      <td>0.185632</td>\n",
       "      <td>None</td>\n",
       "      <td>None</td>\n",
       "      <td>None</td>\n",
       "      <td>None</td>\n",
       "      <td>None</td>\n",
       "      <td>677.917098</td>\n",
       "      <td>0.473735</td>\n",
       "      <td>520.704109</td>\n",
       "      <td>-0.09791</td>\n",
       "      <td>808.781964</td>\n",
       "      <td>0.300714</td>\n",
       "      <td>503.783458</td>\n",
       "      <td>0.185632</td>\n",
       "      <td>True</td>\n",
       "    </tr>\n",
       "  </tbody>\n",
       "</table>\n",
       "</div>"
      ],
      "text/plain": [
       "  ModelNickname Estimator Xvars  \\\n",
       "0    auto_arima     arima  None   \n",
       "\n",
       "                                                            HyperParams  \\\n",
       "0  {'order': (1, 0, 1), 'seasonal_order': (1, 1, 0, 12), 'trend': None}   \n",
       "\n",
       "  Scaler  Observations  Tuned  CrossValidated  DynamicallyTested  Integration  \\\n",
       "0   None            68  False           False               True            0   \n",
       "\n",
       "   TestSetLength  TestSetRMSE  TestSetMAPE  TestSetMAE  TestSetR2  \\\n",
       "0             13   677.917098     0.473735  520.704109   -0.09791   \n",
       "\n",
       "   LastTestSetPrediction  LastTestSetActual  CILevel  CIPlusMinus  \\\n",
       "0            1895.557101              581.0     0.95  1196.425985   \n",
       "\n",
       "   InSampleRMSE  InSampleMAPE  InSampleMAE  InSampleR2 ValidationSetLength  \\\n",
       "0    808.781964      0.300714   503.783458    0.185632                None   \n",
       "\n",
       "  ValidationMetric ValidationMetricValue models weights  LevelTestSetRMSE  \\\n",
       "0             None                  None   None    None        677.917098   \n",
       "\n",
       "   LevelTestSetMAPE  LevelTestSetMAE  LevelTestSetR2  LevelInSampleRMSE  \\\n",
       "0          0.473735       520.704109        -0.09791         808.781964   \n",
       "\n",
       "   LevelInSampleMAPE  LevelInSampleMAE  LevelInSampleR2  best_model  \n",
       "0           0.300714        503.783458         0.185632        True  "
      ]
     },
     "execution_count": 27,
     "metadata": {},
     "output_type": "execute_result"
    }
   ],
   "source": [
    "pd.options.display.max_colwidth = 100\n",
    "# results = f.export(to_excel=True,\n",
    "#                    excel_name='arima_results.xlsx',\n",
    "#                    determine_best_by='TestSetMAPE')\n",
    "results = f.export(to_excel=True,\n",
    "                   excel_name='arima_results.xlsx')\n",
    "pd.set_option('display.max_columns', None)\n",
    "results[\"model_summaries\"]"
   ]
  },
  {
   "cell_type": "code",
   "execution_count": 28,
   "id": "484fdce1",
   "metadata": {},
   "outputs": [
    {
     "name": "stdout",
     "output_type": "stream",
     "text": [
      "mean 1620.8235294117646\n",
      "max 5226.0\n",
      "min 581.0\n",
      "std 902.8970609774325\n",
      "lvl_fcsts          DATE   auto_arima\n",
      "0  2022-09-30  1889.421139\n",
      "1  2022-10-31  2733.757837\n",
      "2  2022-11-30  1294.865269\n",
      "3  2022-12-31   619.085756\n",
      "4  2023-01-31   909.955076\n",
      "5  2023-02-28   940.730385\n",
      "6  2023-03-31  1144.475346\n",
      "7  2023-04-30   931.090655\n",
      "8  2023-05-31   790.075445\n",
      "9  2023-06-30   975.325472\n",
      "10 2023-07-31   891.573538\n",
      "11 2023-08-31   703.875850\n"
     ]
    }
   ],
   "source": [
    "print(\"mean\",newdf.mean()[0])\n",
    "print(\"max\",newdf.max()[0])\n",
    "print(\"min\",newdf.min()[0])\n",
    "print(\"std\",newdf.std()[0])\n",
    "print(\"lvl_fcsts\",results[\"lvl_fcsts\"])"
   ]
  },
  {
   "cell_type": "code",
   "execution_count": 24,
   "id": "fcc58c64",
   "metadata": {},
   "outputs": [
    {
     "name": "stdout",
     "output_type": "stream",
     "text": [
      "         DATE   auto_arima\n",
      "0  2022-09-30  1889.421139\n",
      "1  2022-10-31  2733.757837\n",
      "2  2022-11-30  1294.865269\n",
      "3  2022-12-31   619.085756\n",
      "4  2023-01-31   909.955076\n",
      "5  2023-02-28   940.730385\n",
      "6  2023-03-31  1144.475346\n",
      "7  2023-04-30   931.090655\n",
      "8  2023-05-31   790.075445\n",
      "9  2023-06-30   975.325472\n",
      "10 2023-07-31   891.573538\n",
      "11 2023-08-31   703.875850\n"
     ]
    }
   ],
   "source": []
  },
  {
   "cell_type": "code",
   "execution_count": null,
   "id": "ccd14799",
   "metadata": {},
   "outputs": [],
   "source": []
  },
  {
   "cell_type": "code",
   "execution_count": null,
   "id": "761468cf",
   "metadata": {},
   "outputs": [],
   "source": []
  },
  {
   "cell_type": "code",
   "execution_count": null,
   "id": "39716533",
   "metadata": {},
   "outputs": [],
   "source": []
  },
  {
   "cell_type": "code",
   "execution_count": null,
   "id": "ec910f89",
   "metadata": {},
   "outputs": [],
   "source": []
  },
  {
   "cell_type": "code",
   "execution_count": null,
   "id": "9e1dfec6",
   "metadata": {},
   "outputs": [],
   "source": []
  },
  {
   "cell_type": "code",
   "execution_count": null,
   "id": "3c62135a",
   "metadata": {},
   "outputs": [],
   "source": []
  },
  {
   "cell_type": "code",
   "execution_count": 9,
   "id": "564def38",
   "metadata": {},
   "outputs": [
    {
     "data": {
      "image/png": "[encoded data removed]",
      "text/plain": [
       "<Figure size 1080x432 with 1 Axes>"
      ]
     },
     "metadata": {},
     "output_type": "display_data"
    }
   ],
   "source": [
    "# Plotting number of tickets per day\n",
    "month_newdf.plot(figsize=(15,6))\n",
    "plt.show()"
   ]
  },
  {
   "cell_type": "code",
   "execution_count": 19,
   "id": "fd301b86",
   "metadata": {},
   "outputs": [
    {
     "data": {
      "text/plain": [
       "[(0, 0, 0),\n",
       " (0, 0, 1),\n",
       " (0, 0, 2),\n",
       " (0, 0, 3),\n",
       " (0, 0, 4),\n",
       " (0, 1, 0),\n",
       " (0, 1, 1),\n",
       " (0, 1, 2),\n",
       " (0, 1, 3),\n",
       " (0, 1, 4),\n",
       " (0, 2, 0),\n",
       " (0, 2, 1),\n",
       " (0, 2, 2),\n",
       " (0, 2, 3),\n",
       " (0, 2, 4),\n",
       " (0, 3, 0),\n",
       " (0, 3, 1),\n",
       " (0, 3, 2),\n",
       " (0, 3, 3),\n",
       " (0, 3, 4),\n",
       " (0, 4, 0),\n",
       " (0, 4, 1),\n",
       " (0, 4, 2),\n",
       " (0, 4, 3),\n",
       " (0, 4, 4),\n",
       " (1, 0, 0),\n",
       " (1, 0, 1),\n",
       " (1, 0, 2),\n",
       " (1, 0, 3),\n",
       " (1, 0, 4),\n",
       " (1, 1, 0),\n",
       " (1, 1, 1),\n",
       " (1, 1, 2),\n",
       " (1, 1, 3),\n",
       " (1, 1, 4),\n",
       " (1, 2, 0),\n",
       " (1, 2, 1),\n",
       " (1, 2, 2),\n",
       " (1, 2, 3),\n",
       " (1, 2, 4),\n",
       " (1, 3, 0),\n",
       " (1, 3, 1),\n",
       " (1, 3, 2),\n",
       " (1, 3, 3),\n",
       " (1, 3, 4),\n",
       " (1, 4, 0),\n",
       " (1, 4, 1),\n",
       " (1, 4, 2),\n",
       " (1, 4, 3),\n",
       " (1, 4, 4),\n",
       " (2, 0, 0),\n",
       " (2, 0, 1),\n",
       " (2, 0, 2),\n",
       " (2, 0, 3),\n",
       " (2, 0, 4),\n",
       " (2, 1, 0),\n",
       " (2, 1, 1),\n",
       " (2, 1, 2),\n",
       " (2, 1, 3),\n",
       " (2, 1, 4),\n",
       " (2, 2, 0),\n",
       " (2, 2, 1),\n",
       " (2, 2, 2),\n",
       " (2, 2, 3),\n",
       " (2, 2, 4),\n",
       " (2, 3, 0),\n",
       " (2, 3, 1),\n",
       " (2, 3, 2),\n",
       " (2, 3, 3),\n",
       " (2, 3, 4),\n",
       " (2, 4, 0),\n",
       " (2, 4, 1),\n",
       " (2, 4, 2),\n",
       " (2, 4, 3),\n",
       " (2, 4, 4),\n",
       " (3, 0, 0),\n",
       " (3, 0, 1),\n",
       " (3, 0, 2),\n",
       " (3, 0, 3),\n",
       " (3, 0, 4),\n",
       " (3, 1, 0),\n",
       " (3, 1, 1),\n",
       " (3, 1, 2),\n",
       " (3, 1, 3),\n",
       " (3, 1, 4),\n",
       " (3, 2, 0),\n",
       " (3, 2, 1),\n",
       " (3, 2, 2),\n",
       " (3, 2, 3),\n",
       " (3, 2, 4),\n",
       " (3, 3, 0),\n",
       " (3, 3, 1),\n",
       " (3, 3, 2),\n",
       " (3, 3, 3),\n",
       " (3, 3, 4),\n",
       " (3, 4, 0),\n",
       " (3, 4, 1),\n",
       " (3, 4, 2),\n",
       " (3, 4, 3),\n",
       " (3, 4, 4),\n",
       " (4, 0, 0),\n",
       " (4, 0, 1),\n",
       " (4, 0, 2),\n",
       " (4, 0, 3),\n",
       " (4, 0, 4),\n",
       " (4, 1, 0),\n",
       " (4, 1, 1),\n",
       " (4, 1, 2),\n",
       " (4, 1, 3),\n",
       " (4, 1, 4),\n",
       " (4, 2, 0),\n",
       " (4, 2, 1),\n",
       " (4, 2, 2),\n",
       " (4, 2, 3),\n",
       " (4, 2, 4),\n",
       " (4, 3, 0),\n",
       " (4, 3, 1),\n",
       " (4, 3, 2),\n",
       " (4, 3, 3),\n",
       " (4, 3, 4),\n",
       " (4, 4, 0),\n",
       " (4, 4, 1),\n",
       " (4, 4, 2),\n",
       " (4, 4, 3),\n",
       " (4, 4, 4)]"
      ]
     },
     "execution_count": 19,
     "metadata": {},
     "output_type": "execute_result"
    }
   ],
   "source": [
    "import itertools\n",
    "# Making a list of values for p,d & q\n",
    "p = d = q = range(0,5)\n",
    "pdq = list(itertools.product(p,d,q))\n",
    "pdq"
   ]
  },
  {
   "cell_type": "code",
   "execution_count": 20,
   "id": "a28fc2be",
   "metadata": {
    "scrolled": false
   },
   "outputs": [
    {
     "name": "stdout",
     "output_type": "stream",
     "text": [
      "ARIMA(0, 0, 0) - AIC:1201.0331655274267\n",
      "ARIMA(0, 0, 1) - AIC:1126.8227188243904\n",
      "ARIMA(0, 0, 2) - AIC:1094.7848229266933\n",
      "ARIMA(0, 0, 3) - AIC:1069.822031634407\n",
      "ARIMA(0, 0, 4) - AIC:1050.5271603964804\n",
      "ARIMA(0, 1, 0) - AIC:1086.5952992136035\n",
      "ARIMA(0, 1, 1) - AIC:1072.0274590956203\n",
      "ARIMA(0, 1, 2) - AIC:1038.2851137902044\n",
      "ARIMA(0, 1, 3) - AIC:1025.0387810701245\n",
      "ARIMA(0, 1, 4) - AIC:1011.5642109628578\n",
      "ARIMA(0, 2, 0) - AIC:1118.6515729571556\n",
      "ARIMA(0, 2, 1) - AIC:1064.4102545202431\n",
      "ARIMA(0, 2, 2) - AIC:1046.3267580154104\n",
      "ARIMA(0, 2, 3) - AIC:1013.9101573951882\n"
     ]
    },
    {
     "name": "stderr",
     "output_type": "stream",
     "text": [
      "C:\\Users\\shubendu.biswas\\Anaconda3\\lib\\site-packages\\statsmodels\\base\\model.py:604: ConvergenceWarning: Maximum Likelihood optimization failed to converge. Check mle_retvals\n",
      "  warnings.warn(\"Maximum Likelihood optimization failed to \"\n"
     ]
    },
    {
     "name": "stdout",
     "output_type": "stream",
     "text": [
      "ARIMA(0, 2, 4) - AIC:1000.4624133419139\n",
      "ARIMA(0, 3, 0) - AIC:1166.237671417036\n",
      "ARIMA(0, 3, 1) - AIC:1091.8291704059639\n",
      "ARIMA(0, 3, 2) - AIC:1048.7668319463423\n",
      "ARIMA(0, 3, 3) - AIC:1032.3206695790466\n"
     ]
    },
    {
     "name": "stderr",
     "output_type": "stream",
     "text": [
      "C:\\Users\\shubendu.biswas\\Anaconda3\\lib\\site-packages\\statsmodels\\base\\model.py:604: ConvergenceWarning: Maximum Likelihood optimization failed to converge. Check mle_retvals\n",
      "  warnings.warn(\"Maximum Likelihood optimization failed to \"\n"
     ]
    },
    {
     "name": "stdout",
     "output_type": "stream",
     "text": [
      "ARIMA(0, 3, 4) - AIC:1006.9373896965797\n",
      "ARIMA(0, 4, 0) - AIC:1219.1253024465334\n",
      "ARIMA(0, 4, 1) - AIC:1135.7608831833886\n",
      "ARIMA(0, 4, 2) - AIC:1081.9004141944647\n",
      "ARIMA(0, 4, 3) - AIC:1062.3622056488186\n",
      "ARIMA(0, 4, 4) - AIC:1032.994057109896\n",
      "ARIMA(1, 0, 0) - AIC:1100.0422617191398\n",
      "ARIMA(1, 0, 1) - AIC:1086.4783305238823\n",
      "ARIMA(1, 0, 2) - AIC:1055.9666586931683\n",
      "ARIMA(1, 0, 3) - AIC:1041.373668319932\n",
      "ARIMA(1, 0, 4) - AIC:1027.467500792116\n",
      "ARIMA(1, 1, 0) - AIC:1088.481441730782\n",
      "ARIMA(1, 1, 1) - AIC:1060.1872298240376\n",
      "ARIMA(1, 1, 2) - AIC:1039.9618701004142\n",
      "ARIMA(1, 1, 3) - AIC:1027.0140453513902\n",
      "ARIMA(1, 1, 4) - AIC:1003.92146503431\n",
      "ARIMA(1, 2, 0) - AIC:1110.825846760039\n",
      "ARIMA(1, 2, 1) - AIC:1061.0728972017905\n",
      "ARIMA(1, 2, 2) - AIC:1046.1484463878946\n",
      "ARIMA(1, 2, 3) - AIC:1015.7411763005969\n"
     ]
    },
    {
     "name": "stderr",
     "output_type": "stream",
     "text": [
      "C:\\Users\\shubendu.biswas\\Anaconda3\\lib\\site-packages\\statsmodels\\base\\model.py:604: ConvergenceWarning: Maximum Likelihood optimization failed to converge. Check mle_retvals\n",
      "  warnings.warn(\"Maximum Likelihood optimization failed to \"\n"
     ]
    },
    {
     "name": "stdout",
     "output_type": "stream",
     "text": [
      "ARIMA(1, 2, 4) - AIC:998.3340936931811\n",
      "ARIMA(1, 3, 0) - AIC:1145.4090476810597\n",
      "ARIMA(1, 3, 1) - AIC:1087.7126896829225\n",
      "ARIMA(1, 3, 2) - AIC:1037.769485749063\n",
      "ARIMA(1, 3, 3) - AIC:1021.726531366639\n",
      "ARIMA(1, 3, 4) - AIC:1012.6171471470858\n",
      "ARIMA(1, 4, 0) - AIC:1187.7353784570041\n",
      "ARIMA(1, 4, 1) - AIC:1119.9519606739557\n",
      "ARIMA(1, 4, 2) - AIC:1076.033989359425\n",
      "ARIMA(1, 4, 3) - AIC:1050.4653631207718\n",
      "ARIMA(1, 4, 4) - AIC:1006.9003689798644\n",
      "ARIMA(2, 0, 0) - AIC:1086.4856148516046\n",
      "ARIMA(2, 0, 1) - AIC:1085.8804003940973\n",
      "ARIMA(2, 0, 2) - AIC:1057.731856674835\n",
      "ARIMA(2, 0, 3) - AIC:1043.3719943467484\n",
      "ARIMA(2, 0, 4) - AIC:1023.807636495817\n",
      "ARIMA(2, 1, 0) - AIC:1067.63163723133\n",
      "ARIMA(2, 1, 1) - AIC:1057.0738049718457\n",
      "ARIMA(2, 1, 2) - AIC:1041.884739984627\n",
      "ARIMA(2, 1, 3) - AIC:1028.9624267398206\n",
      "ARIMA(2, 1, 4) - AIC:1005.2452405475689\n",
      "ARIMA(2, 2, 0) - AIC:1080.8154371395372\n",
      "ARIMA(2, 2, 1) - AIC:1056.8728213218574\n",
      "ARIMA(2, 2, 2) - AIC:1036.9263756368607\n"
     ]
    },
    {
     "name": "stderr",
     "output_type": "stream",
     "text": [
      "C:\\Users\\shubendu.biswas\\Anaconda3\\lib\\site-packages\\statsmodels\\base\\model.py:604: ConvergenceWarning: Maximum Likelihood optimization failed to converge. Check mle_retvals\n",
      "  warnings.warn(\"Maximum Likelihood optimization failed to \"\n"
     ]
    },
    {
     "name": "stdout",
     "output_type": "stream",
     "text": [
      "ARIMA(2, 2, 3) - AIC:1017.7310932618528\n",
      "ARIMA(2, 2, 4) - AIC:1012.3363976549257\n",
      "ARIMA(2, 3, 0) - AIC:1104.6738072980102\n",
      "ARIMA(2, 3, 1) - AIC:1069.9731367121092\n",
      "ARIMA(2, 3, 2) - AIC:1039.4922617876182\n",
      "ARIMA(2, 3, 3) - AIC:1023.8165298002693\n"
     ]
    },
    {
     "name": "stderr",
     "output_type": "stream",
     "text": [
      "C:\\Users\\shubendu.biswas\\Anaconda3\\lib\\site-packages\\statsmodels\\base\\model.py:604: ConvergenceWarning: Maximum Likelihood optimization failed to converge. Check mle_retvals\n",
      "  warnings.warn(\"Maximum Likelihood optimization failed to \"\n"
     ]
    },
    {
     "name": "stdout",
     "output_type": "stream",
     "text": [
      "ARIMA(2, 3, 4) - AIC:1011.2020312879839\n",
      "ARIMA(2, 4, 0) - AIC:1136.3523616263742\n",
      "ARIMA(2, 4, 1) - AIC:1101.856997678222\n",
      "ARIMA(2, 4, 2) - AIC:1045.470003953669\n",
      "ARIMA(2, 4, 3) - AIC:1031.6619207128676\n"
     ]
    },
    {
     "name": "stderr",
     "output_type": "stream",
     "text": [
      "C:\\Users\\shubendu.biswas\\Anaconda3\\lib\\site-packages\\statsmodels\\base\\model.py:604: ConvergenceWarning: Maximum Likelihood optimization failed to converge. Check mle_retvals\n",
      "  warnings.warn(\"Maximum Likelihood optimization failed to \"\n"
     ]
    },
    {
     "name": "stdout",
     "output_type": "stream",
     "text": [
      "ARIMA(2, 4, 4) - AIC:1004.2339229426092\n",
      "ARIMA(3, 0, 0) - AIC:1067.1047582180936\n",
      "ARIMA(3, 0, 1) - AIC:1069.0942026752475\n"
     ]
    },
    {
     "name": "stderr",
     "output_type": "stream",
     "text": [
      "C:\\Users\\shubendu.biswas\\Anaconda3\\lib\\site-packages\\statsmodels\\base\\model.py:604: ConvergenceWarning: Maximum Likelihood optimization failed to converge. Check mle_retvals\n",
      "  warnings.warn(\"Maximum Likelihood optimization failed to \"\n"
     ]
    },
    {
     "name": "stdout",
     "output_type": "stream",
     "text": [
      "ARIMA(3, 0, 2) - AIC:1059.4024990382718\n",
      "ARIMA(3, 0, 3) - AIC:1045.2094733216218\n"
     ]
    },
    {
     "name": "stderr",
     "output_type": "stream",
     "text": [
      "C:\\Users\\shubendu.biswas\\Anaconda3\\lib\\site-packages\\statsmodels\\base\\model.py:604: ConvergenceWarning: Maximum Likelihood optimization failed to converge. Check mle_retvals\n",
      "  warnings.warn(\"Maximum Likelihood optimization failed to \"\n"
     ]
    },
    {
     "name": "stdout",
     "output_type": "stream",
     "text": [
      "ARIMA(3, 0, 4) - AIC:1026.477229476873\n",
      "ARIMA(3, 1, 0) - AIC:1053.0576265881264\n",
      "ARIMA(3, 1, 1) - AIC:1042.968669652861\n",
      "ARIMA(3, 1, 2) - AIC:1043.5888486722515\n",
      "ARIMA(3, 1, 3) - AIC:1026.911261403487\n"
     ]
    },
    {
     "name": "stderr",
     "output_type": "stream",
     "text": [
      "C:\\Users\\shubendu.biswas\\Anaconda3\\lib\\site-packages\\statsmodels\\base\\model.py:604: ConvergenceWarning: Maximum Likelihood optimization failed to converge. Check mle_retvals\n",
      "  warnings.warn(\"Maximum Likelihood optimization failed to \"\n"
     ]
    },
    {
     "name": "stdout",
     "output_type": "stream",
     "text": [
      "ARIMA(3, 1, 4) - AIC:1009.53107307685\n",
      "ARIMA(3, 2, 0) - AIC:1064.4655148033428\n",
      "ARIMA(3, 2, 1) - AIC:1042.8246527022793\n",
      "ARIMA(3, 2, 2) - AIC:1044.9885446846508\n"
     ]
    },
    {
     "name": "stderr",
     "output_type": "stream",
     "text": [
      "C:\\Users\\shubendu.biswas\\Anaconda3\\lib\\site-packages\\statsmodels\\base\\model.py:604: ConvergenceWarning: Maximum Likelihood optimization failed to converge. Check mle_retvals\n",
      "  warnings.warn(\"Maximum Likelihood optimization failed to \"\n"
     ]
    },
    {
     "name": "stdout",
     "output_type": "stream",
     "text": [
      "ARIMA(3, 2, 3) - AIC:1018.9204221141886\n"
     ]
    },
    {
     "name": "stderr",
     "output_type": "stream",
     "text": [
      "C:\\Users\\shubendu.biswas\\Anaconda3\\lib\\site-packages\\statsmodels\\base\\model.py:604: ConvergenceWarning: Maximum Likelihood optimization failed to converge. Check mle_retvals\n",
      "  warnings.warn(\"Maximum Likelihood optimization failed to \"\n"
     ]
    },
    {
     "name": "stdout",
     "output_type": "stream",
     "text": [
      "ARIMA(3, 2, 4) - AIC:1009.3924403475834\n",
      "ARIMA(3, 3, 0) - AIC:1083.9907530953785\n",
      "ARIMA(3, 3, 1) - AIC:1053.678117172828\n",
      "ARIMA(3, 3, 2) - AIC:1041.3111475647029\n"
     ]
    },
    {
     "name": "stderr",
     "output_type": "stream",
     "text": [
      "C:\\Users\\shubendu.biswas\\Anaconda3\\lib\\site-packages\\statsmodels\\base\\model.py:604: ConvergenceWarning: Maximum Likelihood optimization failed to converge. Check mle_retvals\n",
      "  warnings.warn(\"Maximum Likelihood optimization failed to \"\n"
     ]
    },
    {
     "name": "stdout",
     "output_type": "stream",
     "text": [
      "ARIMA(3, 3, 3) - AIC:1024.8851917934462\n",
      "ARIMA(3, 3, 4) - AIC:1012.6092678236015\n",
      "ARIMA(3, 4, 0) - AIC:1108.7759620048373\n",
      "ARIMA(3, 4, 1) - AIC:1072.3269203557109\n",
      "ARIMA(3, 4, 2) - AIC:1079.4223006467237\n"
     ]
    },
    {
     "name": "stderr",
     "output_type": "stream",
     "text": [
      "C:\\Users\\shubendu.biswas\\Anaconda3\\lib\\site-packages\\statsmodels\\base\\model.py:604: ConvergenceWarning: Maximum Likelihood optimization failed to converge. Check mle_retvals\n",
      "  warnings.warn(\"Maximum Likelihood optimization failed to \"\n"
     ]
    },
    {
     "name": "stdout",
     "output_type": "stream",
     "text": [
      "ARIMA(3, 4, 3) - AIC:1034.447139098003\n"
     ]
    },
    {
     "name": "stderr",
     "output_type": "stream",
     "text": [
      "C:\\Users\\shubendu.biswas\\Anaconda3\\lib\\site-packages\\statsmodels\\base\\model.py:604: ConvergenceWarning: Maximum Likelihood optimization failed to converge. Check mle_retvals\n",
      "  warnings.warn(\"Maximum Likelihood optimization failed to \"\n"
     ]
    },
    {
     "name": "stdout",
     "output_type": "stream",
     "text": [
      "ARIMA(3, 4, 4) - AIC:1005.637069928436\n",
      "ARIMA(4, 0, 0) - AIC:1053.0938051411244\n",
      "ARIMA(4, 0, 1) - AIC:1055.207979206361\n",
      "ARIMA(4, 0, 2) - AIC:1045.646676164234\n"
     ]
    },
    {
     "name": "stderr",
     "output_type": "stream",
     "text": [
      "C:\\Users\\shubendu.biswas\\Anaconda3\\lib\\site-packages\\statsmodels\\base\\model.py:604: ConvergenceWarning: Maximum Likelihood optimization failed to converge. Check mle_retvals\n",
      "  warnings.warn(\"Maximum Likelihood optimization failed to \"\n"
     ]
    },
    {
     "name": "stdout",
     "output_type": "stream",
     "text": [
      "ARIMA(4, 0, 3) - AIC:1046.1221926980113\n"
     ]
    },
    {
     "name": "stderr",
     "output_type": "stream",
     "text": [
      "C:\\Users\\shubendu.biswas\\Anaconda3\\lib\\site-packages\\statsmodels\\base\\model.py:604: ConvergenceWarning: Maximum Likelihood optimization failed to converge. Check mle_retvals\n",
      "  warnings.warn(\"Maximum Likelihood optimization failed to \"\n"
     ]
    },
    {
     "name": "stdout",
     "output_type": "stream",
     "text": [
      "ARIMA(4, 0, 4) - AIC:1028.778193351234\n",
      "ARIMA(4, 1, 0) - AIC:1034.2393896323192\n",
      "ARIMA(4, 1, 1) - AIC:1027.669719286388\n",
      "ARIMA(4, 1, 2) - AIC:1029.155512069858\n",
      "ARIMA(4, 1, 3) - AIC:1031.1451077488086\n",
      "ARIMA(4, 1, 4) - AIC:1007.1522612238334\n",
      "ARIMA(4, 2, 0) - AIC:1042.6009797648464\n",
      "ARIMA(4, 2, 1) - AIC:1024.1314174036568\n"
     ]
    },
    {
     "name": "stderr",
     "output_type": "stream",
     "text": [
      "C:\\Users\\shubendu.biswas\\Anaconda3\\lib\\site-packages\\statsmodels\\base\\model.py:604: ConvergenceWarning: Maximum Likelihood optimization failed to converge. Check mle_retvals\n",
      "  warnings.warn(\"Maximum Likelihood optimization failed to \"\n"
     ]
    },
    {
     "name": "stdout",
     "output_type": "stream",
     "text": [
      "ARIMA(4, 2, 2) - AIC:1017.9315383260856\n"
     ]
    },
    {
     "name": "stderr",
     "output_type": "stream",
     "text": [
      "C:\\Users\\shubendu.biswas\\Anaconda3\\lib\\site-packages\\statsmodels\\base\\model.py:604: ConvergenceWarning: Maximum Likelihood optimization failed to converge. Check mle_retvals\n",
      "  warnings.warn(\"Maximum Likelihood optimization failed to \"\n"
     ]
    },
    {
     "name": "stdout",
     "output_type": "stream",
     "text": [
      "ARIMA(4, 2, 3) - AIC:1023.0131853336793\n"
     ]
    },
    {
     "name": "stderr",
     "output_type": "stream",
     "text": [
      "C:\\Users\\shubendu.biswas\\Anaconda3\\lib\\site-packages\\statsmodels\\base\\model.py:604: ConvergenceWarning: Maximum Likelihood optimization failed to converge. Check mle_retvals\n",
      "  warnings.warn(\"Maximum Likelihood optimization failed to \"\n"
     ]
    },
    {
     "name": "stdout",
     "output_type": "stream",
     "text": [
      "ARIMA(4, 2, 4) - AIC:1000.8194842607562\n",
      "ARIMA(4, 3, 0) - AIC:1060.352291502507\n",
      "ARIMA(4, 3, 1) - AIC:1032.0648545119502\n"
     ]
    },
    {
     "name": "stderr",
     "output_type": "stream",
     "text": [
      "C:\\Users\\shubendu.biswas\\Anaconda3\\lib\\site-packages\\statsmodels\\base\\model.py:604: ConvergenceWarning: Maximum Likelihood optimization failed to converge. Check mle_retvals\n",
      "  warnings.warn(\"Maximum Likelihood optimization failed to \"\n"
     ]
    },
    {
     "name": "stdout",
     "output_type": "stream",
     "text": [
      "ARIMA(4, 3, 2) - AIC:1024.1808225875457\n"
     ]
    },
    {
     "name": "stderr",
     "output_type": "stream",
     "text": [
      "C:\\Users\\shubendu.biswas\\Anaconda3\\lib\\site-packages\\statsmodels\\base\\model.py:604: ConvergenceWarning: Maximum Likelihood optimization failed to converge. Check mle_retvals\n",
      "  warnings.warn(\"Maximum Likelihood optimization failed to \"\n"
     ]
    },
    {
     "name": "stdout",
     "output_type": "stream",
     "text": [
      "ARIMA(4, 3, 3) - AIC:1022.8147598982686\n"
     ]
    },
    {
     "name": "stderr",
     "output_type": "stream",
     "text": [
      "C:\\Users\\shubendu.biswas\\Anaconda3\\lib\\site-packages\\statsmodels\\base\\model.py:604: ConvergenceWarning: Maximum Likelihood optimization failed to converge. Check mle_retvals\n",
      "  warnings.warn(\"Maximum Likelihood optimization failed to \"\n"
     ]
    },
    {
     "name": "stdout",
     "output_type": "stream",
     "text": [
      "ARIMA(4, 3, 4) - AIC:1003.3667285182378\n",
      "ARIMA(4, 4, 0) - AIC:1081.7736058000512\n",
      "ARIMA(4, 4, 1) - AIC:1048.3398207829207\n",
      "ARIMA(4, 4, 2) - AIC:1059.1256103281767\n"
     ]
    },
    {
     "name": "stderr",
     "output_type": "stream",
     "text": [
      "C:\\Users\\shubendu.biswas\\Anaconda3\\lib\\site-packages\\statsmodels\\base\\model.py:604: ConvergenceWarning: Maximum Likelihood optimization failed to converge. Check mle_retvals\n",
      "  warnings.warn(\"Maximum Likelihood optimization failed to \"\n"
     ]
    },
    {
     "name": "stdout",
     "output_type": "stream",
     "text": [
      "ARIMA(4, 4, 3) - AIC:1053.5220133952594\n",
      "ARIMA(4, 4, 4) - AIC:1005.4560384895277\n"
     ]
    },
    {
     "name": "stderr",
     "output_type": "stream",
     "text": [
      "C:\\Users\\shubendu.biswas\\Anaconda3\\lib\\site-packages\\statsmodels\\base\\model.py:604: ConvergenceWarning: Maximum Likelihood optimization failed to converge. Check mle_retvals\n",
      "  warnings.warn(\"Maximum Likelihood optimization failed to \"\n"
     ]
    }
   ],
   "source": [
    "import statsmodels.api as sm\n",
    "# Checking the AIC values per pairs\n",
    "for param in pdq:\n",
    "    mod = sm.tsa.statespace.SARIMAX(month_newdf,order=param,enforce_stationarity=False,enforce_invertibility=False)\n",
    "    results = mod.fit()\n",
    "    print('ARIMA{} - AIC:{}'.format(param, results.aic))"
   ]
  },
  {
   "cell_type": "code",
   "execution_count": null,
   "id": "70f4c5ea",
   "metadata": {},
   "outputs": [],
   "source": [
    "#best ARIMA(1, 2, 4) - AIC:998.3340936931811"
   ]
  },
  {
   "cell_type": "code",
   "execution_count": 21,
   "id": "f87e08bd",
   "metadata": {},
   "outputs": [
    {
     "name": "stdout",
     "output_type": "stream",
     "text": [
      "==============================================================================\n",
      "                 coef    std err          z      P>|z|      [0.025      0.975]\n",
      "------------------------------------------------------------------------------\n",
      "ar.L1         -0.9572      0.050    -19.285      0.000      -1.054      -0.860\n",
      "ma.L1         -0.0191      1.893     -0.010      0.992      -3.729       3.691\n",
      "ma.L2         -1.9021      0.132    -14.367      0.000      -2.162      -1.643\n",
      "ma.L3         -0.0239      1.882     -0.013      0.990      -3.713       3.666\n",
      "ma.L4          0.9895      0.151      6.554      0.000       0.694       1.285\n",
      "sigma2      4.892e+05   1.01e-06   4.84e+11      0.000    4.89e+05    4.89e+05\n",
      "==============================================================================\n"
     ]
    },
    {
     "name": "stderr",
     "output_type": "stream",
     "text": [
      "C:\\Users\\shubendu.biswas\\Anaconda3\\lib\\site-packages\\statsmodels\\base\\model.py:604: ConvergenceWarning: Maximum Likelihood optimization failed to converge. Check mle_retvals\n",
      "  warnings.warn(\"Maximum Likelihood optimization failed to \"\n"
     ]
    }
   ],
   "source": [
    "# Choosing the model with minimum AIC and the ARIMA Model for Time Series Forecasting\n",
    "mod = sm.tsa.statespace.SARIMAX(month_newdf,order=(1,2,4))\n",
    "results = mod.fit()\n",
    "print(results.summary().tables[1])"
   ]
  },
  {
   "cell_type": "code",
   "execution_count": 22,
   "id": "648083ff",
   "metadata": {},
   "outputs": [
    {
     "data": {
      "text/plain": [
       "2022-06-30    1156.0\n",
       "2022-07-31     819.0\n",
       "2022-08-31    1111.0\n",
       "2022-09-30     367.0\n",
       "2022-10-31     873.0\n",
       "2022-11-30     748.0\n",
       "2022-12-31     726.0\n",
       "2023-01-31     605.0\n",
       "2023-02-28     579.0\n",
       "2023-03-31     462.0\n",
       "2023-04-30     432.0\n",
       "2023-05-31     320.0\n",
       "Freq: M, Name: predicted_mean, dtype: float64"
      ]
     },
     "execution_count": 22,
     "metadata": {},
     "output_type": "execute_result"
    }
   ],
   "source": [
    "pred = results.get_prediction(start=pd.to_datetime('2022-06-30'),end=pd.to_datetime('2023-05-31'),dynamic=False)\n",
    "pred_ci = pred.conf_int()\n",
    "pred.predicted_mean.round()"
   ]
  },
  {
   "cell_type": "code",
   "execution_count": 25,
   "id": "87ff0e01",
   "metadata": {},
   "outputs": [
    {
     "data": {
      "image/png": "[encoded data removed]",
      "text/plain": [
       "<Figure size 1080x432 with 1 Axes>"
      ]
     },
     "metadata": {
      "needs_background": "light"
     },
     "output_type": "display_data"
    }
   ],
   "source": [
    "ax = month_newdf.plot(label='observed')\n",
    "pred.predicted_mean.plot(ax=ax,label='One-step ahead Forecast',figsize=(15, 6))\n",
    "ax.set_xlabel('Date')\n",
    "ax.set_ylabel('No of Incidents')\n",
    "plt.legend()\n",
    "plt.show()"
   ]
  },
  {
   "cell_type": "markdown",
   "id": "abf51fa4",
   "metadata": {},
   "source": [
    "# AutoARIMA"
   ]
  },
  {
   "cell_type": "code",
   "execution_count": 26,
   "id": "7b402198",
   "metadata": {},
   "outputs": [],
   "source": [
    "# Importing auto_arima \n",
    "from pmdarima.arima import auto_arima"
   ]
  },
  {
   "cell_type": "code",
   "execution_count": 27,
   "id": "02466a27",
   "metadata": {},
   "outputs": [
    {
     "data": {
      "text/plain": [
       "(0.021260346778520324, False)"
      ]
     },
     "execution_count": 27,
     "metadata": {},
     "output_type": "execute_result"
    }
   ],
   "source": [
    "#Testing for stationarity\n",
    "from pmdarima.arima import ADFTest\n",
    "adf_test = ADFTest(alpha = 0.05)\n",
    "adf_test.should_diff(month_newdf)"
   ]
  },
  {
   "cell_type": "code",
   "execution_count": 28,
   "id": "d290a2ad",
   "metadata": {},
   "outputs": [
    {
     "data": {
      "text/plain": [
       "68"
      ]
     },
     "execution_count": 28,
     "metadata": {},
     "output_type": "execute_result"
    }
   ],
   "source": [
    "len(month_newdf)"
   ]
  },
  {
   "cell_type": "code",
   "execution_count": 29,
   "id": "5d09deba",
   "metadata": {},
   "outputs": [
    {
     "data": {
      "text/html": [
       "<div>\n",
       "<style scoped>\n",
       "    .dataframe tbody tr th:only-of-type {\n",
       "        vertical-align: middle;\n",
       "    }\n",
       "\n",
       "    .dataframe tbody tr th {\n",
       "        vertical-align: top;\n",
       "    }\n",
       "\n",
       "    .dataframe thead th {\n",
       "        text-align: right;\n",
       "    }\n",
       "</style>\n",
       "<table border=\"1\" class=\"dataframe\">\n",
       "  <thead>\n",
       "    <tr style=\"text-align: right;\">\n",
       "      <th></th>\n",
       "      <th>Case Number</th>\n",
       "    </tr>\n",
       "    <tr>\n",
       "      <th>Date</th>\n",
       "      <th></th>\n",
       "    </tr>\n",
       "  </thead>\n",
       "  <tbody>\n",
       "    <tr>\n",
       "      <th>2017-01-31</th>\n",
       "      <td>1066.0</td>\n",
       "    </tr>\n",
       "    <tr>\n",
       "      <th>2017-02-28</th>\n",
       "      <td>1300.0</td>\n",
       "    </tr>\n",
       "    <tr>\n",
       "      <th>2017-03-31</th>\n",
       "      <td>2092.0</td>\n",
       "    </tr>\n",
       "    <tr>\n",
       "      <th>2017-04-30</th>\n",
       "      <td>1247.0</td>\n",
       "    </tr>\n",
       "    <tr>\n",
       "      <th>2017-05-31</th>\n",
       "      <td>1407.0</td>\n",
       "    </tr>\n",
       "    <tr>\n",
       "      <th>2017-06-30</th>\n",
       "      <td>1688.0</td>\n",
       "    </tr>\n",
       "    <tr>\n",
       "      <th>2017-07-31</th>\n",
       "      <td>1364.0</td>\n",
       "    </tr>\n",
       "    <tr>\n",
       "      <th>2017-08-31</th>\n",
       "      <td>2311.0</td>\n",
       "    </tr>\n",
       "    <tr>\n",
       "      <th>2017-09-30</th>\n",
       "      <td>2969.0</td>\n",
       "    </tr>\n",
       "    <tr>\n",
       "      <th>2017-10-31</th>\n",
       "      <td>3798.0</td>\n",
       "    </tr>\n",
       "    <tr>\n",
       "      <th>2017-11-30</th>\n",
       "      <td>1487.0</td>\n",
       "    </tr>\n",
       "    <tr>\n",
       "      <th>2017-12-31</th>\n",
       "      <td>1031.0</td>\n",
       "    </tr>\n",
       "    <tr>\n",
       "      <th>2018-01-31</th>\n",
       "      <td>1285.0</td>\n",
       "    </tr>\n",
       "    <tr>\n",
       "      <th>2018-02-28</th>\n",
       "      <td>1156.0</td>\n",
       "    </tr>\n",
       "    <tr>\n",
       "      <th>2018-03-31</th>\n",
       "      <td>1445.0</td>\n",
       "    </tr>\n",
       "    <tr>\n",
       "      <th>2018-04-30</th>\n",
       "      <td>1194.0</td>\n",
       "    </tr>\n",
       "    <tr>\n",
       "      <th>2018-05-31</th>\n",
       "      <td>1181.0</td>\n",
       "    </tr>\n",
       "    <tr>\n",
       "      <th>2018-06-30</th>\n",
       "      <td>1293.0</td>\n",
       "    </tr>\n",
       "    <tr>\n",
       "      <th>2018-07-31</th>\n",
       "      <td>1420.0</td>\n",
       "    </tr>\n",
       "    <tr>\n",
       "      <th>2018-08-31</th>\n",
       "      <td>2107.0</td>\n",
       "    </tr>\n",
       "    <tr>\n",
       "      <th>2018-09-30</th>\n",
       "      <td>2572.0</td>\n",
       "    </tr>\n",
       "    <tr>\n",
       "      <th>2018-10-31</th>\n",
       "      <td>4154.0</td>\n",
       "    </tr>\n",
       "    <tr>\n",
       "      <th>2018-11-30</th>\n",
       "      <td>1389.0</td>\n",
       "    </tr>\n",
       "    <tr>\n",
       "      <th>2018-12-31</th>\n",
       "      <td>838.0</td>\n",
       "    </tr>\n",
       "    <tr>\n",
       "      <th>2019-01-31</th>\n",
       "      <td>1518.0</td>\n",
       "    </tr>\n",
       "    <tr>\n",
       "      <th>2019-02-28</th>\n",
       "      <td>1123.0</td>\n",
       "    </tr>\n",
       "    <tr>\n",
       "      <th>2019-03-31</th>\n",
       "      <td>1309.0</td>\n",
       "    </tr>\n",
       "    <tr>\n",
       "      <th>2019-04-30</th>\n",
       "      <td>1318.0</td>\n",
       "    </tr>\n",
       "    <tr>\n",
       "      <th>2019-05-31</th>\n",
       "      <td>1072.0</td>\n",
       "    </tr>\n",
       "    <tr>\n",
       "      <th>2019-06-30</th>\n",
       "      <td>1285.0</td>\n",
       "    </tr>\n",
       "    <tr>\n",
       "      <th>2019-07-31</th>\n",
       "      <td>1857.0</td>\n",
       "    </tr>\n",
       "    <tr>\n",
       "      <th>2019-08-31</th>\n",
       "      <td>2343.0</td>\n",
       "    </tr>\n",
       "    <tr>\n",
       "      <th>2019-09-30</th>\n",
       "      <td>3921.0</td>\n",
       "    </tr>\n",
       "    <tr>\n",
       "      <th>2019-10-31</th>\n",
       "      <td>5226.0</td>\n",
       "    </tr>\n",
       "    <tr>\n",
       "      <th>2019-11-30</th>\n",
       "      <td>1431.0</td>\n",
       "    </tr>\n",
       "    <tr>\n",
       "      <th>2019-12-31</th>\n",
       "      <td>900.0</td>\n",
       "    </tr>\n",
       "    <tr>\n",
       "      <th>2020-01-31</th>\n",
       "      <td>1603.0</td>\n",
       "    </tr>\n",
       "    <tr>\n",
       "      <th>2020-02-29</th>\n",
       "      <td>1187.0</td>\n",
       "    </tr>\n",
       "    <tr>\n",
       "      <th>2020-03-31</th>\n",
       "      <td>1635.0</td>\n",
       "    </tr>\n",
       "    <tr>\n",
       "      <th>2020-04-30</th>\n",
       "      <td>1474.0</td>\n",
       "    </tr>\n",
       "    <tr>\n",
       "      <th>2020-05-31</th>\n",
       "      <td>1051.0</td>\n",
       "    </tr>\n",
       "    <tr>\n",
       "      <th>2020-06-30</th>\n",
       "      <td>1354.0</td>\n",
       "    </tr>\n",
       "    <tr>\n",
       "      <th>2020-07-31</th>\n",
       "      <td>1631.0</td>\n",
       "    </tr>\n",
       "    <tr>\n",
       "      <th>2020-08-31</th>\n",
       "      <td>1904.0</td>\n",
       "    </tr>\n",
       "    <tr>\n",
       "      <th>2020-09-30</th>\n",
       "      <td>2862.0</td>\n",
       "    </tr>\n",
       "    <tr>\n",
       "      <th>2020-10-31</th>\n",
       "      <td>3815.0</td>\n",
       "    </tr>\n",
       "    <tr>\n",
       "      <th>2020-11-30</th>\n",
       "      <td>1905.0</td>\n",
       "    </tr>\n",
       "    <tr>\n",
       "      <th>2020-12-31</th>\n",
       "      <td>901.0</td>\n",
       "    </tr>\n",
       "    <tr>\n",
       "      <th>2021-01-31</th>\n",
       "      <td>1075.0</td>\n",
       "    </tr>\n",
       "    <tr>\n",
       "      <th>2021-02-28</th>\n",
       "      <td>1029.0</td>\n",
       "    </tr>\n",
       "    <tr>\n",
       "      <th>2021-03-31</th>\n",
       "      <td>1272.0</td>\n",
       "    </tr>\n",
       "    <tr>\n",
       "      <th>2021-04-30</th>\n",
       "      <td>1171.0</td>\n",
       "    </tr>\n",
       "    <tr>\n",
       "      <th>2021-05-31</th>\n",
       "      <td>955.0</td>\n",
       "    </tr>\n",
       "    <tr>\n",
       "      <th>2021-06-30</th>\n",
       "      <td>1176.0</td>\n",
       "    </tr>\n",
       "    <tr>\n",
       "      <th>2021-07-31</th>\n",
       "      <td>1062.0</td>\n",
       "    </tr>\n",
       "    <tr>\n",
       "      <th>2021-08-31</th>\n",
       "      <td>1517.0</td>\n",
       "    </tr>\n",
       "    <tr>\n",
       "      <th>2021-09-30</th>\n",
       "      <td>2300.0</td>\n",
       "    </tr>\n",
       "    <tr>\n",
       "      <th>2021-10-31</th>\n",
       "      <td>2915.0</td>\n",
       "    </tr>\n",
       "    <tr>\n",
       "      <th>2021-11-30</th>\n",
       "      <td>1417.0</td>\n",
       "    </tr>\n",
       "    <tr>\n",
       "      <th>2021-12-31</th>\n",
       "      <td>710.0</td>\n",
       "    </tr>\n",
       "  </tbody>\n",
       "</table>\n",
       "</div>"
      ],
      "text/plain": [
       "            Case Number\n",
       "Date                   \n",
       "2017-01-31       1066.0\n",
       "2017-02-28       1300.0\n",
       "2017-03-31       2092.0\n",
       "2017-04-30       1247.0\n",
       "2017-05-31       1407.0\n",
       "2017-06-30       1688.0\n",
       "2017-07-31       1364.0\n",
       "2017-08-31       2311.0\n",
       "2017-09-30       2969.0\n",
       "2017-10-31       3798.0\n",
       "2017-11-30       1487.0\n",
       "2017-12-31       1031.0\n",
       "2018-01-31       1285.0\n",
       "2018-02-28       1156.0\n",
       "2018-03-31       1445.0\n",
       "2018-04-30       1194.0\n",
       "2018-05-31       1181.0\n",
       "2018-06-30       1293.0\n",
       "2018-07-31       1420.0\n",
       "2018-08-31       2107.0\n",
       "2018-09-30       2572.0\n",
       "2018-10-31       4154.0\n",
       "2018-11-30       1389.0\n",
       "2018-12-31        838.0\n",
       "2019-01-31       1518.0\n",
       "2019-02-28       1123.0\n",
       "2019-03-31       1309.0\n",
       "2019-04-30       1318.0\n",
       "2019-05-31       1072.0\n",
       "2019-06-30       1285.0\n",
       "2019-07-31       1857.0\n",
       "2019-08-31       2343.0\n",
       "2019-09-30       3921.0\n",
       "2019-10-31       5226.0\n",
       "2019-11-30       1431.0\n",
       "2019-12-31        900.0\n",
       "2020-01-31       1603.0\n",
       "2020-02-29       1187.0\n",
       "2020-03-31       1635.0\n",
       "2020-04-30       1474.0\n",
       "2020-05-31       1051.0\n",
       "2020-06-30       1354.0\n",
       "2020-07-31       1631.0\n",
       "2020-08-31       1904.0\n",
       "2020-09-30       2862.0\n",
       "2020-10-31       3815.0\n",
       "2020-11-30       1905.0\n",
       "2020-12-31        901.0\n",
       "2021-01-31       1075.0\n",
       "2021-02-28       1029.0\n",
       "2021-03-31       1272.0\n",
       "2021-04-30       1171.0\n",
       "2021-05-31        955.0\n",
       "2021-06-30       1176.0\n",
       "2021-07-31       1062.0\n",
       "2021-08-31       1517.0\n",
       "2021-09-30       2300.0\n",
       "2021-10-31       2915.0\n",
       "2021-11-30       1417.0\n",
       "2021-12-31        710.0"
      ]
     },
     "execution_count": 29,
     "metadata": {},
     "output_type": "execute_result"
    }
   ],
   "source": [
    "train = month_newdf[:60]\n",
    "train"
   ]
  },
  {
   "cell_type": "code",
   "execution_count": 30,
   "id": "03565695",
   "metadata": {},
   "outputs": [
    {
     "data": {
      "text/html": [
       "<div>\n",
       "<style scoped>\n",
       "    .dataframe tbody tr th:only-of-type {\n",
       "        vertical-align: middle;\n",
       "    }\n",
       "\n",
       "    .dataframe tbody tr th {\n",
       "        vertical-align: top;\n",
       "    }\n",
       "\n",
       "    .dataframe thead th {\n",
       "        text-align: right;\n",
       "    }\n",
       "</style>\n",
       "<table border=\"1\" class=\"dataframe\">\n",
       "  <thead>\n",
       "    <tr style=\"text-align: right;\">\n",
       "      <th></th>\n",
       "      <th>Case Number</th>\n",
       "    </tr>\n",
       "    <tr>\n",
       "      <th>Date</th>\n",
       "      <th></th>\n",
       "    </tr>\n",
       "  </thead>\n",
       "  <tbody>\n",
       "    <tr>\n",
       "      <th>2021-01-31</th>\n",
       "      <td>1075.0</td>\n",
       "    </tr>\n",
       "    <tr>\n",
       "      <th>2021-02-28</th>\n",
       "      <td>1029.0</td>\n",
       "    </tr>\n",
       "    <tr>\n",
       "      <th>2021-03-31</th>\n",
       "      <td>1272.0</td>\n",
       "    </tr>\n",
       "    <tr>\n",
       "      <th>2021-04-30</th>\n",
       "      <td>1171.0</td>\n",
       "    </tr>\n",
       "    <tr>\n",
       "      <th>2021-05-31</th>\n",
       "      <td>955.0</td>\n",
       "    </tr>\n",
       "    <tr>\n",
       "      <th>2021-06-30</th>\n",
       "      <td>1176.0</td>\n",
       "    </tr>\n",
       "    <tr>\n",
       "      <th>2021-07-31</th>\n",
       "      <td>1062.0</td>\n",
       "    </tr>\n",
       "    <tr>\n",
       "      <th>2021-08-31</th>\n",
       "      <td>1517.0</td>\n",
       "    </tr>\n",
       "    <tr>\n",
       "      <th>2021-09-30</th>\n",
       "      <td>2300.0</td>\n",
       "    </tr>\n",
       "    <tr>\n",
       "      <th>2021-10-31</th>\n",
       "      <td>2915.0</td>\n",
       "    </tr>\n",
       "    <tr>\n",
       "      <th>2021-11-30</th>\n",
       "      <td>1417.0</td>\n",
       "    </tr>\n",
       "    <tr>\n",
       "      <th>2021-12-31</th>\n",
       "      <td>710.0</td>\n",
       "    </tr>\n",
       "    <tr>\n",
       "      <th>2022-01-31</th>\n",
       "      <td>968.0</td>\n",
       "    </tr>\n",
       "    <tr>\n",
       "      <th>2022-02-28</th>\n",
       "      <td>979.0</td>\n",
       "    </tr>\n",
       "    <tr>\n",
       "      <th>2022-03-31</th>\n",
       "      <td>1157.0</td>\n",
       "    </tr>\n",
       "    <tr>\n",
       "      <th>2022-04-30</th>\n",
       "      <td>914.0</td>\n",
       "    </tr>\n",
       "    <tr>\n",
       "      <th>2022-05-31</th>\n",
       "      <td>777.0</td>\n",
       "    </tr>\n",
       "    <tr>\n",
       "      <th>2022-06-30</th>\n",
       "      <td>952.0</td>\n",
       "    </tr>\n",
       "    <tr>\n",
       "      <th>2022-07-31</th>\n",
       "      <td>870.0</td>\n",
       "    </tr>\n",
       "    <tr>\n",
       "      <th>2022-08-31</th>\n",
       "      <td>581.0</td>\n",
       "    </tr>\n",
       "  </tbody>\n",
       "</table>\n",
       "</div>"
      ],
      "text/plain": [
       "            Case Number\n",
       "Date                   \n",
       "2021-01-31       1075.0\n",
       "2021-02-28       1029.0\n",
       "2021-03-31       1272.0\n",
       "2021-04-30       1171.0\n",
       "2021-05-31        955.0\n",
       "2021-06-30       1176.0\n",
       "2021-07-31       1062.0\n",
       "2021-08-31       1517.0\n",
       "2021-09-30       2300.0\n",
       "2021-10-31       2915.0\n",
       "2021-11-30       1417.0\n",
       "2021-12-31        710.0\n",
       "2022-01-31        968.0\n",
       "2022-02-28        979.0\n",
       "2022-03-31       1157.0\n",
       "2022-04-30        914.0\n",
       "2022-05-31        777.0\n",
       "2022-06-30        952.0\n",
       "2022-07-31        870.0\n",
       "2022-08-31        581.0"
      ]
     },
     "execution_count": 30,
     "metadata": {},
     "output_type": "execute_result"
    }
   ],
   "source": [
    "test = month_newdf[-20:]\n",
    "test"
   ]
  },
  {
   "cell_type": "code",
   "execution_count": 31,
   "id": "74d7d9d1",
   "metadata": {},
   "outputs": [
    {
     "data": {
      "text/plain": [
       "[<matplotlib.lines.Line2D at 0x1b08dc91790>]"
      ]
     },
     "execution_count": 31,
     "metadata": {},
     "output_type": "execute_result"
    },
    {
     "data": {
      "image/png": "[encoded data removed]",
      "text/plain": [
       "<Figure size 432x288 with 1 Axes>"
      ]
     },
     "metadata": {
      "needs_background": "light"
     },
     "output_type": "display_data"
    }
   ],
   "source": [
    "plt.plot(train)\n",
    "plt.plot(test)"
   ]
  },
  {
   "cell_type": "code",
   "execution_count": 32,
   "id": "5314f56a",
   "metadata": {},
   "outputs": [
    {
     "name": "stdout",
     "output_type": "stream",
     "text": [
      "Performing stepwise search to minimize aic\n",
      " ARIMA(0,0,0)(0,1,0)[12] intercept   : AIC=728.122, Time=0.01 sec\n",
      " ARIMA(1,0,0)(1,1,0)[12] intercept   : AIC=719.017, Time=0.22 sec\n",
      " ARIMA(0,0,1)(0,1,1)[12] intercept   : AIC=716.374, Time=0.11 sec\n",
      " ARIMA(0,0,0)(0,1,0)[12]             : AIC=728.711, Time=0.01 sec\n",
      " ARIMA(0,0,1)(0,1,0)[12] intercept   : AIC=714.806, Time=0.06 sec\n",
      " ARIMA(0,0,1)(1,1,0)[12] intercept   : AIC=716.471, Time=0.15 sec\n",
      " ARIMA(0,0,1)(1,1,1)[12] intercept   : AIC=inf, Time=0.20 sec\n",
      " ARIMA(1,0,1)(0,1,0)[12] intercept   : AIC=716.076, Time=0.15 sec\n",
      " ARIMA(0,0,2)(0,1,0)[12] intercept   : AIC=716.353, Time=0.15 sec\n",
      " ARIMA(1,0,0)(0,1,0)[12] intercept   : AIC=717.915, Time=0.03 sec\n",
      " ARIMA(1,0,2)(0,1,0)[12] intercept   : AIC=718.353, Time=0.22 sec\n",
      " ARIMA(0,0,1)(0,1,0)[12]             : AIC=714.141, Time=0.05 sec\n",
      " ARIMA(0,0,1)(1,1,0)[12]             : AIC=715.577, Time=0.06 sec\n",
      " ARIMA(0,0,1)(0,1,1)[12]             : AIC=715.343, Time=0.09 sec\n",
      " ARIMA(0,0,1)(1,1,1)[12]             : AIC=inf, Time=0.16 sec\n",
      " ARIMA(1,0,1)(0,1,0)[12]             : AIC=715.700, Time=0.07 sec\n",
      " ARIMA(0,0,2)(0,1,0)[12]             : AIC=715.876, Time=0.05 sec\n",
      " ARIMA(1,0,0)(0,1,0)[12]             : AIC=717.009, Time=0.01 sec\n",
      " ARIMA(1,0,2)(0,1,0)[12]             : AIC=717.677, Time=0.09 sec\n",
      "\n",
      "Best model:  ARIMA(0,0,1)(0,1,0)[12]          \n",
      "Total fit time: 1.903 seconds\n"
     ]
    }
   ],
   "source": [
    "arima_model =  auto_arima(train,start_p=0, d=0, start_q=0, \n",
    "                          max_p=5, max_d=5, max_q=5, start_P=0, \n",
    "                          D=1, start_Q=0, max_P=5, max_D=5,\n",
    "                          max_Q=5, m=12, seasonal=True, \n",
    "                          error_action='warn',trace = True,\n",
    "                          supress_warnings=True,stepwise = True,\n",
    "                          random_state=20,n_fits = 50 )"
   ]
  },
  {
   "cell_type": "code",
   "execution_count": 33,
   "id": "baf6e30d",
   "metadata": {},
   "outputs": [
    {
     "data": {
      "text/html": [
       "<table class=\"simpletable\">\n",
       "<caption>SARIMAX Results</caption>\n",
       "<tr>\n",
       "  <th>Dep. Variable:</th>                  <td>y</td>                <th>  No. Observations:  </th>    <td>60</td>   \n",
       "</tr>\n",
       "<tr>\n",
       "  <th>Model:</th>           <td>SARIMAX(0, 0, 1)x(0, 1, [], 12)</td> <th>  Log Likelihood     </th> <td>-355.071</td>\n",
       "</tr>\n",
       "<tr>\n",
       "  <th>Date:</th>                   <td>Fri, 26 Aug 2022</td>         <th>  AIC                </th>  <td>714.141</td>\n",
       "</tr>\n",
       "<tr>\n",
       "  <th>Time:</th>                       <td>16:19:08</td>             <th>  BIC                </th>  <td>717.884</td>\n",
       "</tr>\n",
       "<tr>\n",
       "  <th>Sample:</th>                         <td>0</td>                <th>  HQIC               </th>  <td>715.556</td>\n",
       "</tr>\n",
       "<tr>\n",
       "  <th></th>                              <td> - 60</td>              <th>                     </th>     <td> </td>   \n",
       "</tr>\n",
       "<tr>\n",
       "  <th>Covariance Type:</th>               <td>opg</td>               <th>                     </th>     <td> </td>   \n",
       "</tr>\n",
       "</table>\n",
       "<table class=\"simpletable\">\n",
       "<tr>\n",
       "     <td></td>       <th>coef</th>     <th>std err</th>      <th>z</th>      <th>P>|z|</th>  <th>[0.025</th>    <th>0.975]</th>  \n",
       "</tr>\n",
       "<tr>\n",
       "  <th>ma.L1</th>  <td>    0.7120</td> <td>    0.122</td> <td>    5.851</td> <td> 0.000</td> <td>    0.474</td> <td>    0.951</td>\n",
       "</tr>\n",
       "<tr>\n",
       "  <th>sigma2</th> <td> 1.538e+05</td> <td> 2.12e+04</td> <td>    7.257</td> <td> 0.000</td> <td> 1.12e+05</td> <td> 1.95e+05</td>\n",
       "</tr>\n",
       "</table>\n",
       "<table class=\"simpletable\">\n",
       "<tr>\n",
       "  <th>Ljung-Box (L1) (Q):</th>     <td>0.39</td> <th>  Jarque-Bera (JB):  </th> <td>29.49</td>\n",
       "</tr>\n",
       "<tr>\n",
       "  <th>Prob(Q):</th>                <td>0.53</td> <th>  Prob(JB):          </th> <td>0.00</td> \n",
       "</tr>\n",
       "<tr>\n",
       "  <th>Heteroskedasticity (H):</th> <td>3.18</td> <th>  Skew:              </th> <td>1.02</td> \n",
       "</tr>\n",
       "<tr>\n",
       "  <th>Prob(H) (two-sided):</th>    <td>0.03</td> <th>  Kurtosis:          </th> <td>6.25</td> \n",
       "</tr>\n",
       "</table><br/><br/>Warnings:<br/>[1] Covariance matrix calculated using the outer product of gradients (complex-step)."
      ],
      "text/plain": [
       "<class 'statsmodels.iolib.summary.Summary'>\n",
       "\"\"\"\n",
       "                                      SARIMAX Results                                      \n",
       "===========================================================================================\n",
       "Dep. Variable:                                   y   No. Observations:                   60\n",
       "Model:             SARIMAX(0, 0, 1)x(0, 1, [], 12)   Log Likelihood                -355.071\n",
       "Date:                             Fri, 26 Aug 2022   AIC                            714.141\n",
       "Time:                                     16:19:08   BIC                            717.884\n",
       "Sample:                                          0   HQIC                           715.556\n",
       "                                              - 60                                         \n",
       "Covariance Type:                               opg                                         \n",
       "==============================================================================\n",
       "                 coef    std err          z      P>|z|      [0.025      0.975]\n",
       "------------------------------------------------------------------------------\n",
       "ma.L1          0.7120      0.122      5.851      0.000       0.474       0.951\n",
       "sigma2      1.538e+05   2.12e+04      7.257      0.000    1.12e+05    1.95e+05\n",
       "===================================================================================\n",
       "Ljung-Box (L1) (Q):                   0.39   Jarque-Bera (JB):                29.49\n",
       "Prob(Q):                              0.53   Prob(JB):                         0.00\n",
       "Heteroskedasticity (H):               3.18   Skew:                             1.02\n",
       "Prob(H) (two-sided):                  0.03   Kurtosis:                         6.25\n",
       "===================================================================================\n",
       "\n",
       "Warnings:\n",
       "[1] Covariance matrix calculated using the outer product of gradients (complex-step).\n",
       "\"\"\""
      ]
     },
     "execution_count": 33,
     "metadata": {},
     "output_type": "execute_result"
    }
   ],
   "source": [
    "#Summary of the model\n",
    "arima_model.summary()"
   ]
  },
  {
   "cell_type": "code",
   "execution_count": 36,
   "id": "abcecd66",
   "metadata": {},
   "outputs": [
    {
     "data": {
      "text/plain": [
       "array([ 993.35702624, 1029.        , 1272.        , 1171.        ,\n",
       "        955.        ])"
      ]
     },
     "execution_count": 36,
     "metadata": {},
     "output_type": "execute_result"
    }
   ],
   "source": [
    "arima_model.predict(n_periods = 5)"
   ]
  },
  {
   "cell_type": "code",
   "execution_count": 34,
   "id": "ee2999bf",
   "metadata": {},
   "outputs": [
    {
     "data": {
      "text/html": [
       "<div>\n",
       "<style scoped>\n",
       "    .dataframe tbody tr th:only-of-type {\n",
       "        vertical-align: middle;\n",
       "    }\n",
       "\n",
       "    .dataframe tbody tr th {\n",
       "        vertical-align: top;\n",
       "    }\n",
       "\n",
       "    .dataframe thead th {\n",
       "        text-align: right;\n",
       "    }\n",
       "</style>\n",
       "<table border=\"1\" class=\"dataframe\">\n",
       "  <thead>\n",
       "    <tr style=\"text-align: right;\">\n",
       "      <th></th>\n",
       "      <th>predicted_sales</th>\n",
       "    </tr>\n",
       "    <tr>\n",
       "      <th>Date</th>\n",
       "      <th></th>\n",
       "    </tr>\n",
       "  </thead>\n",
       "  <tbody>\n",
       "    <tr>\n",
       "      <th>2021-01-31</th>\n",
       "      <td>993.357026</td>\n",
       "    </tr>\n",
       "    <tr>\n",
       "      <th>2021-02-28</th>\n",
       "      <td>1029.000000</td>\n",
       "    </tr>\n",
       "    <tr>\n",
       "      <th>2021-03-31</th>\n",
       "      <td>1272.000000</td>\n",
       "    </tr>\n",
       "    <tr>\n",
       "      <th>2021-04-30</th>\n",
       "      <td>1171.000000</td>\n",
       "    </tr>\n",
       "    <tr>\n",
       "      <th>2021-05-31</th>\n",
       "      <td>955.000000</td>\n",
       "    </tr>\n",
       "    <tr>\n",
       "      <th>2021-06-30</th>\n",
       "      <td>1176.000000</td>\n",
       "    </tr>\n",
       "    <tr>\n",
       "      <th>2021-07-31</th>\n",
       "      <td>1062.000000</td>\n",
       "    </tr>\n",
       "    <tr>\n",
       "      <th>2021-08-31</th>\n",
       "      <td>1517.000000</td>\n",
       "    </tr>\n",
       "    <tr>\n",
       "      <th>2021-09-30</th>\n",
       "      <td>2300.000000</td>\n",
       "    </tr>\n",
       "    <tr>\n",
       "      <th>2021-10-31</th>\n",
       "      <td>2915.000000</td>\n",
       "    </tr>\n",
       "    <tr>\n",
       "      <th>2021-11-30</th>\n",
       "      <td>1417.000000</td>\n",
       "    </tr>\n",
       "    <tr>\n",
       "      <th>2021-12-31</th>\n",
       "      <td>710.000000</td>\n",
       "    </tr>\n",
       "    <tr>\n",
       "      <th>2022-01-31</th>\n",
       "      <td>993.357026</td>\n",
       "    </tr>\n",
       "    <tr>\n",
       "      <th>2022-02-28</th>\n",
       "      <td>1029.000000</td>\n",
       "    </tr>\n",
       "    <tr>\n",
       "      <th>2022-03-31</th>\n",
       "      <td>1272.000000</td>\n",
       "    </tr>\n",
       "    <tr>\n",
       "      <th>2022-04-30</th>\n",
       "      <td>1171.000000</td>\n",
       "    </tr>\n",
       "    <tr>\n",
       "      <th>2022-05-31</th>\n",
       "      <td>955.000000</td>\n",
       "    </tr>\n",
       "    <tr>\n",
       "      <th>2022-06-30</th>\n",
       "      <td>1176.000000</td>\n",
       "    </tr>\n",
       "    <tr>\n",
       "      <th>2022-07-31</th>\n",
       "      <td>1062.000000</td>\n",
       "    </tr>\n",
       "    <tr>\n",
       "      <th>2022-08-31</th>\n",
       "      <td>1517.000000</td>\n",
       "    </tr>\n",
       "  </tbody>\n",
       "</table>\n",
       "</div>"
      ],
      "text/plain": [
       "            predicted_sales\n",
       "Date                       \n",
       "2021-01-31       993.357026\n",
       "2021-02-28      1029.000000\n",
       "2021-03-31      1272.000000\n",
       "2021-04-30      1171.000000\n",
       "2021-05-31       955.000000\n",
       "2021-06-30      1176.000000\n",
       "2021-07-31      1062.000000\n",
       "2021-08-31      1517.000000\n",
       "2021-09-30      2300.000000\n",
       "2021-10-31      2915.000000\n",
       "2021-11-30      1417.000000\n",
       "2021-12-31       710.000000\n",
       "2022-01-31       993.357026\n",
       "2022-02-28      1029.000000\n",
       "2022-03-31      1272.000000\n",
       "2022-04-30      1171.000000\n",
       "2022-05-31       955.000000\n",
       "2022-06-30      1176.000000\n",
       "2022-07-31      1062.000000\n",
       "2022-08-31      1517.000000"
      ]
     },
     "execution_count": 34,
     "metadata": {},
     "output_type": "execute_result"
    }
   ],
   "source": [
    "prediction = pd.DataFrame(arima_model.predict(n_periods = 20),index=test.index)\n",
    "prediction.columns = ['predicted_sales']\n",
    "prediction"
   ]
  },
  {
   "cell_type": "code",
   "execution_count": null,
   "id": "67c65358",
   "metadata": {},
   "outputs": [],
   "source": [
    "start=pd.to_datetime('2022-06-30'),end=pd.to_datetime('2023-05-31'),dynamic=False)"
   ]
  },
  {
   "cell_type": "code",
   "execution_count": 244,
   "id": "77602fcd",
   "metadata": {},
   "outputs": [
    {
     "data": {
      "text/plain": [
       "array([1947.42916376, 1862.        , 2318.        , 2143.        ,\n",
       "       2336.        , 2611.        , 2319.        , 3079.        ,\n",
       "       3906.        , 3976.        , 2166.        , 1498.        ,\n",
       "       1947.42916376, 1862.        , 2318.        , 2143.        ,\n",
       "       2336.        , 2611.        , 2319.        , 3079.        ])"
      ]
     },
     "execution_count": 244,
     "metadata": {},
     "output_type": "execute_result"
    }
   ],
   "source": [
    "arima_model.predict(n_periods = 20)"
   ]
  },
  {
   "cell_type": "code",
   "execution_count": 245,
   "id": "a12725ed",
   "metadata": {},
   "outputs": [
    {
     "data": {
      "text/plain": [
       "[<matplotlib.lines.Line2D at 0x1cc4dca9b20>]"
      ]
     },
     "execution_count": 245,
     "metadata": {},
     "output_type": "execute_result"
    },
    {
     "data": {
      "image/png": "[encoded data removed]",
      "text/plain": [
       "<Figure size 576x360 with 1 Axes>"
      ]
     },
     "metadata": {
      "needs_background": "light"
     },
     "output_type": "display_data"
    }
   ],
   "source": [
    "plt.figure(figsize=(8,5))\n",
    "plt.plot(train,label=\"Training\")\n",
    "plt.plot(test,label=\"Test\")"
   ]
  },
  {
   "cell_type": "code",
   "execution_count": 219,
   "id": "8425c7bf",
   "metadata": {},
   "outputs": [
    {
     "data": {
      "image/png": "[encoded data removed]",
      "text/plain": [
       "<Figure size 576x360 with 1 Axes>"
      ]
     },
     "metadata": {
      "needs_background": "light"
     },
     "output_type": "display_data"
    }
   ],
   "source": [
    "plt.figure(figsize=(8,5))\n",
    "plt.plot(train,label=\"Training\")\n",
    "plt.plot(test,label=\"Test\")\n",
    "plt.plot(prediction,label=\"Predicted\")\n",
    "# plt.legend(loc = 'Left corner')\n",
    "plt.show()"
   ]
  },
  {
   "cell_type": "code",
   "execution_count": 220,
   "id": "278ee4ce",
   "metadata": {},
   "outputs": [
    {
     "data": {
      "text/html": [
       "<div>\n",
       "<style scoped>\n",
       "    .dataframe tbody tr th:only-of-type {\n",
       "        vertical-align: middle;\n",
       "    }\n",
       "\n",
       "    .dataframe tbody tr th {\n",
       "        vertical-align: top;\n",
       "    }\n",
       "\n",
       "    .dataframe thead th {\n",
       "        text-align: right;\n",
       "    }\n",
       "</style>\n",
       "<table border=\"1\" class=\"dataframe\">\n",
       "  <thead>\n",
       "    <tr style=\"text-align: right;\">\n",
       "      <th></th>\n",
       "      <th>Case Number</th>\n",
       "    </tr>\n",
       "    <tr>\n",
       "      <th>Date</th>\n",
       "      <th></th>\n",
       "    </tr>\n",
       "  </thead>\n",
       "  <tbody>\n",
       "    <tr>\n",
       "      <th>2021-01-31</th>\n",
       "      <td>1955</td>\n",
       "    </tr>\n",
       "    <tr>\n",
       "      <th>2021-02-28</th>\n",
       "      <td>1862</td>\n",
       "    </tr>\n",
       "    <tr>\n",
       "      <th>2021-03-31</th>\n",
       "      <td>2318</td>\n",
       "    </tr>\n",
       "    <tr>\n",
       "      <th>2021-04-30</th>\n",
       "      <td>2143</td>\n",
       "    </tr>\n",
       "    <tr>\n",
       "      <th>2021-05-31</th>\n",
       "      <td>2336</td>\n",
       "    </tr>\n",
       "    <tr>\n",
       "      <th>2021-06-30</th>\n",
       "      <td>2611</td>\n",
       "    </tr>\n",
       "    <tr>\n",
       "      <th>2021-07-31</th>\n",
       "      <td>2319</td>\n",
       "    </tr>\n",
       "    <tr>\n",
       "      <th>2021-08-31</th>\n",
       "      <td>3079</td>\n",
       "    </tr>\n",
       "    <tr>\n",
       "      <th>2021-09-30</th>\n",
       "      <td>3906</td>\n",
       "    </tr>\n",
       "    <tr>\n",
       "      <th>2021-10-31</th>\n",
       "      <td>3976</td>\n",
       "    </tr>\n",
       "    <tr>\n",
       "      <th>2021-11-30</th>\n",
       "      <td>2166</td>\n",
       "    </tr>\n",
       "    <tr>\n",
       "      <th>2021-12-31</th>\n",
       "      <td>1498</td>\n",
       "    </tr>\n",
       "    <tr>\n",
       "      <th>2022-01-31</th>\n",
       "      <td>1832</td>\n",
       "    </tr>\n",
       "    <tr>\n",
       "      <th>2022-02-28</th>\n",
       "      <td>1772</td>\n",
       "    </tr>\n",
       "    <tr>\n",
       "      <th>2022-03-31</th>\n",
       "      <td>2163</td>\n",
       "    </tr>\n",
       "    <tr>\n",
       "      <th>2022-04-30</th>\n",
       "      <td>1871</td>\n",
       "    </tr>\n",
       "    <tr>\n",
       "      <th>2022-05-31</th>\n",
       "      <td>1787</td>\n",
       "    </tr>\n",
       "    <tr>\n",
       "      <th>2022-06-30</th>\n",
       "      <td>2112</td>\n",
       "    </tr>\n",
       "    <tr>\n",
       "      <th>2022-07-31</th>\n",
       "      <td>1959</td>\n",
       "    </tr>\n",
       "    <tr>\n",
       "      <th>2022-08-31</th>\n",
       "      <td>1351</td>\n",
       "    </tr>\n",
       "  </tbody>\n",
       "</table>\n",
       "</div>"
      ],
      "text/plain": [
       "            Case Number\n",
       "Date                   \n",
       "2021-01-31         1955\n",
       "2021-02-28         1862\n",
       "2021-03-31         2318\n",
       "2021-04-30         2143\n",
       "2021-05-31         2336\n",
       "2021-06-30         2611\n",
       "2021-07-31         2319\n",
       "2021-08-31         3079\n",
       "2021-09-30         3906\n",
       "2021-10-31         3976\n",
       "2021-11-30         2166\n",
       "2021-12-31         1498\n",
       "2022-01-31         1832\n",
       "2022-02-28         1772\n",
       "2022-03-31         2163\n",
       "2022-04-30         1871\n",
       "2022-05-31         1787\n",
       "2022-06-30         2112\n",
       "2022-07-31         1959\n",
       "2022-08-31         1351"
      ]
     },
     "execution_count": 220,
     "metadata": {},
     "output_type": "execute_result"
    }
   ],
   "source": [
    "test"
   ]
  },
  {
   "cell_type": "code",
   "execution_count": 221,
   "id": "9aaeed7a",
   "metadata": {},
   "outputs": [
    {
     "data": {
      "text/plain": [
       "0.5820862955758923"
      ]
     },
     "execution_count": 221,
     "metadata": {},
     "output_type": "execute_result"
    }
   ],
   "source": [
    "from sklearn.metrics import r2_score, rms\n",
    "test['predicted_cas'] = prediction\n",
    "r2_score(test['Case Number'], test['predicted_cas'])"
   ]
  },
  {
   "cell_type": "code",
   "execution_count": 222,
   "id": "867580d2",
   "metadata": {},
   "outputs": [
    {
     "data": {
      "text/plain": [
       "435.05610037146675"
      ]
     },
     "execution_count": 222,
     "metadata": {},
     "output_type": "execute_result"
    }
   ],
   "source": [
    "from sklearn.metrics import mean_squared_error\n",
    "\n",
    "rmse = mean_squared_error(test['Case Number'], test['predicted_cas'], squared=False)\n",
    "rmse"
   ]
  },
  {
   "cell_type": "code",
   "execution_count": 230,
   "id": "1f13f18d",
   "metadata": {},
   "outputs": [
    {
     "data": {
      "text/html": [
       "<div>\n",
       "<style scoped>\n",
       "    .dataframe tbody tr th:only-of-type {\n",
       "        vertical-align: middle;\n",
       "    }\n",
       "\n",
       "    .dataframe tbody tr th {\n",
       "        vertical-align: top;\n",
       "    }\n",
       "\n",
       "    .dataframe thead th {\n",
       "        text-align: right;\n",
       "    }\n",
       "</style>\n",
       "<table border=\"1\" class=\"dataframe\">\n",
       "  <thead>\n",
       "    <tr style=\"text-align: right;\">\n",
       "      <th></th>\n",
       "      <th>Case Number</th>\n",
       "    </tr>\n",
       "    <tr>\n",
       "      <th>Date</th>\n",
       "      <th></th>\n",
       "    </tr>\n",
       "  </thead>\n",
       "  <tbody>\n",
       "    <tr>\n",
       "      <th>2017-01-31</th>\n",
       "      <td>2206</td>\n",
       "    </tr>\n",
       "    <tr>\n",
       "      <th>2017-02-28</th>\n",
       "      <td>2377</td>\n",
       "    </tr>\n",
       "    <tr>\n",
       "      <th>2017-03-31</th>\n",
       "      <td>3326</td>\n",
       "    </tr>\n",
       "    <tr>\n",
       "      <th>2017-04-30</th>\n",
       "      <td>2186</td>\n",
       "    </tr>\n",
       "    <tr>\n",
       "      <th>2017-05-31</th>\n",
       "      <td>2581</td>\n",
       "    </tr>\n",
       "    <tr>\n",
       "      <th>2017-06-30</th>\n",
       "      <td>2916</td>\n",
       "    </tr>\n",
       "    <tr>\n",
       "      <th>2017-07-31</th>\n",
       "      <td>2453</td>\n",
       "    </tr>\n",
       "    <tr>\n",
       "      <th>2017-08-31</th>\n",
       "      <td>3755</td>\n",
       "    </tr>\n",
       "    <tr>\n",
       "      <th>2017-09-30</th>\n",
       "      <td>4100</td>\n",
       "    </tr>\n",
       "    <tr>\n",
       "      <th>2017-10-31</th>\n",
       "      <td>4577</td>\n",
       "    </tr>\n",
       "    <tr>\n",
       "      <th>2017-11-30</th>\n",
       "      <td>2117</td>\n",
       "    </tr>\n",
       "    <tr>\n",
       "      <th>2017-12-31</th>\n",
       "      <td>1736</td>\n",
       "    </tr>\n",
       "    <tr>\n",
       "      <th>2018-01-31</th>\n",
       "      <td>2437</td>\n",
       "    </tr>\n",
       "    <tr>\n",
       "      <th>2018-02-28</th>\n",
       "      <td>2155</td>\n",
       "    </tr>\n",
       "    <tr>\n",
       "      <th>2018-03-31</th>\n",
       "      <td>2649</td>\n",
       "    </tr>\n",
       "    <tr>\n",
       "      <th>2018-04-30</th>\n",
       "      <td>2133</td>\n",
       "    </tr>\n",
       "    <tr>\n",
       "      <th>2018-05-31</th>\n",
       "      <td>2398</td>\n",
       "    </tr>\n",
       "    <tr>\n",
       "      <th>2018-06-30</th>\n",
       "      <td>2505</td>\n",
       "    </tr>\n",
       "    <tr>\n",
       "      <th>2018-07-31</th>\n",
       "      <td>2613</td>\n",
       "    </tr>\n",
       "    <tr>\n",
       "      <th>2018-08-31</th>\n",
       "      <td>3956</td>\n",
       "    </tr>\n",
       "    <tr>\n",
       "      <th>2018-09-30</th>\n",
       "      <td>4027</td>\n",
       "    </tr>\n",
       "    <tr>\n",
       "      <th>2018-10-31</th>\n",
       "      <td>5427</td>\n",
       "    </tr>\n",
       "    <tr>\n",
       "      <th>2018-11-30</th>\n",
       "      <td>2116</td>\n",
       "    </tr>\n",
       "    <tr>\n",
       "      <th>2018-12-31</th>\n",
       "      <td>1436</td>\n",
       "    </tr>\n",
       "    <tr>\n",
       "      <th>2019-01-31</th>\n",
       "      <td>2581</td>\n",
       "    </tr>\n",
       "    <tr>\n",
       "      <th>2019-02-28</th>\n",
       "      <td>2193</td>\n",
       "    </tr>\n",
       "    <tr>\n",
       "      <th>2019-03-31</th>\n",
       "      <td>2589</td>\n",
       "    </tr>\n",
       "    <tr>\n",
       "      <th>2019-04-30</th>\n",
       "      <td>2560</td>\n",
       "    </tr>\n",
       "    <tr>\n",
       "      <th>2019-05-31</th>\n",
       "      <td>2132</td>\n",
       "    </tr>\n",
       "    <tr>\n",
       "      <th>2019-06-30</th>\n",
       "      <td>2439</td>\n",
       "    </tr>\n",
       "    <tr>\n",
       "      <th>2019-07-31</th>\n",
       "      <td>3655</td>\n",
       "    </tr>\n",
       "    <tr>\n",
       "      <th>2019-08-31</th>\n",
       "      <td>4392</td>\n",
       "    </tr>\n",
       "    <tr>\n",
       "      <th>2019-09-30</th>\n",
       "      <td>6302</td>\n",
       "    </tr>\n",
       "    <tr>\n",
       "      <th>2019-10-31</th>\n",
       "      <td>6651</td>\n",
       "    </tr>\n",
       "    <tr>\n",
       "      <th>2019-11-30</th>\n",
       "      <td>2126</td>\n",
       "    </tr>\n",
       "    <tr>\n",
       "      <th>2019-12-31</th>\n",
       "      <td>1634</td>\n",
       "    </tr>\n",
       "    <tr>\n",
       "      <th>2020-01-31</th>\n",
       "      <td>2762</td>\n",
       "    </tr>\n",
       "    <tr>\n",
       "      <th>2020-02-29</th>\n",
       "      <td>2193</td>\n",
       "    </tr>\n",
       "    <tr>\n",
       "      <th>2020-03-31</th>\n",
       "      <td>3178</td>\n",
       "    </tr>\n",
       "    <tr>\n",
       "      <th>2020-04-30</th>\n",
       "      <td>2678</td>\n",
       "    </tr>\n",
       "    <tr>\n",
       "      <th>2020-05-31</th>\n",
       "      <td>2361</td>\n",
       "    </tr>\n",
       "    <tr>\n",
       "      <th>2020-06-30</th>\n",
       "      <td>2898</td>\n",
       "    </tr>\n",
       "    <tr>\n",
       "      <th>2020-07-31</th>\n",
       "      <td>3233</td>\n",
       "    </tr>\n",
       "    <tr>\n",
       "      <th>2020-08-31</th>\n",
       "      <td>3812</td>\n",
       "    </tr>\n",
       "    <tr>\n",
       "      <th>2020-09-30</th>\n",
       "      <td>4648</td>\n",
       "    </tr>\n",
       "    <tr>\n",
       "      <th>2020-10-31</th>\n",
       "      <td>4764</td>\n",
       "    </tr>\n",
       "    <tr>\n",
       "      <th>2020-11-30</th>\n",
       "      <td>2600</td>\n",
       "    </tr>\n",
       "    <tr>\n",
       "      <th>2020-12-31</th>\n",
       "      <td>1609</td>\n",
       "    </tr>\n",
       "    <tr>\n",
       "      <th>2021-01-31</th>\n",
       "      <td>1955</td>\n",
       "    </tr>\n",
       "    <tr>\n",
       "      <th>2021-02-28</th>\n",
       "      <td>1862</td>\n",
       "    </tr>\n",
       "    <tr>\n",
       "      <th>2021-03-31</th>\n",
       "      <td>2318</td>\n",
       "    </tr>\n",
       "    <tr>\n",
       "      <th>2021-04-30</th>\n",
       "      <td>2143</td>\n",
       "    </tr>\n",
       "    <tr>\n",
       "      <th>2021-05-31</th>\n",
       "      <td>2336</td>\n",
       "    </tr>\n",
       "    <tr>\n",
       "      <th>2021-06-30</th>\n",
       "      <td>2611</td>\n",
       "    </tr>\n",
       "    <tr>\n",
       "      <th>2021-07-31</th>\n",
       "      <td>2319</td>\n",
       "    </tr>\n",
       "    <tr>\n",
       "      <th>2021-08-31</th>\n",
       "      <td>3079</td>\n",
       "    </tr>\n",
       "    <tr>\n",
       "      <th>2021-09-30</th>\n",
       "      <td>3906</td>\n",
       "    </tr>\n",
       "    <tr>\n",
       "      <th>2021-10-31</th>\n",
       "      <td>3976</td>\n",
       "    </tr>\n",
       "    <tr>\n",
       "      <th>2021-11-30</th>\n",
       "      <td>2166</td>\n",
       "    </tr>\n",
       "    <tr>\n",
       "      <th>2021-12-31</th>\n",
       "      <td>1498</td>\n",
       "    </tr>\n",
       "    <tr>\n",
       "      <th>2022-01-31</th>\n",
       "      <td>1832</td>\n",
       "    </tr>\n",
       "    <tr>\n",
       "      <th>2022-02-28</th>\n",
       "      <td>1772</td>\n",
       "    </tr>\n",
       "    <tr>\n",
       "      <th>2022-03-31</th>\n",
       "      <td>2163</td>\n",
       "    </tr>\n",
       "    <tr>\n",
       "      <th>2022-04-30</th>\n",
       "      <td>1871</td>\n",
       "    </tr>\n",
       "    <tr>\n",
       "      <th>2022-05-31</th>\n",
       "      <td>1787</td>\n",
       "    </tr>\n",
       "    <tr>\n",
       "      <th>2022-06-30</th>\n",
       "      <td>2112</td>\n",
       "    </tr>\n",
       "    <tr>\n",
       "      <th>2022-07-31</th>\n",
       "      <td>1959</td>\n",
       "    </tr>\n",
       "    <tr>\n",
       "      <th>2022-08-31</th>\n",
       "      <td>1351</td>\n",
       "    </tr>\n",
       "  </tbody>\n",
       "</table>\n",
       "</div>"
      ],
      "text/plain": [
       "            Case Number\n",
       "Date                   \n",
       "2017-01-31         2206\n",
       "2017-02-28         2377\n",
       "2017-03-31         3326\n",
       "2017-04-30         2186\n",
       "2017-05-31         2581\n",
       "2017-06-30         2916\n",
       "2017-07-31         2453\n",
       "2017-08-31         3755\n",
       "2017-09-30         4100\n",
       "2017-10-31         4577\n",
       "2017-11-30         2117\n",
       "2017-12-31         1736\n",
       "2018-01-31         2437\n",
       "2018-02-28         2155\n",
       "2018-03-31         2649\n",
       "2018-04-30         2133\n",
       "2018-05-31         2398\n",
       "2018-06-30         2505\n",
       "2018-07-31         2613\n",
       "2018-08-31         3956\n",
       "2018-09-30         4027\n",
       "2018-10-31         5427\n",
       "2018-11-30         2116\n",
       "2018-12-31         1436\n",
       "2019-01-31         2581\n",
       "2019-02-28         2193\n",
       "2019-03-31         2589\n",
       "2019-04-30         2560\n",
       "2019-05-31         2132\n",
       "2019-06-30         2439\n",
       "2019-07-31         3655\n",
       "2019-08-31         4392\n",
       "2019-09-30         6302\n",
       "2019-10-31         6651\n",
       "2019-11-30         2126\n",
       "2019-12-31         1634\n",
       "2020-01-31         2762\n",
       "2020-02-29         2193\n",
       "2020-03-31         3178\n",
       "2020-04-30         2678\n",
       "2020-05-31         2361\n",
       "2020-06-30         2898\n",
       "2020-07-31         3233\n",
       "2020-08-31         3812\n",
       "2020-09-30         4648\n",
       "2020-10-31         4764\n",
       "2020-11-30         2600\n",
       "2020-12-31         1609\n",
       "2021-01-31         1955\n",
       "2021-02-28         1862\n",
       "2021-03-31         2318\n",
       "2021-04-30         2143\n",
       "2021-05-31         2336\n",
       "2021-06-30         2611\n",
       "2021-07-31         2319\n",
       "2021-08-31         3079\n",
       "2021-09-30         3906\n",
       "2021-10-31         3976\n",
       "2021-11-30         2166\n",
       "2021-12-31         1498\n",
       "2022-01-31         1832\n",
       "2022-02-28         1772\n",
       "2022-03-31         2163\n",
       "2022-04-30         1871\n",
       "2022-05-31         1787\n",
       "2022-06-30         2112\n",
       "2022-07-31         1959\n",
       "2022-08-31         1351"
      ]
     },
     "execution_count": 230,
     "metadata": {},
     "output_type": "execute_result"
    }
   ],
   "source": [
    "month_newdf"
   ]
  },
  {
   "cell_type": "code",
   "execution_count": 231,
   "id": "a263294d",
   "metadata": {},
   "outputs": [
    {
     "data": {
      "text/plain": [
       "array([1947.42916376, 1862.        , 2318.        , 2143.        ,\n",
       "       2336.        , 2611.        , 2319.        , 3079.        ,\n",
       "       3906.        , 3976.        , 2166.        , 1498.        ,\n",
       "       1947.42916376, 1862.        , 2318.        , 2143.        ,\n",
       "       2336.        , 2611.        , 2319.        , 3079.        ,\n",
       "       3906.        , 3976.        , 2166.        , 1498.        ,\n",
       "       1947.42916376, 1862.        , 2318.        , 2143.        ,\n",
       "       2336.        , 2611.        , 2319.        , 3079.        ,\n",
       "       3906.        , 3976.        , 2166.        , 1498.        ,\n",
       "       1947.42916376, 1862.        , 2318.        , 2143.        ,\n",
       "       2336.        , 2611.        , 2319.        , 3079.        ,\n",
       "       3906.        , 3976.        , 2166.        , 1498.        ,\n",
       "       1947.42916376, 1862.        , 2318.        , 2143.        ,\n",
       "       2336.        , 2611.        , 2319.        , 3079.        ,\n",
       "       3906.        , 3976.        , 2166.        , 1498.        ,\n",
       "       1947.42916376, 1862.        , 2318.        , 2143.        ,\n",
       "       2336.        , 2611.        , 2319.        , 3079.        ,\n",
       "       3906.        , 3976.        , 2166.        , 1498.        ,\n",
       "       1947.42916376, 1862.        , 2318.        , 2143.        ,\n",
       "       2336.        , 2611.        , 2319.        , 3079.        ,\n",
       "       3906.        , 3976.        , 2166.        , 1498.        ,\n",
       "       1947.42916376, 1862.        , 2318.        , 2143.        ,\n",
       "       2336.        , 2611.        , 2319.        , 3079.        ,\n",
       "       3906.        , 3976.        , 2166.        , 1498.        ,\n",
       "       1947.42916376, 1862.        , 2318.        , 2143.        ,\n",
       "       2336.        , 2611.        , 2319.        , 3079.        ,\n",
       "       3906.        , 3976.        , 2166.        , 1498.        ,\n",
       "       1947.42916376, 1862.        , 2318.        , 2143.        ,\n",
       "       2336.        , 2611.        , 2319.        , 3079.        ,\n",
       "       3906.        , 3976.        , 2166.        , 1498.        ,\n",
       "       1947.42916376, 1862.        , 2318.        , 2143.        ,\n",
       "       2336.        , 2611.        , 2319.        , 3079.        ,\n",
       "       3906.        , 3976.        , 2166.        , 1498.        ,\n",
       "       1947.42916376, 1862.        , 2318.        , 2143.        ,\n",
       "       2336.        , 2611.        , 2319.        , 3079.        ,\n",
       "       3906.        , 3976.        , 2166.        , 1498.        ,\n",
       "       1947.42916376, 1862.        , 2318.        , 2143.        ,\n",
       "       2336.        , 2611.        , 2319.        , 3079.        ,\n",
       "       3906.        , 3976.        , 2166.        , 1498.        ,\n",
       "       1947.42916376, 1862.        , 2318.        , 2143.        ,\n",
       "       2336.        , 2611.        , 2319.        , 3079.        ,\n",
       "       3906.        , 3976.        , 2166.        , 1498.        ,\n",
       "       1947.42916376, 1862.        , 2318.        , 2143.        ,\n",
       "       2336.        , 2611.        , 2319.        , 3079.        ,\n",
       "       3906.        , 3976.        , 2166.        , 1498.        ,\n",
       "       1947.42916376, 1862.        , 2318.        , 2143.        ,\n",
       "       2336.        , 2611.        , 2319.        , 3079.        ,\n",
       "       3906.        , 3976.        , 2166.        , 1498.        ,\n",
       "       1947.42916376, 1862.        , 2318.        , 2143.        ,\n",
       "       2336.        , 2611.        , 2319.        , 3079.        ,\n",
       "       3906.        , 3976.        , 2166.        , 1498.        ,\n",
       "       1947.42916376, 1862.        , 2318.        , 2143.        ,\n",
       "       2336.        , 2611.        , 2319.        , 3079.        ,\n",
       "       3906.        , 3976.        , 2166.        , 1498.        ,\n",
       "       1947.42916376, 1862.        , 2318.        , 2143.        ,\n",
       "       2336.        , 2611.        , 2319.        , 3079.        ,\n",
       "       3906.        , 3976.        , 2166.        , 1498.        ,\n",
       "       1947.42916376, 1862.        , 2318.        , 2143.        ,\n",
       "       2336.        , 2611.        , 2319.        , 3079.        ,\n",
       "       3906.        , 3976.        , 2166.        , 1498.        ,\n",
       "       1947.42916376, 1862.        , 2318.        , 2143.        ,\n",
       "       2336.        , 2611.        , 2319.        , 3079.        ,\n",
       "       3906.        , 3976.        , 2166.        , 1498.        ,\n",
       "       1947.42916376, 1862.        , 2318.        , 2143.        ,\n",
       "       2336.        , 2611.        , 2319.        , 3079.        ,\n",
       "       3906.        , 3976.        , 2166.        , 1498.        ,\n",
       "       1947.42916376, 1862.        , 2318.        , 2143.        ,\n",
       "       2336.        , 2611.        , 2319.        , 3079.        ,\n",
       "       3906.        , 3976.        , 2166.        , 1498.        ,\n",
       "       1947.42916376, 1862.        , 2318.        , 2143.        ,\n",
       "       2336.        , 2611.        , 2319.        , 3079.        ,\n",
       "       3906.        , 3976.        , 2166.        , 1498.        ,\n",
       "       1947.42916376, 1862.        , 2318.        , 2143.        ,\n",
       "       2336.        , 2611.        , 2319.        , 3079.        ,\n",
       "       3906.        , 3976.        , 2166.        , 1498.        ,\n",
       "       1947.42916376, 1862.        , 2318.        , 2143.        ,\n",
       "       2336.        , 2611.        , 2319.        , 3079.        ,\n",
       "       3906.        , 3976.        , 2166.        , 1498.        ,\n",
       "       1947.42916376, 1862.        , 2318.        , 2143.        ,\n",
       "       2336.        , 2611.        , 2319.        , 3079.        ,\n",
       "       3906.        , 3976.        , 2166.        , 1498.        ,\n",
       "       1947.42916376, 1862.        , 2318.        , 2143.        ,\n",
       "       2336.        , 2611.        , 2319.        , 3079.        ,\n",
       "       3906.        , 3976.        , 2166.        , 1498.        ,\n",
       "       1947.42916376, 1862.        , 2318.        , 2143.        ,\n",
       "       2336.        , 2611.        , 2319.        , 3079.        ,\n",
       "       3906.        , 3976.        , 2166.        , 1498.        ,\n",
       "       1947.42916376, 1862.        , 2318.        , 2143.        ,\n",
       "       2336.        , 2611.        , 2319.        , 3079.        ,\n",
       "       3906.        , 3976.        , 2166.        , 1498.        ,\n",
       "       1947.42916376, 1862.        , 2318.        , 2143.        ,\n",
       "       2336.        , 2611.        , 2319.        , 3079.        ,\n",
       "       3906.        , 3976.        , 2166.        , 1498.        ,\n",
       "       1947.42916376, 1862.        , 2318.        , 2143.        ,\n",
       "       2336.        , 2611.        , 2319.        , 3079.        ,\n",
       "       3906.        , 3976.        , 2166.        , 1498.        ,\n",
       "       1947.42916376, 1862.        , 2318.        , 2143.        ,\n",
       "       2336.        , 2611.        , 2319.        , 3079.        ,\n",
       "       3906.        , 3976.        , 2166.        , 1498.        ,\n",
       "       1947.42916376, 1862.        , 2318.        , 2143.        ])"
      ]
     },
     "execution_count": 231,
     "metadata": {},
     "output_type": "execute_result"
    }
   ],
   "source": [
    "# Forecast\n",
    "arima_model.predict(n_periods=)"
   ]
  },
  {
   "cell_type": "code",
   "execution_count": 54,
   "id": "bd70eb6b",
   "metadata": {
    "scrolled": false
   },
   "outputs": [
    {
     "data": {
      "text/html": [
       "<div>\n",
       "<style scoped>\n",
       "    .dataframe tbody tr th:only-of-type {\n",
       "        vertical-align: middle;\n",
       "    }\n",
       "\n",
       "    .dataframe tbody tr th {\n",
       "        vertical-align: top;\n",
       "    }\n",
       "\n",
       "    .dataframe thead th {\n",
       "        text-align: right;\n",
       "    }\n",
       "</style>\n",
       "<table border=\"1\" class=\"dataframe\">\n",
       "  <thead>\n",
       "    <tr style=\"text-align: right;\">\n",
       "      <th></th>\n",
       "      <th>Case Number</th>\n",
       "      <th>Subject</th>\n",
       "      <th>Date Created</th>\n",
       "      <th>Date Closed</th>\n",
       "      <th>Origin</th>\n",
       "      <th>Priority</th>\n",
       "      <th>Team</th>\n",
       "      <th>Case Type</th>\n",
       "      <th>SLA</th>\n",
       "      <th>Problem Statement</th>\n",
       "      <th>Product</th>\n",
       "      <th>Product Area</th>\n",
       "      <th>Product Category</th>\n",
       "      <th>Product Type</th>\n",
       "      <th>Jurisdiction</th>\n",
       "      <th>Resolution</th>\n",
       "      <th>KB #</th>\n",
       "      <th>KB Title</th>\n",
       "      <th>Date</th>\n",
       "    </tr>\n",
       "    <tr>\n",
       "      <th>Date</th>\n",
       "      <th></th>\n",
       "      <th></th>\n",
       "      <th></th>\n",
       "      <th></th>\n",
       "      <th></th>\n",
       "      <th></th>\n",
       "      <th></th>\n",
       "      <th></th>\n",
       "      <th></th>\n",
       "      <th></th>\n",
       "      <th></th>\n",
       "      <th></th>\n",
       "      <th></th>\n",
       "      <th></th>\n",
       "      <th></th>\n",
       "      <th></th>\n",
       "      <th></th>\n",
       "      <th></th>\n",
       "      <th></th>\n",
       "    </tr>\n",
       "  </thead>\n",
       "  <tbody>\n",
       "    <tr>\n",
       "      <th>2017-01-02</th>\n",
       "      <td>4</td>\n",
       "      <td>4</td>\n",
       "      <td>4</td>\n",
       "      <td>4</td>\n",
       "      <td>4</td>\n",
       "      <td>4</td>\n",
       "      <td>4</td>\n",
       "      <td>4</td>\n",
       "      <td>4</td>\n",
       "      <td>4</td>\n",
       "      <td>4</td>\n",
       "      <td>4</td>\n",
       "      <td>1</td>\n",
       "      <td>0</td>\n",
       "      <td>3</td>\n",
       "      <td>4</td>\n",
       "      <td>3</td>\n",
       "      <td>3</td>\n",
       "      <td>4</td>\n",
       "    </tr>\n",
       "    <tr>\n",
       "      <th>2017-01-03</th>\n",
       "      <td>84</td>\n",
       "      <td>84</td>\n",
       "      <td>84</td>\n",
       "      <td>84</td>\n",
       "      <td>84</td>\n",
       "      <td>84</td>\n",
       "      <td>84</td>\n",
       "      <td>83</td>\n",
       "      <td>84</td>\n",
       "      <td>83</td>\n",
       "      <td>84</td>\n",
       "      <td>84</td>\n",
       "      <td>25</td>\n",
       "      <td>1</td>\n",
       "      <td>30</td>\n",
       "      <td>74</td>\n",
       "      <td>27</td>\n",
       "      <td>26</td>\n",
       "      <td>84</td>\n",
       "    </tr>\n",
       "    <tr>\n",
       "      <th>2017-01-04</th>\n",
       "      <td>113</td>\n",
       "      <td>113</td>\n",
       "      <td>113</td>\n",
       "      <td>113</td>\n",
       "      <td>113</td>\n",
       "      <td>113</td>\n",
       "      <td>113</td>\n",
       "      <td>113</td>\n",
       "      <td>113</td>\n",
       "      <td>113</td>\n",
       "      <td>113</td>\n",
       "      <td>113</td>\n",
       "      <td>42</td>\n",
       "      <td>6</td>\n",
       "      <td>35</td>\n",
       "      <td>110</td>\n",
       "      <td>41</td>\n",
       "      <td>39</td>\n",
       "      <td>113</td>\n",
       "    </tr>\n",
       "    <tr>\n",
       "      <th>2017-01-05</th>\n",
       "      <td>106</td>\n",
       "      <td>106</td>\n",
       "      <td>106</td>\n",
       "      <td>106</td>\n",
       "      <td>106</td>\n",
       "      <td>106</td>\n",
       "      <td>106</td>\n",
       "      <td>104</td>\n",
       "      <td>106</td>\n",
       "      <td>104</td>\n",
       "      <td>106</td>\n",
       "      <td>106</td>\n",
       "      <td>33</td>\n",
       "      <td>5</td>\n",
       "      <td>39</td>\n",
       "      <td>101</td>\n",
       "      <td>35</td>\n",
       "      <td>33</td>\n",
       "      <td>106</td>\n",
       "    </tr>\n",
       "    <tr>\n",
       "      <th>2017-01-06</th>\n",
       "      <td>87</td>\n",
       "      <td>87</td>\n",
       "      <td>87</td>\n",
       "      <td>87</td>\n",
       "      <td>87</td>\n",
       "      <td>87</td>\n",
       "      <td>87</td>\n",
       "      <td>86</td>\n",
       "      <td>87</td>\n",
       "      <td>86</td>\n",
       "      <td>87</td>\n",
       "      <td>87</td>\n",
       "      <td>35</td>\n",
       "      <td>5</td>\n",
       "      <td>31</td>\n",
       "      <td>86</td>\n",
       "      <td>24</td>\n",
       "      <td>22</td>\n",
       "      <td>87</td>\n",
       "    </tr>\n",
       "    <tr>\n",
       "      <th>...</th>\n",
       "      <td>...</td>\n",
       "      <td>...</td>\n",
       "      <td>...</td>\n",
       "      <td>...</td>\n",
       "      <td>...</td>\n",
       "      <td>...</td>\n",
       "      <td>...</td>\n",
       "      <td>...</td>\n",
       "      <td>...</td>\n",
       "      <td>...</td>\n",
       "      <td>...</td>\n",
       "      <td>...</td>\n",
       "      <td>...</td>\n",
       "      <td>...</td>\n",
       "      <td>...</td>\n",
       "      <td>...</td>\n",
       "      <td>...</td>\n",
       "      <td>...</td>\n",
       "      <td>...</td>\n",
       "    </tr>\n",
       "    <tr>\n",
       "      <th>2017-04-23</th>\n",
       "      <td>1</td>\n",
       "      <td>1</td>\n",
       "      <td>1</td>\n",
       "      <td>1</td>\n",
       "      <td>1</td>\n",
       "      <td>1</td>\n",
       "      <td>1</td>\n",
       "      <td>1</td>\n",
       "      <td>1</td>\n",
       "      <td>1</td>\n",
       "      <td>1</td>\n",
       "      <td>1</td>\n",
       "      <td>0</td>\n",
       "      <td>0</td>\n",
       "      <td>0</td>\n",
       "      <td>1</td>\n",
       "      <td>0</td>\n",
       "      <td>0</td>\n",
       "      <td>1</td>\n",
       "    </tr>\n",
       "    <tr>\n",
       "      <th>2017-04-24</th>\n",
       "      <td>91</td>\n",
       "      <td>91</td>\n",
       "      <td>91</td>\n",
       "      <td>91</td>\n",
       "      <td>91</td>\n",
       "      <td>91</td>\n",
       "      <td>91</td>\n",
       "      <td>88</td>\n",
       "      <td>91</td>\n",
       "      <td>88</td>\n",
       "      <td>91</td>\n",
       "      <td>91</td>\n",
       "      <td>24</td>\n",
       "      <td>0</td>\n",
       "      <td>53</td>\n",
       "      <td>90</td>\n",
       "      <td>30</td>\n",
       "      <td>27</td>\n",
       "      <td>91</td>\n",
       "    </tr>\n",
       "    <tr>\n",
       "      <th>2017-04-25</th>\n",
       "      <td>91</td>\n",
       "      <td>91</td>\n",
       "      <td>91</td>\n",
       "      <td>91</td>\n",
       "      <td>91</td>\n",
       "      <td>91</td>\n",
       "      <td>91</td>\n",
       "      <td>91</td>\n",
       "      <td>91</td>\n",
       "      <td>91</td>\n",
       "      <td>91</td>\n",
       "      <td>91</td>\n",
       "      <td>27</td>\n",
       "      <td>2</td>\n",
       "      <td>45</td>\n",
       "      <td>91</td>\n",
       "      <td>35</td>\n",
       "      <td>34</td>\n",
       "      <td>91</td>\n",
       "    </tr>\n",
       "    <tr>\n",
       "      <th>2017-04-26</th>\n",
       "      <td>98</td>\n",
       "      <td>98</td>\n",
       "      <td>98</td>\n",
       "      <td>98</td>\n",
       "      <td>98</td>\n",
       "      <td>98</td>\n",
       "      <td>98</td>\n",
       "      <td>98</td>\n",
       "      <td>98</td>\n",
       "      <td>98</td>\n",
       "      <td>98</td>\n",
       "      <td>98</td>\n",
       "      <td>21</td>\n",
       "      <td>0</td>\n",
       "      <td>55</td>\n",
       "      <td>98</td>\n",
       "      <td>47</td>\n",
       "      <td>43</td>\n",
       "      <td>98</td>\n",
       "    </tr>\n",
       "    <tr>\n",
       "      <th>2017-04-27</th>\n",
       "      <td>74</td>\n",
       "      <td>74</td>\n",
       "      <td>74</td>\n",
       "      <td>74</td>\n",
       "      <td>74</td>\n",
       "      <td>74</td>\n",
       "      <td>74</td>\n",
       "      <td>74</td>\n",
       "      <td>74</td>\n",
       "      <td>74</td>\n",
       "      <td>74</td>\n",
       "      <td>74</td>\n",
       "      <td>16</td>\n",
       "      <td>2</td>\n",
       "      <td>47</td>\n",
       "      <td>74</td>\n",
       "      <td>30</td>\n",
       "      <td>30</td>\n",
       "      <td>74</td>\n",
       "    </tr>\n",
       "  </tbody>\n",
       "</table>\n",
       "<p>115 rows × 19 columns</p>\n",
       "</div>"
      ],
      "text/plain": [
       "            Case Number  Subject  Date Created  Date Closed  Origin  Priority  \\\n",
       "Date                                                                            \n",
       "2017-01-02            4        4             4            4       4         4   \n",
       "2017-01-03           84       84            84           84      84        84   \n",
       "2017-01-04          113      113           113          113     113       113   \n",
       "2017-01-05          106      106           106          106     106       106   \n",
       "2017-01-06           87       87            87           87      87        87   \n",
       "...                 ...      ...           ...          ...     ...       ...   \n",
       "2017-04-23            1        1             1            1       1         1   \n",
       "2017-04-24           91       91            91           91      91        91   \n",
       "2017-04-25           91       91            91           91      91        91   \n",
       "2017-04-26           98       98            98           98      98        98   \n",
       "2017-04-27           74       74            74           74      74        74   \n",
       "\n",
       "            Team  Case Type  SLA  Problem Statement  Product  Product Area  \\\n",
       "Date                                                                         \n",
       "2017-01-02     4          4    4                  4        4             4   \n",
       "2017-01-03    84         83   84                 83       84            84   \n",
       "2017-01-04   113        113  113                113      113           113   \n",
       "2017-01-05   106        104  106                104      106           106   \n",
       "2017-01-06    87         86   87                 86       87            87   \n",
       "...          ...        ...  ...                ...      ...           ...   \n",
       "2017-04-23     1          1    1                  1        1             1   \n",
       "2017-04-24    91         88   91                 88       91            91   \n",
       "2017-04-25    91         91   91                 91       91            91   \n",
       "2017-04-26    98         98   98                 98       98            98   \n",
       "2017-04-27    74         74   74                 74       74            74   \n",
       "\n",
       "            Product Category  Product Type  Jurisdiction  Resolution  KB #  \\\n",
       "Date                                                                         \n",
       "2017-01-02                 1             0             3           4     3   \n",
       "2017-01-03                25             1            30          74    27   \n",
       "2017-01-04                42             6            35         110    41   \n",
       "2017-01-05                33             5            39         101    35   \n",
       "2017-01-06                35             5            31          86    24   \n",
       "...                      ...           ...           ...         ...   ...   \n",
       "2017-04-23                 0             0             0           1     0   \n",
       "2017-04-24                24             0            53          90    30   \n",
       "2017-04-25                27             2            45          91    35   \n",
       "2017-04-26                21             0            55          98    47   \n",
       "2017-04-27                16             2            47          74    30   \n",
       "\n",
       "            KB Title  Date  \n",
       "Date                        \n",
       "2017-01-02         3     4  \n",
       "2017-01-03        26    84  \n",
       "2017-01-04        39   113  \n",
       "2017-01-05        33   106  \n",
       "2017-01-06        22    87  \n",
       "...              ...   ...  \n",
       "2017-04-23         0     1  \n",
       "2017-04-24        27    91  \n",
       "2017-04-25        34    91  \n",
       "2017-04-26        43    98  \n",
       "2017-04-27        30    74  \n",
       "\n",
       "[115 rows x 19 columns]"
      ]
     },
     "execution_count": 54,
     "metadata": {},
     "output_type": "execute_result"
    }
   ],
   "source": [
    "df_by_day = df1.groupby(by=df1['Date'].dt.date).count()\n",
    "df_by_day"
   ]
  },
  {
   "cell_type": "code",
   "execution_count": 50,
   "id": "867adce7",
   "metadata": {},
   "outputs": [
    {
     "data": {
      "application/vnd.plotly.v1+json": {
       "config": {
        "plotlyServerURL": "https://plot.ly"
       },
       "data": [
        {
         "hovertemplate": "index=%{x}<br>Case Number=%{y}<extra></extra>",
         "legendgroup": "",
         "line": {
          "color": "#636efa",
          "dash": "solid"
         },
         "marker": {
          "symbol": "circle"
         },
         "mode": "lines",
         "name": "",
         "orientation": "v",
         "showlegend": false,
         "type": "scatter",
         "x": [
          "2017-01-02",
          "2017-01-03",
          "2017-01-04",
          "2017-01-05",
          "2017-01-06",
          "2017-01-07",
          "2017-01-08",
          "2017-01-09",
          "2017-01-10",
          "2017-01-11",
          "2017-01-12",
          "2017-01-13",
          "2017-01-14",
          "2017-01-15",
          "2017-01-16",
          "2017-01-17",
          "2017-01-18",
          "2017-01-19",
          "2017-01-20",
          "2017-01-21",
          "2017-01-22",
          "2017-01-23",
          "2017-01-24",
          "2017-01-25",
          "2017-01-26",
          "2017-01-27",
          "2017-01-28",
          "2017-01-29",
          "2017-01-30",
          "2017-01-31",
          "2017-02-01",
          "2017-02-02",
          "2017-02-03",
          "2017-02-04",
          "2017-02-05",
          "2017-02-06",
          "2017-02-07",
          "2017-02-08",
          "2017-02-09",
          "2017-02-10",
          "2017-02-11",
          "2017-02-12",
          "2017-02-13",
          "2017-02-14",
          "2017-02-15",
          "2017-02-16",
          "2017-02-17",
          "2017-02-18",
          "2017-02-19",
          "2017-02-20",
          "2017-02-21",
          "2017-02-22",
          "2017-02-23",
          "2017-02-24",
          "2017-02-25",
          "2017-02-26",
          "2017-02-27",
          "2017-02-28",
          "2017-03-01",
          "2017-03-02",
          "2017-03-03",
          "2017-03-04",
          "2017-03-05",
          "2017-03-06",
          "2017-03-07",
          "2017-03-08",
          "2017-03-09",
          "2017-03-10",
          "2017-03-11",
          "2017-03-12",
          "2017-03-13",
          "2017-03-14",
          "2017-03-15",
          "2017-03-16",
          "2017-03-17",
          "2017-03-18",
          "2017-03-20",
          "2017-03-21",
          "2017-03-22",
          "2017-03-23",
          "2017-03-24",
          "2017-03-25",
          "2017-03-26",
          "2017-03-27",
          "2017-03-28",
          "2017-03-29",
          "2017-03-30",
          "2017-03-31",
          "2017-04-01",
          "2017-04-02",
          "2017-04-03",
          "2017-04-04",
          "2017-04-05",
          "2017-04-06",
          "2017-04-07",
          "2017-04-08",
          "2017-04-09",
          "2017-04-10",
          "2017-04-11",
          "2017-04-12",
          "2017-04-13",
          "2017-04-14",
          "2017-04-15",
          "2017-04-16",
          "2017-04-17",
          "2017-04-18",
          "2017-04-19",
          "2017-04-20",
          "2017-04-21",
          "2017-04-22",
          "2017-04-23",
          "2017-04-24",
          "2017-04-25",
          "2017-04-26",
          "2017-04-27"
         ],
         "xaxis": "x",
         "y": [
          4,
          84,
          113,
          106,
          87,
          3,
          6,
          117,
          130,
          102,
          106,
          101,
          7,
          2,
          74,
          120,
          103,
          104,
          72,
          3,
          8,
          130,
          114,
          96,
          120,
          84,
          2,
          3,
          100,
          105,
          142,
          130,
          103,
          2,
          5,
          118,
          141,
          126,
          94,
          118,
          4,
          4,
          117,
          109,
          143,
          122,
          81,
          1,
          3,
          80,
          125,
          127,
          132,
          77,
          5,
          6,
          139,
          123,
          160,
          149,
          138,
          11,
          1,
          174,
          172,
          179,
          166,
          161,
          8,
          11,
          198,
          215,
          209,
          132,
          80,
          4,
          134,
          123,
          121,
          108,
          78,
          5,
          6,
          124,
          120,
          127,
          117,
          95,
          8,
          2,
          110,
          113,
          135,
          138,
          102,
          14,
          4,
          140,
          135,
          126,
          125,
          70,
          3,
          2,
          134,
          130,
          91,
          69,
          84,
          1,
          1,
          91,
          91,
          98,
          74
         ],
         "yaxis": "y"
        }
       ],
       "layout": {
        "legend": {
         "tracegroupgap": 0
        },
        "margin": {
         "t": 60
        },
        "template": {
         "data": {
          "bar": [
           {
            "error_x": {
             "color": "#2a3f5f"
            },
            "error_y": {
             "color": "#2a3f5f"
            },
            "marker": {
             "line": {
              "color": "#E5ECF6",
              "width": 0.5
             },
             "pattern": {
              "fillmode": "overlay",
              "size": 10,
              "solidity": 0.2
             }
            },
            "type": "bar"
           }
          ],
          "barpolar": [
           {
            "marker": {
             "line": {
              "color": "#E5ECF6",
              "width": 0.5
             },
             "pattern": {
              "fillmode": "overlay",
              "size": 10,
              "solidity": 0.2
             }
            },
            "type": "barpolar"
           }
          ],
          "carpet": [
           {
            "aaxis": {
             "endlinecolor": "#2a3f5f",
             "gridcolor": "white",
             "linecolor": "white",
             "minorgridcolor": "white",
             "startlinecolor": "#2a3f5f"
            },
            "baxis": {
             "endlinecolor": "#2a3f5f",
             "gridcolor": "white",
             "linecolor": "white",
             "minorgridcolor": "white",
             "startlinecolor": "#2a3f5f"
            },
            "type": "carpet"
           }
          ],
          "choropleth": [
           {
            "colorbar": {
             "outlinewidth": 0,
             "ticks": ""
            },
            "type": "choropleth"
           }
          ],
          "contour": [
           {
            "colorbar": {
             "outlinewidth": 0,
             "ticks": ""
            },
            "colorscale": [
             [
              0,
              "#0d0887"
             ],
             [
              0.1111111111111111,
              "#46039f"
             ],
             [
              0.2222222222222222,
              "#7201a8"
             ],
             [
              0.3333333333333333,
              "#9c179e"
             ],
             [
              0.4444444444444444,
              "#bd3786"
             ],
             [
              0.5555555555555556,
              "#d8576b"
             ],
             [
              0.6666666666666666,
              "#ed7953"
             ],
             [
              0.7777777777777778,
              "#fb9f3a"
             ],
             [
              0.8888888888888888,
              "#fdca26"
             ],
             [
              1,
              "#f0f921"
             ]
            ],
            "type": "contour"
           }
          ],
          "contourcarpet": [
           {
            "colorbar": {
             "outlinewidth": 0,
             "ticks": ""
            },
            "type": "contourcarpet"
           }
          ],
          "heatmap": [
           {
            "colorbar": {
             "outlinewidth": 0,
             "ticks": ""
            },
            "colorscale": [
             [
              0,
              "#0d0887"
             ],
             [
              0.1111111111111111,
              "#46039f"
             ],
             [
              0.2222222222222222,
              "#7201a8"
             ],
             [
              0.3333333333333333,
              "#9c179e"
             ],
             [
              0.4444444444444444,
              "#bd3786"
             ],
             [
              0.5555555555555556,
              "#d8576b"
             ],
             [
              0.6666666666666666,
              "#ed7953"
             ],
             [
              0.7777777777777778,
              "#fb9f3a"
             ],
             [
              0.8888888888888888,
              "#fdca26"
             ],
             [
              1,
              "#f0f921"
             ]
            ],
            "type": "heatmap"
           }
          ],
          "heatmapgl": [
           {
            "colorbar": {
             "outlinewidth": 0,
             "ticks": ""
            },
            "colorscale": [
             [
              0,
              "#0d0887"
             ],
             [
              0.1111111111111111,
              "#46039f"
             ],
             [
              0.2222222222222222,
              "#7201a8"
             ],
             [
              0.3333333333333333,
              "#9c179e"
             ],
             [
              0.4444444444444444,
              "#bd3786"
             ],
             [
              0.5555555555555556,
              "#d8576b"
             ],
             [
              0.6666666666666666,
              "#ed7953"
             ],
             [
              0.7777777777777778,
              "#fb9f3a"
             ],
             [
              0.8888888888888888,
              "#fdca26"
             ],
             [
              1,
              "#f0f921"
             ]
            ],
            "type": "heatmapgl"
           }
          ],
          "histogram": [
           {
            "marker": {
             "pattern": {
              "fillmode": "overlay",
              "size": 10,
              "solidity": 0.2
             }
            },
            "type": "histogram"
           }
          ],
          "histogram2d": [
           {
            "colorbar": {
             "outlinewidth": 0,
             "ticks": ""
            },
            "colorscale": [
             [
              0,
              "#0d0887"
             ],
             [
              0.1111111111111111,
              "#46039f"
             ],
             [
              0.2222222222222222,
              "#7201a8"
             ],
             [
              0.3333333333333333,
              "#9c179e"
             ],
             [
              0.4444444444444444,
              "#bd3786"
             ],
             [
              0.5555555555555556,
              "#d8576b"
             ],
             [
              0.6666666666666666,
              "#ed7953"
             ],
             [
              0.7777777777777778,
              "#fb9f3a"
             ],
             [
              0.8888888888888888,
              "#fdca26"
             ],
             [
              1,
              "#f0f921"
             ]
            ],
            "type": "histogram2d"
           }
          ],
          "histogram2dcontour": [
           {
            "colorbar": {
             "outlinewidth": 0,
             "ticks": ""
            },
            "colorscale": [
             [
              0,
              "#0d0887"
             ],
             [
              0.1111111111111111,
              "#46039f"
             ],
             [
              0.2222222222222222,
              "#7201a8"
             ],
             [
              0.3333333333333333,
              "#9c179e"
             ],
             [
              0.4444444444444444,
              "#bd3786"
             ],
             [
              0.5555555555555556,
              "#d8576b"
             ],
             [
              0.6666666666666666,
              "#ed7953"
             ],
             [
              0.7777777777777778,
              "#fb9f3a"
             ],
             [
              0.8888888888888888,
              "#fdca26"
             ],
             [
              1,
              "#f0f921"
             ]
            ],
            "type": "histogram2dcontour"
           }
          ],
          "mesh3d": [
           {
            "colorbar": {
             "outlinewidth": 0,
             "ticks": ""
            },
            "type": "mesh3d"
           }
          ],
          "parcoords": [
           {
            "line": {
             "colorbar": {
              "outlinewidth": 0,
              "ticks": ""
             }
            },
            "type": "parcoords"
           }
          ],
          "pie": [
           {
            "automargin": true,
            "type": "pie"
           }
          ],
          "scatter": [
           {
            "fillpattern": {
             "fillmode": "overlay",
             "size": 10,
             "solidity": 0.2
            },
            "type": "scatter"
           }
          ],
          "scatter3d": [
           {
            "line": {
             "colorbar": {
              "outlinewidth": 0,
              "ticks": ""
             }
            },
            "marker": {
             "colorbar": {
              "outlinewidth": 0,
              "ticks": ""
             }
            },
            "type": "scatter3d"
           }
          ],
          "scattercarpet": [
           {
            "marker": {
             "colorbar": {
              "outlinewidth": 0,
              "ticks": ""
             }
            },
            "type": "scattercarpet"
           }
          ],
          "scattergeo": [
           {
            "marker": {
             "colorbar": {
              "outlinewidth": 0,
              "ticks": ""
             }
            },
            "type": "scattergeo"
           }
          ],
          "scattergl": [
           {
            "marker": {
             "colorbar": {
              "outlinewidth": 0,
              "ticks": ""
             }
            },
            "type": "scattergl"
           }
          ],
          "scattermapbox": [
           {
            "marker": {
             "colorbar": {
              "outlinewidth": 0,
              "ticks": ""
             }
            },
            "type": "scattermapbox"
           }
          ],
          "scatterpolar": [
           {
            "marker": {
             "colorbar": {
              "outlinewidth": 0,
              "ticks": ""
             }
            },
            "type": "scatterpolar"
           }
          ],
          "scatterpolargl": [
           {
            "marker": {
             "colorbar": {
              "outlinewidth": 0,
              "ticks": ""
             }
            },
            "type": "scatterpolargl"
           }
          ],
          "scatterternary": [
           {
            "marker": {
             "colorbar": {
              "outlinewidth": 0,
              "ticks": ""
             }
            },
            "type": "scatterternary"
           }
          ],
          "surface": [
           {
            "colorbar": {
             "outlinewidth": 0,
             "ticks": ""
            },
            "colorscale": [
             [
              0,
              "#0d0887"
             ],
             [
              0.1111111111111111,
              "#46039f"
             ],
             [
              0.2222222222222222,
              "#7201a8"
             ],
             [
              0.3333333333333333,
              "#9c179e"
             ],
             [
              0.4444444444444444,
              "#bd3786"
             ],
             [
              0.5555555555555556,
              "#d8576b"
             ],
             [
              0.6666666666666666,
              "#ed7953"
             ],
             [
              0.7777777777777778,
              "#fb9f3a"
             ],
             [
              0.8888888888888888,
              "#fdca26"
             ],
             [
              1,
              "#f0f921"
             ]
            ],
            "type": "surface"
           }
          ],
          "table": [
           {
            "cells": {
             "fill": {
              "color": "#EBF0F8"
             },
             "line": {
              "color": "white"
             }
            },
            "header": {
             "fill": {
              "color": "#C8D4E3"
             },
             "line": {
              "color": "white"
             }
            },
            "type": "table"
           }
          ]
         },
         "layout": {
          "annotationdefaults": {
           "arrowcolor": "#2a3f5f",
           "arrowhead": 0,
           "arrowwidth": 1
          },
          "autotypenumbers": "strict",
          "coloraxis": {
           "colorbar": {
            "outlinewidth": 0,
            "ticks": ""
           }
          },
          "colorscale": {
           "diverging": [
            [
             0,
             "#8e0152"
            ],
            [
             0.1,
             "#c51b7d"
            ],
            [
             0.2,
             "#de77ae"
            ],
            [
             0.3,
             "#f1b6da"
            ],
            [
             0.4,
             "#fde0ef"
            ],
            [
             0.5,
             "#f7f7f7"
            ],
            [
             0.6,
             "#e6f5d0"
            ],
            [
             0.7,
             "#b8e186"
            ],
            [
             0.8,
             "#7fbc41"
            ],
            [
             0.9,
             "#4d9221"
            ],
            [
             1,
             "#276419"
            ]
           ],
           "sequential": [
            [
             0,
             "#0d0887"
            ],
            [
             0.1111111111111111,
             "#46039f"
            ],
            [
             0.2222222222222222,
             "#7201a8"
            ],
            [
             0.3333333333333333,
             "#9c179e"
            ],
            [
             0.4444444444444444,
             "#bd3786"
            ],
            [
             0.5555555555555556,
             "#d8576b"
            ],
            [
             0.6666666666666666,
             "#ed7953"
            ],
            [
             0.7777777777777778,
             "#fb9f3a"
            ],
            [
             0.8888888888888888,
             "#fdca26"
            ],
            [
             1,
             "#f0f921"
            ]
           ],
           "sequentialminus": [
            [
             0,
             "#0d0887"
            ],
            [
             0.1111111111111111,
             "#46039f"
            ],
            [
             0.2222222222222222,
             "#7201a8"
            ],
            [
             0.3333333333333333,
             "#9c179e"
            ],
            [
             0.4444444444444444,
             "#bd3786"
            ],
            [
             0.5555555555555556,
             "#d8576b"
            ],
            [
             0.6666666666666666,
             "#ed7953"
            ],
            [
             0.7777777777777778,
             "#fb9f3a"
            ],
            [
             0.8888888888888888,
             "#fdca26"
            ],
            [
             1,
             "#f0f921"
            ]
           ]
          },
          "colorway": [
           "#636efa",
           "#EF553B",
           "#00cc96",
           "#ab63fa",
           "#FFA15A",
           "#19d3f3",
           "#FF6692",
           "#B6E880",
           "#FF97FF",
           "#FECB52"
          ],
          "font": {
           "color": "#2a3f5f"
          },
          "geo": {
           "bgcolor": "white",
           "lakecolor": "white",
           "landcolor": "#E5ECF6",
           "showlakes": true,
           "showland": true,
           "subunitcolor": "white"
          },
          "hoverlabel": {
           "align": "left"
          },
          "hovermode": "closest",
          "mapbox": {
           "style": "light"
          },
          "paper_bgcolor": "white",
          "plot_bgcolor": "#E5ECF6",
          "polar": {
           "angularaxis": {
            "gridcolor": "white",
            "linecolor": "white",
            "ticks": ""
           },
           "bgcolor": "#E5ECF6",
           "radialaxis": {
            "gridcolor": "white",
            "linecolor": "white",
            "ticks": ""
           }
          },
          "scene": {
           "xaxis": {
            "backgroundcolor": "#E5ECF6",
            "gridcolor": "white",
            "gridwidth": 2,
            "linecolor": "white",
            "showbackground": true,
            "ticks": "",
            "zerolinecolor": "white"
           },
           "yaxis": {
            "backgroundcolor": "#E5ECF6",
            "gridcolor": "white",
            "gridwidth": 2,
            "linecolor": "white",
            "showbackground": true,
            "ticks": "",
            "zerolinecolor": "white"
           },
           "zaxis": {
            "backgroundcolor": "#E5ECF6",
            "gridcolor": "white",
            "gridwidth": 2,
            "linecolor": "white",
            "showbackground": true,
            "ticks": "",
            "zerolinecolor": "white"
           }
          },
          "shapedefaults": {
           "line": {
            "color": "#2a3f5f"
           }
          },
          "ternary": {
           "aaxis": {
            "gridcolor": "white",
            "linecolor": "white",
            "ticks": ""
           },
           "baxis": {
            "gridcolor": "white",
            "linecolor": "white",
            "ticks": ""
           },
           "bgcolor": "#E5ECF6",
           "caxis": {
            "gridcolor": "white",
            "linecolor": "white",
            "ticks": ""
           }
          },
          "title": {
           "x": 0.05
          },
          "xaxis": {
           "automargin": true,
           "gridcolor": "white",
           "linecolor": "white",
           "ticks": "",
           "title": {
            "standoff": 15
           },
           "zerolinecolor": "white",
           "zerolinewidth": 2
          },
          "yaxis": {
           "automargin": true,
           "gridcolor": "white",
           "linecolor": "white",
           "ticks": "",
           "title": {
            "standoff": 15
           },
           "zerolinecolor": "white",
           "zerolinewidth": 2
          }
         }
        },
        "xaxis": {
         "anchor": "y",
         "domain": [
          0,
          1
         ],
         "title": {
          "text": "index"
         }
        },
        "yaxis": {
         "anchor": "x",
         "domain": [
          0,
          1
         ],
         "title": {
          "text": "Case Number"
         }
        }
       }
      },
      "text/html": [
       "<div>                            <div id=\"2e4250a9-b919-4e7c-85ce-da6387fddaf7\" class=\"plotly-graph-div\" style=\"height:525px; width:100%;\"></div>            <script type=\"text/javascript\">                require([\"plotly\"], function(Plotly) {                    window.PLOTLYENV=window.PLOTLYENV || {};                                    if (document.getElementById(\"2e4250a9-b919-4e7c-85ce-da6387fddaf7\")) {                    Plotly.newPlot(                        \"2e4250a9-b919-4e7c-85ce-da6387fddaf7\",                        [{\"hovertemplate\":\"index=%{x}<br>Case Number=%{y}<extra></extra>\",\"legendgroup\":\"\",\"line\":{\"color\":\"#636efa\",\"dash\":\"solid\"},\"marker\":{\"symbol\":\"circle\"},\"mode\":\"lines\",\"name\":\"\",\"orientation\":\"v\",\"showlegend\":false,\"x\":[\"2017-01-02\",\"2017-01-03\",\"2017-01-04\",\"2017-01-05\",\"2017-01-06\",\"2017-01-07\",\"2017-01-08\",\"2017-01-09\",\"2017-01-10\",\"2017-01-11\",\"2017-01-12\",\"2017-01-13\",\"2017-01-14\",\"2017-01-15\",\"2017-01-16\",\"2017-01-17\",\"2017-01-18\",\"2017-01-19\",\"2017-01-20\",\"2017-01-21\",\"2017-01-22\",\"2017-01-23\",\"2017-01-24\",\"2017-01-25\",\"2017-01-26\",\"2017-01-27\",\"2017-01-28\",\"2017-01-29\",\"2017-01-30\",\"2017-01-31\",\"2017-02-01\",\"2017-02-02\",\"2017-02-03\",\"2017-02-04\",\"2017-02-05\",\"2017-02-06\",\"2017-02-07\",\"2017-02-08\",\"2017-02-09\",\"2017-02-10\",\"2017-02-11\",\"2017-02-12\",\"2017-02-13\",\"2017-02-14\",\"2017-02-15\",\"2017-02-16\",\"2017-02-17\",\"2017-02-18\",\"2017-02-19\",\"2017-02-20\",\"2017-02-21\",\"2017-02-22\",\"2017-02-23\",\"2017-02-24\",\"2017-02-25\",\"2017-02-26\",\"2017-02-27\",\"2017-02-28\",\"2017-03-01\",\"2017-03-02\",\"2017-03-03\",\"2017-03-04\",\"2017-03-05\",\"2017-03-06\",\"2017-03-07\",\"2017-03-08\",\"2017-03-09\",\"2017-03-10\",\"2017-03-11\",\"2017-03-12\",\"2017-03-13\",\"2017-03-14\",\"2017-03-15\",\"2017-03-16\",\"2017-03-17\",\"2017-03-18\",\"2017-03-20\",\"2017-03-21\",\"2017-03-22\",\"2017-03-23\",\"2017-03-24\",\"2017-03-25\",\"2017-03-26\",\"2017-03-27\",\"2017-03-28\",\"2017-03-29\",\"2017-03-30\",\"2017-03-31\",\"2017-04-01\",\"2017-04-02\",\"2017-04-03\",\"2017-04-04\",\"2017-04-05\",\"2017-04-06\",\"2017-04-07\",\"2017-04-08\",\"2017-04-09\",\"2017-04-10\",\"2017-04-11\",\"2017-04-12\",\"2017-04-13\",\"2017-04-14\",\"2017-04-15\",\"2017-04-16\",\"2017-04-17\",\"2017-04-18\",\"2017-04-19\",\"2017-04-20\",\"2017-04-21\",\"2017-04-22\",\"2017-04-23\",\"2017-04-24\",\"2017-04-25\",\"2017-04-26\",\"2017-04-27\"],\"xaxis\":\"x\",\"y\":[4,84,113,106,87,3,6,117,130,102,106,101,7,2,74,120,103,104,72,3,8,130,114,96,120,84,2,3,100,105,142,130,103,2,5,118,141,126,94,118,4,4,117,109,143,122,81,1,3,80,125,127,132,77,5,6,139,123,160,149,138,11,1,174,172,179,166,161,8,11,198,215,209,132,80,4,134,123,121,108,78,5,6,124,120,127,117,95,8,2,110,113,135,138,102,14,4,140,135,126,125,70,3,2,134,130,91,69,84,1,1,91,91,98,74],\"yaxis\":\"y\",\"type\":\"scatter\"}],                        {\"template\":{\"data\":{\"histogram2dcontour\":[{\"type\":\"histogram2dcontour\",\"colorbar\":{\"outlinewidth\":0,\"ticks\":\"\"},\"colorscale\":[[0.0,\"#0d0887\"],[0.1111111111111111,\"#46039f\"],[0.2222222222222222,\"#7201a8\"],[0.3333333333333333,\"#9c179e\"],[0.4444444444444444,\"#bd3786\"],[0.5555555555555556,\"#d8576b\"],[0.6666666666666666,\"#ed7953\"],[0.7777777777777778,\"#fb9f3a\"],[0.8888888888888888,\"#fdca26\"],[1.0,\"#f0f921\"]]}],\"choropleth\":[{\"type\":\"choropleth\",\"colorbar\":{\"outlinewidth\":0,\"ticks\":\"\"}}],\"histogram2d\":[{\"type\":\"histogram2d\",\"colorbar\":{\"outlinewidth\":0,\"ticks\":\"\"},\"colorscale\":[[0.0,\"#0d0887\"],[0.1111111111111111,\"#46039f\"],[0.2222222222222222,\"#7201a8\"],[0.3333333333333333,\"#9c179e\"],[0.4444444444444444,\"#bd3786\"],[0.5555555555555556,\"#d8576b\"],[0.6666666666666666,\"#ed7953\"],[0.7777777777777778,\"#fb9f3a\"],[0.8888888888888888,\"#fdca26\"],[1.0,\"#f0f921\"]]}],\"heatmap\":[{\"type\":\"heatmap\",\"colorbar\":{\"outlinewidth\":0,\"ticks\":\"\"},\"colorscale\":[[0.0,\"#0d0887\"],[0.1111111111111111,\"#46039f\"],[0.2222222222222222,\"#7201a8\"],[0.3333333333333333,\"#9c179e\"],[0.4444444444444444,\"#bd3786\"],[0.5555555555555556,\"#d8576b\"],[0.6666666666666666,\"#ed7953\"],[0.7777777777777778,\"#fb9f3a\"],[0.8888888888888888,\"#fdca26\"],[1.0,\"#f0f921\"]]}],\"heatmapgl\":[{\"type\":\"heatmapgl\",\"colorbar\":{\"outlinewidth\":0,\"ticks\":\"\"},\"colorscale\":[[0.0,\"#0d0887\"],[0.1111111111111111,\"#46039f\"],[0.2222222222222222,\"#7201a8\"],[0.3333333333333333,\"#9c179e\"],[0.4444444444444444,\"#bd3786\"],[0.5555555555555556,\"#d8576b\"],[0.6666666666666666,\"#ed7953\"],[0.7777777777777778,\"#fb9f3a\"],[0.8888888888888888,\"#fdca26\"],[1.0,\"#f0f921\"]]}],\"contourcarpet\":[{\"type\":\"contourcarpet\",\"colorbar\":{\"outlinewidth\":0,\"ticks\":\"\"}}],\"contour\":[{\"type\":\"contour\",\"colorbar\":{\"outlinewidth\":0,\"ticks\":\"\"},\"colorscale\":[[0.0,\"#0d0887\"],[0.1111111111111111,\"#46039f\"],[0.2222222222222222,\"#7201a8\"],[0.3333333333333333,\"#9c179e\"],[0.4444444444444444,\"#bd3786\"],[0.5555555555555556,\"#d8576b\"],[0.6666666666666666,\"#ed7953\"],[0.7777777777777778,\"#fb9f3a\"],[0.8888888888888888,\"#fdca26\"],[1.0,\"#f0f921\"]]}],\"surface\":[{\"type\":\"surface\",\"colorbar\":{\"outlinewidth\":0,\"ticks\":\"\"},\"colorscale\":[[0.0,\"#0d0887\"],[0.1111111111111111,\"#46039f\"],[0.2222222222222222,\"#7201a8\"],[0.3333333333333333,\"#9c179e\"],[0.4444444444444444,\"#bd3786\"],[0.5555555555555556,\"#d8576b\"],[0.6666666666666666,\"#ed7953\"],[0.7777777777777778,\"#fb9f3a\"],[0.8888888888888888,\"#fdca26\"],[1.0,\"#f0f921\"]]}],\"mesh3d\":[{\"type\":\"mesh3d\",\"colorbar\":{\"outlinewidth\":0,\"ticks\":\"\"}}],\"scatter\":[{\"fillpattern\":{\"fillmode\":\"overlay\",\"size\":10,\"solidity\":0.2},\"type\":\"scatter\"}],\"parcoords\":[{\"type\":\"parcoords\",\"line\":{\"colorbar\":{\"outlinewidth\":0,\"ticks\":\"\"}}}],\"scatterpolargl\":[{\"type\":\"scatterpolargl\",\"marker\":{\"colorbar\":{\"outlinewidth\":0,\"ticks\":\"\"}}}],\"bar\":[{\"error_x\":{\"color\":\"#2a3f5f\"},\"error_y\":{\"color\":\"#2a3f5f\"},\"marker\":{\"line\":{\"color\":\"#E5ECF6\",\"width\":0.5},\"pattern\":{\"fillmode\":\"overlay\",\"size\":10,\"solidity\":0.2}},\"type\":\"bar\"}],\"scattergeo\":[{\"type\":\"scattergeo\",\"marker\":{\"colorbar\":{\"outlinewidth\":0,\"ticks\":\"\"}}}],\"scatterpolar\":[{\"type\":\"scatterpolar\",\"marker\":{\"colorbar\":{\"outlinewidth\":0,\"ticks\":\"\"}}}],\"histogram\":[{\"marker\":{\"pattern\":{\"fillmode\":\"overlay\",\"size\":10,\"solidity\":0.2}},\"type\":\"histogram\"}],\"scattergl\":[{\"type\":\"scattergl\",\"marker\":{\"colorbar\":{\"outlinewidth\":0,\"ticks\":\"\"}}}],\"scatter3d\":[{\"type\":\"scatter3d\",\"line\":{\"colorbar\":{\"outlinewidth\":0,\"ticks\":\"\"}},\"marker\":{\"colorbar\":{\"outlinewidth\":0,\"ticks\":\"\"}}}],\"scattermapbox\":[{\"type\":\"scattermapbox\",\"marker\":{\"colorbar\":{\"outlinewidth\":0,\"ticks\":\"\"}}}],\"scatterternary\":[{\"type\":\"scatterternary\",\"marker\":{\"colorbar\":{\"outlinewidth\":0,\"ticks\":\"\"}}}],\"scattercarpet\":[{\"type\":\"scattercarpet\",\"marker\":{\"colorbar\":{\"outlinewidth\":0,\"ticks\":\"\"}}}],\"carpet\":[{\"aaxis\":{\"endlinecolor\":\"#2a3f5f\",\"gridcolor\":\"white\",\"linecolor\":\"white\",\"minorgridcolor\":\"white\",\"startlinecolor\":\"#2a3f5f\"},\"baxis\":{\"endlinecolor\":\"#2a3f5f\",\"gridcolor\":\"white\",\"linecolor\":\"white\",\"minorgridcolor\":\"white\",\"startlinecolor\":\"#2a3f5f\"},\"type\":\"carpet\"}],\"table\":[{\"cells\":{\"fill\":{\"color\":\"#EBF0F8\"},\"line\":{\"color\":\"white\"}},\"header\":{\"fill\":{\"color\":\"#C8D4E3\"},\"line\":{\"color\":\"white\"}},\"type\":\"table\"}],\"barpolar\":[{\"marker\":{\"line\":{\"color\":\"#E5ECF6\",\"width\":0.5},\"pattern\":{\"fillmode\":\"overlay\",\"size\":10,\"solidity\":0.2}},\"type\":\"barpolar\"}],\"pie\":[{\"automargin\":true,\"type\":\"pie\"}]},\"layout\":{\"autotypenumbers\":\"strict\",\"colorway\":[\"#636efa\",\"#EF553B\",\"#00cc96\",\"#ab63fa\",\"#FFA15A\",\"#19d3f3\",\"#FF6692\",\"#B6E880\",\"#FF97FF\",\"#FECB52\"],\"font\":{\"color\":\"#2a3f5f\"},\"hovermode\":\"closest\",\"hoverlabel\":{\"align\":\"left\"},\"paper_bgcolor\":\"white\",\"plot_bgcolor\":\"#E5ECF6\",\"polar\":{\"bgcolor\":\"#E5ECF6\",\"angularaxis\":{\"gridcolor\":\"white\",\"linecolor\":\"white\",\"ticks\":\"\"},\"radialaxis\":{\"gridcolor\":\"white\",\"linecolor\":\"white\",\"ticks\":\"\"}},\"ternary\":{\"bgcolor\":\"#E5ECF6\",\"aaxis\":{\"gridcolor\":\"white\",\"linecolor\":\"white\",\"ticks\":\"\"},\"baxis\":{\"gridcolor\":\"white\",\"linecolor\":\"white\",\"ticks\":\"\"},\"caxis\":{\"gridcolor\":\"white\",\"linecolor\":\"white\",\"ticks\":\"\"}},\"coloraxis\":{\"colorbar\":{\"outlinewidth\":0,\"ticks\":\"\"}},\"colorscale\":{\"sequential\":[[0.0,\"#0d0887\"],[0.1111111111111111,\"#46039f\"],[0.2222222222222222,\"#7201a8\"],[0.3333333333333333,\"#9c179e\"],[0.4444444444444444,\"#bd3786\"],[0.5555555555555556,\"#d8576b\"],[0.6666666666666666,\"#ed7953\"],[0.7777777777777778,\"#fb9f3a\"],[0.8888888888888888,\"#fdca26\"],[1.0,\"#f0f921\"]],\"sequentialminus\":[[0.0,\"#0d0887\"],[0.1111111111111111,\"#46039f\"],[0.2222222222222222,\"#7201a8\"],[0.3333333333333333,\"#9c179e\"],[0.4444444444444444,\"#bd3786\"],[0.5555555555555556,\"#d8576b\"],[0.6666666666666666,\"#ed7953\"],[0.7777777777777778,\"#fb9f3a\"],[0.8888888888888888,\"#fdca26\"],[1.0,\"#f0f921\"]],\"diverging\":[[0,\"#8e0152\"],[0.1,\"#c51b7d\"],[0.2,\"#de77ae\"],[0.3,\"#f1b6da\"],[0.4,\"#fde0ef\"],[0.5,\"#f7f7f7\"],[0.6,\"#e6f5d0\"],[0.7,\"#b8e186\"],[0.8,\"#7fbc41\"],[0.9,\"#4d9221\"],[1,\"#276419\"]]},\"xaxis\":{\"gridcolor\":\"white\",\"linecolor\":\"white\",\"ticks\":\"\",\"title\":{\"standoff\":15},\"zerolinecolor\":\"white\",\"automargin\":true,\"zerolinewidth\":2},\"yaxis\":{\"gridcolor\":\"white\",\"linecolor\":\"white\",\"ticks\":\"\",\"title\":{\"standoff\":15},\"zerolinecolor\":\"white\",\"automargin\":true,\"zerolinewidth\":2},\"scene\":{\"xaxis\":{\"backgroundcolor\":\"#E5ECF6\",\"gridcolor\":\"white\",\"linecolor\":\"white\",\"showbackground\":true,\"ticks\":\"\",\"zerolinecolor\":\"white\",\"gridwidth\":2},\"yaxis\":{\"backgroundcolor\":\"#E5ECF6\",\"gridcolor\":\"white\",\"linecolor\":\"white\",\"showbackground\":true,\"ticks\":\"\",\"zerolinecolor\":\"white\",\"gridwidth\":2},\"zaxis\":{\"backgroundcolor\":\"#E5ECF6\",\"gridcolor\":\"white\",\"linecolor\":\"white\",\"showbackground\":true,\"ticks\":\"\",\"zerolinecolor\":\"white\",\"gridwidth\":2}},\"shapedefaults\":{\"line\":{\"color\":\"#2a3f5f\"}},\"annotationdefaults\":{\"arrowcolor\":\"#2a3f5f\",\"arrowhead\":0,\"arrowwidth\":1},\"geo\":{\"bgcolor\":\"white\",\"landcolor\":\"#E5ECF6\",\"subunitcolor\":\"white\",\"showland\":true,\"showlakes\":true,\"lakecolor\":\"white\"},\"title\":{\"x\":0.05},\"mapbox\":{\"style\":\"light\"}}},\"xaxis\":{\"anchor\":\"y\",\"domain\":[0.0,1.0],\"title\":{\"text\":\"index\"}},\"yaxis\":{\"anchor\":\"x\",\"domain\":[0.0,1.0],\"title\":{\"text\":\"Case Number\"}},\"legend\":{\"tracegroupgap\":0},\"margin\":{\"t\":60}},                        {\"responsive\": true}                    ).then(function(){\n",
       "                            \n",
       "var gd = document.getElementById('2e4250a9-b919-4e7c-85ce-da6387fddaf7');\n",
       "var x = new MutationObserver(function (mutations, observer) {{\n",
       "        var display = window.getComputedStyle(gd).display;\n",
       "        if (!display || display === 'none') {{\n",
       "            console.log([gd, 'removed!']);\n",
       "            Plotly.purge(gd);\n",
       "            observer.disconnect();\n",
       "        }}\n",
       "}});\n",
       "\n",
       "// Listen for the removal of the full notebook cells\n",
       "var notebookContainer = gd.closest('#notebook-container');\n",
       "if (notebookContainer) {{\n",
       "    x.observe(notebookContainer, {childList: true});\n",
       "}}\n",
       "\n",
       "// Listen for the clearing of the current output cell\n",
       "var outputEl = gd.closest('.output');\n",
       "if (outputEl) {{\n",
       "    x.observe(outputEl, {childList: true});\n",
       "}}\n",
       "\n",
       "                        })                };                });            </script>        </div>"
      ]
     },
     "metadata": {},
     "output_type": "display_data"
    }
   ],
   "source": [
    "fig = px.line(df_by_day, x=df_by_day.index, y=\"Case Number\")\n",
    "fig.show()"
   ]
  },
  {
   "cell_type": "code",
   "execution_count": 56,
   "id": "c5488400",
   "metadata": {},
   "outputs": [
    {
     "data": {
      "text/html": [
       "<div>\n",
       "<style scoped>\n",
       "    .dataframe tbody tr th:only-of-type {\n",
       "        vertical-align: middle;\n",
       "    }\n",
       "\n",
       "    .dataframe tbody tr th {\n",
       "        vertical-align: top;\n",
       "    }\n",
       "\n",
       "    .dataframe thead th {\n",
       "        text-align: right;\n",
       "    }\n",
       "</style>\n",
       "<table border=\"1\" class=\"dataframe\">\n",
       "  <thead>\n",
       "    <tr style=\"text-align: right;\">\n",
       "      <th></th>\n",
       "      <th>Case Number</th>\n",
       "      <th>Subject</th>\n",
       "      <th>Date Created</th>\n",
       "      <th>Date Closed</th>\n",
       "      <th>Origin</th>\n",
       "      <th>Priority</th>\n",
       "      <th>Team</th>\n",
       "      <th>Case Type</th>\n",
       "      <th>SLA</th>\n",
       "      <th>Problem Statement</th>\n",
       "      <th>Product</th>\n",
       "      <th>Product Area</th>\n",
       "      <th>Product Category</th>\n",
       "      <th>Product Type</th>\n",
       "      <th>Jurisdiction</th>\n",
       "      <th>Resolution</th>\n",
       "      <th>KB #</th>\n",
       "      <th>KB Title</th>\n",
       "      <th>Date</th>\n",
       "    </tr>\n",
       "  </thead>\n",
       "  <tbody>\n",
       "    <tr>\n",
       "      <th>0</th>\n",
       "      <td>204977</td>\n",
       "      <td>Efile Acceptance</td>\n",
       "      <td>2017-01-02</td>\n",
       "      <td>2017-01-03</td>\n",
       "      <td>Web</td>\n",
       "      <td>Medium</td>\n",
       "      <td>Tax Preparation</td>\n",
       "      <td>Efile</td>\n",
       "      <td>Platinum</td>\n",
       "      <td>We transmitted a Michigan return still have no...</td>\n",
       "      <td>Compliance</td>\n",
       "      <td>Returns / Reports</td>\n",
       "      <td>NaN</td>\n",
       "      <td>NaN</td>\n",
       "      <td>US.MI</td>\n",
       "      <td>Answer exists KB</td>\n",
       "      <td>041324813494120</td>\n",
       "      <td>How to understand the Transmission Monitor</td>\n",
       "      <td>2017-01-02</td>\n",
       "    </tr>\n",
       "    <tr>\n",
       "      <th>1</th>\n",
       "      <td>204979</td>\n",
       "      <td>Oregon STAT help: Previous Case 203787 Client ...</td>\n",
       "      <td>2017-01-02</td>\n",
       "      <td>2017-01-04</td>\n",
       "      <td>Web</td>\n",
       "      <td>High</td>\n",
       "      <td>Tax Preparation</td>\n",
       "      <td>Question / How To</td>\n",
       "      <td>Silver</td>\n",
       "      <td>Oregon STAT help: Previous Case 203787 Client ...</td>\n",
       "      <td>Provision</td>\n",
       "      <td>State</td>\n",
       "      <td>NaN</td>\n",
       "      <td>NaN</td>\n",
       "      <td>US.OR</td>\n",
       "      <td>Customer no longer needs assistance</td>\n",
       "      <td>NaN</td>\n",
       "      <td>NaN</td>\n",
       "      <td>2017-01-02</td>\n",
       "    </tr>\n",
       "    <tr>\n",
       "      <th>2</th>\n",
       "      <td>204980</td>\n",
       "      <td>Data map incorrectly pulling in values</td>\n",
       "      <td>2017-01-02</td>\n",
       "      <td>2017-01-03</td>\n",
       "      <td>Web</td>\n",
       "      <td>Medium</td>\n",
       "      <td>Tax Preparation</td>\n",
       "      <td>Question / How To</td>\n",
       "      <td>Silver</td>\n",
       "      <td>Corptax Office Import - Credit Account imports...</td>\n",
       "      <td>Office - Excel Add-In</td>\n",
       "      <td>Import / Export</td>\n",
       "      <td>NaN</td>\n",
       "      <td>NaN</td>\n",
       "      <td>US</td>\n",
       "      <td>Answer exists KB</td>\n",
       "      <td>041414821333274</td>\n",
       "      <td>Corptax® Office - How to place an IF formula i...</td>\n",
       "      <td>2017-01-02</td>\n",
       "    </tr>\n",
       "    <tr>\n",
       "      <th>3</th>\n",
       "      <td>204981</td>\n",
       "      <td>The New Corptax Connect Website is not properl...</td>\n",
       "      <td>2017-01-02</td>\n",
       "      <td>2017-01-03</td>\n",
       "      <td>Web</td>\n",
       "      <td>High</td>\n",
       "      <td>Tax Preparation</td>\n",
       "      <td>Problem / Error</td>\n",
       "      <td>Silver</td>\n",
       "      <td>Searches can't be performed on the new system....</td>\n",
       "      <td>Websites</td>\n",
       "      <td>Connections (https://connect.corptax.com)</td>\n",
       "      <td>Error Message</td>\n",
       "      <td>NaN</td>\n",
       "      <td>NaN</td>\n",
       "      <td>Answer exists KB</td>\n",
       "      <td>161216104028927</td>\n",
       "      <td>Connections Error - Uh Oh  something went wron...</td>\n",
       "      <td>2017-01-02</td>\n",
       "    </tr>\n",
       "    <tr>\n",
       "      <th>4</th>\n",
       "      <td>204986</td>\n",
       "      <td>LD400 is not reflecting a temporary adjustment</td>\n",
       "      <td>2017-01-03</td>\n",
       "      <td>2017-01-05</td>\n",
       "      <td>E-mail</td>\n",
       "      <td>Medium</td>\n",
       "      <td>Tax Preparation</td>\n",
       "      <td>Problem / Error</td>\n",
       "      <td>Platinum</td>\n",
       "      <td>LD400 is not reflecting a temporary adjustment</td>\n",
       "      <td>Compliance</td>\n",
       "      <td>Returns / Reports</td>\n",
       "      <td>NaN</td>\n",
       "      <td>NaN</td>\n",
       "      <td>US</td>\n",
       "      <td>Answer exists KB</td>\n",
       "      <td>041622907012748</td>\n",
       "      <td>Adjustments do not flow to LD400 workpaper and...</td>\n",
       "      <td>2017-01-03</td>\n",
       "    </tr>\n",
       "  </tbody>\n",
       "</table>\n",
       "</div>"
      ],
      "text/plain": [
       "   Case Number                                            Subject  \\\n",
       "0       204977                                   Efile Acceptance   \n",
       "1       204979  Oregon STAT help: Previous Case 203787 Client ...   \n",
       "2       204980             Data map incorrectly pulling in values   \n",
       "3       204981  The New Corptax Connect Website is not properl...   \n",
       "4       204986     LD400 is not reflecting a temporary adjustment   \n",
       "\n",
       "  Date Created Date Closed  Origin Priority             Team  \\\n",
       "0   2017-01-02  2017-01-03     Web   Medium  Tax Preparation   \n",
       "1   2017-01-02  2017-01-04     Web     High  Tax Preparation   \n",
       "2   2017-01-02  2017-01-03     Web   Medium  Tax Preparation   \n",
       "3   2017-01-02  2017-01-03     Web     High  Tax Preparation   \n",
       "4   2017-01-03  2017-01-05  E-mail   Medium  Tax Preparation   \n",
       "\n",
       "           Case Type       SLA  \\\n",
       "0              Efile  Platinum   \n",
       "1  Question / How To    Silver   \n",
       "2  Question / How To    Silver   \n",
       "3    Problem / Error    Silver   \n",
       "4    Problem / Error  Platinum   \n",
       "\n",
       "                                   Problem Statement                Product  \\\n",
       "0  We transmitted a Michigan return still have no...             Compliance   \n",
       "1  Oregon STAT help: Previous Case 203787 Client ...              Provision   \n",
       "2  Corptax Office Import - Credit Account imports...  Office - Excel Add-In   \n",
       "3  Searches can't be performed on the new system....               Websites   \n",
       "4     LD400 is not reflecting a temporary adjustment             Compliance   \n",
       "\n",
       "                                Product Area Product Category Product Type  \\\n",
       "0                          Returns / Reports              NaN          NaN   \n",
       "1                                      State              NaN          NaN   \n",
       "2                            Import / Export              NaN          NaN   \n",
       "3  Connections (https://connect.corptax.com)    Error Message          NaN   \n",
       "4                          Returns / Reports              NaN          NaN   \n",
       "\n",
       "  Jurisdiction                           Resolution             KB #  \\\n",
       "0        US.MI                     Answer exists KB  041324813494120   \n",
       "1        US.OR  Customer no longer needs assistance              NaN   \n",
       "2           US                     Answer exists KB  041414821333274   \n",
       "3          NaN                     Answer exists KB  161216104028927   \n",
       "4           US                     Answer exists KB  041622907012748   \n",
       "\n",
       "                                            KB Title       Date  \n",
       "0         How to understand the Transmission Monitor 2017-01-02  \n",
       "1                                                NaN 2017-01-02  \n",
       "2  Corptax® Office - How to place an IF formula i... 2017-01-02  \n",
       "3  Connections Error - Uh Oh  something went wron... 2017-01-02  \n",
       "4  Adjustments do not flow to LD400 workpaper and... 2017-01-03  "
      ]
     },
     "execution_count": 56,
     "metadata": {},
     "output_type": "execute_result"
    }
   ],
   "source": [
    "df1.head()"
   ]
  },
  {
   "cell_type": "code",
   "execution_count": null,
   "id": "89b0af55",
   "metadata": {},
   "outputs": [],
   "source": [
    "co = invoice.groupby('Invoice Date')['revenue'].sum().reset_index().set_index('Invoice Date').asfreq('M')"
   ]
  },
  {
   "cell_type": "code",
   "execution_count": 63,
   "id": "efb8dddf",
   "metadata": {},
   "outputs": [
    {
     "data": {
      "text/html": [
       "<div>\n",
       "<style scoped>\n",
       "    .dataframe tbody tr th:only-of-type {\n",
       "        vertical-align: middle;\n",
       "    }\n",
       "\n",
       "    .dataframe tbody tr th {\n",
       "        vertical-align: top;\n",
       "    }\n",
       "\n",
       "    .dataframe thead th {\n",
       "        text-align: right;\n",
       "    }\n",
       "</style>\n",
       "<table border=\"1\" class=\"dataframe\">\n",
       "  <thead>\n",
       "    <tr style=\"text-align: right;\">\n",
       "      <th></th>\n",
       "      <th>Case Number</th>\n",
       "    </tr>\n",
       "    <tr>\n",
       "      <th>Date</th>\n",
       "      <th></th>\n",
       "    </tr>\n",
       "  </thead>\n",
       "  <tbody>\n",
       "    <tr>\n",
       "      <th>2017-01-31</th>\n",
       "      <td>105</td>\n",
       "    </tr>\n",
       "    <tr>\n",
       "      <th>2017-02-28</th>\n",
       "      <td>123</td>\n",
       "    </tr>\n",
       "    <tr>\n",
       "      <th>2017-03-31</th>\n",
       "      <td>95</td>\n",
       "    </tr>\n",
       "  </tbody>\n",
       "</table>\n",
       "</div>"
      ],
      "text/plain": [
       "            Case Number\n",
       "Date                   \n",
       "2017-01-31          105\n",
       "2017-02-28          123\n",
       "2017-03-31           95"
      ]
     },
     "execution_count": 63,
     "metadata": {},
     "output_type": "execute_result"
    }
   ],
   "source": [
    "df1.groupby('Date')[\"Case Number\"].count().reset_index().set_index('Date').asfreq('M')"
   ]
  },
  {
   "cell_type": "code",
   "execution_count": null,
   "id": "24824185",
   "metadata": {},
   "outputs": [],
   "source": []
  },
  {
   "cell_type": "code",
   "execution_count": 16,
   "id": "3532c98c",
   "metadata": {},
   "outputs": [
    {
     "data": {
      "text/html": [
       "<div>\n",
       "<style scoped>\n",
       "    .dataframe tbody tr th:only-of-type {\n",
       "        vertical-align: middle;\n",
       "    }\n",
       "\n",
       "    .dataframe tbody tr th {\n",
       "        vertical-align: top;\n",
       "    }\n",
       "\n",
       "    .dataframe thead th {\n",
       "        text-align: right;\n",
       "    }\n",
       "</style>\n",
       "<table border=\"1\" class=\"dataframe\">\n",
       "  <thead>\n",
       "    <tr style=\"text-align: right;\">\n",
       "      <th></th>\n",
       "      <th>SLA</th>\n",
       "      <th>Case Number</th>\n",
       "      <th>Subject</th>\n",
       "      <th>Date Created</th>\n",
       "      <th>Date Closed</th>\n",
       "      <th>Origin</th>\n",
       "      <th>Priority</th>\n",
       "      <th>Team</th>\n",
       "      <th>Case Type</th>\n",
       "      <th>Problem Statement</th>\n",
       "      <th>Product</th>\n",
       "      <th>Product Area</th>\n",
       "      <th>Product Category</th>\n",
       "      <th>Product Type</th>\n",
       "      <th>Jurisdiction</th>\n",
       "      <th>Resolution</th>\n",
       "      <th>KB #</th>\n",
       "      <th>KB Title</th>\n",
       "    </tr>\n",
       "  </thead>\n",
       "  <tbody>\n",
       "    <tr>\n",
       "      <th>0</th>\n",
       "      <td>Billable Support</td>\n",
       "      <td>2</td>\n",
       "      <td>2</td>\n",
       "      <td>2</td>\n",
       "      <td>2</td>\n",
       "      <td>2</td>\n",
       "      <td>2</td>\n",
       "      <td>2</td>\n",
       "      <td>2</td>\n",
       "      <td>2</td>\n",
       "      <td>1</td>\n",
       "      <td>1</td>\n",
       "      <td>0</td>\n",
       "      <td>0</td>\n",
       "      <td>0</td>\n",
       "      <td>2</td>\n",
       "      <td>0</td>\n",
       "      <td>0</td>\n",
       "    </tr>\n",
       "    <tr>\n",
       "      <th>1</th>\n",
       "      <td>Client Loss</td>\n",
       "      <td>175</td>\n",
       "      <td>175</td>\n",
       "      <td>175</td>\n",
       "      <td>175</td>\n",
       "      <td>175</td>\n",
       "      <td>175</td>\n",
       "      <td>175</td>\n",
       "      <td>174</td>\n",
       "      <td>172</td>\n",
       "      <td>175</td>\n",
       "      <td>175</td>\n",
       "      <td>129</td>\n",
       "      <td>89</td>\n",
       "      <td>22</td>\n",
       "      <td>171</td>\n",
       "      <td>19</td>\n",
       "      <td>19</td>\n",
       "    </tr>\n",
       "    <tr>\n",
       "      <th>2</th>\n",
       "      <td>Default</td>\n",
       "      <td>1</td>\n",
       "      <td>1</td>\n",
       "      <td>1</td>\n",
       "      <td>1</td>\n",
       "      <td>1</td>\n",
       "      <td>1</td>\n",
       "      <td>1</td>\n",
       "      <td>1</td>\n",
       "      <td>1</td>\n",
       "      <td>1</td>\n",
       "      <td>1</td>\n",
       "      <td>1</td>\n",
       "      <td>0</td>\n",
       "      <td>1</td>\n",
       "      <td>1</td>\n",
       "      <td>1</td>\n",
       "      <td>1</td>\n",
       "    </tr>\n",
       "    <tr>\n",
       "      <th>3</th>\n",
       "      <td>Gold</td>\n",
       "      <td>7426</td>\n",
       "      <td>7426</td>\n",
       "      <td>7426</td>\n",
       "      <td>7423</td>\n",
       "      <td>7426</td>\n",
       "      <td>7426</td>\n",
       "      <td>7426</td>\n",
       "      <td>7283</td>\n",
       "      <td>7290</td>\n",
       "      <td>7424</td>\n",
       "      <td>7421</td>\n",
       "      <td>2436</td>\n",
       "      <td>339</td>\n",
       "      <td>3918</td>\n",
       "      <td>7280</td>\n",
       "      <td>1848</td>\n",
       "      <td>1756</td>\n",
       "    </tr>\n",
       "    <tr>\n",
       "      <th>4</th>\n",
       "      <td>Platinum</td>\n",
       "      <td>45219</td>\n",
       "      <td>45219</td>\n",
       "      <td>45219</td>\n",
       "      <td>45214</td>\n",
       "      <td>45219</td>\n",
       "      <td>45219</td>\n",
       "      <td>45219</td>\n",
       "      <td>44523</td>\n",
       "      <td>44523</td>\n",
       "      <td>45195</td>\n",
       "      <td>45174</td>\n",
       "      <td>11944</td>\n",
       "      <td>1278</td>\n",
       "      <td>31241</td>\n",
       "      <td>44490</td>\n",
       "      <td>11449</td>\n",
       "      <td>11125</td>\n",
       "    </tr>\n",
       "    <tr>\n",
       "      <th>5</th>\n",
       "      <td>Silver</td>\n",
       "      <td>136326</td>\n",
       "      <td>136325</td>\n",
       "      <td>136326</td>\n",
       "      <td>136288</td>\n",
       "      <td>136326</td>\n",
       "      <td>136326</td>\n",
       "      <td>136324</td>\n",
       "      <td>133576</td>\n",
       "      <td>133663</td>\n",
       "      <td>136231</td>\n",
       "      <td>136164</td>\n",
       "      <td>32600</td>\n",
       "      <td>3376</td>\n",
       "      <td>86901</td>\n",
       "      <td>134136</td>\n",
       "      <td>38572</td>\n",
       "      <td>36950</td>\n",
       "    </tr>\n",
       "  </tbody>\n",
       "</table>\n",
       "</div>"
      ],
      "text/plain": [
       "                SLA  Case Number  Subject  Date Created  Date Closed  Origin  \\\n",
       "0  Billable Support            2        2             2            2       2   \n",
       "1       Client Loss          175      175           175          175     175   \n",
       "2           Default            1        1             1            1       1   \n",
       "3              Gold         7426     7426          7426         7423    7426   \n",
       "4          Platinum        45219    45219         45219        45214   45219   \n",
       "5            Silver       136326   136325        136326       136288  136326   \n",
       "\n",
       "   Priority    Team  Case Type  Problem Statement  Product  Product Area  \\\n",
       "0         2       2          2                  2        1             1   \n",
       "1       175     175        174                172      175           175   \n",
       "2         1       1          1                  1        1             1   \n",
       "3      7426    7426       7283               7290     7424          7421   \n",
       "4     45219   45219      44523              44523    45195         45174   \n",
       "5    136326  136324     133576             133663   136231        136164   \n",
       "\n",
       "   Product Category  Product Type  Jurisdiction  Resolution   KB #  KB Title  \n",
       "0                 0             0             0           2      0         0  \n",
       "1               129            89            22         171     19        19  \n",
       "2                 1             0             1           1      1         1  \n",
       "3              2436           339          3918        7280   1848      1756  \n",
       "4             11944          1278         31241       44490  11449     11125  \n",
       "5             32600          3376         86901      134136  38572     36950  "
      ]
     },
     "execution_count": 16,
     "metadata": {},
     "output_type": "execute_result"
    }
   ],
   "source": [
    "df.groupby(['SLA']).count().reset_index()"
   ]
  },
  {
   "cell_type": "code",
   "execution_count": 17,
   "id": "9e8a76cb",
   "metadata": {},
   "outputs": [
    {
     "data": {
      "text/html": [
       "<div>\n",
       "<style scoped>\n",
       "    .dataframe tbody tr th:only-of-type {\n",
       "        vertical-align: middle;\n",
       "    }\n",
       "\n",
       "    .dataframe tbody tr th {\n",
       "        vertical-align: top;\n",
       "    }\n",
       "\n",
       "    .dataframe thead th {\n",
       "        text-align: right;\n",
       "    }\n",
       "</style>\n",
       "<table border=\"1\" class=\"dataframe\">\n",
       "  <thead>\n",
       "    <tr style=\"text-align: right;\">\n",
       "      <th></th>\n",
       "      <th>Product</th>\n",
       "      <th>Case Number</th>\n",
       "      <th>Subject</th>\n",
       "      <th>Date Created</th>\n",
       "      <th>Date Closed</th>\n",
       "      <th>Origin</th>\n",
       "      <th>Priority</th>\n",
       "      <th>Team</th>\n",
       "      <th>Case Type</th>\n",
       "      <th>SLA</th>\n",
       "      <th>Problem Statement</th>\n",
       "      <th>Product Area</th>\n",
       "      <th>Product Category</th>\n",
       "      <th>Product Type</th>\n",
       "      <th>Jurisdiction</th>\n",
       "      <th>Resolution</th>\n",
       "      <th>KB #</th>\n",
       "      <th>KB Title</th>\n",
       "    </tr>\n",
       "  </thead>\n",
       "  <tbody>\n",
       "    <tr>\n",
       "      <th>0</th>\n",
       "      <td>Application Hosting</td>\n",
       "      <td>3440</td>\n",
       "      <td>3440</td>\n",
       "      <td>3440</td>\n",
       "      <td>3440</td>\n",
       "      <td>3440</td>\n",
       "      <td>3440</td>\n",
       "      <td>3440</td>\n",
       "      <td>3376</td>\n",
       "      <td>3440</td>\n",
       "      <td>3378</td>\n",
       "      <td>3438</td>\n",
       "      <td>2455</td>\n",
       "      <td>238</td>\n",
       "      <td>644</td>\n",
       "      <td>3424</td>\n",
       "      <td>220</td>\n",
       "      <td>216</td>\n",
       "    </tr>\n",
       "    <tr>\n",
       "      <th>1</th>\n",
       "      <td>Calendar</td>\n",
       "      <td>768</td>\n",
       "      <td>768</td>\n",
       "      <td>768</td>\n",
       "      <td>768</td>\n",
       "      <td>768</td>\n",
       "      <td>768</td>\n",
       "      <td>768</td>\n",
       "      <td>747</td>\n",
       "      <td>768</td>\n",
       "      <td>748</td>\n",
       "      <td>768</td>\n",
       "      <td>104</td>\n",
       "      <td>0</td>\n",
       "      <td>277</td>\n",
       "      <td>763</td>\n",
       "      <td>309</td>\n",
       "      <td>297</td>\n",
       "    </tr>\n",
       "    <tr>\n",
       "      <th>2</th>\n",
       "      <td>Claims</td>\n",
       "      <td>57</td>\n",
       "      <td>57</td>\n",
       "      <td>57</td>\n",
       "      <td>57</td>\n",
       "      <td>57</td>\n",
       "      <td>57</td>\n",
       "      <td>57</td>\n",
       "      <td>57</td>\n",
       "      <td>57</td>\n",
       "      <td>57</td>\n",
       "      <td>57</td>\n",
       "      <td>0</td>\n",
       "      <td>0</td>\n",
       "      <td>3</td>\n",
       "      <td>56</td>\n",
       "      <td>8</td>\n",
       "      <td>8</td>\n",
       "    </tr>\n",
       "    <tr>\n",
       "      <th>3</th>\n",
       "      <td>Compliance</td>\n",
       "      <td>110216</td>\n",
       "      <td>110215</td>\n",
       "      <td>110216</td>\n",
       "      <td>110203</td>\n",
       "      <td>110216</td>\n",
       "      <td>110216</td>\n",
       "      <td>110216</td>\n",
       "      <td>108047</td>\n",
       "      <td>110201</td>\n",
       "      <td>108092</td>\n",
       "      <td>110191</td>\n",
       "      <td>14250</td>\n",
       "      <td>1903</td>\n",
       "      <td>86817</td>\n",
       "      <td>109191</td>\n",
       "      <td>33451</td>\n",
       "      <td>31987</td>\n",
       "    </tr>\n",
       "    <tr>\n",
       "      <th>4</th>\n",
       "      <td>Data Exchange Manager</td>\n",
       "      <td>570</td>\n",
       "      <td>570</td>\n",
       "      <td>570</td>\n",
       "      <td>570</td>\n",
       "      <td>570</td>\n",
       "      <td>570</td>\n",
       "      <td>570</td>\n",
       "      <td>560</td>\n",
       "      <td>570</td>\n",
       "      <td>559</td>\n",
       "      <td>568</td>\n",
       "      <td>4</td>\n",
       "      <td>0</td>\n",
       "      <td>133</td>\n",
       "      <td>566</td>\n",
       "      <td>89</td>\n",
       "      <td>79</td>\n",
       "    </tr>\n",
       "    <tr>\n",
       "      <th>5</th>\n",
       "      <td>International (US)</td>\n",
       "      <td>28604</td>\n",
       "      <td>28604</td>\n",
       "      <td>28604</td>\n",
       "      <td>28583</td>\n",
       "      <td>28604</td>\n",
       "      <td>28604</td>\n",
       "      <td>28602</td>\n",
       "      <td>27940</td>\n",
       "      <td>28604</td>\n",
       "      <td>27971</td>\n",
       "      <td>28589</td>\n",
       "      <td>12364</td>\n",
       "      <td>24</td>\n",
       "      <td>13984</td>\n",
       "      <td>27972</td>\n",
       "      <td>9188</td>\n",
       "      <td>8967</td>\n",
       "    </tr>\n",
       "    <tr>\n",
       "      <th>6</th>\n",
       "      <td>ODBC Driver - Corptax</td>\n",
       "      <td>300</td>\n",
       "      <td>300</td>\n",
       "      <td>300</td>\n",
       "      <td>300</td>\n",
       "      <td>300</td>\n",
       "      <td>300</td>\n",
       "      <td>300</td>\n",
       "      <td>278</td>\n",
       "      <td>300</td>\n",
       "      <td>277</td>\n",
       "      <td>300</td>\n",
       "      <td>0</td>\n",
       "      <td>0</td>\n",
       "      <td>151</td>\n",
       "      <td>296</td>\n",
       "      <td>56</td>\n",
       "      <td>54</td>\n",
       "    </tr>\n",
       "    <tr>\n",
       "      <th>7</th>\n",
       "      <td>Office - Excel Add-In</td>\n",
       "      <td>3799</td>\n",
       "      <td>3799</td>\n",
       "      <td>3799</td>\n",
       "      <td>3797</td>\n",
       "      <td>3799</td>\n",
       "      <td>3799</td>\n",
       "      <td>3799</td>\n",
       "      <td>3705</td>\n",
       "      <td>3799</td>\n",
       "      <td>3708</td>\n",
       "      <td>3795</td>\n",
       "      <td>196</td>\n",
       "      <td>95</td>\n",
       "      <td>2155</td>\n",
       "      <td>3762</td>\n",
       "      <td>1177</td>\n",
       "      <td>1143</td>\n",
       "    </tr>\n",
       "    <tr>\n",
       "      <th>8</th>\n",
       "      <td>Other</td>\n",
       "      <td>798</td>\n",
       "      <td>798</td>\n",
       "      <td>798</td>\n",
       "      <td>798</td>\n",
       "      <td>798</td>\n",
       "      <td>798</td>\n",
       "      <td>798</td>\n",
       "      <td>748</td>\n",
       "      <td>797</td>\n",
       "      <td>772</td>\n",
       "      <td>795</td>\n",
       "      <td>203</td>\n",
       "      <td>14</td>\n",
       "      <td>251</td>\n",
       "      <td>767</td>\n",
       "      <td>96</td>\n",
       "      <td>91</td>\n",
       "    </tr>\n",
       "    <tr>\n",
       "      <th>9</th>\n",
       "      <td>Partnership / S Corp / Pass-Through</td>\n",
       "      <td>9069</td>\n",
       "      <td>9069</td>\n",
       "      <td>9069</td>\n",
       "      <td>9062</td>\n",
       "      <td>9069</td>\n",
       "      <td>9069</td>\n",
       "      <td>9069</td>\n",
       "      <td>8915</td>\n",
       "      <td>9068</td>\n",
       "      <td>8922</td>\n",
       "      <td>9062</td>\n",
       "      <td>567</td>\n",
       "      <td>24</td>\n",
       "      <td>8628</td>\n",
       "      <td>8992</td>\n",
       "      <td>2191</td>\n",
       "      <td>2101</td>\n",
       "    </tr>\n",
       "    <tr>\n",
       "      <th>10</th>\n",
       "      <td>Provision</td>\n",
       "      <td>9918</td>\n",
       "      <td>9918</td>\n",
       "      <td>9918</td>\n",
       "      <td>9917</td>\n",
       "      <td>9918</td>\n",
       "      <td>9918</td>\n",
       "      <td>9918</td>\n",
       "      <td>9670</td>\n",
       "      <td>9918</td>\n",
       "      <td>9677</td>\n",
       "      <td>9910</td>\n",
       "      <td>1328</td>\n",
       "      <td>1137</td>\n",
       "      <td>5875</td>\n",
       "      <td>9850</td>\n",
       "      <td>2591</td>\n",
       "      <td>2470</td>\n",
       "    </tr>\n",
       "    <tr>\n",
       "      <th>11</th>\n",
       "      <td>Sales Tax</td>\n",
       "      <td>4338</td>\n",
       "      <td>4338</td>\n",
       "      <td>4338</td>\n",
       "      <td>4338</td>\n",
       "      <td>4338</td>\n",
       "      <td>4338</td>\n",
       "      <td>4338</td>\n",
       "      <td>4314</td>\n",
       "      <td>4338</td>\n",
       "      <td>4314</td>\n",
       "      <td>4338</td>\n",
       "      <td>12</td>\n",
       "      <td>0</td>\n",
       "      <td>2611</td>\n",
       "      <td>4318</td>\n",
       "      <td>1121</td>\n",
       "      <td>1064</td>\n",
       "    </tr>\n",
       "    <tr>\n",
       "      <th>12</th>\n",
       "      <td>Web Services</td>\n",
       "      <td>199</td>\n",
       "      <td>199</td>\n",
       "      <td>199</td>\n",
       "      <td>199</td>\n",
       "      <td>199</td>\n",
       "      <td>199</td>\n",
       "      <td>199</td>\n",
       "      <td>187</td>\n",
       "      <td>199</td>\n",
       "      <td>187</td>\n",
       "      <td>198</td>\n",
       "      <td>2</td>\n",
       "      <td>0</td>\n",
       "      <td>35</td>\n",
       "      <td>198</td>\n",
       "      <td>24</td>\n",
       "      <td>22</td>\n",
       "    </tr>\n",
       "    <tr>\n",
       "      <th>13</th>\n",
       "      <td>Websites</td>\n",
       "      <td>16459</td>\n",
       "      <td>16459</td>\n",
       "      <td>16459</td>\n",
       "      <td>16458</td>\n",
       "      <td>16459</td>\n",
       "      <td>16459</td>\n",
       "      <td>16459</td>\n",
       "      <td>16419</td>\n",
       "      <td>16439</td>\n",
       "      <td>16390</td>\n",
       "      <td>16435</td>\n",
       "      <td>15397</td>\n",
       "      <td>1618</td>\n",
       "      <td>355</td>\n",
       "      <td>15323</td>\n",
       "      <td>1291</td>\n",
       "      <td>1282</td>\n",
       "    </tr>\n",
       "    <tr>\n",
       "      <th>14</th>\n",
       "      <td>WorkSpace</td>\n",
       "      <td>529</td>\n",
       "      <td>529</td>\n",
       "      <td>529</td>\n",
       "      <td>529</td>\n",
       "      <td>529</td>\n",
       "      <td>529</td>\n",
       "      <td>529</td>\n",
       "      <td>520</td>\n",
       "      <td>529</td>\n",
       "      <td>520</td>\n",
       "      <td>529</td>\n",
       "      <td>256</td>\n",
       "      <td>29</td>\n",
       "      <td>98</td>\n",
       "      <td>526</td>\n",
       "      <td>55</td>\n",
       "      <td>48</td>\n",
       "    </tr>\n",
       "  </tbody>\n",
       "</table>\n",
       "</div>"
      ],
      "text/plain": [
       "                                Product  Case Number  Subject  Date Created  \\\n",
       "0                   Application Hosting         3440     3440          3440   \n",
       "1                              Calendar          768      768           768   \n",
       "2                                Claims           57       57            57   \n",
       "3                            Compliance       110216   110215        110216   \n",
       "4                 Data Exchange Manager          570      570           570   \n",
       "5                    International (US)        28604    28604         28604   \n",
       "6                 ODBC Driver - Corptax          300      300           300   \n",
       "7                 Office - Excel Add-In         3799     3799          3799   \n",
       "8                                 Other          798      798           798   \n",
       "9   Partnership / S Corp / Pass-Through         9069     9069          9069   \n",
       "10                            Provision         9918     9918          9918   \n",
       "11                            Sales Tax         4338     4338          4338   \n",
       "12                         Web Services          199      199           199   \n",
       "13                             Websites        16459    16459         16459   \n",
       "14                            WorkSpace          529      529           529   \n",
       "\n",
       "    Date Closed  Origin  Priority    Team  Case Type     SLA  \\\n",
       "0          3440    3440      3440    3440       3376    3440   \n",
       "1           768     768       768     768        747     768   \n",
       "2            57      57        57      57         57      57   \n",
       "3        110203  110216    110216  110216     108047  110201   \n",
       "4           570     570       570     570        560     570   \n",
       "5         28583   28604     28604   28602      27940   28604   \n",
       "6           300     300       300     300        278     300   \n",
       "7          3797    3799      3799    3799       3705    3799   \n",
       "8           798     798       798     798        748     797   \n",
       "9          9062    9069      9069    9069       8915    9068   \n",
       "10         9917    9918      9918    9918       9670    9918   \n",
       "11         4338    4338      4338    4338       4314    4338   \n",
       "12          199     199       199     199        187     199   \n",
       "13        16458   16459     16459   16459      16419   16439   \n",
       "14          529     529       529     529        520     529   \n",
       "\n",
       "    Problem Statement  Product Area  Product Category  Product Type  \\\n",
       "0                3378          3438              2455           238   \n",
       "1                 748           768               104             0   \n",
       "2                  57            57                 0             0   \n",
       "3              108092        110191             14250          1903   \n",
       "4                 559           568                 4             0   \n",
       "5               27971         28589             12364            24   \n",
       "6                 277           300                 0             0   \n",
       "7                3708          3795               196            95   \n",
       "8                 772           795               203            14   \n",
       "9                8922          9062               567            24   \n",
       "10               9677          9910              1328          1137   \n",
       "11               4314          4338                12             0   \n",
       "12                187           198                 2             0   \n",
       "13              16390         16435             15397          1618   \n",
       "14                520           529               256            29   \n",
       "\n",
       "    Jurisdiction  Resolution   KB #  KB Title  \n",
       "0            644        3424    220       216  \n",
       "1            277         763    309       297  \n",
       "2              3          56      8         8  \n",
       "3          86817      109191  33451     31987  \n",
       "4            133         566     89        79  \n",
       "5          13984       27972   9188      8967  \n",
       "6            151         296     56        54  \n",
       "7           2155        3762   1177      1143  \n",
       "8            251         767     96        91  \n",
       "9           8628        8992   2191      2101  \n",
       "10          5875        9850   2591      2470  \n",
       "11          2611        4318   1121      1064  \n",
       "12            35         198     24        22  \n",
       "13           355       15323   1291      1282  \n",
       "14            98         526     55        48  "
      ]
     },
     "execution_count": 17,
     "metadata": {},
     "output_type": "execute_result"
    }
   ],
   "source": [
    "df.groupby(['Product']).count().reset_index()"
   ]
  },
  {
   "cell_type": "code",
   "execution_count": null,
   "id": "0057bde9",
   "metadata": {},
   "outputs": [],
   "source": []
  },
  {
   "cell_type": "code",
   "execution_count": null,
   "id": "c66ecce8",
   "metadata": {},
   "outputs": [],
   "source": []
  },
  {
   "cell_type": "code",
   "execution_count": null,
   "id": "c91c6630",
   "metadata": {},
   "outputs": [],
   "source": [
    "\n",
    "total_price = grp[\"revenue\"].groupby(level=0, group_keys=False)\n",
    "oo = total_price.nlargest(3)\n",
    "ax = oo.plot(kind='bar',figsize=(20,8),rot=55 )\n",
    "\n",
    "#draw lines and titles\n",
    "count = oo.groupby(\"District\").count()\n",
    "cs = np.cumsum(count)\n",
    "for i in range(len(count)):\n",
    "    title = count.index.values[i]\n",
    "    ax.axvline(cs[i]-.5, lw=0.8, color=\"k\")\n",
    "    ax.text(cs[i]-(count[i]+1)/2., 1.02, title, ha=\"center\",\n",
    "            transform=ax.get_xaxis_transform())\n",
    "\n",
    "# shorten xticklabels\n",
    "ax.set_xticklabels([l.get_text().split(\", \")[1][:-1] for l in ax.get_xticklabels()])"
   ]
  }
 ],
 "metadata": {
  "kernelspec": {
   "display_name": "Python 3 (ipykernel)",
   "language": "python",
   "name": "python3"
  },
  "language_info": {
   "codemirror_mode": {
    "name": "ipython",
    "version": 3
   },
   "file_extension": ".py",
   "mimetype": "text/x-python",
   "name": "python",
   "nbconvert_exporter": "python",
   "pygments_lexer": "ipython3",
   "version": "3.9.7"
  }
 },
 "nbformat": 4,
 "nbformat_minor": 5
}
