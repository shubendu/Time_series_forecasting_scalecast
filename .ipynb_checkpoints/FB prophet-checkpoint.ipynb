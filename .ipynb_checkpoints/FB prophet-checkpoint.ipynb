{
 "cells": [
  {
   "cell_type": "code",
   "execution_count": 33,
   "id": "2a34e104",
   "metadata": {},
   "outputs": [],
   "source": [
    "import pandas as pd\n",
    "import numpy as np\n",
    "import seaborn as sns\n",
    "import matplotlib.pyplot as plt\n",
    "from scalecast.Forecaster import Forecaster\n",
    "\n",
    "sns.set(rc={'figure.figsize':(16,8)})"
   ]
  },
  {
   "cell_type": "code",
   "execution_count": 16,
   "id": "acf9a4ad",
   "metadata": {},
   "outputs": [],
   "source": [
    "df = pd.read_excel(\"Case Prediction Data2.xlsx\")"
   ]
  },
  {
   "cell_type": "code",
   "execution_count": 17,
   "id": "507cc197",
   "metadata": {
    "scrolled": false
   },
   "outputs": [
    {
     "data": {
      "text/html": [
       "<div>\n",
       "<style scoped>\n",
       "    .dataframe tbody tr th:only-of-type {\n",
       "        vertical-align: middle;\n",
       "    }\n",
       "\n",
       "    .dataframe tbody tr th {\n",
       "        vertical-align: top;\n",
       "    }\n",
       "\n",
       "    .dataframe thead th {\n",
       "        text-align: right;\n",
       "    }\n",
       "</style>\n",
       "<table border=\"1\" class=\"dataframe\">\n",
       "  <thead>\n",
       "    <tr style=\"text-align: right;\">\n",
       "      <th></th>\n",
       "      <th>Case Number</th>\n",
       "      <th>Subject</th>\n",
       "      <th>Date Created</th>\n",
       "      <th>Date Closed</th>\n",
       "      <th>Origin</th>\n",
       "      <th>Priority</th>\n",
       "      <th>Team</th>\n",
       "      <th>Case Type</th>\n",
       "      <th>SLA</th>\n",
       "      <th>Problem Statement</th>\n",
       "      <th>Product</th>\n",
       "      <th>Product Area</th>\n",
       "      <th>Product Category</th>\n",
       "      <th>Product Type</th>\n",
       "      <th>Jurisdiction</th>\n",
       "      <th>Resolution</th>\n",
       "      <th>KB #</th>\n",
       "      <th>KB Title</th>\n",
       "    </tr>\n",
       "  </thead>\n",
       "  <tbody>\n",
       "    <tr>\n",
       "      <th>0</th>\n",
       "      <td>204977</td>\n",
       "      <td>Efile Acceptance</td>\n",
       "      <td>2017-01-02 05:39:00</td>\n",
       "      <td>2017-01-03 09:03:00</td>\n",
       "      <td>Web</td>\n",
       "      <td>Medium</td>\n",
       "      <td>Tax Preparation</td>\n",
       "      <td>Efile</td>\n",
       "      <td>Platinum</td>\n",
       "      <td>We transmitted a Michigan return still have no...</td>\n",
       "      <td>Compliance</td>\n",
       "      <td>Returns / Reports</td>\n",
       "      <td>NaN</td>\n",
       "      <td>NaN</td>\n",
       "      <td>US.MI</td>\n",
       "      <td>Answer exists KB</td>\n",
       "      <td>041324813494120</td>\n",
       "      <td>How to understand the Transmission Monitor</td>\n",
       "    </tr>\n",
       "    <tr>\n",
       "      <th>1</th>\n",
       "      <td>204979</td>\n",
       "      <td>Oregon STAT help: Previous Case 203787 Client ...</td>\n",
       "      <td>2017-01-02 09:03:00</td>\n",
       "      <td>2017-01-04 16:56:00</td>\n",
       "      <td>Web</td>\n",
       "      <td>High</td>\n",
       "      <td>Tax Preparation</td>\n",
       "      <td>Question / How To</td>\n",
       "      <td>Silver</td>\n",
       "      <td>Oregon STAT help: Previous Case 203787 Client ...</td>\n",
       "      <td>Provision</td>\n",
       "      <td>State</td>\n",
       "      <td>NaN</td>\n",
       "      <td>NaN</td>\n",
       "      <td>US.OR</td>\n",
       "      <td>Customer no longer needs assistance</td>\n",
       "      <td>NaN</td>\n",
       "      <td>NaN</td>\n",
       "    </tr>\n",
       "    <tr>\n",
       "      <th>2</th>\n",
       "      <td>204980</td>\n",
       "      <td>Data map incorrectly pulling in values</td>\n",
       "      <td>2017-01-02 11:25:00</td>\n",
       "      <td>2017-01-03 15:48:00</td>\n",
       "      <td>Web</td>\n",
       "      <td>Medium</td>\n",
       "      <td>Tax Preparation</td>\n",
       "      <td>Question / How To</td>\n",
       "      <td>Silver</td>\n",
       "      <td>Corptax Office Import - Credit Account imports...</td>\n",
       "      <td>Office - Excel Add-In</td>\n",
       "      <td>Import / Export</td>\n",
       "      <td>NaN</td>\n",
       "      <td>NaN</td>\n",
       "      <td>US</td>\n",
       "      <td>Answer exists KB</td>\n",
       "      <td>041414821333274</td>\n",
       "      <td>Corptax® Office - How to place an IF formula i...</td>\n",
       "    </tr>\n",
       "    <tr>\n",
       "      <th>3</th>\n",
       "      <td>204981</td>\n",
       "      <td>The New Corptax Connect Website is not properl...</td>\n",
       "      <td>2017-01-02 12:06:00</td>\n",
       "      <td>2017-01-03 09:26:00</td>\n",
       "      <td>Web</td>\n",
       "      <td>High</td>\n",
       "      <td>Tax Preparation</td>\n",
       "      <td>Problem / Error</td>\n",
       "      <td>Silver</td>\n",
       "      <td>Searches can't be performed on the new system....</td>\n",
       "      <td>Websites</td>\n",
       "      <td>Connections (https://connect.corptax.com)</td>\n",
       "      <td>Error Message</td>\n",
       "      <td>NaN</td>\n",
       "      <td>NaN</td>\n",
       "      <td>Answer exists KB</td>\n",
       "      <td>161216104028927</td>\n",
       "      <td>Connections Error - Uh Oh  something went wron...</td>\n",
       "    </tr>\n",
       "    <tr>\n",
       "      <th>4</th>\n",
       "      <td>204986</td>\n",
       "      <td>LD400 is not reflecting a temporary adjustment</td>\n",
       "      <td>2017-01-03 07:17:00</td>\n",
       "      <td>2017-01-05 08:21:00</td>\n",
       "      <td>E-mail</td>\n",
       "      <td>Medium</td>\n",
       "      <td>Tax Preparation</td>\n",
       "      <td>Problem / Error</td>\n",
       "      <td>Platinum</td>\n",
       "      <td>LD400 is not reflecting a temporary adjustment</td>\n",
       "      <td>Compliance</td>\n",
       "      <td>Returns / Reports</td>\n",
       "      <td>NaN</td>\n",
       "      <td>NaN</td>\n",
       "      <td>US</td>\n",
       "      <td>Answer exists KB</td>\n",
       "      <td>041622907012748</td>\n",
       "      <td>Adjustments do not flow to LD400 workpaper and...</td>\n",
       "    </tr>\n",
       "  </tbody>\n",
       "</table>\n",
       "</div>"
      ],
      "text/plain": [
       "   Case Number                                            Subject  \\\n",
       "0       204977                                   Efile Acceptance   \n",
       "1       204979  Oregon STAT help: Previous Case 203787 Client ...   \n",
       "2       204980             Data map incorrectly pulling in values   \n",
       "3       204981  The New Corptax Connect Website is not properl...   \n",
       "4       204986     LD400 is not reflecting a temporary adjustment   \n",
       "\n",
       "         Date Created         Date Closed  Origin Priority             Team  \\\n",
       "0 2017-01-02 05:39:00 2017-01-03 09:03:00     Web   Medium  Tax Preparation   \n",
       "1 2017-01-02 09:03:00 2017-01-04 16:56:00     Web     High  Tax Preparation   \n",
       "2 2017-01-02 11:25:00 2017-01-03 15:48:00     Web   Medium  Tax Preparation   \n",
       "3 2017-01-02 12:06:00 2017-01-03 09:26:00     Web     High  Tax Preparation   \n",
       "4 2017-01-03 07:17:00 2017-01-05 08:21:00  E-mail   Medium  Tax Preparation   \n",
       "\n",
       "           Case Type       SLA  \\\n",
       "0              Efile  Platinum   \n",
       "1  Question / How To    Silver   \n",
       "2  Question / How To    Silver   \n",
       "3    Problem / Error    Silver   \n",
       "4    Problem / Error  Platinum   \n",
       "\n",
       "                                   Problem Statement                Product  \\\n",
       "0  We transmitted a Michigan return still have no...             Compliance   \n",
       "1  Oregon STAT help: Previous Case 203787 Client ...              Provision   \n",
       "2  Corptax Office Import - Credit Account imports...  Office - Excel Add-In   \n",
       "3  Searches can't be performed on the new system....               Websites   \n",
       "4     LD400 is not reflecting a temporary adjustment             Compliance   \n",
       "\n",
       "                                Product Area Product Category Product Type  \\\n",
       "0                          Returns / Reports              NaN          NaN   \n",
       "1                                      State              NaN          NaN   \n",
       "2                            Import / Export              NaN          NaN   \n",
       "3  Connections (https://connect.corptax.com)    Error Message          NaN   \n",
       "4                          Returns / Reports              NaN          NaN   \n",
       "\n",
       "  Jurisdiction                           Resolution             KB #  \\\n",
       "0        US.MI                     Answer exists KB  041324813494120   \n",
       "1        US.OR  Customer no longer needs assistance              NaN   \n",
       "2           US                     Answer exists KB  041414821333274   \n",
       "3          NaN                     Answer exists KB  161216104028927   \n",
       "4           US                     Answer exists KB  041622907012748   \n",
       "\n",
       "                                            KB Title  \n",
       "0         How to understand the Transmission Monitor  \n",
       "1                                                NaN  \n",
       "2  Corptax® Office - How to place an IF formula i...  \n",
       "3  Connections Error - Uh Oh  something went wron...  \n",
       "4  Adjustments do not flow to LD400 workpaper and...  "
      ]
     },
     "execution_count": 17,
     "metadata": {},
     "output_type": "execute_result"
    }
   ],
   "source": [
    "df_comp = df\n",
    "df_comp.head()"
   ]
  },
  {
   "cell_type": "code",
   "execution_count": 25,
   "id": "be249d30",
   "metadata": {},
   "outputs": [],
   "source": [
    "dfc = df[df.Product == \"Compliance\"]\n",
    "dfc = df\n",
    "# df_comp['Date Created'] = df_comp['Date Created'].dt.date\n",
    "# df_comp['Date Closed'] = df_comp['Date Closed'].dt.date\n",
    "df_comp['Date'] = pd.to_datetime(df_comp['Date Created'], errors='coerce')\n",
    "dfc = df_comp"
   ]
  },
  {
   "cell_type": "code",
   "execution_count": 26,
   "id": "725444d5",
   "metadata": {},
   "outputs": [
    {
     "data": {
      "text/html": [
       "<div>\n",
       "<style scoped>\n",
       "    .dataframe tbody tr th:only-of-type {\n",
       "        vertical-align: middle;\n",
       "    }\n",
       "\n",
       "    .dataframe tbody tr th {\n",
       "        vertical-align: top;\n",
       "    }\n",
       "\n",
       "    .dataframe thead th {\n",
       "        text-align: right;\n",
       "    }\n",
       "</style>\n",
       "<table border=\"1\" class=\"dataframe\">\n",
       "  <thead>\n",
       "    <tr style=\"text-align: right;\">\n",
       "      <th></th>\n",
       "      <th>Case Number</th>\n",
       "    </tr>\n",
       "    <tr>\n",
       "      <th>Date</th>\n",
       "      <th></th>\n",
       "    </tr>\n",
       "  </thead>\n",
       "  <tbody>\n",
       "    <tr>\n",
       "      <th>2017-01-31</th>\n",
       "      <td>2206.0</td>\n",
       "    </tr>\n",
       "    <tr>\n",
       "      <th>2017-02-28</th>\n",
       "      <td>2377.0</td>\n",
       "    </tr>\n",
       "    <tr>\n",
       "      <th>2017-03-31</th>\n",
       "      <td>3326.0</td>\n",
       "    </tr>\n",
       "    <tr>\n",
       "      <th>2017-04-30</th>\n",
       "      <td>2186.0</td>\n",
       "    </tr>\n",
       "    <tr>\n",
       "      <th>2017-05-31</th>\n",
       "      <td>2581.0</td>\n",
       "    </tr>\n",
       "    <tr>\n",
       "      <th>...</th>\n",
       "      <td>...</td>\n",
       "    </tr>\n",
       "    <tr>\n",
       "      <th>2022-04-30</th>\n",
       "      <td>1871.0</td>\n",
       "    </tr>\n",
       "    <tr>\n",
       "      <th>2022-05-31</th>\n",
       "      <td>1787.0</td>\n",
       "    </tr>\n",
       "    <tr>\n",
       "      <th>2022-06-30</th>\n",
       "      <td>2112.0</td>\n",
       "    </tr>\n",
       "    <tr>\n",
       "      <th>2022-07-31</th>\n",
       "      <td>1959.0</td>\n",
       "    </tr>\n",
       "    <tr>\n",
       "      <th>2022-08-31</th>\n",
       "      <td>1351.0</td>\n",
       "    </tr>\n",
       "  </tbody>\n",
       "</table>\n",
       "<p>68 rows × 1 columns</p>\n",
       "</div>"
      ],
      "text/plain": [
       "            Case Number\n",
       "Date                   \n",
       "2017-01-31       2206.0\n",
       "2017-02-28       2377.0\n",
       "2017-03-31       3326.0\n",
       "2017-04-30       2186.0\n",
       "2017-05-31       2581.0\n",
       "...                 ...\n",
       "2022-04-30       1871.0\n",
       "2022-05-31       1787.0\n",
       "2022-06-30       2112.0\n",
       "2022-07-31       1959.0\n",
       "2022-08-31       1351.0\n",
       "\n",
       "[68 rows x 1 columns]"
      ]
     },
     "execution_count": 26,
     "metadata": {},
     "output_type": "execute_result"
    }
   ],
   "source": [
    "# Adding a new column which will have the number of tickets per day\n",
    "newdf = dfc[[\"Date\",\"Case Number\"]]\n",
    "newdf.drop_duplicates(inplace=True)\n",
    "newdf['Date'] = pd.to_datetime(newdf['Date'])\n",
    "newdf = pd.DataFrame(newdf.groupby([newdf[\"Date\"].dt.date]).count()[\"Case Number\"])\n",
    "newdf = newdf.reset_index()\n",
    "newdf.index = newdf.Date\n",
    "newdf['Date'] = pd.to_datetime(newdf['Date'], errors='coerce')\n",
    "newdf = newdf.asfreq('D')\n",
    "newdf = newdf.groupby(pd.Grouper(freq=\"M\")).sum()\n",
    "newdf"
   ]
  },
  {
   "cell_type": "code",
   "execution_count": 27,
   "id": "97918871",
   "metadata": {},
   "outputs": [
    {
     "name": "stdout",
     "output_type": "stream",
     "text": [
      "<class 'pandas.core.frame.DataFrame'>\n",
      "DatetimeIndex: 68 entries, 2017-01-31 to 2022-08-31\n",
      "Freq: M\n",
      "Data columns (total 1 columns):\n",
      " #   Column       Non-Null Count  Dtype  \n",
      "---  ------       --------------  -----  \n",
      " 0   Case Number  68 non-null     float64\n",
      "dtypes: float64(1)\n",
      "memory usage: 1.1 KB\n"
     ]
    }
   ],
   "source": [
    "newdf.info()"
   ]
  },
  {
   "cell_type": "code",
   "execution_count": 28,
   "id": "d22618f8",
   "metadata": {},
   "outputs": [
    {
     "data": {
      "text/plain": [
       "Forecaster(\n",
       "    DateStartActuals=2017-01-31T00:00:00.000000000\n",
       "    DateEndActuals=2022-08-31T00:00:00.000000000\n",
       "    Freq=M\n",
       "    N_actuals=68\n",
       "    ForecastLength=0\n",
       "    Xvars=[]\n",
       "    Differenced=0\n",
       "    TestLength=1\n",
       "    ValidationLength=1\n",
       "    ValidationMetric=rmse\n",
       "    ForecastsEvaluated=[]\n",
       "    CILevel=0.95\n",
       "    BootstrapSamples=100\n",
       "    CurrentEstimator=None\n",
       "    GridsFile=Grids\n",
       ")"
      ]
     },
     "execution_count": 28,
     "metadata": {},
     "output_type": "execute_result"
    }
   ],
   "source": [
    "f = Forecaster(y=newdf['Case Number'],current_dates=newdf.index)\n",
    "f"
   ]
  },
  {
   "cell_type": "code",
   "execution_count": 29,
   "id": "78aabf28",
   "metadata": {},
   "outputs": [
    {
     "data": {
      "image/png": "[encoded data removed]",
      "text/plain": [
       "<Figure size 1152x576 with 1 Axes>"
      ]
     },
     "metadata": {},
     "output_type": "display_data"
    }
   ],
   "source": [
    "f.plot()\n",
    "plt.title('All products cases (monthly)',size=20)\n",
    "plt.show()"
   ]
  },
  {
   "cell_type": "code",
   "execution_count": 30,
   "id": "8dc61498",
   "metadata": {},
   "outputs": [
    {
     "data": {
      "text/plain": [
       "Forecaster(\n",
       "    DateStartActuals=2017-01-31T00:00:00.000000000\n",
       "    DateEndActuals=2022-08-31T00:00:00.000000000\n",
       "    Freq=M\n",
       "    N_actuals=68\n",
       "    ForecastLength=12\n",
       "    Xvars=[]\n",
       "    Differenced=0\n",
       "    TestLength=13\n",
       "    ValidationLength=1\n",
       "    ValidationMetric=rmse\n",
       "    ForecastsEvaluated=[]\n",
       "    CILevel=0.95\n",
       "    BootstrapSamples=100\n",
       "    CurrentEstimator=prophet\n",
       "    GridsFile=Grids\n",
       ")"
      ]
     },
     "execution_count": 30,
     "metadata": {},
     "output_type": "execute_result"
    }
   ],
   "source": [
    "f.generate_future_dates(12)\n",
    "f.set_test_length(.2)\n",
    "f.set_estimator('prophet')\n",
    "f"
   ]
  },
  {
   "cell_type": "code",
   "execution_count": 31,
   "id": "c6cd4680",
   "metadata": {},
   "outputs": [
    {
     "name": "stdout",
     "output_type": "stream",
     "text": [
      "----------------------------------------------------------------------------------------------------\n",
      "Augmented Dickey-Fuller results:\n",
      "the test-stat value is: 0.83\n",
      "the p-value is 0.9922\n",
      "the series is not stationary\n",
      "----------------------------------------------------------------------------------------------------\n"
     ]
    }
   ],
   "source": [
    "critical_pval = 0.05\n",
    "print('-'*100)\n",
    "print('Augmented Dickey-Fuller results:')\n",
    "stat, pval, _, _, _, _ = f.adf_test(full_res=True)\n",
    "print('the test-stat value is: {:.2f}'.format(stat))\n",
    "print('the p-value is {:.4f}'.format(pval))\n",
    "print('the series is {}'.format('stationary' if pval < critical_pval else 'not stationary'))\n",
    "print('-'*100)"
   ]
  },
  {
   "cell_type": "code",
   "execution_count": 34,
   "id": "d23d7d5b",
   "metadata": {},
   "outputs": [
    {
     "ename": "ModuleNotFoundError",
     "evalue": "No module named 'fbprophet'",
     "output_type": "error",
     "traceback": [
      "\u001b[1;31m---------------------------------------------------------------------------\u001b[0m",
      "\u001b[1;31mModuleNotFoundError\u001b[0m                       Traceback (most recent call last)",
      "\u001b[1;32mC:\\Users\\SHUBEN~1.BIS\\AppData\\Local\\Temp/ipykernel_38072/3776642299.py\u001b[0m in \u001b[0;36m<module>\u001b[1;34m\u001b[0m\n\u001b[1;32m----> 1\u001b[1;33m \u001b[0mf\u001b[0m\u001b[1;33m.\u001b[0m\u001b[0mmanual_forecast\u001b[0m\u001b[1;33m(\u001b[0m\u001b[0mcall_me\u001b[0m\u001b[1;33m=\u001b[0m\u001b[1;34m'prophet1'\u001b[0m\u001b[1;33m)\u001b[0m\u001b[1;33m\u001b[0m\u001b[1;33m\u001b[0m\u001b[0m\n\u001b[0m",
      "\u001b[1;32m~\\Anaconda3\\lib\\site-packages\\scalecast\\Forecaster.py\u001b[0m in \u001b[0;36mmanual_forecast\u001b[1;34m(self, call_me, dynamic_testing, test_only, **kwargs)\u001b[0m\n\u001b[0;32m   3526\u001b[0m             )\n\u001b[0;32m   3527\u001b[0m             \u001b[1;32mif\u001b[0m \u001b[0mself\u001b[0m\u001b[1;33m.\u001b[0m\u001b[0mestimator\u001b[0m \u001b[1;32min\u001b[0m \u001b[0m_sklearn_estimators_\u001b[0m\u001b[1;33m\u001b[0m\u001b[1;33m\u001b[0m\u001b[0m\n\u001b[1;32m-> 3528\u001b[1;33m             else getattr(self, f\"_forecast_{self.estimator}\")(\n\u001b[0m\u001b[0;32m   3529\u001b[0m                 \u001b[0mdynamic_testing\u001b[0m\u001b[1;33m=\u001b[0m\u001b[0mdynamic_testing\u001b[0m\u001b[1;33m,\u001b[0m \u001b[0mtest_only\u001b[0m\u001b[1;33m=\u001b[0m\u001b[0mtest_only\u001b[0m\u001b[1;33m,\u001b[0m \u001b[1;33m**\u001b[0m\u001b[0mkwargs\u001b[0m\u001b[1;33m\u001b[0m\u001b[1;33m\u001b[0m\u001b[0m\n\u001b[0;32m   3530\u001b[0m             )\n",
      "\u001b[1;32m~\\Anaconda3\\lib\\site-packages\\scalecast\\Forecaster.py\u001b[0m in \u001b[0;36m_forecast_prophet\u001b[1;34m(self, tune, Xvars, dynamic_testing, cap, floor, test_only, **kwargs)\u001b[0m\n\u001b[0;32m   1059\u001b[0m             )\n\u001b[0;32m   1060\u001b[0m         \u001b[0mself\u001b[0m\u001b[1;33m.\u001b[0m\u001b[0mdynamic_testing\u001b[0m \u001b[1;33m=\u001b[0m \u001b[1;32mTrue\u001b[0m\u001b[1;33m\u001b[0m\u001b[1;33m\u001b[0m\u001b[0m\n\u001b[1;32m-> 1061\u001b[1;33m         \u001b[1;32mfrom\u001b[0m \u001b[0mfbprophet\u001b[0m \u001b[1;32mimport\u001b[0m \u001b[0mProphet\u001b[0m\u001b[1;33m\u001b[0m\u001b[1;33m\u001b[0m\u001b[0m\n\u001b[0m\u001b[0;32m   1062\u001b[0m \u001b[1;33m\u001b[0m\u001b[0m\n\u001b[0;32m   1063\u001b[0m         X = pd.DataFrame(\n",
      "\u001b[1;31mModuleNotFoundError\u001b[0m: No module named 'fbprophet'"
     ]
    }
   ],
   "source": [
    "f.manual_forecast(call_me='prophet1')"
   ]
  },
  {
   "cell_type": "code",
   "execution_count": null,
   "id": "5364ed77",
   "metadata": {},
   "outputs": [],
   "source": []
  }
 ],
 "metadata": {
  "kernelspec": {
   "display_name": "Python 3 (ipykernel)",
   "language": "python",
   "name": "python3"
  },
  "language_info": {
   "codemirror_mode": {
    "name": "ipython",
    "version": 3
   },
   "file_extension": ".py",
   "mimetype": "text/x-python",
   "name": "python",
   "nbconvert_exporter": "python",
   "pygments_lexer": "ipython3",
   "version": "3.9.7"
  }
 },
 "nbformat": 4,
 "nbformat_minor": 5
}
