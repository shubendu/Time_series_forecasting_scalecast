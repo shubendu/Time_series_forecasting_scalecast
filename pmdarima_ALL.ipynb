{
 "cells": [
  {
   "cell_type": "code",
   "execution_count": 50,
   "id": "2a34e104",
   "metadata": {},
   "outputs": [],
   "source": [
    "import pandas as pd\n",
    "import numpy as np\n",
    "from scalecast.Forecaster import Forecaster\n",
    "from scalecast.auxmodels import auto_arima\n",
    "import matplotlib.pyplot as plt\n",
    "import seaborn as sns\n",
    "import warnings\n",
    "\n",
    "warnings.filterwarnings('ignore')\n",
    "sns.set(rc={'figure.figsize':(14,7)})"
   ]
  },
  {
   "cell_type": "code",
   "execution_count": 51,
   "id": "acf9a4ad",
   "metadata": {},
   "outputs": [],
   "source": [
    "df = pd.read_excel(\"Case Prediction Data2.xlsx\")"
   ]
  },
  {
   "cell_type": "code",
   "execution_count": 52,
   "id": "507cc197",
   "metadata": {
    "scrolled": false
   },
   "outputs": [
    {
     "data": {
      "text/html": [
       "<div>\n",
       "<style scoped>\n",
       "    .dataframe tbody tr th:only-of-type {\n",
       "        vertical-align: middle;\n",
       "    }\n",
       "\n",
       "    .dataframe tbody tr th {\n",
       "        vertical-align: top;\n",
       "    }\n",
       "\n",
       "    .dataframe thead th {\n",
       "        text-align: right;\n",
       "    }\n",
       "</style>\n",
       "<table border=\"1\" class=\"dataframe\">\n",
       "  <thead>\n",
       "    <tr style=\"text-align: right;\">\n",
       "      <th></th>\n",
       "      <th>Case Number</th>\n",
       "      <th>Subject</th>\n",
       "      <th>Date Created</th>\n",
       "      <th>Date Closed</th>\n",
       "      <th>Origin</th>\n",
       "      <th>Priority</th>\n",
       "      <th>Team</th>\n",
       "      <th>Case Type</th>\n",
       "      <th>SLA</th>\n",
       "      <th>Problem Statement</th>\n",
       "      <th>Product</th>\n",
       "      <th>Product Area</th>\n",
       "      <th>Product Category</th>\n",
       "      <th>Product Type</th>\n",
       "      <th>Jurisdiction</th>\n",
       "      <th>Resolution</th>\n",
       "      <th>KB #</th>\n",
       "      <th>KB Title</th>\n",
       "    </tr>\n",
       "  </thead>\n",
       "  <tbody>\n",
       "    <tr>\n",
       "      <th>0</th>\n",
       "      <td>204977</td>\n",
       "      <td>Efile Acceptance</td>\n",
       "      <td>2017-01-02 05:39:00</td>\n",
       "      <td>2017-01-03 09:03:00</td>\n",
       "      <td>Web</td>\n",
       "      <td>Medium</td>\n",
       "      <td>Tax Preparation</td>\n",
       "      <td>Efile</td>\n",
       "      <td>Platinum</td>\n",
       "      <td>We transmitted a Michigan return still have not received the acceptance/rejection confirmation.</td>\n",
       "      <td>Compliance</td>\n",
       "      <td>Returns / Reports</td>\n",
       "      <td>NaN</td>\n",
       "      <td>NaN</td>\n",
       "      <td>US.MI</td>\n",
       "      <td>Answer exists KB</td>\n",
       "      <td>041324813494120</td>\n",
       "      <td>How to understand the Transmission Monitor</td>\n",
       "    </tr>\n",
       "    <tr>\n",
       "      <th>1</th>\n",
       "      <td>204979</td>\n",
       "      <td>Oregon STAT help: Previous Case 203787 Client needs help after 4pm CST today</td>\n",
       "      <td>2017-01-02 09:03:00</td>\n",
       "      <td>2017-01-04 16:56:00</td>\n",
       "      <td>Web</td>\n",
       "      <td>High</td>\n",
       "      <td>Tax Preparation</td>\n",
       "      <td>Question / How To</td>\n",
       "      <td>Silver</td>\n",
       "      <td>Oregon STAT help: Previous Case 203787 Client needs help after 4pm CST today</td>\n",
       "      <td>Provision</td>\n",
       "      <td>State</td>\n",
       "      <td>NaN</td>\n",
       "      <td>NaN</td>\n",
       "      <td>US.OR</td>\n",
       "      <td>Customer no longer needs assistance</td>\n",
       "      <td>NaN</td>\n",
       "      <td>NaN</td>\n",
       "    </tr>\n",
       "    <tr>\n",
       "      <th>2</th>\n",
       "      <td>204980</td>\n",
       "      <td>Data map incorrectly pulling in values</td>\n",
       "      <td>2017-01-02 11:25:00</td>\n",
       "      <td>2017-01-03 15:48:00</td>\n",
       "      <td>Web</td>\n",
       "      <td>Medium</td>\n",
       "      <td>Tax Preparation</td>\n",
       "      <td>Question / How To</td>\n",
       "      <td>Silver</td>\n",
       "      <td>Corptax Office Import - Credit Account imports are not posting as expected</td>\n",
       "      <td>Office - Excel Add-In</td>\n",
       "      <td>Import / Export</td>\n",
       "      <td>NaN</td>\n",
       "      <td>NaN</td>\n",
       "      <td>US</td>\n",
       "      <td>Answer exists KB</td>\n",
       "      <td>041414821333274</td>\n",
       "      <td>Corptax® Office - How to place an IF formula in the Advanced formula setting of the Data Templat...</td>\n",
       "    </tr>\n",
       "    <tr>\n",
       "      <th>3</th>\n",
       "      <td>204981</td>\n",
       "      <td>The New Corptax Connect Website is not properly working</td>\n",
       "      <td>2017-01-02 12:06:00</td>\n",
       "      <td>2017-01-03 09:26:00</td>\n",
       "      <td>Web</td>\n",
       "      <td>High</td>\n",
       "      <td>Tax Preparation</td>\n",
       "      <td>Problem / Error</td>\n",
       "      <td>Silver</td>\n",
       "      <td>Searches can't be performed on the new system.  It hasn't functioned properly since the change. ...</td>\n",
       "      <td>Websites</td>\n",
       "      <td>Connections (https://connect.corptax.com)</td>\n",
       "      <td>Error Message</td>\n",
       "      <td>NaN</td>\n",
       "      <td>NaN</td>\n",
       "      <td>Answer exists KB</td>\n",
       "      <td>161216104028927</td>\n",
       "      <td>Connections Error - Uh Oh  something went wrong while loading this page</td>\n",
       "    </tr>\n",
       "    <tr>\n",
       "      <th>4</th>\n",
       "      <td>204986</td>\n",
       "      <td>LD400 is not reflecting a temporary adjustment</td>\n",
       "      <td>2017-01-03 07:17:00</td>\n",
       "      <td>2017-01-05 08:21:00</td>\n",
       "      <td>E-mail</td>\n",
       "      <td>Medium</td>\n",
       "      <td>Tax Preparation</td>\n",
       "      <td>Problem / Error</td>\n",
       "      <td>Platinum</td>\n",
       "      <td>LD400 is not reflecting a temporary adjustment</td>\n",
       "      <td>Compliance</td>\n",
       "      <td>Returns / Reports</td>\n",
       "      <td>NaN</td>\n",
       "      <td>NaN</td>\n",
       "      <td>US</td>\n",
       "      <td>Answer exists KB</td>\n",
       "      <td>041622907012748</td>\n",
       "      <td>Adjustments do not flow to LD400 workpaper and Taxable income per the LD400 does not tie to the ...</td>\n",
       "    </tr>\n",
       "  </tbody>\n",
       "</table>\n",
       "</div>"
      ],
      "text/plain": [
       "   Case Number  \\\n",
       "0       204977   \n",
       "1       204979   \n",
       "2       204980   \n",
       "3       204981   \n",
       "4       204986   \n",
       "\n",
       "                                                                        Subject  \\\n",
       "0                                                              Efile Acceptance   \n",
       "1  Oregon STAT help: Previous Case 203787 Client needs help after 4pm CST today   \n",
       "2                                        Data map incorrectly pulling in values   \n",
       "3                       The New Corptax Connect Website is not properly working   \n",
       "4                                LD400 is not reflecting a temporary adjustment   \n",
       "\n",
       "         Date Created         Date Closed  Origin Priority             Team  \\\n",
       "0 2017-01-02 05:39:00 2017-01-03 09:03:00     Web   Medium  Tax Preparation   \n",
       "1 2017-01-02 09:03:00 2017-01-04 16:56:00     Web     High  Tax Preparation   \n",
       "2 2017-01-02 11:25:00 2017-01-03 15:48:00     Web   Medium  Tax Preparation   \n",
       "3 2017-01-02 12:06:00 2017-01-03 09:26:00     Web     High  Tax Preparation   \n",
       "4 2017-01-03 07:17:00 2017-01-05 08:21:00  E-mail   Medium  Tax Preparation   \n",
       "\n",
       "           Case Type       SLA  \\\n",
       "0              Efile  Platinum   \n",
       "1  Question / How To    Silver   \n",
       "2  Question / How To    Silver   \n",
       "3    Problem / Error    Silver   \n",
       "4    Problem / Error  Platinum   \n",
       "\n",
       "                                                                                     Problem Statement  \\\n",
       "0      We transmitted a Michigan return still have not received the acceptance/rejection confirmation.   \n",
       "1                         Oregon STAT help: Previous Case 203787 Client needs help after 4pm CST today   \n",
       "2                           Corptax Office Import - Credit Account imports are not posting as expected   \n",
       "3  Searches can't be performed on the new system.  It hasn't functioned properly since the change. ...   \n",
       "4                                                       LD400 is not reflecting a temporary adjustment   \n",
       "\n",
       "                 Product                               Product Area  \\\n",
       "0             Compliance                          Returns / Reports   \n",
       "1              Provision                                      State   \n",
       "2  Office - Excel Add-In                            Import / Export   \n",
       "3               Websites  Connections (https://connect.corptax.com)   \n",
       "4             Compliance                          Returns / Reports   \n",
       "\n",
       "  Product Category Product Type Jurisdiction  \\\n",
       "0              NaN          NaN        US.MI   \n",
       "1              NaN          NaN        US.OR   \n",
       "2              NaN          NaN           US   \n",
       "3    Error Message          NaN          NaN   \n",
       "4              NaN          NaN           US   \n",
       "\n",
       "                            Resolution             KB #  \\\n",
       "0                     Answer exists KB  041324813494120   \n",
       "1  Customer no longer needs assistance              NaN   \n",
       "2                     Answer exists KB  041414821333274   \n",
       "3                     Answer exists KB  161216104028927   \n",
       "4                     Answer exists KB  041622907012748   \n",
       "\n",
       "                                                                                              KB Title  \n",
       "0                                                           How to understand the Transmission Monitor  \n",
       "1                                                                                                  NaN  \n",
       "2  Corptax® Office - How to place an IF formula in the Advanced formula setting of the Data Templat...  \n",
       "3                              Connections Error - Uh Oh  something went wrong while loading this page  \n",
       "4  Adjustments do not flow to LD400 workpaper and Taxable income per the LD400 does not tie to the ...  "
      ]
     },
     "execution_count": 52,
     "metadata": {},
     "output_type": "execute_result"
    }
   ],
   "source": [
    "df_comp = df\n",
    "df_comp.head()"
   ]
  },
  {
   "cell_type": "code",
   "execution_count": 103,
   "id": "be249d30",
   "metadata": {},
   "outputs": [],
   "source": [
    "#dfc = df[df.Product == \"Compliance\"]\n",
    "# df_comp['Date Created'] = df_comp['Date Created'].dt.date\n",
    "# df_comp['Date Closed'] = df_comp['Date Closed'].dt.date\n",
    "df_comp['Date'] = pd.to_datetime(df_comp['Date Created'], errors='coerce')\n",
    "dfc = df_comp"
   ]
  },
  {
   "cell_type": "code",
   "execution_count": 104,
   "id": "725444d5",
   "metadata": {},
   "outputs": [
    {
     "data": {
      "text/html": [
       "<div>\n",
       "<style scoped>\n",
       "    .dataframe tbody tr th:only-of-type {\n",
       "        vertical-align: middle;\n",
       "    }\n",
       "\n",
       "    .dataframe tbody tr th {\n",
       "        vertical-align: top;\n",
       "    }\n",
       "\n",
       "    .dataframe thead th {\n",
       "        text-align: right;\n",
       "    }\n",
       "</style>\n",
       "<table border=\"1\" class=\"dataframe\">\n",
       "  <thead>\n",
       "    <tr style=\"text-align: right;\">\n",
       "      <th></th>\n",
       "      <th>Case Number</th>\n",
       "    </tr>\n",
       "    <tr>\n",
       "      <th>Date</th>\n",
       "      <th></th>\n",
       "    </tr>\n",
       "  </thead>\n",
       "  <tbody>\n",
       "    <tr>\n",
       "      <th>2017-01-31</th>\n",
       "      <td>2206.0</td>\n",
       "    </tr>\n",
       "    <tr>\n",
       "      <th>2017-02-28</th>\n",
       "      <td>2377.0</td>\n",
       "    </tr>\n",
       "    <tr>\n",
       "      <th>2017-03-31</th>\n",
       "      <td>3326.0</td>\n",
       "    </tr>\n",
       "    <tr>\n",
       "      <th>2017-04-30</th>\n",
       "      <td>2186.0</td>\n",
       "    </tr>\n",
       "    <tr>\n",
       "      <th>2017-05-31</th>\n",
       "      <td>2581.0</td>\n",
       "    </tr>\n",
       "    <tr>\n",
       "      <th>...</th>\n",
       "      <td>...</td>\n",
       "    </tr>\n",
       "    <tr>\n",
       "      <th>2022-04-30</th>\n",
       "      <td>1871.0</td>\n",
       "    </tr>\n",
       "    <tr>\n",
       "      <th>2022-05-31</th>\n",
       "      <td>1787.0</td>\n",
       "    </tr>\n",
       "    <tr>\n",
       "      <th>2022-06-30</th>\n",
       "      <td>2112.0</td>\n",
       "    </tr>\n",
       "    <tr>\n",
       "      <th>2022-07-31</th>\n",
       "      <td>1959.0</td>\n",
       "    </tr>\n",
       "    <tr>\n",
       "      <th>2022-08-31</th>\n",
       "      <td>1351.0</td>\n",
       "    </tr>\n",
       "  </tbody>\n",
       "</table>\n",
       "<p>68 rows × 1 columns</p>\n",
       "</div>"
      ],
      "text/plain": [
       "            Case Number\n",
       "Date                   \n",
       "2017-01-31       2206.0\n",
       "2017-02-28       2377.0\n",
       "2017-03-31       3326.0\n",
       "2017-04-30       2186.0\n",
       "2017-05-31       2581.0\n",
       "...                 ...\n",
       "2022-04-30       1871.0\n",
       "2022-05-31       1787.0\n",
       "2022-06-30       2112.0\n",
       "2022-07-31       1959.0\n",
       "2022-08-31       1351.0\n",
       "\n",
       "[68 rows x 1 columns]"
      ]
     },
     "execution_count": 104,
     "metadata": {},
     "output_type": "execute_result"
    }
   ],
   "source": [
    "# Adding a new column which will have the number of tickets per day\n",
    "newdf = dfc[[\"Date\",\"Case Number\"]]\n",
    "newdf.drop_duplicates(inplace=True)\n",
    "newdf['Date'] = pd.to_datetime(newdf['Date'])\n",
    "newdf = pd.DataFrame(newdf.groupby([newdf[\"Date\"].dt.date]).count()[\"Case Number\"])\n",
    "newdf = newdf.reset_index()\n",
    "newdf.index = newdf.Date\n",
    "newdf['Date'] = pd.to_datetime(newdf['Date'], errors='coerce')\n",
    "newdf = newdf.asfreq('D')\n",
    "newdf = newdf.groupby(pd.Grouper(freq=\"M\")).sum()\n",
    "newdf"
   ]
  },
  {
   "cell_type": "code",
   "execution_count": 105,
   "id": "97918871",
   "metadata": {},
   "outputs": [
    {
     "name": "stdout",
     "output_type": "stream",
     "text": [
      "<class 'pandas.core.frame.DataFrame'>\n",
      "DatetimeIndex: 68 entries, 2017-01-31 to 2022-08-31\n",
      "Freq: M\n",
      "Data columns (total 1 columns):\n",
      " #   Column       Non-Null Count  Dtype  \n",
      "---  ------       --------------  -----  \n",
      " 0   Case Number  68 non-null     float64\n",
      "dtypes: float64(1)\n",
      "memory usage: 1.1 KB\n"
     ]
    }
   ],
   "source": [
    "newdf.info()"
   ]
  },
  {
   "cell_type": "code",
   "execution_count": 117,
   "id": "d22618f8",
   "metadata": {},
   "outputs": [
    {
     "data": {
      "text/plain": [
       "Forecaster(\n",
       "    DateStartActuals=2017-01-31T00:00:00.000000000\n",
       "    DateEndActuals=2022-08-31T00:00:00.000000000\n",
       "    Freq=M\n",
       "    N_actuals=68\n",
       "    ForecastLength=12\n",
       "    Xvars=[]\n",
       "    Differenced=0\n",
       "    TestLength=13\n",
       "    ValidationLength=1\n",
       "    ValidationMetric=rmse\n",
       "    ForecastsEvaluated=[]\n",
       "    CILevel=0.95\n",
       "    BootstrapSamples=100\n",
       "    CurrentEstimator=arima\n",
       "    GridsFile=Grids\n",
       ")"
      ]
     },
     "execution_count": 117,
     "metadata": {},
     "output_type": "execute_result"
    }
   ],
   "source": [
    "f = Forecaster(y=newdf['Case Number'],current_dates=newdf.index)\n",
    "f.generate_future_dates(12)\n",
    "f.set_test_length(.2)\n",
    "f.set_estimator('arima')\n",
    "f"
   ]
  },
  {
   "cell_type": "code",
   "execution_count": 129,
   "id": "22b41e81",
   "metadata": {},
   "outputs": [
    {
     "name": "stdout",
     "output_type": "stream",
     "text": [
      "----------------------------------------------------------------------------------------------------\n",
      "Augmented Dickey-Fuller results:\n",
      "the test-stat value is: 0.83\n",
      "the p-value is 0.9922\n",
      "the series is not stationary\n",
      "----------------------------------------------------------------------------------------------------\n"
     ]
    }
   ],
   "source": [
    "critical_pval = 0.05\n",
    "print('-'*100)\n",
    "print('Augmented Dickey-Fuller results:')\n",
    "stat, pval, _, _, _, _ = f.adf_test(full_res=True)\n",
    "print('the test-stat value is: {:.2f}'.format(stat))\n",
    "print('the p-value is {:.4f}'.format(pval))\n",
    "print('the series is {}'.format('stationary' if pval < critical_pval else 'not stationary'))\n",
    "print('-'*100)"
   ]
  },
  {
   "cell_type": "markdown",
   "id": "5041e90c",
   "metadata": {},
   "source": [
    "# Auto-ARIMA Approach"
   ]
  },
  {
   "cell_type": "code",
   "execution_count": 118,
   "id": "4d640703",
   "metadata": {},
   "outputs": [
    {
     "name": "stdout",
     "output_type": "stream",
     "text": [
      "Performing stepwise search to minimize aic\n",
      " ARIMA(2,0,1)(1,0,1)[12] intercept   : AIC=inf, Time=0.19 sec\n",
      " ARIMA(0,0,0)(0,0,0)[12] intercept   : AIC=931.754, Time=0.00 sec\n",
      " ARIMA(1,0,0)(1,0,0)[12] intercept   : AIC=872.990, Time=0.12 sec\n",
      " ARIMA(0,0,1)(0,0,1)[12] intercept   : AIC=inf, Time=0.07 sec\n",
      " ARIMA(0,0,0)(0,0,0)[12]             : AIC=1042.747, Time=0.00 sec\n",
      " ARIMA(1,0,0)(0,0,0)[12] intercept   : AIC=917.428, Time=0.02 sec\n",
      " ARIMA(1,0,0)(2,0,0)[12] intercept   : AIC=892.465, Time=0.12 sec\n",
      " ARIMA(1,0,0)(1,0,1)[12] intercept   : AIC=884.618, Time=0.12 sec\n",
      " ARIMA(1,0,0)(0,0,1)[12] intercept   : AIC=inf, Time=0.08 sec\n",
      " ARIMA(1,0,0)(2,0,1)[12] intercept   : AIC=inf, Time=0.28 sec\n",
      " ARIMA(0,0,0)(1,0,0)[12] intercept   : AIC=930.520, Time=0.02 sec\n",
      " ARIMA(2,0,0)(1,0,0)[12] intercept   : AIC=902.726, Time=0.06 sec\n",
      " ARIMA(1,0,1)(1,0,0)[12] intercept   : AIC=880.677, Time=0.17 sec\n",
      " ARIMA(0,0,1)(1,0,0)[12] intercept   : AIC=871.423, Time=0.10 sec\n",
      " ARIMA(0,0,1)(0,0,0)[12] intercept   : AIC=912.549, Time=0.04 sec\n",
      " ARIMA(0,0,1)(2,0,0)[12] intercept   : AIC=874.136, Time=0.21 sec\n",
      " ARIMA(0,0,1)(1,0,1)[12] intercept   : AIC=inf, Time=0.13 sec\n",
      " ARIMA(0,0,1)(2,0,1)[12] intercept   : AIC=inf, Time=0.25 sec\n",
      " ARIMA(0,0,2)(1,0,0)[12] intercept   : AIC=907.213, Time=0.14 sec\n",
      " ARIMA(1,0,2)(1,0,0)[12] intercept   : AIC=inf, Time=0.16 sec\n",
      " ARIMA(0,0,1)(1,0,0)[12]             : AIC=893.822, Time=0.08 sec\n",
      "\n",
      "Best model:  ARIMA(0,0,1)(1,0,0)[12] intercept\n",
      "Total fit time: 2.391 seconds\n"
     ]
    }
   ],
   "source": [
    "auto_arima(\n",
    "    f,\n",
    "    start_P=1,\n",
    "    start_q=1,\n",
    "    max_p=10,\n",
    "    max_q=10,\n",
    "    m=12,\n",
    "    seasonal=True,\n",
    "    max_P=10, \n",
    "    max_D=10,\n",
    "    max_Q=10,\n",
    "    max_d=10,\n",
    "    trace=True,\n",
    "    error_action='ignore',\n",
    "    suppress_warnings=True,\n",
    "    stepwise=True,\n",
    "    information_criterion=\"aic\",\n",
    "    alpha=0.05,\n",
    "    scoring='mse',\n",
    "    call_me='auto_arima',\n",
    ")"
   ]
  },
  {
   "cell_type": "code",
   "execution_count": 119,
   "id": "fcf69077",
   "metadata": {},
   "outputs": [
    {
     "data": {
      "image/png": "[encoded data removed]",
      "text/plain": [
       "<Figure size 1008x504 with 1 Axes>"
      ]
     },
     "metadata": {},
     "output_type": "display_data"
    }
   ],
   "source": [
    "f.plot_test_set(ci=False,models='auto_arima')\n",
    "plt.title('ARIMA Test-Set Performance',size=14)\n",
    "plt.show()"
   ]
  },
  {
   "cell_type": "code",
   "execution_count": 130,
   "id": "7c3a10b3",
   "metadata": {},
   "outputs": [
    {
     "data": {
      "image/png": "[encoded data removed]",
      "text/plain": [
       "<Figure size 1008x504 with 1 Axes>"
      ]
     },
     "metadata": {},
     "output_type": "display_data"
    },
    {
     "data": {
      "image/png": "[encoded data removed]",
      "text/plain": [
       "<Figure size 1008x504 with 1 Axes>"
      ]
     },
     "metadata": {},
     "output_type": "display_data"
    }
   ],
   "source": [
    "f.plot_fitted()\n",
    "f.plot(ci=False,models='auto_arima')\n",
    "plt.title('ARIMA Forecast Performance',size=14)\n",
    "plt.show()"
   ]
  },
  {
   "cell_type": "code",
   "execution_count": 131,
   "id": "0ed016b4",
   "metadata": {},
   "outputs": [
    {
     "data": {
      "text/plain": [
       "607.4379740813164"
      ]
     },
     "execution_count": 131,
     "metadata": {},
     "output_type": "execute_result"
    }
   ],
   "source": [
    "result_train = f.export_fitted_vals(model = \"auto_arima\")\n",
    "from sklearn.metrics import mean_squared_error\n",
    "from math import sqrt\n",
    "\n",
    "rms = sqrt(mean_squared_error(result_train[\"Actuals\"], result_train[\"FittedVals\"]))\n",
    "rms"
   ]
  },
  {
   "cell_type": "code",
   "execution_count": 132,
   "id": "ea7d3614",
   "metadata": {},
   "outputs": [
    {
     "data": {
      "text/html": [
       "<div>\n",
       "<style scoped>\n",
       "    .dataframe tbody tr th:only-of-type {\n",
       "        vertical-align: middle;\n",
       "    }\n",
       "\n",
       "    .dataframe tbody tr th {\n",
       "        vertical-align: top;\n",
       "    }\n",
       "\n",
       "    .dataframe thead th {\n",
       "        text-align: right;\n",
       "    }\n",
       "</style>\n",
       "<table border=\"1\" class=\"dataframe\">\n",
       "  <thead>\n",
       "    <tr style=\"text-align: right;\">\n",
       "      <th></th>\n",
       "      <th>ModelNickname</th>\n",
       "      <th>Estimator</th>\n",
       "      <th>Xvars</th>\n",
       "      <th>HyperParams</th>\n",
       "      <th>Scaler</th>\n",
       "      <th>Observations</th>\n",
       "      <th>Tuned</th>\n",
       "      <th>CrossValidated</th>\n",
       "      <th>DynamicallyTested</th>\n",
       "      <th>Integration</th>\n",
       "      <th>TestSetLength</th>\n",
       "      <th>TestSetRMSE</th>\n",
       "      <th>TestSetMAPE</th>\n",
       "      <th>TestSetMAE</th>\n",
       "      <th>TestSetR2</th>\n",
       "      <th>LastTestSetPrediction</th>\n",
       "      <th>LastTestSetActual</th>\n",
       "      <th>CILevel</th>\n",
       "      <th>CIPlusMinus</th>\n",
       "      <th>InSampleRMSE</th>\n",
       "      <th>InSampleMAPE</th>\n",
       "      <th>InSampleMAE</th>\n",
       "      <th>InSampleR2</th>\n",
       "      <th>ValidationSetLength</th>\n",
       "      <th>ValidationMetric</th>\n",
       "      <th>ValidationMetricValue</th>\n",
       "      <th>models</th>\n",
       "      <th>weights</th>\n",
       "      <th>LevelTestSetRMSE</th>\n",
       "      <th>LevelTestSetMAPE</th>\n",
       "      <th>LevelTestSetMAE</th>\n",
       "      <th>LevelTestSetR2</th>\n",
       "      <th>LevelInSampleRMSE</th>\n",
       "      <th>LevelInSampleMAPE</th>\n",
       "      <th>LevelInSampleMAE</th>\n",
       "      <th>LevelInSampleR2</th>\n",
       "      <th>best_model</th>\n",
       "    </tr>\n",
       "  </thead>\n",
       "  <tbody>\n",
       "    <tr>\n",
       "      <th>0</th>\n",
       "      <td>auto_arima</td>\n",
       "      <td>arima</td>\n",
       "      <td>None</td>\n",
       "      <td>{'order': (0, 0, 1), 'seasonal_order': (1, 0, 0, 12), 'trend': None}</td>\n",
       "      <td>None</td>\n",
       "      <td>68</td>\n",
       "      <td>False</td>\n",
       "      <td>False</td>\n",
       "      <td>True</td>\n",
       "      <td>0</td>\n",
       "      <td>13</td>\n",
       "      <td>641.487004</td>\n",
       "      <td>0.283972</td>\n",
       "      <td>511.514193</td>\n",
       "      <td>0.382133</td>\n",
       "      <td>3115.474364</td>\n",
       "      <td>1351.0</td>\n",
       "      <td>0.95</td>\n",
       "      <td>1184.280611</td>\n",
       "      <td>607.437974</td>\n",
       "      <td>0.15467</td>\n",
       "      <td>414.556769</td>\n",
       "      <td>0.690643</td>\n",
       "      <td>None</td>\n",
       "      <td>None</td>\n",
       "      <td>None</td>\n",
       "      <td>None</td>\n",
       "      <td>None</td>\n",
       "      <td>641.487004</td>\n",
       "      <td>0.283972</td>\n",
       "      <td>511.514193</td>\n",
       "      <td>0.382133</td>\n",
       "      <td>607.437974</td>\n",
       "      <td>0.15467</td>\n",
       "      <td>414.556769</td>\n",
       "      <td>0.690643</td>\n",
       "      <td>True</td>\n",
       "    </tr>\n",
       "  </tbody>\n",
       "</table>\n",
       "</div>"
      ],
      "text/plain": [
       "  ModelNickname Estimator Xvars  \\\n",
       "0    auto_arima     arima  None   \n",
       "\n",
       "                                                            HyperParams  \\\n",
       "0  {'order': (0, 0, 1), 'seasonal_order': (1, 0, 0, 12), 'trend': None}   \n",
       "\n",
       "  Scaler  Observations  Tuned  CrossValidated  DynamicallyTested  Integration  \\\n",
       "0   None            68  False           False               True            0   \n",
       "\n",
       "   TestSetLength  TestSetRMSE  TestSetMAPE  TestSetMAE  TestSetR2  \\\n",
       "0             13   641.487004     0.283972  511.514193   0.382133   \n",
       "\n",
       "   LastTestSetPrediction  LastTestSetActual  CILevel  CIPlusMinus  \\\n",
       "0            3115.474364             1351.0     0.95  1184.280611   \n",
       "\n",
       "   InSampleRMSE  InSampleMAPE  InSampleMAE  InSampleR2 ValidationSetLength  \\\n",
       "0    607.437974       0.15467   414.556769    0.690643                None   \n",
       "\n",
       "  ValidationMetric ValidationMetricValue models weights  LevelTestSetRMSE  \\\n",
       "0             None                  None   None    None        641.487004   \n",
       "\n",
       "   LevelTestSetMAPE  LevelTestSetMAE  LevelTestSetR2  LevelInSampleRMSE  \\\n",
       "0          0.283972       511.514193        0.382133         607.437974   \n",
       "\n",
       "   LevelInSampleMAPE  LevelInSampleMAE  LevelInSampleR2  best_model  \n",
       "0            0.15467        414.556769         0.690643        True  "
      ]
     },
     "execution_count": 132,
     "metadata": {},
     "output_type": "execute_result"
    }
   ],
   "source": [
    "pd.options.display.max_colwidth = 100\n",
    "# results = f.export(to_excel=True,\n",
    "#                    excel_name='arima_results.xlsx',\n",
    "#                    determine_best_by='TestSetMAPE')\n",
    "results = f.export(to_excel=True,\n",
    "                   excel_name='arima_results.xlsx')\n",
    "pd.set_option('display.max_columns', None)\n",
    "results[\"model_summaries\"]"
   ]
  },
  {
   "cell_type": "code",
   "execution_count": 125,
   "id": "2960bd4a",
   "metadata": {},
   "outputs": [
    {
     "data": {
      "text/plain": [
       "dict_keys(['model_summaries', 'best_fcst', 'all_fcsts', 'test_set_predictions', 'lvl_fcsts', 'lvl_test_set_predictions'])"
      ]
     },
     "execution_count": 125,
     "metadata": {},
     "output_type": "execute_result"
    }
   ],
   "source": [
    "results.keys()"
   ]
  },
  {
   "cell_type": "code",
   "execution_count": 126,
   "id": "c5be1ebe",
   "metadata": {},
   "outputs": [
    {
     "data": {
      "text/plain": [
       "Case Number    1100.244043\n",
       "dtype: float64"
      ]
     },
     "execution_count": 126,
     "metadata": {},
     "output_type": "execute_result"
    }
   ],
   "source": [
    "newdf.std()"
   ]
  },
  {
   "cell_type": "code",
   "execution_count": 128,
   "id": "1a7c4b0e",
   "metadata": {},
   "outputs": [
    {
     "data": {
      "text/html": [
       "<div>\n",
       "<style scoped>\n",
       "    .dataframe tbody tr th:only-of-type {\n",
       "        vertical-align: middle;\n",
       "    }\n",
       "\n",
       "    .dataframe tbody tr th {\n",
       "        vertical-align: top;\n",
       "    }\n",
       "\n",
       "    .dataframe thead th {\n",
       "        text-align: right;\n",
       "    }\n",
       "</style>\n",
       "<table border=\"1\" class=\"dataframe\">\n",
       "  <thead>\n",
       "    <tr style=\"text-align: right;\">\n",
       "      <th></th>\n",
       "      <th>ModelNickname</th>\n",
       "      <th>Estimator</th>\n",
       "      <th>Xvars</th>\n",
       "      <th>HyperParams</th>\n",
       "      <th>Scaler</th>\n",
       "      <th>Observations</th>\n",
       "      <th>Tuned</th>\n",
       "      <th>CrossValidated</th>\n",
       "      <th>DynamicallyTested</th>\n",
       "      <th>Integration</th>\n",
       "      <th>TestSetLength</th>\n",
       "      <th>TestSetRMSE</th>\n",
       "      <th>TestSetMAPE</th>\n",
       "      <th>TestSetMAE</th>\n",
       "      <th>TestSetR2</th>\n",
       "      <th>LastTestSetPrediction</th>\n",
       "      <th>LastTestSetActual</th>\n",
       "      <th>CILevel</th>\n",
       "      <th>CIPlusMinus</th>\n",
       "      <th>InSampleRMSE</th>\n",
       "      <th>InSampleMAPE</th>\n",
       "      <th>InSampleMAE</th>\n",
       "      <th>InSampleR2</th>\n",
       "      <th>ValidationSetLength</th>\n",
       "      <th>ValidationMetric</th>\n",
       "      <th>ValidationMetricValue</th>\n",
       "      <th>models</th>\n",
       "      <th>weights</th>\n",
       "      <th>LevelTestSetRMSE</th>\n",
       "      <th>LevelTestSetMAPE</th>\n",
       "      <th>LevelTestSetMAE</th>\n",
       "      <th>LevelTestSetR2</th>\n",
       "      <th>LevelInSampleRMSE</th>\n",
       "      <th>LevelInSampleMAPE</th>\n",
       "      <th>LevelInSampleMAE</th>\n",
       "      <th>LevelInSampleR2</th>\n",
       "      <th>best_model</th>\n",
       "    </tr>\n",
       "  </thead>\n",
       "  <tbody>\n",
       "    <tr>\n",
       "      <th>0</th>\n",
       "      <td>auto_arima</td>\n",
       "      <td>arima</td>\n",
       "      <td>None</td>\n",
       "      <td>{'order': (0, 0, 1), 'seasonal_order': (1, 0, 0, 12), 'trend': None}</td>\n",
       "      <td>None</td>\n",
       "      <td>68</td>\n",
       "      <td>False</td>\n",
       "      <td>False</td>\n",
       "      <td>True</td>\n",
       "      <td>0</td>\n",
       "      <td>13</td>\n",
       "      <td>641.487004</td>\n",
       "      <td>0.283972</td>\n",
       "      <td>511.514193</td>\n",
       "      <td>0.382133</td>\n",
       "      <td>3115.474364</td>\n",
       "      <td>1351.0</td>\n",
       "      <td>0.95</td>\n",
       "      <td>1184.280611</td>\n",
       "      <td>607.437974</td>\n",
       "      <td>0.15467</td>\n",
       "      <td>414.556769</td>\n",
       "      <td>0.690643</td>\n",
       "      <td>None</td>\n",
       "      <td>None</td>\n",
       "      <td>None</td>\n",
       "      <td>None</td>\n",
       "      <td>None</td>\n",
       "      <td>641.487004</td>\n",
       "      <td>0.283972</td>\n",
       "      <td>511.514193</td>\n",
       "      <td>0.382133</td>\n",
       "      <td>607.437974</td>\n",
       "      <td>0.15467</td>\n",
       "      <td>414.556769</td>\n",
       "      <td>0.690643</td>\n",
       "      <td>True</td>\n",
       "    </tr>\n",
       "  </tbody>\n",
       "</table>\n",
       "</div>"
      ],
      "text/plain": [
       "  ModelNickname Estimator Xvars  \\\n",
       "0    auto_arima     arima  None   \n",
       "\n",
       "                                                            HyperParams  \\\n",
       "0  {'order': (0, 0, 1), 'seasonal_order': (1, 0, 0, 12), 'trend': None}   \n",
       "\n",
       "  Scaler  Observations  Tuned  CrossValidated  DynamicallyTested  Integration  \\\n",
       "0   None            68  False           False               True            0   \n",
       "\n",
       "   TestSetLength  TestSetRMSE  TestSetMAPE  TestSetMAE  TestSetR2  \\\n",
       "0             13   641.487004     0.283972  511.514193   0.382133   \n",
       "\n",
       "   LastTestSetPrediction  LastTestSetActual  CILevel  CIPlusMinus  \\\n",
       "0            3115.474364             1351.0     0.95  1184.280611   \n",
       "\n",
       "   InSampleRMSE  InSampleMAPE  InSampleMAE  InSampleR2 ValidationSetLength  \\\n",
       "0    607.437974       0.15467   414.556769    0.690643                None   \n",
       "\n",
       "  ValidationMetric ValidationMetricValue models weights  LevelTestSetRMSE  \\\n",
       "0             None                  None   None    None        641.487004   \n",
       "\n",
       "   LevelTestSetMAPE  LevelTestSetMAE  LevelTestSetR2  LevelInSampleRMSE  \\\n",
       "0          0.283972       511.514193        0.382133         607.437974   \n",
       "\n",
       "   LevelInSampleMAPE  LevelInSampleMAE  LevelInSampleR2  best_model  \n",
       "0            0.15467        414.556769         0.690643        True  "
      ]
     },
     "execution_count": 128,
     "metadata": {},
     "output_type": "execute_result"
    }
   ],
   "source": []
  },
  {
   "cell_type": "code",
   "execution_count": null,
   "id": "aeb13c43",
   "metadata": {},
   "outputs": [],
   "source": [
    "# Test RMSE: 641.48\n",
    "# Mean: 2782.17\n",
    "# Std: 1100.24"
   ]
  },
  {
   "cell_type": "code",
   "execution_count": 116,
   "id": "7f8be642",
   "metadata": {},
   "outputs": [
    {
     "data": {
      "text/html": [
       "<div>\n",
       "<style scoped>\n",
       "    .dataframe tbody tr th:only-of-type {\n",
       "        vertical-align: middle;\n",
       "    }\n",
       "\n",
       "    .dataframe tbody tr th {\n",
       "        vertical-align: top;\n",
       "    }\n",
       "\n",
       "    .dataframe thead th {\n",
       "        text-align: right;\n",
       "    }\n",
       "</style>\n",
       "<table border=\"1\" class=\"dataframe\">\n",
       "  <thead>\n",
       "    <tr style=\"text-align: right;\">\n",
       "      <th></th>\n",
       "      <th>DATE</th>\n",
       "      <th>auto_arima</th>\n",
       "    </tr>\n",
       "  </thead>\n",
       "  <tbody>\n",
       "    <tr>\n",
       "      <th>0</th>\n",
       "      <td>2022-09-30</td>\n",
       "      <td>2671.179224</td>\n",
       "    </tr>\n",
       "    <tr>\n",
       "      <th>1</th>\n",
       "      <td>2022-10-31</td>\n",
       "      <td>3649.627212</td>\n",
       "    </tr>\n",
       "    <tr>\n",
       "      <th>2</th>\n",
       "      <td>2022-11-30</td>\n",
       "      <td>2275.746155</td>\n",
       "    </tr>\n",
       "    <tr>\n",
       "      <th>3</th>\n",
       "      <td>2022-12-31</td>\n",
       "      <td>1768.700549</td>\n",
       "    </tr>\n",
       "    <tr>\n",
       "      <th>4</th>\n",
       "      <td>2023-01-31</td>\n",
       "      <td>2022.223352</td>\n",
       "    </tr>\n",
       "    <tr>\n",
       "      <th>5</th>\n",
       "      <td>2023-02-28</td>\n",
       "      <td>1976.680334</td>\n",
       "    </tr>\n",
       "    <tr>\n",
       "      <th>6</th>\n",
       "      <td>2023-03-31</td>\n",
       "      <td>2273.469004</td>\n",
       "    </tr>\n",
       "    <tr>\n",
       "      <th>7</th>\n",
       "      <td>2023-04-30</td>\n",
       "      <td>2051.826314</td>\n",
       "    </tr>\n",
       "    <tr>\n",
       "      <th>8</th>\n",
       "      <td>2023-05-31</td>\n",
       "      <td>1988.066088</td>\n",
       "    </tr>\n",
       "    <tr>\n",
       "      <th>9</th>\n",
       "      <td>2023-06-30</td>\n",
       "      <td>2234.757438</td>\n",
       "    </tr>\n",
       "    <tr>\n",
       "      <th>10</th>\n",
       "      <td>2023-07-31</td>\n",
       "      <td>2118.622741</td>\n",
       "    </tr>\n",
       "    <tr>\n",
       "      <th>11</th>\n",
       "      <td>2023-08-31</td>\n",
       "      <td>1657.120154</td>\n",
       "    </tr>\n",
       "  </tbody>\n",
       "</table>\n",
       "</div>"
      ],
      "text/plain": [
       "         DATE   auto_arima\n",
       "0  2022-09-30  2671.179224\n",
       "1  2022-10-31  3649.627212\n",
       "2  2022-11-30  2275.746155\n",
       "3  2022-12-31  1768.700549\n",
       "4  2023-01-31  2022.223352\n",
       "5  2023-02-28  1976.680334\n",
       "6  2023-03-31  2273.469004\n",
       "7  2023-04-30  2051.826314\n",
       "8  2023-05-31  1988.066088\n",
       "9  2023-06-30  2234.757438\n",
       "10 2023-07-31  2118.622741\n",
       "11 2023-08-31  1657.120154"
      ]
     },
     "execution_count": 116,
     "metadata": {},
     "output_type": "execute_result"
    }
   ],
   "source": [
    "results[\"lvl_fcsts\"]"
   ]
  },
  {
   "cell_type": "code",
   "execution_count": null,
   "id": "541ad6c0",
   "metadata": {},
   "outputs": [],
   "source": []
  },
  {
   "cell_type": "code",
   "execution_count": null,
   "id": "1aad0f52",
   "metadata": {},
   "outputs": [],
   "source": []
  },
  {
   "cell_type": "code",
   "execution_count": null,
   "id": "d79ef8a0",
   "metadata": {},
   "outputs": [],
   "source": []
  },
  {
   "cell_type": "markdown",
   "id": "6a64a88b",
   "metadata": {},
   "source": [
    "# ########"
   ]
  },
  {
   "cell_type": "code",
   "execution_count": 45,
   "id": "045296d4",
   "metadata": {},
   "outputs": [],
   "source": [
    "d1 = results[\"test_set_predictions\"][[\"DATE\",\"arima3\"]]\n",
    "d2 = results[\"all_fcsts\"][[\"DATE\",\"arima3\"]]"
   ]
  },
  {
   "cell_type": "code",
   "execution_count": 60,
   "id": "8c60b152",
   "metadata": {},
   "outputs": [
    {
     "data": {
      "text/html": [
       "<div>\n",
       "<style scoped>\n",
       "    .dataframe tbody tr th:only-of-type {\n",
       "        vertical-align: middle;\n",
       "    }\n",
       "\n",
       "    .dataframe tbody tr th {\n",
       "        vertical-align: top;\n",
       "    }\n",
       "\n",
       "    .dataframe thead th {\n",
       "        text-align: right;\n",
       "    }\n",
       "</style>\n",
       "<table border=\"1\" class=\"dataframe\">\n",
       "  <thead>\n",
       "    <tr style=\"text-align: right;\">\n",
       "      <th></th>\n",
       "      <th>DATE</th>\n",
       "      <th>arima3</th>\n",
       "    </tr>\n",
       "  </thead>\n",
       "  <tbody>\n",
       "    <tr>\n",
       "      <th>55</th>\n",
       "      <td>2021-08-31</td>\n",
       "      <td>3183.451538</td>\n",
       "    </tr>\n",
       "    <tr>\n",
       "      <th>56</th>\n",
       "      <td>2021-09-30</td>\n",
       "      <td>4228.332149</td>\n",
       "    </tr>\n",
       "    <tr>\n",
       "      <th>57</th>\n",
       "      <td>2021-10-31</td>\n",
       "      <td>4316.476384</td>\n",
       "    </tr>\n",
       "    <tr>\n",
       "      <th>58</th>\n",
       "      <td>2021-11-30</td>\n",
       "      <td>2672.130491</td>\n",
       "    </tr>\n",
       "    <tr>\n",
       "      <th>59</th>\n",
       "      <td>2021-12-31</td>\n",
       "      <td>1919.105177</td>\n",
       "    </tr>\n",
       "    <tr>\n",
       "      <th>60</th>\n",
       "      <td>2022-01-31</td>\n",
       "      <td>2182.018152</td>\n",
       "    </tr>\n",
       "    <tr>\n",
       "      <th>61</th>\n",
       "      <td>2022-02-28</td>\n",
       "      <td>2111.350792</td>\n",
       "    </tr>\n",
       "    <tr>\n",
       "      <th>62</th>\n",
       "      <td>2022-03-31</td>\n",
       "      <td>2457.848817</td>\n",
       "    </tr>\n",
       "    <tr>\n",
       "      <th>63</th>\n",
       "      <td>2022-04-30</td>\n",
       "      <td>2324.872601</td>\n",
       "    </tr>\n",
       "    <tr>\n",
       "      <th>64</th>\n",
       "      <td>2022-05-31</td>\n",
       "      <td>2471.526371</td>\n",
       "    </tr>\n",
       "    <tr>\n",
       "      <th>65</th>\n",
       "      <td>2022-06-30</td>\n",
       "      <td>2680.488996</td>\n",
       "    </tr>\n",
       "    <tr>\n",
       "      <th>66</th>\n",
       "      <td>2022-07-31</td>\n",
       "      <td>2458.608681</td>\n",
       "    </tr>\n",
       "    <tr>\n",
       "      <th>67</th>\n",
       "      <td>2022-08-31</td>\n",
       "      <td>3115.474364</td>\n",
       "    </tr>\n",
       "    <tr>\n",
       "      <th>0</th>\n",
       "      <td>2022-09-30</td>\n",
       "      <td>2671.179224</td>\n",
       "    </tr>\n",
       "    <tr>\n",
       "      <th>1</th>\n",
       "      <td>2022-10-31</td>\n",
       "      <td>3649.627212</td>\n",
       "    </tr>\n",
       "    <tr>\n",
       "      <th>2</th>\n",
       "      <td>2022-11-30</td>\n",
       "      <td>2275.746155</td>\n",
       "    </tr>\n",
       "    <tr>\n",
       "      <th>3</th>\n",
       "      <td>2022-12-31</td>\n",
       "      <td>1768.700549</td>\n",
       "    </tr>\n",
       "    <tr>\n",
       "      <th>4</th>\n",
       "      <td>2023-01-31</td>\n",
       "      <td>2022.223352</td>\n",
       "    </tr>\n",
       "    <tr>\n",
       "      <th>5</th>\n",
       "      <td>2023-02-28</td>\n",
       "      <td>1976.680334</td>\n",
       "    </tr>\n",
       "    <tr>\n",
       "      <th>6</th>\n",
       "      <td>2023-03-31</td>\n",
       "      <td>2273.469004</td>\n",
       "    </tr>\n",
       "    <tr>\n",
       "      <th>7</th>\n",
       "      <td>2023-04-30</td>\n",
       "      <td>2051.826314</td>\n",
       "    </tr>\n",
       "    <tr>\n",
       "      <th>8</th>\n",
       "      <td>2023-05-31</td>\n",
       "      <td>1988.066088</td>\n",
       "    </tr>\n",
       "    <tr>\n",
       "      <th>9</th>\n",
       "      <td>2023-06-30</td>\n",
       "      <td>2234.757438</td>\n",
       "    </tr>\n",
       "    <tr>\n",
       "      <th>10</th>\n",
       "      <td>2023-07-31</td>\n",
       "      <td>2118.622741</td>\n",
       "    </tr>\n",
       "    <tr>\n",
       "      <th>11</th>\n",
       "      <td>2023-08-31</td>\n",
       "      <td>1657.120154</td>\n",
       "    </tr>\n",
       "  </tbody>\n",
       "</table>\n",
       "</div>"
      ],
      "text/plain": [
       "         DATE       arima3\n",
       "55 2021-08-31  3183.451538\n",
       "56 2021-09-30  4228.332149\n",
       "57 2021-10-31  4316.476384\n",
       "58 2021-11-30  2672.130491\n",
       "59 2021-12-31  1919.105177\n",
       "60 2022-01-31  2182.018152\n",
       "61 2022-02-28  2111.350792\n",
       "62 2022-03-31  2457.848817\n",
       "63 2022-04-30  2324.872601\n",
       "64 2022-05-31  2471.526371\n",
       "65 2022-06-30  2680.488996\n",
       "66 2022-07-31  2458.608681\n",
       "67 2022-08-31  3115.474364\n",
       "0  2022-09-30  2671.179224\n",
       "1  2022-10-31  3649.627212\n",
       "2  2022-11-30  2275.746155\n",
       "3  2022-12-31  1768.700549\n",
       "4  2023-01-31  2022.223352\n",
       "5  2023-02-28  1976.680334\n",
       "6  2023-03-31  2273.469004\n",
       "7  2023-04-30  2051.826314\n",
       "8  2023-05-31  1988.066088\n",
       "9  2023-06-30  2234.757438\n",
       "10 2023-07-31  2118.622741\n",
       "11 2023-08-31  1657.120154"
      ]
     },
     "execution_count": 60,
     "metadata": {},
     "output_type": "execute_result"
    }
   ],
   "source": [
    "d_pred = pd.concat([d1,d2],axis=0)\n",
    "d_pred"
   ]
  },
  {
   "cell_type": "code",
   "execution_count": 61,
   "id": "e7efe92c",
   "metadata": {},
   "outputs": [],
   "source": [
    "d_pred.to_csv(\"file.csv\",index=False)"
   ]
  },
  {
   "cell_type": "code",
   "execution_count": 62,
   "id": "cbe2adb5",
   "metadata": {},
   "outputs": [],
   "source": [
    "newdf.reset_index().to_csv(\"file2.csv\",index=False)"
   ]
  },
  {
   "cell_type": "code",
   "execution_count": 56,
   "id": "f721e88b",
   "metadata": {},
   "outputs": [],
   "source": [
    "origin_df[\"arima3\"] = np.NAN"
   ]
  },
  {
   "cell_type": "code",
   "execution_count": 57,
   "id": "24bf12c1",
   "metadata": {},
   "outputs": [
    {
     "data": {
      "text/html": [
       "<div>\n",
       "<style scoped>\n",
       "    .dataframe tbody tr th:only-of-type {\n",
       "        vertical-align: middle;\n",
       "    }\n",
       "\n",
       "    .dataframe tbody tr th {\n",
       "        vertical-align: top;\n",
       "    }\n",
       "\n",
       "    .dataframe thead th {\n",
       "        text-align: right;\n",
       "    }\n",
       "</style>\n",
       "<table border=\"1\" class=\"dataframe\">\n",
       "  <thead>\n",
       "    <tr style=\"text-align: right;\">\n",
       "      <th></th>\n",
       "      <th>Date</th>\n",
       "      <th>Case Number</th>\n",
       "      <th>arima3</th>\n",
       "    </tr>\n",
       "  </thead>\n",
       "  <tbody>\n",
       "    <tr>\n",
       "      <th>0</th>\n",
       "      <td>2017-01-31</td>\n",
       "      <td>2206.0</td>\n",
       "      <td>NaN</td>\n",
       "    </tr>\n",
       "    <tr>\n",
       "      <th>1</th>\n",
       "      <td>2017-02-28</td>\n",
       "      <td>2377.0</td>\n",
       "      <td>NaN</td>\n",
       "    </tr>\n",
       "    <tr>\n",
       "      <th>2</th>\n",
       "      <td>2017-03-31</td>\n",
       "      <td>3326.0</td>\n",
       "      <td>NaN</td>\n",
       "    </tr>\n",
       "    <tr>\n",
       "      <th>3</th>\n",
       "      <td>2017-04-30</td>\n",
       "      <td>2186.0</td>\n",
       "      <td>NaN</td>\n",
       "    </tr>\n",
       "    <tr>\n",
       "      <th>4</th>\n",
       "      <td>2017-05-31</td>\n",
       "      <td>2581.0</td>\n",
       "      <td>NaN</td>\n",
       "    </tr>\n",
       "    <tr>\n",
       "      <th>...</th>\n",
       "      <td>...</td>\n",
       "      <td>...</td>\n",
       "      <td>...</td>\n",
       "    </tr>\n",
       "    <tr>\n",
       "      <th>63</th>\n",
       "      <td>2022-04-30</td>\n",
       "      <td>1871.0</td>\n",
       "      <td>NaN</td>\n",
       "    </tr>\n",
       "    <tr>\n",
       "      <th>64</th>\n",
       "      <td>2022-05-31</td>\n",
       "      <td>1787.0</td>\n",
       "      <td>NaN</td>\n",
       "    </tr>\n",
       "    <tr>\n",
       "      <th>65</th>\n",
       "      <td>2022-06-30</td>\n",
       "      <td>2112.0</td>\n",
       "      <td>NaN</td>\n",
       "    </tr>\n",
       "    <tr>\n",
       "      <th>66</th>\n",
       "      <td>2022-07-31</td>\n",
       "      <td>1959.0</td>\n",
       "      <td>NaN</td>\n",
       "    </tr>\n",
       "    <tr>\n",
       "      <th>67</th>\n",
       "      <td>2022-08-31</td>\n",
       "      <td>1351.0</td>\n",
       "      <td>NaN</td>\n",
       "    </tr>\n",
       "  </tbody>\n",
       "</table>\n",
       "<p>68 rows × 3 columns</p>\n",
       "</div>"
      ],
      "text/plain": [
       "         Date  Case Number  arima3\n",
       "0  2017-01-31       2206.0     NaN\n",
       "1  2017-02-28       2377.0     NaN\n",
       "2  2017-03-31       3326.0     NaN\n",
       "3  2017-04-30       2186.0     NaN\n",
       "4  2017-05-31       2581.0     NaN\n",
       "..        ...          ...     ...\n",
       "63 2022-04-30       1871.0     NaN\n",
       "64 2022-05-31       1787.0     NaN\n",
       "65 2022-06-30       2112.0     NaN\n",
       "66 2022-07-31       1959.0     NaN\n",
       "67 2022-08-31       1351.0     NaN\n",
       "\n",
       "[68 rows x 3 columns]"
      ]
     },
     "execution_count": 57,
     "metadata": {},
     "output_type": "execute_result"
    }
   ],
   "source": [
    "origin_df"
   ]
  },
  {
   "cell_type": "code",
   "execution_count": 58,
   "id": "fde8b247",
   "metadata": {},
   "outputs": [
    {
     "ename": "ValueError",
     "evalue": "Merge keys contain null values on left side",
     "output_type": "error",
     "traceback": [
      "\u001b[1;31m---------------------------------------------------------------------------\u001b[0m",
      "\u001b[1;31mValueError\u001b[0m                                Traceback (most recent call last)",
      "\u001b[1;32mC:\\Users\\SHUBEN~1.BIS\\AppData\\Local\\Temp/ipykernel_17904/1915045894.py\u001b[0m in \u001b[0;36m<module>\u001b[1;34m\u001b[0m\n\u001b[1;32m----> 1\u001b[1;33m \u001b[0mpd\u001b[0m\u001b[1;33m.\u001b[0m\u001b[0mmerge_asof\u001b[0m\u001b[1;33m(\u001b[0m\u001b[0morigin_df\u001b[0m\u001b[1;33m,\u001b[0m\u001b[0md_pred\u001b[0m\u001b[1;33m)\u001b[0m\u001b[1;33m\u001b[0m\u001b[1;33m\u001b[0m\u001b[0m\n\u001b[0m",
      "\u001b[1;32m~\\Anaconda3\\lib\\site-packages\\pandas\\core\\reshape\\merge.py\u001b[0m in \u001b[0;36mmerge_asof\u001b[1;34m(left, right, on, left_on, right_on, left_index, right_index, by, left_by, right_by, suffixes, tolerance, allow_exact_matches, direction)\u001b[0m\n\u001b[0;32m    595\u001b[0m         \u001b[0mdirection\u001b[0m\u001b[1;33m=\u001b[0m\u001b[0mdirection\u001b[0m\u001b[1;33m,\u001b[0m\u001b[1;33m\u001b[0m\u001b[1;33m\u001b[0m\u001b[0m\n\u001b[0;32m    596\u001b[0m     )\n\u001b[1;32m--> 597\u001b[1;33m     \u001b[1;32mreturn\u001b[0m \u001b[0mop\u001b[0m\u001b[1;33m.\u001b[0m\u001b[0mget_result\u001b[0m\u001b[1;33m(\u001b[0m\u001b[1;33m)\u001b[0m\u001b[1;33m\u001b[0m\u001b[1;33m\u001b[0m\u001b[0m\n\u001b[0m\u001b[0;32m    598\u001b[0m \u001b[1;33m\u001b[0m\u001b[0m\n\u001b[0;32m    599\u001b[0m \u001b[1;33m\u001b[0m\u001b[0m\n",
      "\u001b[1;32m~\\Anaconda3\\lib\\site-packages\\pandas\\core\\reshape\\merge.py\u001b[0m in \u001b[0;36mget_result\u001b[1;34m(self)\u001b[0m\n\u001b[0;32m   1637\u001b[0m \u001b[1;33m\u001b[0m\u001b[0m\n\u001b[0;32m   1638\u001b[0m     \u001b[1;32mdef\u001b[0m \u001b[0mget_result\u001b[0m\u001b[1;33m(\u001b[0m\u001b[0mself\u001b[0m\u001b[1;33m)\u001b[0m \u001b[1;33m->\u001b[0m \u001b[0mDataFrame\u001b[0m\u001b[1;33m:\u001b[0m\u001b[1;33m\u001b[0m\u001b[1;33m\u001b[0m\u001b[0m\n\u001b[1;32m-> 1639\u001b[1;33m         \u001b[0mjoin_index\u001b[0m\u001b[1;33m,\u001b[0m \u001b[0mleft_indexer\u001b[0m\u001b[1;33m,\u001b[0m \u001b[0mright_indexer\u001b[0m \u001b[1;33m=\u001b[0m \u001b[0mself\u001b[0m\u001b[1;33m.\u001b[0m\u001b[0m_get_join_info\u001b[0m\u001b[1;33m(\u001b[0m\u001b[1;33m)\u001b[0m\u001b[1;33m\u001b[0m\u001b[1;33m\u001b[0m\u001b[0m\n\u001b[0m\u001b[0;32m   1640\u001b[0m \u001b[1;33m\u001b[0m\u001b[0m\n\u001b[0;32m   1641\u001b[0m         llabels, rlabels = _items_overlap_with_suffix(\n",
      "\u001b[1;32m~\\Anaconda3\\lib\\site-packages\\pandas\\core\\reshape\\merge.py\u001b[0m in \u001b[0;36m_get_join_info\u001b[1;34m(self)\u001b[0m\n\u001b[0;32m    964\u001b[0m             )\n\u001b[0;32m    965\u001b[0m         \u001b[1;32melse\u001b[0m\u001b[1;33m:\u001b[0m\u001b[1;33m\u001b[0m\u001b[1;33m\u001b[0m\u001b[0m\n\u001b[1;32m--> 966\u001b[1;33m             \u001b[1;33m(\u001b[0m\u001b[0mleft_indexer\u001b[0m\u001b[1;33m,\u001b[0m \u001b[0mright_indexer\u001b[0m\u001b[1;33m)\u001b[0m \u001b[1;33m=\u001b[0m \u001b[0mself\u001b[0m\u001b[1;33m.\u001b[0m\u001b[0m_get_join_indexers\u001b[0m\u001b[1;33m(\u001b[0m\u001b[1;33m)\u001b[0m\u001b[1;33m\u001b[0m\u001b[1;33m\u001b[0m\u001b[0m\n\u001b[0m\u001b[0;32m    967\u001b[0m \u001b[1;33m\u001b[0m\u001b[0m\n\u001b[0;32m    968\u001b[0m             \u001b[1;32mif\u001b[0m \u001b[0mself\u001b[0m\u001b[1;33m.\u001b[0m\u001b[0mright_index\u001b[0m\u001b[1;33m:\u001b[0m\u001b[1;33m\u001b[0m\u001b[1;33m\u001b[0m\u001b[0m\n",
      "\u001b[1;32m~\\Anaconda3\\lib\\site-packages\\pandas\\core\\reshape\\merge.py\u001b[0m in \u001b[0;36m_get_join_indexers\u001b[1;34m(self)\u001b[0m\n\u001b[0;32m   1928\u001b[0m             \u001b[0mside\u001b[0m \u001b[1;33m=\u001b[0m \u001b[1;34m\"left\"\u001b[0m\u001b[1;33m\u001b[0m\u001b[1;33m\u001b[0m\u001b[0m\n\u001b[0;32m   1929\u001b[0m             \u001b[1;32mif\u001b[0m \u001b[0misna\u001b[0m\u001b[1;33m(\u001b[0m\u001b[0mleft_values\u001b[0m\u001b[1;33m)\u001b[0m\u001b[1;33m.\u001b[0m\u001b[0many\u001b[0m\u001b[1;33m(\u001b[0m\u001b[1;33m)\u001b[0m\u001b[1;33m:\u001b[0m\u001b[1;33m\u001b[0m\u001b[1;33m\u001b[0m\u001b[0m\n\u001b[1;32m-> 1930\u001b[1;33m                 \u001b[1;32mraise\u001b[0m \u001b[0mValueError\u001b[0m\u001b[1;33m(\u001b[0m\u001b[1;34mf\"Merge keys contain null values on {side} side\"\u001b[0m\u001b[1;33m)\u001b[0m\u001b[1;33m\u001b[0m\u001b[1;33m\u001b[0m\u001b[0m\n\u001b[0m\u001b[0;32m   1931\u001b[0m             \u001b[1;32melse\u001b[0m\u001b[1;33m:\u001b[0m\u001b[1;33m\u001b[0m\u001b[1;33m\u001b[0m\u001b[0m\n\u001b[0;32m   1932\u001b[0m                 \u001b[1;32mraise\u001b[0m \u001b[0mValueError\u001b[0m\u001b[1;33m(\u001b[0m\u001b[1;34mf\"{side} keys must be sorted\"\u001b[0m\u001b[1;33m)\u001b[0m\u001b[1;33m\u001b[0m\u001b[1;33m\u001b[0m\u001b[0m\n",
      "\u001b[1;31mValueError\u001b[0m: Merge keys contain null values on left side"
     ]
    }
   ],
   "source": [
    "pd.concat(origin_df,d_pred)"
   ]
  },
  {
   "cell_type": "code",
   "execution_count": 37,
   "id": "9aec370d",
   "metadata": {},
   "outputs": [
    {
     "data": {
      "application/vnd.plotly.v1+json": {
       "config": {
        "plotlyServerURL": "https://plot.ly"
       },
       "data": [
        {
         "hovertemplate": "Date=%{x}<br>Case Number=%{y}<extra></extra>",
         "legendgroup": "",
         "line": {
          "color": "#636efa",
          "dash": "solid"
         },
         "marker": {
          "symbol": "circle"
         },
         "mode": "lines",
         "name": "",
         "orientation": "v",
         "showlegend": false,
         "type": "scatter",
         "x": [
          "2017-01-31T00:00:00",
          "2017-02-28T00:00:00",
          "2017-03-31T00:00:00",
          "2017-04-30T00:00:00",
          "2017-05-31T00:00:00",
          "2017-06-30T00:00:00",
          "2017-07-31T00:00:00",
          "2017-08-31T00:00:00",
          "2017-09-30T00:00:00",
          "2017-10-31T00:00:00",
          "2017-11-30T00:00:00",
          "2017-12-31T00:00:00",
          "2018-01-31T00:00:00",
          "2018-02-28T00:00:00",
          "2018-03-31T00:00:00",
          "2018-04-30T00:00:00",
          "2018-05-31T00:00:00",
          "2018-06-30T00:00:00",
          "2018-07-31T00:00:00",
          "2018-08-31T00:00:00",
          "2018-09-30T00:00:00",
          "2018-10-31T00:00:00",
          "2018-11-30T00:00:00",
          "2018-12-31T00:00:00",
          "2019-01-31T00:00:00",
          "2019-02-28T00:00:00",
          "2019-03-31T00:00:00",
          "2019-04-30T00:00:00",
          "2019-05-31T00:00:00",
          "2019-06-30T00:00:00",
          "2019-07-31T00:00:00",
          "2019-08-31T00:00:00",
          "2019-09-30T00:00:00",
          "2019-10-31T00:00:00",
          "2019-11-30T00:00:00",
          "2019-12-31T00:00:00",
          "2020-01-31T00:00:00",
          "2020-02-29T00:00:00",
          "2020-03-31T00:00:00",
          "2020-04-30T00:00:00",
          "2020-05-31T00:00:00",
          "2020-06-30T00:00:00",
          "2020-07-31T00:00:00",
          "2020-08-31T00:00:00",
          "2020-09-30T00:00:00",
          "2020-10-31T00:00:00",
          "2020-11-30T00:00:00",
          "2020-12-31T00:00:00",
          "2021-01-31T00:00:00",
          "2021-02-28T00:00:00",
          "2021-03-31T00:00:00",
          "2021-04-30T00:00:00",
          "2021-05-31T00:00:00",
          "2021-06-30T00:00:00",
          "2021-07-31T00:00:00",
          "2021-08-31T00:00:00",
          "2021-09-30T00:00:00",
          "2021-10-31T00:00:00",
          "2021-11-30T00:00:00",
          "2021-12-31T00:00:00",
          "2022-01-31T00:00:00",
          "2022-02-28T00:00:00",
          "2022-03-31T00:00:00",
          "2022-04-30T00:00:00",
          "2022-05-31T00:00:00",
          "2022-06-30T00:00:00",
          "2022-07-31T00:00:00",
          "2022-08-31T00:00:00"
         ],
         "xaxis": "x",
         "y": [
          2206,
          2377,
          3326,
          2186,
          2581,
          2916,
          2453,
          3755,
          4100,
          4577,
          2117,
          1736,
          2437,
          2155,
          2649,
          2133,
          2398,
          2505,
          2613,
          3956,
          4027,
          5427,
          2116,
          1436,
          2581,
          2193,
          2589,
          2560,
          2132,
          2439,
          3655,
          4392,
          6302,
          6651,
          2126,
          1634,
          2762,
          2193,
          3178,
          2678,
          2361,
          2898,
          3233,
          3812,
          4648,
          4764,
          2600,
          1609,
          1955,
          1862,
          2318,
          2143,
          2336,
          2611,
          2319,
          3079,
          3906,
          3976,
          2166,
          1498,
          1832,
          1772,
          2163,
          1871,
          1787,
          2112,
          1959,
          1351
         ],
         "yaxis": "y"
        }
       ],
       "layout": {
        "legend": {
         "tracegroupgap": 0
        },
        "margin": {
         "t": 60
        },
        "template": {
         "data": {
          "bar": [
           {
            "error_x": {
             "color": "#2a3f5f"
            },
            "error_y": {
             "color": "#2a3f5f"
            },
            "marker": {
             "line": {
              "color": "#E5ECF6",
              "width": 0.5
             },
             "pattern": {
              "fillmode": "overlay",
              "size": 10,
              "solidity": 0.2
             }
            },
            "type": "bar"
           }
          ],
          "barpolar": [
           {
            "marker": {
             "line": {
              "color": "#E5ECF6",
              "width": 0.5
             },
             "pattern": {
              "fillmode": "overlay",
              "size": 10,
              "solidity": 0.2
             }
            },
            "type": "barpolar"
           }
          ],
          "carpet": [
           {
            "aaxis": {
             "endlinecolor": "#2a3f5f",
             "gridcolor": "white",
             "linecolor": "white",
             "minorgridcolor": "white",
             "startlinecolor": "#2a3f5f"
            },
            "baxis": {
             "endlinecolor": "#2a3f5f",
             "gridcolor": "white",
             "linecolor": "white",
             "minorgridcolor": "white",
             "startlinecolor": "#2a3f5f"
            },
            "type": "carpet"
           }
          ],
          "choropleth": [
           {
            "colorbar": {
             "outlinewidth": 0,
             "ticks": ""
            },
            "type": "choropleth"
           }
          ],
          "contour": [
           {
            "colorbar": {
             "outlinewidth": 0,
             "ticks": ""
            },
            "colorscale": [
             [
              0,
              "#0d0887"
             ],
             [
              0.1111111111111111,
              "#46039f"
             ],
             [
              0.2222222222222222,
              "#7201a8"
             ],
             [
              0.3333333333333333,
              "#9c179e"
             ],
             [
              0.4444444444444444,
              "#bd3786"
             ],
             [
              0.5555555555555556,
              "#d8576b"
             ],
             [
              0.6666666666666666,
              "#ed7953"
             ],
             [
              0.7777777777777778,
              "#fb9f3a"
             ],
             [
              0.8888888888888888,
              "#fdca26"
             ],
             [
              1,
              "#f0f921"
             ]
            ],
            "type": "contour"
           }
          ],
          "contourcarpet": [
           {
            "colorbar": {
             "outlinewidth": 0,
             "ticks": ""
            },
            "type": "contourcarpet"
           }
          ],
          "heatmap": [
           {
            "colorbar": {
             "outlinewidth": 0,
             "ticks": ""
            },
            "colorscale": [
             [
              0,
              "#0d0887"
             ],
             [
              0.1111111111111111,
              "#46039f"
             ],
             [
              0.2222222222222222,
              "#7201a8"
             ],
             [
              0.3333333333333333,
              "#9c179e"
             ],
             [
              0.4444444444444444,
              "#bd3786"
             ],
             [
              0.5555555555555556,
              "#d8576b"
             ],
             [
              0.6666666666666666,
              "#ed7953"
             ],
             [
              0.7777777777777778,
              "#fb9f3a"
             ],
             [
              0.8888888888888888,
              "#fdca26"
             ],
             [
              1,
              "#f0f921"
             ]
            ],
            "type": "heatmap"
           }
          ],
          "heatmapgl": [
           {
            "colorbar": {
             "outlinewidth": 0,
             "ticks": ""
            },
            "colorscale": [
             [
              0,
              "#0d0887"
             ],
             [
              0.1111111111111111,
              "#46039f"
             ],
             [
              0.2222222222222222,
              "#7201a8"
             ],
             [
              0.3333333333333333,
              "#9c179e"
             ],
             [
              0.4444444444444444,
              "#bd3786"
             ],
             [
              0.5555555555555556,
              "#d8576b"
             ],
             [
              0.6666666666666666,
              "#ed7953"
             ],
             [
              0.7777777777777778,
              "#fb9f3a"
             ],
             [
              0.8888888888888888,
              "#fdca26"
             ],
             [
              1,
              "#f0f921"
             ]
            ],
            "type": "heatmapgl"
           }
          ],
          "histogram": [
           {
            "marker": {
             "pattern": {
              "fillmode": "overlay",
              "size": 10,
              "solidity": 0.2
             }
            },
            "type": "histogram"
           }
          ],
          "histogram2d": [
           {
            "colorbar": {
             "outlinewidth": 0,
             "ticks": ""
            },
            "colorscale": [
             [
              0,
              "#0d0887"
             ],
             [
              0.1111111111111111,
              "#46039f"
             ],
             [
              0.2222222222222222,
              "#7201a8"
             ],
             [
              0.3333333333333333,
              "#9c179e"
             ],
             [
              0.4444444444444444,
              "#bd3786"
             ],
             [
              0.5555555555555556,
              "#d8576b"
             ],
             [
              0.6666666666666666,
              "#ed7953"
             ],
             [
              0.7777777777777778,
              "#fb9f3a"
             ],
             [
              0.8888888888888888,
              "#fdca26"
             ],
             [
              1,
              "#f0f921"
             ]
            ],
            "type": "histogram2d"
           }
          ],
          "histogram2dcontour": [
           {
            "colorbar": {
             "outlinewidth": 0,
             "ticks": ""
            },
            "colorscale": [
             [
              0,
              "#0d0887"
             ],
             [
              0.1111111111111111,
              "#46039f"
             ],
             [
              0.2222222222222222,
              "#7201a8"
             ],
             [
              0.3333333333333333,
              "#9c179e"
             ],
             [
              0.4444444444444444,
              "#bd3786"
             ],
             [
              0.5555555555555556,
              "#d8576b"
             ],
             [
              0.6666666666666666,
              "#ed7953"
             ],
             [
              0.7777777777777778,
              "#fb9f3a"
             ],
             [
              0.8888888888888888,
              "#fdca26"
             ],
             [
              1,
              "#f0f921"
             ]
            ],
            "type": "histogram2dcontour"
           }
          ],
          "mesh3d": [
           {
            "colorbar": {
             "outlinewidth": 0,
             "ticks": ""
            },
            "type": "mesh3d"
           }
          ],
          "parcoords": [
           {
            "line": {
             "colorbar": {
              "outlinewidth": 0,
              "ticks": ""
             }
            },
            "type": "parcoords"
           }
          ],
          "pie": [
           {
            "automargin": true,
            "type": "pie"
           }
          ],
          "scatter": [
           {
            "fillpattern": {
             "fillmode": "overlay",
             "size": 10,
             "solidity": 0.2
            },
            "type": "scatter"
           }
          ],
          "scatter3d": [
           {
            "line": {
             "colorbar": {
              "outlinewidth": 0,
              "ticks": ""
             }
            },
            "marker": {
             "colorbar": {
              "outlinewidth": 0,
              "ticks": ""
             }
            },
            "type": "scatter3d"
           }
          ],
          "scattercarpet": [
           {
            "marker": {
             "colorbar": {
              "outlinewidth": 0,
              "ticks": ""
             }
            },
            "type": "scattercarpet"
           }
          ],
          "scattergeo": [
           {
            "marker": {
             "colorbar": {
              "outlinewidth": 0,
              "ticks": ""
             }
            },
            "type": "scattergeo"
           }
          ],
          "scattergl": [
           {
            "marker": {
             "colorbar": {
              "outlinewidth": 0,
              "ticks": ""
             }
            },
            "type": "scattergl"
           }
          ],
          "scattermapbox": [
           {
            "marker": {
             "colorbar": {
              "outlinewidth": 0,
              "ticks": ""
             }
            },
            "type": "scattermapbox"
           }
          ],
          "scatterpolar": [
           {
            "marker": {
             "colorbar": {
              "outlinewidth": 0,
              "ticks": ""
             }
            },
            "type": "scatterpolar"
           }
          ],
          "scatterpolargl": [
           {
            "marker": {
             "colorbar": {
              "outlinewidth": 0,
              "ticks": ""
             }
            },
            "type": "scatterpolargl"
           }
          ],
          "scatterternary": [
           {
            "marker": {
             "colorbar": {
              "outlinewidth": 0,
              "ticks": ""
             }
            },
            "type": "scatterternary"
           }
          ],
          "surface": [
           {
            "colorbar": {
             "outlinewidth": 0,
             "ticks": ""
            },
            "colorscale": [
             [
              0,
              "#0d0887"
             ],
             [
              0.1111111111111111,
              "#46039f"
             ],
             [
              0.2222222222222222,
              "#7201a8"
             ],
             [
              0.3333333333333333,
              "#9c179e"
             ],
             [
              0.4444444444444444,
              "#bd3786"
             ],
             [
              0.5555555555555556,
              "#d8576b"
             ],
             [
              0.6666666666666666,
              "#ed7953"
             ],
             [
              0.7777777777777778,
              "#fb9f3a"
             ],
             [
              0.8888888888888888,
              "#fdca26"
             ],
             [
              1,
              "#f0f921"
             ]
            ],
            "type": "surface"
           }
          ],
          "table": [
           {
            "cells": {
             "fill": {
              "color": "#EBF0F8"
             },
             "line": {
              "color": "white"
             }
            },
            "header": {
             "fill": {
              "color": "#C8D4E3"
             },
             "line": {
              "color": "white"
             }
            },
            "type": "table"
           }
          ]
         },
         "layout": {
          "annotationdefaults": {
           "arrowcolor": "#2a3f5f",
           "arrowhead": 0,
           "arrowwidth": 1
          },
          "autotypenumbers": "strict",
          "coloraxis": {
           "colorbar": {
            "outlinewidth": 0,
            "ticks": ""
           }
          },
          "colorscale": {
           "diverging": [
            [
             0,
             "#8e0152"
            ],
            [
             0.1,
             "#c51b7d"
            ],
            [
             0.2,
             "#de77ae"
            ],
            [
             0.3,
             "#f1b6da"
            ],
            [
             0.4,
             "#fde0ef"
            ],
            [
             0.5,
             "#f7f7f7"
            ],
            [
             0.6,
             "#e6f5d0"
            ],
            [
             0.7,
             "#b8e186"
            ],
            [
             0.8,
             "#7fbc41"
            ],
            [
             0.9,
             "#4d9221"
            ],
            [
             1,
             "#276419"
            ]
           ],
           "sequential": [
            [
             0,
             "#0d0887"
            ],
            [
             0.1111111111111111,
             "#46039f"
            ],
            [
             0.2222222222222222,
             "#7201a8"
            ],
            [
             0.3333333333333333,
             "#9c179e"
            ],
            [
             0.4444444444444444,
             "#bd3786"
            ],
            [
             0.5555555555555556,
             "#d8576b"
            ],
            [
             0.6666666666666666,
             "#ed7953"
            ],
            [
             0.7777777777777778,
             "#fb9f3a"
            ],
            [
             0.8888888888888888,
             "#fdca26"
            ],
            [
             1,
             "#f0f921"
            ]
           ],
           "sequentialminus": [
            [
             0,
             "#0d0887"
            ],
            [
             0.1111111111111111,
             "#46039f"
            ],
            [
             0.2222222222222222,
             "#7201a8"
            ],
            [
             0.3333333333333333,
             "#9c179e"
            ],
            [
             0.4444444444444444,
             "#bd3786"
            ],
            [
             0.5555555555555556,
             "#d8576b"
            ],
            [
             0.6666666666666666,
             "#ed7953"
            ],
            [
             0.7777777777777778,
             "#fb9f3a"
            ],
            [
             0.8888888888888888,
             "#fdca26"
            ],
            [
             1,
             "#f0f921"
            ]
           ]
          },
          "colorway": [
           "#636efa",
           "#EF553B",
           "#00cc96",
           "#ab63fa",
           "#FFA15A",
           "#19d3f3",
           "#FF6692",
           "#B6E880",
           "#FF97FF",
           "#FECB52"
          ],
          "font": {
           "color": "#2a3f5f"
          },
          "geo": {
           "bgcolor": "white",
           "lakecolor": "white",
           "landcolor": "#E5ECF6",
           "showlakes": true,
           "showland": true,
           "subunitcolor": "white"
          },
          "hoverlabel": {
           "align": "left"
          },
          "hovermode": "closest",
          "mapbox": {
           "style": "light"
          },
          "paper_bgcolor": "white",
          "plot_bgcolor": "#E5ECF6",
          "polar": {
           "angularaxis": {
            "gridcolor": "white",
            "linecolor": "white",
            "ticks": ""
           },
           "bgcolor": "#E5ECF6",
           "radialaxis": {
            "gridcolor": "white",
            "linecolor": "white",
            "ticks": ""
           }
          },
          "scene": {
           "xaxis": {
            "backgroundcolor": "#E5ECF6",
            "gridcolor": "white",
            "gridwidth": 2,
            "linecolor": "white",
            "showbackground": true,
            "ticks": "",
            "zerolinecolor": "white"
           },
           "yaxis": {
            "backgroundcolor": "#E5ECF6",
            "gridcolor": "white",
            "gridwidth": 2,
            "linecolor": "white",
            "showbackground": true,
            "ticks": "",
            "zerolinecolor": "white"
           },
           "zaxis": {
            "backgroundcolor": "#E5ECF6",
            "gridcolor": "white",
            "gridwidth": 2,
            "linecolor": "white",
            "showbackground": true,
            "ticks": "",
            "zerolinecolor": "white"
           }
          },
          "shapedefaults": {
           "line": {
            "color": "#2a3f5f"
           }
          },
          "ternary": {
           "aaxis": {
            "gridcolor": "white",
            "linecolor": "white",
            "ticks": ""
           },
           "baxis": {
            "gridcolor": "white",
            "linecolor": "white",
            "ticks": ""
           },
           "bgcolor": "#E5ECF6",
           "caxis": {
            "gridcolor": "white",
            "linecolor": "white",
            "ticks": ""
           }
          },
          "title": {
           "x": 0.05
          },
          "xaxis": {
           "automargin": true,
           "gridcolor": "white",
           "linecolor": "white",
           "ticks": "",
           "title": {
            "standoff": 15
           },
           "zerolinecolor": "white",
           "zerolinewidth": 2
          },
          "yaxis": {
           "automargin": true,
           "gridcolor": "white",
           "linecolor": "white",
           "ticks": "",
           "title": {
            "standoff": 15
           },
           "zerolinecolor": "white",
           "zerolinewidth": 2
          }
         }
        },
        "xaxis": {
         "anchor": "y",
         "domain": [
          0,
          1
         ],
         "title": {
          "text": "Date"
         }
        },
        "yaxis": {
         "anchor": "x",
         "domain": [
          0,
          1
         ],
         "title": {
          "text": "Case Number"
         }
        }
       }
      },
      "text/html": [
       "<div>                            <div id=\"cbea20e0-c1d7-4c09-9166-5d58200fbaea\" class=\"plotly-graph-div\" style=\"height:525px; width:100%;\"></div>            <script type=\"text/javascript\">                require([\"plotly\"], function(Plotly) {                    window.PLOTLYENV=window.PLOTLYENV || {};                                    if (document.getElementById(\"cbea20e0-c1d7-4c09-9166-5d58200fbaea\")) {                    Plotly.newPlot(                        \"cbea20e0-c1d7-4c09-9166-5d58200fbaea\",                        [{\"hovertemplate\":\"Date=%{x}<br>Case Number=%{y}<extra></extra>\",\"legendgroup\":\"\",\"line\":{\"color\":\"#636efa\",\"dash\":\"solid\"},\"marker\":{\"symbol\":\"circle\"},\"mode\":\"lines\",\"name\":\"\",\"orientation\":\"v\",\"showlegend\":false,\"x\":[\"2017-01-31T00:00:00\",\"2017-02-28T00:00:00\",\"2017-03-31T00:00:00\",\"2017-04-30T00:00:00\",\"2017-05-31T00:00:00\",\"2017-06-30T00:00:00\",\"2017-07-31T00:00:00\",\"2017-08-31T00:00:00\",\"2017-09-30T00:00:00\",\"2017-10-31T00:00:00\",\"2017-11-30T00:00:00\",\"2017-12-31T00:00:00\",\"2018-01-31T00:00:00\",\"2018-02-28T00:00:00\",\"2018-03-31T00:00:00\",\"2018-04-30T00:00:00\",\"2018-05-31T00:00:00\",\"2018-06-30T00:00:00\",\"2018-07-31T00:00:00\",\"2018-08-31T00:00:00\",\"2018-09-30T00:00:00\",\"2018-10-31T00:00:00\",\"2018-11-30T00:00:00\",\"2018-12-31T00:00:00\",\"2019-01-31T00:00:00\",\"2019-02-28T00:00:00\",\"2019-03-31T00:00:00\",\"2019-04-30T00:00:00\",\"2019-05-31T00:00:00\",\"2019-06-30T00:00:00\",\"2019-07-31T00:00:00\",\"2019-08-31T00:00:00\",\"2019-09-30T00:00:00\",\"2019-10-31T00:00:00\",\"2019-11-30T00:00:00\",\"2019-12-31T00:00:00\",\"2020-01-31T00:00:00\",\"2020-02-29T00:00:00\",\"2020-03-31T00:00:00\",\"2020-04-30T00:00:00\",\"2020-05-31T00:00:00\",\"2020-06-30T00:00:00\",\"2020-07-31T00:00:00\",\"2020-08-31T00:00:00\",\"2020-09-30T00:00:00\",\"2020-10-31T00:00:00\",\"2020-11-30T00:00:00\",\"2020-12-31T00:00:00\",\"2021-01-31T00:00:00\",\"2021-02-28T00:00:00\",\"2021-03-31T00:00:00\",\"2021-04-30T00:00:00\",\"2021-05-31T00:00:00\",\"2021-06-30T00:00:00\",\"2021-07-31T00:00:00\",\"2021-08-31T00:00:00\",\"2021-09-30T00:00:00\",\"2021-10-31T00:00:00\",\"2021-11-30T00:00:00\",\"2021-12-31T00:00:00\",\"2022-01-31T00:00:00\",\"2022-02-28T00:00:00\",\"2022-03-31T00:00:00\",\"2022-04-30T00:00:00\",\"2022-05-31T00:00:00\",\"2022-06-30T00:00:00\",\"2022-07-31T00:00:00\",\"2022-08-31T00:00:00\"],\"xaxis\":\"x\",\"y\":[2206.0,2377.0,3326.0,2186.0,2581.0,2916.0,2453.0,3755.0,4100.0,4577.0,2117.0,1736.0,2437.0,2155.0,2649.0,2133.0,2398.0,2505.0,2613.0,3956.0,4027.0,5427.0,2116.0,1436.0,2581.0,2193.0,2589.0,2560.0,2132.0,2439.0,3655.0,4392.0,6302.0,6651.0,2126.0,1634.0,2762.0,2193.0,3178.0,2678.0,2361.0,2898.0,3233.0,3812.0,4648.0,4764.0,2600.0,1609.0,1955.0,1862.0,2318.0,2143.0,2336.0,2611.0,2319.0,3079.0,3906.0,3976.0,2166.0,1498.0,1832.0,1772.0,2163.0,1871.0,1787.0,2112.0,1959.0,1351.0],\"yaxis\":\"y\",\"type\":\"scatter\"}],                        {\"template\":{\"data\":{\"histogram2dcontour\":[{\"type\":\"histogram2dcontour\",\"colorbar\":{\"outlinewidth\":0,\"ticks\":\"\"},\"colorscale\":[[0.0,\"#0d0887\"],[0.1111111111111111,\"#46039f\"],[0.2222222222222222,\"#7201a8\"],[0.3333333333333333,\"#9c179e\"],[0.4444444444444444,\"#bd3786\"],[0.5555555555555556,\"#d8576b\"],[0.6666666666666666,\"#ed7953\"],[0.7777777777777778,\"#fb9f3a\"],[0.8888888888888888,\"#fdca26\"],[1.0,\"#f0f921\"]]}],\"choropleth\":[{\"type\":\"choropleth\",\"colorbar\":{\"outlinewidth\":0,\"ticks\":\"\"}}],\"histogram2d\":[{\"type\":\"histogram2d\",\"colorbar\":{\"outlinewidth\":0,\"ticks\":\"\"},\"colorscale\":[[0.0,\"#0d0887\"],[0.1111111111111111,\"#46039f\"],[0.2222222222222222,\"#7201a8\"],[0.3333333333333333,\"#9c179e\"],[0.4444444444444444,\"#bd3786\"],[0.5555555555555556,\"#d8576b\"],[0.6666666666666666,\"#ed7953\"],[0.7777777777777778,\"#fb9f3a\"],[0.8888888888888888,\"#fdca26\"],[1.0,\"#f0f921\"]]}],\"heatmap\":[{\"type\":\"heatmap\",\"colorbar\":{\"outlinewidth\":0,\"ticks\":\"\"},\"colorscale\":[[0.0,\"#0d0887\"],[0.1111111111111111,\"#46039f\"],[0.2222222222222222,\"#7201a8\"],[0.3333333333333333,\"#9c179e\"],[0.4444444444444444,\"#bd3786\"],[0.5555555555555556,\"#d8576b\"],[0.6666666666666666,\"#ed7953\"],[0.7777777777777778,\"#fb9f3a\"],[0.8888888888888888,\"#fdca26\"],[1.0,\"#f0f921\"]]}],\"heatmapgl\":[{\"type\":\"heatmapgl\",\"colorbar\":{\"outlinewidth\":0,\"ticks\":\"\"},\"colorscale\":[[0.0,\"#0d0887\"],[0.1111111111111111,\"#46039f\"],[0.2222222222222222,\"#7201a8\"],[0.3333333333333333,\"#9c179e\"],[0.4444444444444444,\"#bd3786\"],[0.5555555555555556,\"#d8576b\"],[0.6666666666666666,\"#ed7953\"],[0.7777777777777778,\"#fb9f3a\"],[0.8888888888888888,\"#fdca26\"],[1.0,\"#f0f921\"]]}],\"contourcarpet\":[{\"type\":\"contourcarpet\",\"colorbar\":{\"outlinewidth\":0,\"ticks\":\"\"}}],\"contour\":[{\"type\":\"contour\",\"colorbar\":{\"outlinewidth\":0,\"ticks\":\"\"},\"colorscale\":[[0.0,\"#0d0887\"],[0.1111111111111111,\"#46039f\"],[0.2222222222222222,\"#7201a8\"],[0.3333333333333333,\"#9c179e\"],[0.4444444444444444,\"#bd3786\"],[0.5555555555555556,\"#d8576b\"],[0.6666666666666666,\"#ed7953\"],[0.7777777777777778,\"#fb9f3a\"],[0.8888888888888888,\"#fdca26\"],[1.0,\"#f0f921\"]]}],\"surface\":[{\"type\":\"surface\",\"colorbar\":{\"outlinewidth\":0,\"ticks\":\"\"},\"colorscale\":[[0.0,\"#0d0887\"],[0.1111111111111111,\"#46039f\"],[0.2222222222222222,\"#7201a8\"],[0.3333333333333333,\"#9c179e\"],[0.4444444444444444,\"#bd3786\"],[0.5555555555555556,\"#d8576b\"],[0.6666666666666666,\"#ed7953\"],[0.7777777777777778,\"#fb9f3a\"],[0.8888888888888888,\"#fdca26\"],[1.0,\"#f0f921\"]]}],\"mesh3d\":[{\"type\":\"mesh3d\",\"colorbar\":{\"outlinewidth\":0,\"ticks\":\"\"}}],\"scatter\":[{\"fillpattern\":{\"fillmode\":\"overlay\",\"size\":10,\"solidity\":0.2},\"type\":\"scatter\"}],\"parcoords\":[{\"type\":\"parcoords\",\"line\":{\"colorbar\":{\"outlinewidth\":0,\"ticks\":\"\"}}}],\"scatterpolargl\":[{\"type\":\"scatterpolargl\",\"marker\":{\"colorbar\":{\"outlinewidth\":0,\"ticks\":\"\"}}}],\"bar\":[{\"error_x\":{\"color\":\"#2a3f5f\"},\"error_y\":{\"color\":\"#2a3f5f\"},\"marker\":{\"line\":{\"color\":\"#E5ECF6\",\"width\":0.5},\"pattern\":{\"fillmode\":\"overlay\",\"size\":10,\"solidity\":0.2}},\"type\":\"bar\"}],\"scattergeo\":[{\"type\":\"scattergeo\",\"marker\":{\"colorbar\":{\"outlinewidth\":0,\"ticks\":\"\"}}}],\"scatterpolar\":[{\"type\":\"scatterpolar\",\"marker\":{\"colorbar\":{\"outlinewidth\":0,\"ticks\":\"\"}}}],\"histogram\":[{\"marker\":{\"pattern\":{\"fillmode\":\"overlay\",\"size\":10,\"solidity\":0.2}},\"type\":\"histogram\"}],\"scattergl\":[{\"type\":\"scattergl\",\"marker\":{\"colorbar\":{\"outlinewidth\":0,\"ticks\":\"\"}}}],\"scatter3d\":[{\"type\":\"scatter3d\",\"line\":{\"colorbar\":{\"outlinewidth\":0,\"ticks\":\"\"}},\"marker\":{\"colorbar\":{\"outlinewidth\":0,\"ticks\":\"\"}}}],\"scattermapbox\":[{\"type\":\"scattermapbox\",\"marker\":{\"colorbar\":{\"outlinewidth\":0,\"ticks\":\"\"}}}],\"scatterternary\":[{\"type\":\"scatterternary\",\"marker\":{\"colorbar\":{\"outlinewidth\":0,\"ticks\":\"\"}}}],\"scattercarpet\":[{\"type\":\"scattercarpet\",\"marker\":{\"colorbar\":{\"outlinewidth\":0,\"ticks\":\"\"}}}],\"carpet\":[{\"aaxis\":{\"endlinecolor\":\"#2a3f5f\",\"gridcolor\":\"white\",\"linecolor\":\"white\",\"minorgridcolor\":\"white\",\"startlinecolor\":\"#2a3f5f\"},\"baxis\":{\"endlinecolor\":\"#2a3f5f\",\"gridcolor\":\"white\",\"linecolor\":\"white\",\"minorgridcolor\":\"white\",\"startlinecolor\":\"#2a3f5f\"},\"type\":\"carpet\"}],\"table\":[{\"cells\":{\"fill\":{\"color\":\"#EBF0F8\"},\"line\":{\"color\":\"white\"}},\"header\":{\"fill\":{\"color\":\"#C8D4E3\"},\"line\":{\"color\":\"white\"}},\"type\":\"table\"}],\"barpolar\":[{\"marker\":{\"line\":{\"color\":\"#E5ECF6\",\"width\":0.5},\"pattern\":{\"fillmode\":\"overlay\",\"size\":10,\"solidity\":0.2}},\"type\":\"barpolar\"}],\"pie\":[{\"automargin\":true,\"type\":\"pie\"}]},\"layout\":{\"autotypenumbers\":\"strict\",\"colorway\":[\"#636efa\",\"#EF553B\",\"#00cc96\",\"#ab63fa\",\"#FFA15A\",\"#19d3f3\",\"#FF6692\",\"#B6E880\",\"#FF97FF\",\"#FECB52\"],\"font\":{\"color\":\"#2a3f5f\"},\"hovermode\":\"closest\",\"hoverlabel\":{\"align\":\"left\"},\"paper_bgcolor\":\"white\",\"plot_bgcolor\":\"#E5ECF6\",\"polar\":{\"bgcolor\":\"#E5ECF6\",\"angularaxis\":{\"gridcolor\":\"white\",\"linecolor\":\"white\",\"ticks\":\"\"},\"radialaxis\":{\"gridcolor\":\"white\",\"linecolor\":\"white\",\"ticks\":\"\"}},\"ternary\":{\"bgcolor\":\"#E5ECF6\",\"aaxis\":{\"gridcolor\":\"white\",\"linecolor\":\"white\",\"ticks\":\"\"},\"baxis\":{\"gridcolor\":\"white\",\"linecolor\":\"white\",\"ticks\":\"\"},\"caxis\":{\"gridcolor\":\"white\",\"linecolor\":\"white\",\"ticks\":\"\"}},\"coloraxis\":{\"colorbar\":{\"outlinewidth\":0,\"ticks\":\"\"}},\"colorscale\":{\"sequential\":[[0.0,\"#0d0887\"],[0.1111111111111111,\"#46039f\"],[0.2222222222222222,\"#7201a8\"],[0.3333333333333333,\"#9c179e\"],[0.4444444444444444,\"#bd3786\"],[0.5555555555555556,\"#d8576b\"],[0.6666666666666666,\"#ed7953\"],[0.7777777777777778,\"#fb9f3a\"],[0.8888888888888888,\"#fdca26\"],[1.0,\"#f0f921\"]],\"sequentialminus\":[[0.0,\"#0d0887\"],[0.1111111111111111,\"#46039f\"],[0.2222222222222222,\"#7201a8\"],[0.3333333333333333,\"#9c179e\"],[0.4444444444444444,\"#bd3786\"],[0.5555555555555556,\"#d8576b\"],[0.6666666666666666,\"#ed7953\"],[0.7777777777777778,\"#fb9f3a\"],[0.8888888888888888,\"#fdca26\"],[1.0,\"#f0f921\"]],\"diverging\":[[0,\"#8e0152\"],[0.1,\"#c51b7d\"],[0.2,\"#de77ae\"],[0.3,\"#f1b6da\"],[0.4,\"#fde0ef\"],[0.5,\"#f7f7f7\"],[0.6,\"#e6f5d0\"],[0.7,\"#b8e186\"],[0.8,\"#7fbc41\"],[0.9,\"#4d9221\"],[1,\"#276419\"]]},\"xaxis\":{\"gridcolor\":\"white\",\"linecolor\":\"white\",\"ticks\":\"\",\"title\":{\"standoff\":15},\"zerolinecolor\":\"white\",\"automargin\":true,\"zerolinewidth\":2},\"yaxis\":{\"gridcolor\":\"white\",\"linecolor\":\"white\",\"ticks\":\"\",\"title\":{\"standoff\":15},\"zerolinecolor\":\"white\",\"automargin\":true,\"zerolinewidth\":2},\"scene\":{\"xaxis\":{\"backgroundcolor\":\"#E5ECF6\",\"gridcolor\":\"white\",\"linecolor\":\"white\",\"showbackground\":true,\"ticks\":\"\",\"zerolinecolor\":\"white\",\"gridwidth\":2},\"yaxis\":{\"backgroundcolor\":\"#E5ECF6\",\"gridcolor\":\"white\",\"linecolor\":\"white\",\"showbackground\":true,\"ticks\":\"\",\"zerolinecolor\":\"white\",\"gridwidth\":2},\"zaxis\":{\"backgroundcolor\":\"#E5ECF6\",\"gridcolor\":\"white\",\"linecolor\":\"white\",\"showbackground\":true,\"ticks\":\"\",\"zerolinecolor\":\"white\",\"gridwidth\":2}},\"shapedefaults\":{\"line\":{\"color\":\"#2a3f5f\"}},\"annotationdefaults\":{\"arrowcolor\":\"#2a3f5f\",\"arrowhead\":0,\"arrowwidth\":1},\"geo\":{\"bgcolor\":\"white\",\"landcolor\":\"#E5ECF6\",\"subunitcolor\":\"white\",\"showland\":true,\"showlakes\":true,\"lakecolor\":\"white\"},\"title\":{\"x\":0.05},\"mapbox\":{\"style\":\"light\"}}},\"xaxis\":{\"anchor\":\"y\",\"domain\":[0.0,1.0],\"title\":{\"text\":\"Date\"}},\"yaxis\":{\"anchor\":\"x\",\"domain\":[0.0,1.0],\"title\":{\"text\":\"Case Number\"}},\"legend\":{\"tracegroupgap\":0},\"margin\":{\"t\":60}},                        {\"responsive\": true}                    ).then(function(){\n",
       "                            \n",
       "var gd = document.getElementById('cbea20e0-c1d7-4c09-9166-5d58200fbaea');\n",
       "var x = new MutationObserver(function (mutations, observer) {{\n",
       "        var display = window.getComputedStyle(gd).display;\n",
       "        if (!display || display === 'none') {{\n",
       "            console.log([gd, 'removed!']);\n",
       "            Plotly.purge(gd);\n",
       "            observer.disconnect();\n",
       "        }}\n",
       "}});\n",
       "\n",
       "// Listen for the removal of the full notebook cells\n",
       "var notebookContainer = gd.closest('#notebook-container');\n",
       "if (notebookContainer) {{\n",
       "    x.observe(notebookContainer, {childList: true});\n",
       "}}\n",
       "\n",
       "// Listen for the clearing of the current output cell\n",
       "var outputEl = gd.closest('.output');\n",
       "if (outputEl) {{\n",
       "    x.observe(outputEl, {childList: true});\n",
       "}}\n",
       "\n",
       "                        })                };                });            </script>        </div>"
      ]
     },
     "metadata": {},
     "output_type": "display_data"
    }
   ],
   "source": [
    "import plotly.express as px\n",
    "fig = px.line(origin_df, x='Date', y=\"Case Number\")\n",
    "fig.show()"
   ]
  },
  {
   "cell_type": "code",
   "execution_count": null,
   "id": "285e6b61",
   "metadata": {},
   "outputs": [],
   "source": []
  },
  {
   "cell_type": "code",
   "execution_count": null,
   "id": "e64c2c09",
   "metadata": {},
   "outputs": [],
   "source": []
  },
  {
   "cell_type": "code",
   "execution_count": null,
   "id": "ee557ca4",
   "metadata": {},
   "outputs": [],
   "source": []
  },
  {
   "cell_type": "code",
   "execution_count": 215,
   "id": "8beaadc1",
   "metadata": {},
   "outputs": [
    {
     "data": {
      "image/png": "[encoded data removed]",
      "text/plain": [
       "<Figure size 1008x504 with 1 Axes>"
      ]
     },
     "metadata": {},
     "output_type": "display_data"
    },
    {
     "data": {
      "image/png": "[encoded data removed]",
      "text/plain": [
       "<Figure size 1008x504 with 1 Axes>"
      ]
     },
     "metadata": {},
     "output_type": "display_data"
    },
    {
     "data": {
      "text/html": [
       "<table class=\"simpletable\">\n",
       "<caption>SARIMAX Results</caption>\n",
       "<tr>\n",
       "  <th>Dep. Variable:</th>                  <td>y</td>               <th>  No. Observations:  </th>    <td>68</td>   \n",
       "</tr>\n",
       "<tr>\n",
       "  <th>Model:</th>           <td>ARIMA(1, 1, 0)x(1, 1, [1], 12)</td> <th>  Log Likelihood     </th> <td>-408.452</td>\n",
       "</tr>\n",
       "<tr>\n",
       "  <th>Date:</th>                   <td>Fri, 26 Aug 2022</td>        <th>  AIC                </th>  <td>824.904</td>\n",
       "</tr>\n",
       "<tr>\n",
       "  <th>Time:</th>                       <td>16:51:44</td>            <th>  BIC                </th>  <td>832.933</td>\n",
       "</tr>\n",
       "<tr>\n",
       "  <th>Sample:</th>                         <td>0</td>               <th>  HQIC               </th>  <td>828.009</td>\n",
       "</tr>\n",
       "<tr>\n",
       "  <th></th>                              <td> - 68</td>             <th>                     </th>     <td> </td>   \n",
       "</tr>\n",
       "<tr>\n",
       "  <th>Covariance Type:</th>               <td>opg</td>              <th>                     </th>     <td> </td>   \n",
       "</tr>\n",
       "</table>\n",
       "<table class=\"simpletable\">\n",
       "<tr>\n",
       "      <td></td>        <th>coef</th>     <th>std err</th>      <th>z</th>      <th>P>|z|</th>  <th>[0.025</th>    <th>0.975]</th>  \n",
       "</tr>\n",
       "<tr>\n",
       "  <th>ar.L1</th>    <td>   -0.2737</td> <td>    0.188</td> <td>   -1.454</td> <td> 0.146</td> <td>   -0.643</td> <td>    0.095</td>\n",
       "</tr>\n",
       "<tr>\n",
       "  <th>ar.S.L12</th> <td>    0.3900</td> <td>    0.330</td> <td>    1.182</td> <td> 0.237</td> <td>   -0.257</td> <td>    1.037</td>\n",
       "</tr>\n",
       "<tr>\n",
       "  <th>ma.S.L12</th> <td>   -0.9902</td> <td>   10.486</td> <td>   -0.094</td> <td> 0.925</td> <td>  -21.541</td> <td>   19.561</td>\n",
       "</tr>\n",
       "<tr>\n",
       "  <th>sigma2</th>   <td> 1.333e+05</td> <td> 1.36e+06</td> <td>    0.098</td> <td> 0.922</td> <td>-2.53e+06</td> <td>  2.8e+06</td>\n",
       "</tr>\n",
       "</table>\n",
       "<table class=\"simpletable\">\n",
       "<tr>\n",
       "  <th>Ljung-Box (L1) (Q):</th>     <td>0.61</td> <th>  Jarque-Bera (JB):  </th> <td>12.44</td>\n",
       "</tr>\n",
       "<tr>\n",
       "  <th>Prob(Q):</th>                <td>0.44</td> <th>  Prob(JB):          </th> <td>0.00</td> \n",
       "</tr>\n",
       "<tr>\n",
       "  <th>Heteroskedasticity (H):</th> <td>0.75</td> <th>  Skew:              </th> <td>0.46</td> \n",
       "</tr>\n",
       "<tr>\n",
       "  <th>Prob(H) (two-sided):</th>    <td>0.54</td> <th>  Kurtosis:          </th> <td>5.14</td> \n",
       "</tr>\n",
       "</table><br/><br/>Warnings:<br/>[1] Covariance matrix calculated using the outer product of gradients (complex-step)."
      ],
      "text/plain": [
       "<class 'statsmodels.iolib.summary.Summary'>\n",
       "\"\"\"\n",
       "                                     SARIMAX Results                                      \n",
       "==========================================================================================\n",
       "Dep. Variable:                                  y   No. Observations:                   68\n",
       "Model:             ARIMA(1, 1, 0)x(1, 1, [1], 12)   Log Likelihood                -408.452\n",
       "Date:                            Fri, 26 Aug 2022   AIC                            824.904\n",
       "Time:                                    16:51:44   BIC                            832.933\n",
       "Sample:                                         0   HQIC                           828.009\n",
       "                                             - 68                                         \n",
       "Covariance Type:                              opg                                         \n",
       "==============================================================================\n",
       "                 coef    std err          z      P>|z|      [0.025      0.975]\n",
       "------------------------------------------------------------------------------\n",
       "ar.L1         -0.2737      0.188     -1.454      0.146      -0.643       0.095\n",
       "ar.S.L12       0.3900      0.330      1.182      0.237      -0.257       1.037\n",
       "ma.S.L12      -0.9902     10.486     -0.094      0.925     -21.541      19.561\n",
       "sigma2      1.333e+05   1.36e+06      0.098      0.922   -2.53e+06     2.8e+06\n",
       "===================================================================================\n",
       "Ljung-Box (L1) (Q):                   0.61   Jarque-Bera (JB):                12.44\n",
       "Prob(Q):                              0.44   Prob(JB):                         0.00\n",
       "Heteroskedasticity (H):               0.75   Skew:                             0.46\n",
       "Prob(H) (two-sided):                  0.54   Kurtosis:                         5.14\n",
       "===================================================================================\n",
       "\n",
       "Warnings:\n",
       "[1] Covariance matrix calculated using the outer product of gradients (complex-step).\n",
       "\"\"\""
      ]
     },
     "execution_count": 215,
     "metadata": {},
     "output_type": "execute_result"
    }
   ],
   "source": [
    "f.set_validation_length(12)\n",
    "grid = {\n",
    "    'order':[(1,1,1),(1,1,0),(0,1,1)],\n",
    "    'seasonal_order':[(2,1,1,12),(1,1,1,12),(2,1,0,12),(0,1,0,12)]\n",
    "}\n",
    "\n",
    "f.ingest_grid(grid)\n",
    "f.tune()\n",
    "f.auto_forecast(call_me='arima4')\n",
    "\n",
    "f.plot_test_set(ci=False,models='arima4')\n",
    "plt.title('ARIMA Test-Set Performance',size=14)\n",
    "plt.show()\n",
    "\n",
    "f.plot(ci=False,models='arima4')\n",
    "plt.title('ARIMA Forecast Performance',size=14)\n",
    "plt.show()\n",
    "\n",
    "f.regr.summary()"
   ]
  },
  {
   "cell_type": "code",
   "execution_count": 216,
   "id": "044451ec",
   "metadata": {},
   "outputs": [],
   "source": [
    "pd.options.display.max_colwidth = 100\n",
    "results = f.export(to_excel=True,\n",
    "                   excel_name='arima_results.xlsx',\n",
    "                   determine_best_by='TestSetMAPE')"
   ]
  },
  {
   "cell_type": "code",
   "execution_count": 217,
   "id": "931ad4ee",
   "metadata": {},
   "outputs": [
    {
     "data": {
      "text/html": [
       "<div>\n",
       "<style scoped>\n",
       "    .dataframe tbody tr th:only-of-type {\n",
       "        vertical-align: middle;\n",
       "    }\n",
       "\n",
       "    .dataframe tbody tr th {\n",
       "        vertical-align: top;\n",
       "    }\n",
       "\n",
       "    .dataframe thead th {\n",
       "        text-align: right;\n",
       "    }\n",
       "</style>\n",
       "<table border=\"1\" class=\"dataframe\">\n",
       "  <thead>\n",
       "    <tr style=\"text-align: right;\">\n",
       "      <th></th>\n",
       "      <th>DATE</th>\n",
       "      <th>actual</th>\n",
       "      <th>arima4</th>\n",
       "      <th>arima2</th>\n",
       "      <th>arima3</th>\n",
       "      <th>arima1</th>\n",
       "    </tr>\n",
       "  </thead>\n",
       "  <tbody>\n",
       "    <tr>\n",
       "      <th>55</th>\n",
       "      <td>2021-08-31</td>\n",
       "      <td>1517.0</td>\n",
       "      <td>1702.625656</td>\n",
       "      <td>1864.583179</td>\n",
       "      <td>1889.436807</td>\n",
       "      <td>1711.981871</td>\n",
       "    </tr>\n",
       "    <tr>\n",
       "      <th>56</th>\n",
       "      <td>2021-09-30</td>\n",
       "      <td>2300.0</td>\n",
       "      <td>2582.738084</td>\n",
       "      <td>2511.477406</td>\n",
       "      <td>3386.024467</td>\n",
       "      <td>1711.981871</td>\n",
       "    </tr>\n",
       "    <tr>\n",
       "      <th>57</th>\n",
       "      <td>2021-10-31</td>\n",
       "      <td>2915.0</td>\n",
       "      <td>3682.114872</td>\n",
       "      <td>3633.539862</td>\n",
       "      <td>4377.117595</td>\n",
       "      <td>1711.981871</td>\n",
       "    </tr>\n",
       "    <tr>\n",
       "      <th>58</th>\n",
       "      <td>2021-11-30</td>\n",
       "      <td>1417.0</td>\n",
       "      <td>1161.872889</td>\n",
       "      <td>1299.856642</td>\n",
       "      <td>1718.021872</td>\n",
       "      <td>1711.981871</td>\n",
       "    </tr>\n",
       "    <tr>\n",
       "      <th>59</th>\n",
       "      <td>2021-12-31</td>\n",
       "      <td>710.0</td>\n",
       "      <td>487.171588</td>\n",
       "      <td>655.024484</td>\n",
       "      <td>895.707528</td>\n",
       "      <td>1711.981871</td>\n",
       "    </tr>\n",
       "    <tr>\n",
       "      <th>60</th>\n",
       "      <td>2022-01-31</td>\n",
       "      <td>968.0</td>\n",
       "      <td>879.611172</td>\n",
       "      <td>972.754895</td>\n",
       "      <td>1298.928629</td>\n",
       "      <td>1711.981871</td>\n",
       "    </tr>\n",
       "    <tr>\n",
       "      <th>61</th>\n",
       "      <td>2022-02-28</td>\n",
       "      <td>979.0</td>\n",
       "      <td>756.989674</td>\n",
       "      <td>883.125150</td>\n",
       "      <td>1094.670314</td>\n",
       "      <td>1711.981871</td>\n",
       "    </tr>\n",
       "    <tr>\n",
       "      <th>62</th>\n",
       "      <td>2022-03-31</td>\n",
       "      <td>1157.0</td>\n",
       "      <td>1125.841442</td>\n",
       "      <td>1230.653855</td>\n",
       "      <td>1424.927616</td>\n",
       "      <td>1711.981871</td>\n",
       "    </tr>\n",
       "    <tr>\n",
       "      <th>63</th>\n",
       "      <td>2022-04-30</td>\n",
       "      <td>914.0</td>\n",
       "      <td>874.646439</td>\n",
       "      <td>942.788336</td>\n",
       "      <td>1298.279566</td>\n",
       "      <td>1711.981871</td>\n",
       "    </tr>\n",
       "    <tr>\n",
       "      <th>64</th>\n",
       "      <td>2022-05-31</td>\n",
       "      <td>777.0</td>\n",
       "      <td>725.686055</td>\n",
       "      <td>904.774353</td>\n",
       "      <td>995.411103</td>\n",
       "      <td>1711.981871</td>\n",
       "    </tr>\n",
       "    <tr>\n",
       "      <th>65</th>\n",
       "      <td>2022-06-30</td>\n",
       "      <td>952.0</td>\n",
       "      <td>946.706136</td>\n",
       "      <td>1092.267719</td>\n",
       "      <td>1250.822872</td>\n",
       "      <td>1711.981871</td>\n",
       "    </tr>\n",
       "    <tr>\n",
       "      <th>66</th>\n",
       "      <td>2022-07-31</td>\n",
       "      <td>870.0</td>\n",
       "      <td>1022.557076</td>\n",
       "      <td>1239.876905</td>\n",
       "      <td>1301.247947</td>\n",
       "      <td>1711.981871</td>\n",
       "    </tr>\n",
       "    <tr>\n",
       "      <th>67</th>\n",
       "      <td>2022-08-31</td>\n",
       "      <td>581.0</td>\n",
       "      <td>1628.150926</td>\n",
       "      <td>1971.076297</td>\n",
       "      <td>1895.557101</td>\n",
       "      <td>1711.981871</td>\n",
       "    </tr>\n",
       "  </tbody>\n",
       "</table>\n",
       "</div>"
      ],
      "text/plain": [
       "         DATE  actual       arima4       arima2       arima3       arima1\n",
       "55 2021-08-31  1517.0  1702.625656  1864.583179  1889.436807  1711.981871\n",
       "56 2021-09-30  2300.0  2582.738084  2511.477406  3386.024467  1711.981871\n",
       "57 2021-10-31  2915.0  3682.114872  3633.539862  4377.117595  1711.981871\n",
       "58 2021-11-30  1417.0  1161.872889  1299.856642  1718.021872  1711.981871\n",
       "59 2021-12-31   710.0   487.171588   655.024484   895.707528  1711.981871\n",
       "60 2022-01-31   968.0   879.611172   972.754895  1298.928629  1711.981871\n",
       "61 2022-02-28   979.0   756.989674   883.125150  1094.670314  1711.981871\n",
       "62 2022-03-31  1157.0  1125.841442  1230.653855  1424.927616  1711.981871\n",
       "63 2022-04-30   914.0   874.646439   942.788336  1298.279566  1711.981871\n",
       "64 2022-05-31   777.0   725.686055   904.774353   995.411103  1711.981871\n",
       "65 2022-06-30   952.0   946.706136  1092.267719  1250.822872  1711.981871\n",
       "66 2022-07-31   870.0  1022.557076  1239.876905  1301.247947  1711.981871\n",
       "67 2022-08-31   581.0  1628.150926  1971.076297  1895.557101  1711.981871"
      ]
     },
     "execution_count": 217,
     "metadata": {},
     "output_type": "execute_result"
    }
   ],
   "source": [
    "results[\"test_set_predictions\"]\n",
    "results[\"all_fcsts\"]"
   ]
  },
  {
   "cell_type": "code",
   "execution_count": 218,
   "id": "101e3ffc",
   "metadata": {},
   "outputs": [
    {
     "data": {
      "text/html": [
       "<div>\n",
       "<style scoped>\n",
       "    .dataframe tbody tr th:only-of-type {\n",
       "        vertical-align: middle;\n",
       "    }\n",
       "\n",
       "    .dataframe tbody tr th {\n",
       "        vertical-align: top;\n",
       "    }\n",
       "\n",
       "    .dataframe thead th {\n",
       "        text-align: right;\n",
       "    }\n",
       "</style>\n",
       "<table border=\"1\" class=\"dataframe\">\n",
       "  <thead>\n",
       "    <tr style=\"text-align: right;\">\n",
       "      <th></th>\n",
       "      <th>DATE</th>\n",
       "      <th>arima1</th>\n",
       "      <th>arima2</th>\n",
       "      <th>arima3</th>\n",
       "      <th>arima4</th>\n",
       "    </tr>\n",
       "  </thead>\n",
       "  <tbody>\n",
       "    <tr>\n",
       "      <th>0</th>\n",
       "      <td>2022-09-30</td>\n",
       "      <td>1620.819437</td>\n",
       "      <td>1932.067910</td>\n",
       "      <td>1889.421139</td>\n",
       "      <td>1625.693075</td>\n",
       "    </tr>\n",
       "    <tr>\n",
       "      <th>1</th>\n",
       "      <td>2022-10-31</td>\n",
       "      <td>1620.819437</td>\n",
       "      <td>2981.945128</td>\n",
       "      <td>2733.757837</td>\n",
       "      <td>2382.789529</td>\n",
       "    </tr>\n",
       "    <tr>\n",
       "      <th>2</th>\n",
       "      <td>2022-11-30</td>\n",
       "      <td>1620.819437</td>\n",
       "      <td>791.024890</td>\n",
       "      <td>1294.865269</td>\n",
       "      <td>430.849719</td>\n",
       "    </tr>\n",
       "    <tr>\n",
       "      <th>3</th>\n",
       "      <td>2022-12-31</td>\n",
       "      <td>1620.819437</td>\n",
       "      <td>236.550741</td>\n",
       "      <td>619.085756</td>\n",
       "      <td>-235.628436</td>\n",
       "    </tr>\n",
       "    <tr>\n",
       "      <th>4</th>\n",
       "      <td>2023-01-31</td>\n",
       "      <td>1620.819437</td>\n",
       "      <td>619.801875</td>\n",
       "      <td>909.955076</td>\n",
       "      <td>90.661312</td>\n",
       "    </tr>\n",
       "    <tr>\n",
       "      <th>5</th>\n",
       "      <td>2023-02-28</td>\n",
       "      <td>1620.819437</td>\n",
       "      <td>525.169692</td>\n",
       "      <td>940.730385</td>\n",
       "      <td>48.910194</td>\n",
       "    </tr>\n",
       "    <tr>\n",
       "      <th>6</th>\n",
       "      <td>2023-03-31</td>\n",
       "      <td>1620.819437</td>\n",
       "      <td>854.534913</td>\n",
       "      <td>1144.475346</td>\n",
       "      <td>338.270787</td>\n",
       "    </tr>\n",
       "    <tr>\n",
       "      <th>7</th>\n",
       "      <td>2023-04-30</td>\n",
       "      <td>1620.819437</td>\n",
       "      <td>549.847584</td>\n",
       "      <td>931.090655</td>\n",
       "      <td>62.277341</td>\n",
       "    </tr>\n",
       "    <tr>\n",
       "      <th>8</th>\n",
       "      <td>2023-05-31</td>\n",
       "      <td>1620.819437</td>\n",
       "      <td>428.037525</td>\n",
       "      <td>790.075445</td>\n",
       "      <td>-64.500533</td>\n",
       "    </tr>\n",
       "    <tr>\n",
       "      <th>9</th>\n",
       "      <td>2023-06-30</td>\n",
       "      <td>1620.819437</td>\n",
       "      <td>631.389797</td>\n",
       "      <td>975.325472</td>\n",
       "      <td>133.178434</td>\n",
       "    </tr>\n",
       "    <tr>\n",
       "      <th>10</th>\n",
       "      <td>2023-07-31</td>\n",
       "      <td>1620.819437</td>\n",
       "      <td>717.384464</td>\n",
       "      <td>891.573538</td>\n",
       "      <td>122.255385</td>\n",
       "    </tr>\n",
       "    <tr>\n",
       "      <th>11</th>\n",
       "      <td>2023-08-31</td>\n",
       "      <td>1620.819437</td>\n",
       "      <td>883.178079</td>\n",
       "      <td>703.875850</td>\n",
       "      <td>250.006508</td>\n",
       "    </tr>\n",
       "  </tbody>\n",
       "</table>\n",
       "</div>"
      ],
      "text/plain": [
       "         DATE       arima1       arima2       arima3       arima4\n",
       "0  2022-09-30  1620.819437  1932.067910  1889.421139  1625.693075\n",
       "1  2022-10-31  1620.819437  2981.945128  2733.757837  2382.789529\n",
       "2  2022-11-30  1620.819437   791.024890  1294.865269   430.849719\n",
       "3  2022-12-31  1620.819437   236.550741   619.085756  -235.628436\n",
       "4  2023-01-31  1620.819437   619.801875   909.955076    90.661312\n",
       "5  2023-02-28  1620.819437   525.169692   940.730385    48.910194\n",
       "6  2023-03-31  1620.819437   854.534913  1144.475346   338.270787\n",
       "7  2023-04-30  1620.819437   549.847584   931.090655    62.277341\n",
       "8  2023-05-31  1620.819437   428.037525   790.075445   -64.500533\n",
       "9  2023-06-30  1620.819437   631.389797   975.325472   133.178434\n",
       "10 2023-07-31  1620.819437   717.384464   891.573538   122.255385\n",
       "11 2023-08-31  1620.819437   883.178079   703.875850   250.006508"
      ]
     },
     "execution_count": 218,
     "metadata": {},
     "output_type": "execute_result"
    }
   ],
   "source": [
    "results[\"all_fcsts\"]"
   ]
  },
  {
   "cell_type": "code",
   "execution_count": null,
   "id": "2282751c",
   "metadata": {},
   "outputs": [],
   "source": []
  }
 ],
 "metadata": {
  "kernelspec": {
   "display_name": "Python 3 (ipykernel)",
   "language": "python",
   "name": "python3"
  },
  "language_info": {
   "codemirror_mode": {
    "name": "ipython",
    "version": 3
   },
   "file_extension": ".py",
   "mimetype": "text/x-python",
   "name": "python",
   "nbconvert_exporter": "python",
   "pygments_lexer": "ipython3",
   "version": "3.9.7"
  }
 },
 "nbformat": 4,
 "nbformat_minor": 5
}
